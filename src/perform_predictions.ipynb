{
 "cells": [
  {
   "cell_type": "code",
   "execution_count": 1,
   "metadata": {},
   "outputs": [],
   "source": [
    "import pandas as pd\n",
    "import numpy as np\n",
    "\n",
    "import re\n",
    "import pickle\n",
    "from helpers import *\n",
    "from gensim.utils import lemmatize\n",
    "from nltk.stem import WordNetLemmatizer\n",
    "# from prep_tweet_for_model import *\n",
    "\n",
    "\n",
    "import torch\n",
    "from torch.autograd import Variable\n",
    "import torch.nn as nn\n",
    "import torch.nn.functional as F"
   ]
  },
  {
   "cell_type": "markdown",
   "metadata": {},
   "source": [
    "# Run Predictions"
   ]
  },
  {
   "cell_type": "code",
   "execution_count": 2,
   "metadata": {},
   "outputs": [],
   "source": [
    "# Load stopwords\n",
    "stopwords2 = open(access_folder() + 'morestopwords.txt', \"r\").read().split('\\n')\n",
    "stopwords2 = list(filter(None, stopwords2)) # fastest\n",
    "stopwords2 = [word for word in stopwords2 if word[0]!='#' ]\n",
    "stopwords3 = open(access_folder() + 'common-english-prep-conj.txt' , \"r\").read().split(',')\n",
    "stopwords4 = open(access_folder() + 'common-english-words.txt' , \"r\").read().split(',')\n",
    "stopwords = stopwords2 +  stopwords3 + stopwords4"
   ]
  },
  {
   "cell_type": "code",
   "execution_count": 24,
   "metadata": {},
   "outputs": [],
   "source": [
    "# Load data\n",
    "\n",
    "# data = pd.read_csv('../data/final_merged_tweets.csv', index_col=0)\n",
    "\n",
    "# Load old data set\n",
    "\n",
    "\n",
    "\n",
    "cols_to_extract = [0,1,2,3,4,5,7,8,9,10,11,13,14]\n",
    "tweets1 = pd.read_csv(access_folder('data') + 'IRAhandle_tweets_1.csv', usecols=cols_to_extract)\n",
    "tweets2 = pd.read_csv(access_folder('data') + 'IRAhandle_tweets_2.csv', usecols=cols_to_extract)\n",
    "tweets3 = pd.read_csv(access_folder('data') + 'IRAhandle_tweets_3.csv', usecols=cols_to_extract)\n",
    "tweets4 = pd.read_csv(access_folder('data') + 'IRAhandle_tweets_4.csv', usecols=cols_to_extract) \n",
    "tweets5 = pd.read_csv(access_folder('data') + 'IRAhandle_tweets_5.csv', usecols=cols_to_extract)\n",
    "tweets6 = pd.read_csv(access_folder('data') + 'IRAhandle_tweets_6.csv', usecols=cols_to_extract)\n",
    "tweets7 = pd.read_csv(access_folder('data') + 'IRAhandle_tweets_7.csv', usecols=cols_to_extract) \n",
    "tweets8 = pd.read_csv(access_folder('data') + 'IRAhandle_tweets_8.csv', usecols=cols_to_extract) \n",
    "tweets9 = pd.read_csv(access_folder('data') + 'IRAhandle_tweets_9.csv', usecols=cols_to_extract)\n",
    "\n",
    "tweets = pd.concat([tweets1,tweets2,tweets3,tweets4,tweets5,tweets6,tweets7,tweets8,tweets9], axis=0)\n",
    "del tweets1, tweets2, tweets3, tweets4, tweets5, tweets6, tweets7, tweets8, tweets9\n",
    "\n",
    "\n",
    "\n",
    "#complete post_type column with normal tweet category\n",
    "tweets.post_type.fillna('TWEET', inplace=True)\n",
    "\n",
    "tweets['content'] = tweets.content.astype(str)\n",
    "\n",
    "tweets[['external_author_id', 'author', 'region', 'language', 'post_type', 'account_type', 'retweet', 'account_category']] = \\\n",
    "tweets[['external_author_id', 'author', 'region', 'language', 'post_type', 'account_type', 'retweet', 'account_category']].astype('category')\n",
    "\n",
    "tweets['publish_date'] = pd.to_datetime(tweets['publish_date'], format='%m/%d/%Y %H:%M')\n",
    "\n",
    "data = tweets[(tweets.publish_date > '2016-10') & (tweets.publish_date < '2016-11-07')]\n"
   ]
  },
  {
   "cell_type": "code",
   "execution_count": null,
   "metadata": {},
   "outputs": [],
   "source": [
    "# data['publish_date'] = pd.to_datetime(data['publish_date'])"
   ]
  },
  {
   "cell_type": "code",
   "execution_count": null,
   "metadata": {},
   "outputs": [],
   "source": [
    "# data = data[(data.publish_date < '2015-08-01') & (data.publish_date > '2015-07-01')]"
   ]
  },
  {
   "cell_type": "code",
   "execution_count": null,
   "metadata": {},
   "outputs": [],
   "source": [
    "data.shape"
   ]
  },
  {
   "cell_type": "code",
   "execution_count": 8,
   "metadata": {},
   "outputs": [],
   "source": [
    "from __future__ import unicode_literals\n",
    "import pandas as pd\n",
    "import re\n",
    "import numpy as np\n",
    "import pickle\n",
    "from helpers import *\n",
    "from gensim.utils import lemmatize\n",
    "from nltk.stem import WordNetLemmatizer\n",
    "import operator\n",
    "import sys\n",
    "\n",
    "\n",
    "def remove_nonword(df):\n",
    "    \"\"\"Given a dataset with column called tweet_text, clean the tweets in tweet_text such that\n",
    "    the hashtags are removed, the @ handles are removed, the RT (retweet) symbols are removed\n",
    "    and the websites and punctuation are removed\"\"\"\n",
    "\n",
    "    clean = df.replace('#\\w+', '', regex=True).replace('@\\w+', '', regex=True).replace('RT ', '', regex=True)\n",
    "    clean.content = clean.content.apply(lambda x: re.sub(r'http\\S+', '', x)).apply(lambda x: re.sub(r\"'|\\\"|’|`|-|:|\\?|~|,|\\.\", '', x))\n",
    "    return clean\n",
    "\n",
    "\n",
    "def token_stop(tweet, stopwords, filter_size=2):\n",
    "    \"\"\"Using functions from python file, tokenize and remove stopwords\"\"\"\n",
    "    tokens = tokenizeRawTweetText(tweet)\n",
    "    tokens = [token.lower() for token in tokens if token.lower() not in stopwords]\n",
    "    return tokens\n",
    "\n",
    "\n",
    "\n",
    "def lemmatize_tweets(tweet, min_length=3):\n",
    "    \"\"\"Takes in series that contains list of tokenizes words and lemmatizes them (gets rid of plurals etc)\"\"\"\n",
    "    lemmatizer = WordNetLemmatizer()\n",
    "    sentence = []\n",
    "    for word in tweet:\n",
    "        x = lemmatizer.lemmatize(word)\n",
    "        if len(x) >= 3:\n",
    "            sentence.append(x)\n",
    "    return sentence\n",
    "\n",
    "\n",
    "def create_array(lemmatized_tweet, total_words, dictionary):\n",
    "    \"\"\"Takes the lemmatized tweets and converts them to input array using the dictionary\"\"\"\n",
    "    input_layer = np.zeros(total_words, dtype=float)\n",
    "    for word in lemmatized_tweet:\n",
    "        if word in dictionary.keys():\n",
    "            input_layer[dictionary[word.lower()]] += 1\n",
    "    return input_layer\n",
    "\n",
    "\n",
    "\n",
    "\n",
    "\n",
    "\n",
    "\n",
    "#!/usr/bin/env python3\n",
    "# -*- coding: utf-8 -*-\n",
    "\"\"\"\n",
    "Twokenize -- a tokenizer designed for Twitter text in English and some other European languages.\n",
    "This tokenizer code has gone through a long history:\n",
    "(1) Brendan O'Connor wrote original version in Python, http://github.com/brendano/tweetmotif\n",
    "       TweetMotif: Exploratory Search and Topic Summarization for Twitter.\n",
    "       Brendan O'Connor, Michel Krieger, and David Ahn.\n",
    "       ICWSM-2010 (demo track), http://brenocon.com/oconnor_krieger_ahn.icwsm2010.tweetmotif.pdf\n",
    "(2a) Kevin Gimpel and Daniel Mills modified it for POS tagging for the CMU ARK Twitter POS Tagger\n",
    "(2b) Jason Baldridge and David Snyder ported it to Scala\n",
    "(3) Brendan bugfixed the Scala port and merged with POS-specific changes\n",
    "    for the CMU ARK Twitter POS Tagger\n",
    "(4) Tobi Owoputi ported it back to Java and added many improvements (2012-06)\n",
    "Current home is http://github.com/brendano/ark-tweet-nlp and http://www.ark.cs.cmu.edu/TweetNLP\n",
    "There have been at least 2 other Java ports, but they are not in the lineage for the code here.\n",
    "Ported to Python by Myle Ott <myleott@gmail.com>.\n",
    "\"\"\"\n",
    "\n",
    "\n",
    "\n",
    "try:\n",
    "    from html.parser import HTMLParser\n",
    "except ImportError:\n",
    "    from HTMLParser import HTMLParser\n",
    "\n",
    "try:\n",
    "    import html\n",
    "except ImportError:\n",
    "    pass\n",
    "\n",
    "def regex_or(*items):\n",
    "    return '(?:' + '|'.join(items) + ')'\n",
    "\n",
    "Contractions = re.compile(u\"(?i)(\\w+)(n['’′]t|['’′]ve|['’′]ll|['’′]d|['’′]re|['’′]s|['’′]m)$\", re.UNICODE)\n",
    "Whitespace = re.compile(u\"[\\s\\u0020\\u00a0\\u1680\\u180e\\u202f\\u205f\\u3000\\u2000-\\u200a]+\", re.UNICODE)\n",
    "\n",
    "punctChars = r\"['\\\"“”‘’.?!…,:;]\"\n",
    "#punctSeq   = punctChars+\"+\"\t#'anthem'. => ' anthem '.\n",
    "punctSeq   = r\"['\\\"“”‘’]+|[.?!,…]+|[:;]+\"\t#'anthem'. => ' anthem ' .\n",
    "entity     = r\"&(?:amp|lt|gt|quot);\"\n",
    "#  URLs\n",
    "\n",
    "\n",
    "# BTO 2012-06: everyone thinks the daringfireball regex should be better, but they're wrong.\n",
    "# If you actually empirically test it the results are bad.\n",
    "# Please see https://github.com/brendano/ark-tweet-nlp/pull/9\n",
    "\n",
    "urlStart1  = r\"(?:https?://|\\bwww\\.)\"\n",
    "commonTLDs = r\"(?:com|org|edu|gov|net|mil|aero|asia|biz|cat|coop|info|int|jobs|mobi|museum|name|pro|tel|travel|xxx)\"\n",
    "ccTLDs\t = r\"(?:ac|ad|ae|af|ag|ai|al|am|an|ao|aq|ar|as|at|au|aw|ax|az|ba|bb|bd|be|bf|bg|bh|bi|bj|bm|bn|bo|br|bs|bt|\" + \\\n",
    "r\"bv|bw|by|bz|ca|cc|cd|cf|cg|ch|ci|ck|cl|cm|cn|co|cr|cs|cu|cv|cx|cy|cz|dd|de|dj|dk|dm|do|dz|ec|ee|eg|eh|\" + \\\n",
    "r\"er|es|et|eu|fi|fj|fk|fm|fo|fr|ga|gb|gd|ge|gf|gg|gh|gi|gl|gm|gn|gp|gq|gr|gs|gt|gu|gw|gy|hk|hm|hn|hr|ht|\" + \\\n",
    "r\"hu|id|ie|il|im|in|io|iq|ir|is|it|je|jm|jo|jp|ke|kg|kh|ki|km|kn|kp|kr|kw|ky|kz|la|lb|lc|li|lk|lr|ls|lt|\" + \\\n",
    "r\"lu|lv|ly|ma|mc|md|me|mg|mh|mk|ml|mm|mn|mo|mp|mq|mr|ms|mt|mu|mv|mw|mx|my|mz|na|nc|ne|nf|ng|ni|nl|no|np|\" + \\\n",
    "r\"nr|nu|nz|om|pa|pe|pf|pg|ph|pk|pl|pm|pn|pr|ps|pt|pw|py|qa|re|ro|rs|ru|rw|sa|sb|sc|sd|se|sg|sh|si|sj|sk|\" + \\\n",
    "r\"sl|sm|sn|so|sr|ss|st|su|sv|sy|sz|tc|td|tf|tg|th|tj|tk|tl|tm|tn|to|tp|tr|tt|tv|tw|tz|ua|ug|uk|us|uy|uz|\" + \\\n",
    "r\"va|vc|ve|vg|vi|vn|vu|wf|ws|ye|yt|za|zm|zw)\"\t#TODO: remove obscure country domains?\n",
    "urlStart2  = r\"\\b(?:[A-Za-z\\d-])+(?:\\.[A-Za-z0-9]+){0,3}\\.\" + regex_or(commonTLDs, ccTLDs) + r\"(?:\\.\"+ccTLDs+r\")?(?=\\W|$)\"\n",
    "urlBody    = r\"(?:[^\\.\\s<>][^\\s<>]*?)?\"\n",
    "urlExtraCrapBeforeEnd = regex_or(punctChars, entity) + \"+?\"\n",
    "urlEnd     = r\"(?:\\.\\.+|[<>]|\\s|$)\"\n",
    "url        = regex_or(urlStart1, urlStart2) + urlBody + \"(?=(?:\"+urlExtraCrapBeforeEnd+\")?\"+urlEnd+\")\"\n",
    "\n",
    "\n",
    "# Numeric\n",
    "timeLike   = r\"\\d+(?::\\d+){1,2}\"\n",
    "#numNum     = r\"\\d+\\.\\d+\"\n",
    "numberWithCommas = r\"(?:(?<!\\d)\\d{1,3},)+?\\d{3}\" + r\"(?=(?:[^,\\d]|$))\"\n",
    "numComb\t = u\"[\\u0024\\u058f\\u060b\\u09f2\\u09f3\\u09fb\\u0af1\\u0bf9\\u0e3f\\u17db\\ua838\\ufdfc\\ufe69\\uff04\\uffe0\\uffe1\\uffe5\\uffe6\\u00a2-\\u00a5\\u20a0-\\u20b9]?\\\\d+(?:\\\\.\\\\d+)+%?\"\n",
    "\n",
    "# Abbreviations\n",
    "boundaryNotDot = regex_or(\"$\", r\"\\s\", r\"[“\\\"?!,:;]\", entity)\n",
    "aa1  = r\"(?:[A-Za-z]\\.){2,}(?=\" + boundaryNotDot + \")\"\n",
    "aa2  = r\"[^A-Za-z](?:[A-Za-z]\\.){1,}[A-Za-z](?=\" + boundaryNotDot + \")\"\n",
    "standardAbbreviations = r\"\\b(?:[Mm]r|[Mm]rs|[Mm]s|[Dd]r|[Ss]r|[Jj]r|[Rr]ep|[Ss]en|[Ss]t)\\.\"\n",
    "arbitraryAbbrev = regex_or(aa1, aa2, standardAbbreviations)\n",
    "separators  = \"(?:--+|―|—|~|–|=)\"\n",
    "decorations = u\"(?:[♫♪]+|[★☆]+|[♥❤♡]+|[\\u2639-\\u263b]+|[\\ue001-\\uebbb]+)\"\n",
    "thingsThatSplitWords = r\"[^\\s\\.,?\\\"]\"\n",
    "embeddedApostrophe = thingsThatSplitWords+r\"+['’′]\" + thingsThatSplitWords + \"*\"\n",
    "\n",
    "#  Emoticons\n",
    "# myleott: in Python the (?iu) flags affect the whole expression\n",
    "#normalEyes = \"(?iu)[:=]\" # 8 and x are eyes but cause problems\n",
    "normalEyes = \"[:=]\" # 8 and x are eyes but cause problems\n",
    "wink = \"[;]\"\n",
    "noseArea = \"(?:|-|[^a-zA-Z0-9 ])\" # doesn't get 😢\n",
    "happyMouths = r\"[D\\)\\]\\}]+\"\n",
    "sadMouths = r\"[\\(\\[\\{]+\"\n",
    "tongue = \"[pPd3]+\"\n",
    "otherMouths = r\"(?:[oO]+|[/\\\\]+|[vV]+|[Ss]+|[|]+)\" # remove forward slash if http://'s aren't cleaned\n",
    "\n",
    "# mouth repetition examples:\n",
    "# @aliciakeys Put it in a love song :-))\n",
    "# @hellocalyclops =))=))=)) Oh well\n",
    "\n",
    "# myleott: try to be as case insensitive as possible, but still not perfect, e.g., o.O fails\n",
    "#bfLeft = u\"(♥|0|o|°|v|\\\\$|t|x|;|\\u0ca0|@|ʘ|•|・|◕|\\\\^|¬|\\\\*)\".encode('utf-8')\n",
    "bfLeft = u\"(♥|0|[oO]|°|[vV]|\\\\$|[tT]|[xX]|;|\\u0ca0|@|ʘ|•|・|◕|\\\\^|¬|\\\\*)\"\n",
    "bfCenter = r\"(?:[\\.]|[_-]+)\"\n",
    "bfRight = r\"\\2\"\n",
    "s3 = r\"(?:--['\\\"])\"\n",
    "s4 = r\"(?:<|&lt;|>|&gt;)[\\._-]+(?:<|&lt;|>|&gt;)\"\n",
    "s5 = \"(?:[.][_]+[.])\"\n",
    "# myleott: in Python the (?i) flag affects the whole expression\n",
    "#basicface = \"(?:(?i)\" +bfLeft+bfCenter+bfRight+ \")|\" +s3+ \"|\" +s4+ \"|\" + s5\n",
    "basicface = \"(?:\" +bfLeft+bfCenter+bfRight+ \")|\" +s3+ \"|\" +s4+ \"|\" + s5\n",
    "\n",
    "eeLeft = r\"[＼\\\\ƪԄ\\(（<>;ヽ\\-=~\\*]+\"\n",
    "eeRight= u\"[\\\\-=\\\\);'\\u0022<>ʃ）/／ノﾉ丿╯σっµ~\\\\*]+\"\n",
    "eeSymbol = r\"[^A-Za-z0-9\\s\\(\\)\\*:=-]\"\n",
    "eastEmote = eeLeft + \"(?:\"+basicface+\"|\" +eeSymbol+\")+\" + eeRight\n",
    "\n",
    "oOEmote = r\"(?:[oO]\" + bfCenter + r\"[oO])\"\n",
    "\n",
    "\n",
    "emoticon = regex_or(\n",
    "        # Standard version  :) :( :] :D :P\n",
    "        \"(?:>|&gt;)?\" + regex_or(normalEyes, wink) + regex_or(noseArea,\"[Oo]\") + regex_or(tongue+r\"(?=\\W|$|RT|rt|Rt)\", otherMouths+r\"(?=\\W|$|RT|rt|Rt)\", sadMouths, happyMouths),\n",
    "\n",
    "        # reversed version (: D:  use positive lookbehind to remove \"(word):\"\n",
    "        # because eyes on the right side is more ambiguous with the standard usage of : ;\n",
    "        regex_or(\"(?<=(?: ))\", \"(?<=(?:^))\") + regex_or(sadMouths,happyMouths,otherMouths) + noseArea + regex_or(normalEyes, wink) + \"(?:<|&lt;)?\",\n",
    "\n",
    "        #inspired by http://en.wikipedia.org/wiki/User:Scapler/emoticons#East_Asian_style\n",
    "        eastEmote.replace(\"2\", \"1\", 1), basicface,\n",
    "        # iOS 'emoji' characters (some smileys, some symbols) [\\ue001-\\uebbb]\n",
    "        # TODO should try a big precompiled lexicon from Wikipedia, Dan Ramage told me (BTO) he does this\n",
    "\n",
    "        # myleott: o.O and O.o are two of the biggest sources of differences\n",
    "        #          between this and the Java version. One little hack won't hurt...\n",
    "        oOEmote\n",
    ")\n",
    "\n",
    "Hearts = \"(?:<+/?3+)+\" #the other hearts are in decorations\n",
    "\n",
    "Arrows = regex_or(r\"(?:<*[-―—=]*>+|<+[-―—=]*>*)\", u\"[\\u2190-\\u21ff]+\")\n",
    "\n",
    "# BTO 2011-06: restored Hashtag, AtMention protection (dropped in original scala port) because it fixes\n",
    "# \"hello (#hashtag)\" ==> \"hello (#hashtag )\"  WRONG\n",
    "# \"hello (#hashtag)\" ==> \"hello ( #hashtag )\"  RIGHT\n",
    "# \"hello (@person)\" ==> \"hello (@person )\"  WRONG\n",
    "# \"hello (@person)\" ==> \"hello ( @person )\"  RIGHT\n",
    "# ... Some sort of weird interaction with edgepunct I guess, because edgepunct\n",
    "# has poor content-symbol detection.\n",
    "\n",
    "# This also gets #1 #40 which probably aren't hashtags .. but good as tokens.\n",
    "# If you want good hashtag identification, use a different regex.\n",
    "Hashtag = \"#[a-zA-Z0-9_]+\"  #optional: lookbehind for \\b\n",
    "#optional: lookbehind for \\b, max length 15\n",
    "AtMention = \"[@＠][a-zA-Z0-9_]+\"\n",
    "\n",
    "# I was worried this would conflict with at-mentions\n",
    "# but seems ok in sample of 5800: 7 changes all email fixes\n",
    "# http://www.regular-expressions.info/email.html\n",
    "Bound = r\"(?:\\W|^|$)\"\n",
    "Email = regex_or(\"(?<=(?:\\W))\", \"(?<=(?:^))\") + r\"[a-zA-Z0-9._%+-]+@[a-zA-Z0-9.-]+\\.[a-zA-Z]{2,4}(?=\" +Bound+\")\"\n",
    "\n",
    "# We will be tokenizing using these regexps as delimiters\n",
    "# Additionally, these things are \"protected\", meaning they shouldn't be further split themselves.\n",
    "Protected  = re.compile(\n",
    "    regex_or(\n",
    "        Hearts,\n",
    "        url,\n",
    "        Email,\n",
    "        timeLike,\n",
    "        #numNum,\n",
    "        numberWithCommas,\n",
    "        numComb,\n",
    "        emoticon,\n",
    "        Arrows,\n",
    "        entity,\n",
    "        punctSeq,\n",
    "        arbitraryAbbrev,\n",
    "        separators,\n",
    "        decorations,\n",
    "        embeddedApostrophe,\n",
    "        Hashtag,\n",
    "        AtMention), re.UNICODE)\n",
    "\n",
    "# Edge punctuation\n",
    "# Want: 'foo' => ' foo '\n",
    "# While also:   don't => don't\n",
    "# the first is considered \"edge punctuation\".\n",
    "# the second is word-internal punctuation -- don't want to mess with it.\n",
    "# BTO (2011-06): the edgepunct system seems to be the #1 source of problems these days.\n",
    "# I remember it causing lots of trouble in the past as well.  Would be good to revisit or eliminate.\n",
    "\n",
    "# Note the 'smart quotes' (http://en.wikipedia.org/wiki/Smart_quotes)\n",
    "#edgePunctChars    = r\"'\\\"“”‘’«»{}\\(\\)\\[\\]\\*&\" #add \\\\p{So}? (symbols)\n",
    "edgePunctChars    = u\"'\\\"“”‘’«»{}\\\\(\\\\)\\\\[\\\\]\\\\*&\" #add \\\\p{So}? (symbols)\n",
    "edgePunct    = \"[\" + edgePunctChars + \"]\"\n",
    "notEdgePunct = \"[a-zA-Z0-9]\" # content characters\n",
    "offEdge = r\"(^|$|:|;|\\s|\\.|,)\"  # colon here gets \"(hello):\" ==> \"( hello ):\"\n",
    "EdgePunctLeft  = re.compile(offEdge + \"(\"+edgePunct+\"+)(\"+notEdgePunct+\")\", re.UNICODE)\n",
    "EdgePunctRight = re.compile(\"(\"+notEdgePunct+\")(\"+edgePunct+\"+)\" + offEdge, re.UNICODE)\n",
    "\n",
    "def splitEdgePunct(input):\n",
    "    input = EdgePunctLeft.sub(r\"\\1\\2 \\3\", input)\n",
    "    input = EdgePunctRight.sub(r\"\\1 \\2\\3\", input)\n",
    "    return input\n",
    "\n",
    "# The main work of tokenizing a tweet.\n",
    "def simpleTokenize(text):\n",
    "\n",
    "    # Do the no-brainers first\n",
    "    splitPunctText = splitEdgePunct(text)\n",
    "\n",
    "    textLength = len(splitPunctText)\n",
    "\n",
    "    # BTO: the logic here got quite convoluted via the Scala porting detour\n",
    "    # It would be good to switch back to a nice simple procedural style like in the Python version\n",
    "    # ... Scala is such a pain.  Never again.\n",
    "\n",
    "    # Find the matches for subsequences that should be protected,\n",
    "    # e.g. URLs, 1.0, U.N.K.L.E., 12:53\n",
    "    bads = []\n",
    "    badSpans = []\n",
    "    for match in Protected.finditer(splitPunctText):\n",
    "        # The spans of the \"bads\" should not be split.\n",
    "        if (match.start() != match.end()): #unnecessary?\n",
    "            bads.append( [splitPunctText[match.start():match.end()]] )\n",
    "            badSpans.append( (match.start(), match.end()) )\n",
    "\n",
    "    # Create a list of indices to create the \"goods\", which can be\n",
    "    # split. We are taking \"bad\" spans like\n",
    "    #     List((2,5), (8,10))\n",
    "    # to create\n",
    "    #     List(0, 2, 5, 8, 10, 12)\n",
    "    # where, e.g., \"12\" here would be the textLength\n",
    "    # has an even length and no indices are the same\n",
    "    indices = [0]\n",
    "    for (first, second) in badSpans:\n",
    "        indices.append(first)\n",
    "        indices.append(second)\n",
    "    indices.append(textLength)\n",
    "\n",
    "    # Group the indices and map them to their respective portion of the string\n",
    "    splitGoods = []\n",
    "    for i in range(0, len(indices), 2):\n",
    "        goodstr = splitPunctText[indices[i]:indices[i+1]]\n",
    "        splitstr = goodstr.strip().split(\" \")\n",
    "        splitGoods.append(splitstr)\n",
    "\n",
    "    #  Reinterpolate the 'good' and 'bad' Lists, ensuring that\n",
    "    #  additonal tokens from last good item get included\n",
    "    zippedStr = []\n",
    "    for i in range(len(bads)):\n",
    "        zippedStr = addAllnonempty(zippedStr, splitGoods[i])\n",
    "        zippedStr = addAllnonempty(zippedStr, bads[i])\n",
    "    zippedStr = addAllnonempty(zippedStr, splitGoods[len(bads)])\n",
    "\n",
    "    # BTO: our POS tagger wants \"ur\" and \"you're\" to both be one token.\n",
    "    # Uncomment to get \"you 're\"\n",
    "    #splitStr = []\n",
    "    #for tok in zippedStr:\n",
    "    #    splitStr.extend(splitToken(tok))\n",
    "    #zippedStr = splitStr\n",
    "\n",
    "    return zippedStr\n",
    "\n",
    "def addAllnonempty(master, smaller):\n",
    "    for s in smaller:\n",
    "        strim = s.strip()\n",
    "        if (len(strim) > 0):\n",
    "            master.append(strim)\n",
    "    return master\n",
    "\n",
    "# \"foo   bar \" => \"foo bar\"\n",
    "def squeezeWhitespace(input):\n",
    "    return Whitespace.sub(\" \", input).strip()\n",
    "\n",
    "# Final pass tokenization based on special patterns\n",
    "def splitToken(token):\n",
    "    m = Contractions.search(token)\n",
    "    if m:\n",
    "        return [m.group(1), m.group(2)]\n",
    "    return [token]\n",
    "\n",
    "# Assume 'text' has no HTML escaping.\n",
    "def tokenize(text):\n",
    "    return simpleTokenize(squeezeWhitespace(text))\n",
    "\n",
    "\n",
    "# Twitter text comes HTML-escaped, so unescape it.\n",
    "# We also first unescape &amp;'s, in case the text has been buggily double-escaped.\n",
    "def normalizeTextForTagger(text):\n",
    "    assert sys.version_info[0] >= 3 and sys.version_info[1] > 3, 'Python version >3.3 required'\n",
    "    text = text.replace(\"&amp;\", \"&\")\n",
    "    text = html.unescape(text)\n",
    "    return text\n",
    "\n",
    "# This is intended for raw tweet text -- we do some HTML entity unescaping before running the tagger.\n",
    "#\n",
    "# This function normalizes the input text BEFORE calling the tokenizer.\n",
    "# So the tokens you get back may not exactly correspond to\n",
    "# substrings of the original text.\n",
    "def tokenizeRawTweetText(text):\n",
    "    tokens = tokenize(normalizeTextForTagger(text))\n",
    "    return tokens\n"
   ]
  },
  {
   "cell_type": "code",
   "execution_count": 5,
   "metadata": {},
   "outputs": [],
   "source": [
    "# First Clean\n",
    "clean = remove_nonword(data)\n",
    "del data\n",
    "\n",
    "# load dictionary for model\n",
    "dict_model = pickle.load(open('dictionary_nonews.pkl','rb'))  \n",
    "total_words = len(dict_model)"
   ]
  },
  {
   "cell_type": "code",
   "execution_count": 9,
   "metadata": {},
   "outputs": [],
   "source": [
    "# Tokenize and create input arrays\n",
    "clean.content = clean.content.apply(lambda x: token_stop(x, stopwords)).apply(\n",
    "                                                  lambda x: lemmatize_tweets(x, min_length=3)).apply(\n",
    "                                                  lambda x: create_array(x, total_words, dict_model))\n"
   ]
  },
  {
   "cell_type": "code",
   "execution_count": 10,
   "metadata": {},
   "outputs": [],
   "source": [
    "tokenizedtest = clean.content"
   ]
  },
  {
   "cell_type": "code",
   "execution_count": 11,
   "metadata": {},
   "outputs": [
    {
     "data": {
      "text/plain": [
       "(171924,)"
      ]
     },
     "execution_count": 11,
     "metadata": {},
     "output_type": "execute_result"
    }
   ],
   "source": [
    "tokenizedtest.shape"
   ]
  },
  {
   "cell_type": "code",
   "execution_count": null,
   "metadata": {},
   "outputs": [],
   "source": []
  },
  {
   "cell_type": "code",
   "execution_count": 12,
   "metadata": {},
   "outputs": [],
   "source": [
    "tokenizedtest.to_csv('inputsold2month.csv', header=None)\n",
    "# data.to_csv('tweetsold2month', header=None)"
   ]
  },
  {
   "cell_type": "code",
   "execution_count": 13,
   "metadata": {},
   "outputs": [],
   "source": [
    "# Parameters\n",
    "learning_rate = 0.001\n",
    "num_epochs = 10\n",
    "batch_size = 150\n",
    "display_step = 1\n",
    "\n",
    "# Network Parameters\n",
    "hidden_size1 = 6000\n",
    "hidden_size2 = 1000\n",
    "hidden_size3 = 100 # 1st layer and 2nd layer number of features\n",
    "input_size = total_words # Words in vocab\n",
    "num_classes = 11        # Categories: graphics, sci.space and baseball\n",
    "\n",
    "class OurNet(nn.Module):\n",
    "    def __init__(self, input_size, hidden_size1, hidden_size2, hidden_size3, num_classes):\n",
    "        super().__init__()\n",
    "        self.layer_1 = nn.Linear(input_size,hidden_size1, bias=True)\n",
    "        self.relu = nn.ReLU()\n",
    "        self.layer_2 = nn.Linear(hidden_size1, hidden_size2, bias=True)\n",
    "        self.layer_3 = nn.Linear(hidden_size2, hidden_size3, bias=True)\n",
    "        self.output_layer = nn.Linear(hidden_size3, num_classes, bias=True)\n",
    "\n",
    "    def forward(self, x):\n",
    "        out = self.layer_1(x)\n",
    "        out = self.relu(out)\n",
    "        out = self.layer_2(out)\n",
    "        out = self.relu(out)\n",
    "        out = self.layer_3(out)\n",
    "        out = self.relu(out)\n",
    "        out = self.output_layer(out)\n",
    "        return out\n",
    "    \n",
    "net = OurNet(input_size, hidden_size1, hidden_size2, hidden_size3, num_classes)\n",
    "\n",
    "net.load_state_dict(torch.load('./supervised_linear_nonews_traindataFINAL', map_location=lambda storage, loc: storage))\n",
    "\n",
    "\n"
   ]
  },
  {
   "cell_type": "code",
   "execution_count": 14,
   "metadata": {},
   "outputs": [],
   "source": [
    "categories = ['Sports', 'Crime', 'Patriot', 'Entertainment', \n",
    "              'Anti-Trump', 'Fukushima', 'Foreign Countries',\n",
    "              'Trump Support', 'Anti-Islam',\n",
    "              'Black Support', 'Health']\n",
    "\n",
    "# def predict_array(input_array, model, categories):\n",
    "#     articles = Variable(torch.FloatTensor(input_array))\n",
    "#     outputs = model(articles)\n",
    "#     values, idx = torch.max(outputs, 0)\n",
    "#     return categories[idx]\n",
    "\n",
    "# predict_array(result, net, categories)\n",
    "\n"
   ]
  },
  {
   "cell_type": "markdown",
   "metadata": {},
   "source": [
    "# Write Prediction Files"
   ]
  },
  {
   "cell_type": "code",
   "execution_count": 15,
   "metadata": {},
   "outputs": [],
   "source": [
    "# file1 = open('prediction_scores_sep-nov','w') \n",
    "file2 = open('oldtweetspredictions.csv', 'w')\n",
    "for idx, array in enumerate(tokenizedtest.values):\n",
    "    articles= Variable(torch.FloatTensor(array))\n",
    "    outputs = net(articles)\n",
    "    values, idx1 = torch.max(outputs,0)\n",
    "    # file1.write(str(outputs.detach().numpy()) + '\\n')\n",
    "    file2.write(str(tokenizedtest.index.values[idx]) + '\\t' \n",
    "                + str(categories[idx1]) + '\\t' + str(outputs.detach().numpy()) + '\\n')\n",
    "    \n",
    "# file1.close()\n",
    "file2.close()"
   ]
  },
  {
   "cell_type": "code",
   "execution_count": null,
   "metadata": {},
   "outputs": [],
   "source": []
  },
  {
   "cell_type": "code",
   "execution_count": null,
   "metadata": {},
   "outputs": [],
   "source": [
    "tokenizedtest.index.is_unique"
   ]
  },
  {
   "cell_type": "code",
   "execution_count": null,
   "metadata": {},
   "outputs": [],
   "source": [
    "preds.shape"
   ]
  },
  {
   "cell_type": "markdown",
   "metadata": {},
   "source": [
    "# Concatenate data with Topics and Scores"
   ]
  },
  {
   "cell_type": "code",
   "execution_count": 16,
   "metadata": {},
   "outputs": [
    {
     "name": "stderr",
     "output_type": "stream",
     "text": [
      "/anaconda3/envs/ada/lib/python3.6/site-packages/IPython/core/interactiveshell.py:2785: DtypeWarning: Columns (6,8,12,23,24) have mixed types. Specify dtype option on import or set low_memory=False.\n",
      "  interactivity=interactivity, compiler=compiler, result=result)\n",
      "/anaconda3/envs/ada/lib/python3.6/site-packages/numpy/lib/arraysetops.py:472: FutureWarning: elementwise comparison failed; returning scalar instead, but in the future will perform elementwise comparison\n",
      "  mask |= (ar1 == a)\n"
     ]
    }
   ],
   "source": [
    "# Load data\n",
    "\n",
    "data = pd.read_csv('../data/final_merged_tweets.csv', index_col=0)\n",
    "data['publish_date'] = pd.to_datetime(data['publish_date'])\n",
    "data = data[data.publish_date > '2015-07-01']"
   ]
  },
  {
   "cell_type": "code",
   "execution_count": null,
   "metadata": {},
   "outputs": [],
   "source": [
    "data.publish_date.max()"
   ]
  },
  {
   "cell_type": "code",
   "execution_count": 17,
   "metadata": {},
   "outputs": [],
   "source": [
    "predsAugJan = pd.read_csv('./predictions/predictions_aug-jan_2015.csv',\n",
    "                          header=None, names=['topic', 'topic_scores'], sep='\\t')\n",
    "predsJanMar = pd.read_csv('./predictions/predictions_jan-mar.csv',\n",
    "                          header=None, names=['topic', 'topic_scores'], sep='\\t')\n",
    "predsMarJun = pd.read_csv('./predictions/predictions_mar-jun.csv',\n",
    "                          header=None, names=['topic', 'topic_scores'], sep='\\t')\n",
    "predsJunDec = pd.read_csv('./predictions/predictions_jun-dec.csv',\n",
    "                          header=None, names=['topic', 'topic_scores'], sep='\\t')\n",
    "len(predsAugJan) + len(predsJanMar) + len(predsMarJun) + len(predsJunDec)\n",
    "\n",
    "preds = pd.concat([predsAugJan, predsJanMar, predsMarJun, predsJunDec])\n"
   ]
  },
  {
   "cell_type": "markdown",
   "metadata": {},
   "source": [
    "# Strip shit"
   ]
  },
  {
   "cell_type": "code",
   "execution_count": 19,
   "metadata": {},
   "outputs": [],
   "source": [
    "aug_jan = open('./predictions/oldtweetspredictions.csv','r') \n",
    "new_aug_jan = open('./predictions/oldtweetspredictions.txt','w') "
   ]
  },
  {
   "cell_type": "code",
   "execution_count": 20,
   "metadata": {},
   "outputs": [],
   "source": [
    "import re\n",
    "for line in aug_jan:\n",
    "    if re.search('[A-Z]', line):\n",
    "        new_aug_jan.write('\\n' + line.rstrip())\n",
    "    else:\n",
    "        new_aug_jan.write(line.rstrip())"
   ]
  },
  {
   "cell_type": "code",
   "execution_count": 21,
   "metadata": {},
   "outputs": [],
   "source": [
    "new_aug_jan.close()"
   ]
  },
  {
   "cell_type": "code",
   "execution_count": 22,
   "metadata": {},
   "outputs": [],
   "source": [
    "# test= pd.read_csv('./predictions/predictions_new_aug-jan_2015.txt',\n",
    "#                   header=None, sep='\\t',names=['topic', 'topic_scores'], index_col=0)\n",
    "\n",
    "\n",
    "# predsAugJan = pd.read_csv('./predictions/predictions_new_aug-jan_2015.txt',\n",
    "#                           header=None, names=['topic', 'topic_scores'], sep='\\t')\n",
    "# predsJanMar = pd.read_csv('./predictions/predictions_new_jan-mar.txt',\n",
    "#                           header=None, names=['topic', 'topic_scores'], sep='\\t')\n",
    "# predsMarJun = pd.read_csv('./predictions/predictions_new_mar-jun.txt',\n",
    "#                           header=None, names=['topic', 'topic_scores'], sep='\\t')\n",
    "# predsJunDec = pd.read_csv('./predictions/predictions_new_jun-dec.txt',\n",
    "#                           header=None, names=['topic', 'topic_scores'], sep='\\t')\n",
    "\n",
    "# preds = pd.concat([predsAugJan, predsJanMar, predsMarJun, predsJunDec])\n",
    "\n",
    "\n",
    "\n",
    "predsold = pd.read_csv('./predictions/oldtweetspredictions.txt',\n",
    "                          header=None, names=['topic', 'topic_scores'], sep='\\t')"
   ]
  },
  {
   "cell_type": "code",
   "execution_count": null,
   "metadata": {},
   "outputs": [],
   "source": [
    "pd.set_option('display.max_rows', 1000)\n",
    "pd.options.display.max_colwidth = 1000\n",
    "preds.head(100)"
   ]
  },
  {
   "cell_type": "code",
   "execution_count": null,
   "metadata": {},
   "outputs": [],
   "source": [
    "new_data = data[data.index.isin(preds.index)]"
   ]
  },
  {
   "cell_type": "code",
   "execution_count": null,
   "metadata": {},
   "outputs": [],
   "source": [
    "new_topics = preds[preds.index.isin(new_data.index)]"
   ]
  },
  {
   "cell_type": "code",
   "execution_count": null,
   "metadata": {},
   "outputs": [],
   "source": [
    "new_df = pd.concat([new_data, new_topics], join='inner', axis=1)"
   ]
  },
  {
   "cell_type": "code",
   "execution_count": null,
   "metadata": {},
   "outputs": [],
   "source": [
    "new_df.publish_date.min()"
   ]
  },
  {
   "cell_type": "code",
   "execution_count": null,
   "metadata": {},
   "outputs": [],
   "source": [
    "new_df.to_csv('FINAL_DF_WITH_TOPICS.csv')"
   ]
  },
  {
   "cell_type": "code",
   "execution_count": null,
   "metadata": {},
   "outputs": [],
   "source": [
    "new_df.publish_date.min()"
   ]
  },
  {
   "cell_type": "code",
   "execution_count": null,
   "metadata": {},
   "outputs": [],
   "source": [
    "new_df.publish_date.max()"
   ]
  },
  {
   "cell_type": "code",
   "execution_count": null,
   "metadata": {},
   "outputs": [],
   "source": [
    "# Load data\n",
    "\n",
    "data = pd.read_csv('../data/final_merged_tweets.csv', index_col=0)\n",
    "data['publish_date'] = pd.to_datetime(data['publish_date'])\n",
    "data = data[(data.publish_date > '2016-09-01') & (data.publish_date < '2016-11-10')]"
   ]
  },
  {
   "cell_type": "code",
   "execution_count": null,
   "metadata": {},
   "outputs": [],
   "source": [
    "data['Topic'] = preds.values"
   ]
  },
  {
   "cell_type": "code",
   "execution_count": null,
   "metadata": {},
   "outputs": [],
   "source": [
    "data.to_csv('tweet_dataset_2_months.csv')"
   ]
  },
  {
   "cell_type": "code",
   "execution_count": null,
   "metadata": {
    "scrolled": true
   },
   "outputs": [],
   "source": [
    "data.head()"
   ]
  },
  {
   "cell_type": "code",
   "execution_count": null,
   "metadata": {},
   "outputs": [],
   "source": [
    "data = pd.read_csv('tweet_dataset_2_months.csv')\n",
    "data['publish_date'] = pd.to_datetime(data['publish_date'])"
   ]
  },
  {
   "cell_type": "code",
   "execution_count": null,
   "metadata": {},
   "outputs": [],
   "source": [
    "data_filtered = data[['publish_date', 'followers', 'author', 'like_count', 'Topic']]"
   ]
  },
  {
   "cell_type": "code",
   "execution_count": null,
   "metadata": {},
   "outputs": [],
   "source": [
    "topics = data_filtered.Topic.value_counts().iloc[0:13].index.tolist()\n",
    "topics"
   ]
  },
  {
   "cell_type": "code",
   "execution_count": null,
   "metadata": {},
   "outputs": [],
   "source": [
    "\n",
    "\n",
    "x = len(trump)"
   ]
  }
 ],
 "metadata": {
  "kernelspec": {
   "display_name": "Python [default]",
   "language": "python",
   "name": "python3"
  },
  "language_info": {
   "codemirror_mode": {
    "name": "ipython",
    "version": 3
   },
   "file_extension": ".py",
   "mimetype": "text/x-python",
   "name": "python",
   "nbconvert_exporter": "python",
   "pygments_lexer": "ipython3",
   "version": "3.6.6"
  }
 },
 "nbformat": 4,
 "nbformat_minor": 2
}
