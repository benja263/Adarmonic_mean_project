{
 "cells": [
  {
   "cell_type": "code",
   "execution_count": null,
   "metadata": {},
   "outputs": [],
   "source": [
    "# Imports\n",
    "\n",
    "import pandas as pd\n",
    "import numpy as np\n",
    "import seaborn as sb\n",
    "import matplotlib.pyplot as plt\n",
    "from datetime import datetime\n",
    "\n",
    "import plotly.plotly as py\n",
    "import plotly.graph_objs as go\n",
    "import plotly\n",
    "plotly.tools.set_credentials_file(username='halima.schede', api_key='0BXIz4i3MnnYF4z7QhA0')\n",
    "\n",
    "from helpers import *\n",
    "from timeline_helpers import *\n"
   ]
  },
  {
   "cell_type": "code",
   "execution_count": null,
   "metadata": {},
   "outputs": [],
   "source": [
    "# Load data\n",
    "tweets1 = pd.read_csv(access_folder('data') + 'IRAhandle_tweets_1.csv')\n",
    "tweets2 = pd.read_csv(access_folder('data') + 'IRAhandle_tweets_2.csv')\n",
    "tweets3 = pd.read_csv(access_folder('data') + 'IRAhandle_tweets_3.csv')\n",
    "tweets4 = pd.read_csv(access_folder('data') + 'IRAhandle_tweets_4.csv')\n",
    "tweets5 = pd.read_csv(access_folder('data') + 'IRAhandle_tweets_5.csv')\n",
    "tweets6 = pd.read_csv(access_folder('data') + 'IRAhandle_tweets_6.csv')\n",
    "tweets7 = pd.read_csv(access_folder('data') + 'IRAhandle_tweets_7.csv')\n",
    "tweets8 = pd.read_csv(access_folder('data') + 'IRAhandle_tweets_8.csv')\n",
    "tweets9 = pd.read_csv(access_folder('data') + 'IRAhandle_tweets_9.csv')\n",
    "\n",
    "\n",
    "\n",
    "tweets = pd.concat([tweets1, tweets2, tweets3, tweets4, tweets5, tweets6, tweets7, tweets8, tweets9], axis=0, join='outer', join_axes=None, ignore_index=False,\n",
    "          keys=None, levels=None, names=None, verify_integrity=False,\n",
    "          copy=True)\n"
   ]
  },
  {
   "cell_type": "code",
   "execution_count": null,
   "metadata": {},
   "outputs": [],
   "source": [
    "tweets.describe()"
   ]
  },
  {
   "cell_type": "code",
   "execution_count": null,
   "metadata": {},
   "outputs": [],
   "source": [
    "tweets.drop(['new_june_2018','harvested_date','content','region','retweet']\n",
    "            ,axis=1, inplace=True)"
   ]
  },
  {
   "cell_type": "code",
   "execution_count": null,
   "metadata": {},
   "outputs": [],
   "source": [
    "# check for NaN values\n",
    "tweets.isnull().sum()"
   ]
  },
  {
   "cell_type": "code",
   "execution_count": null,
   "metadata": {},
   "outputs": [],
   "source": [
    "# convert datetime * respect m/d/y format\n",
    "tweets['publish_date'] = pd.to_datetime(tweets['publish_date'], format='%m/%d/%Y %H:%M')"
   ]
  },
  {
   "cell_type": "markdown",
   "metadata": {},
   "source": [
    "### Language Distribution"
   ]
  },
  {
   "cell_type": "code",
   "execution_count": null,
   "metadata": {},
   "outputs": [],
   "source": [
    "# create dataframe with publish_date and language\n",
    "language_time = tweets[['publish_date', 'language']]\n"
   ]
  },
  {
   "cell_type": "code",
   "execution_count": null,
   "metadata": {},
   "outputs": [],
   "source": [
    "data = trace_generator_language(language_time)\n",
    "layout = do_layout('Date', 'Number of Tweets', 'Language as a Function of Time')\n",
    "fig = go.Figure(data=data, layout=layout)\n",
    "py.iplot(fig, filename='styling-names')"
   ]
  },
  {
   "cell_type": "code",
   "execution_count": null,
   "metadata": {},
   "outputs": [],
   "source": [
    "# Since the values of tweets are minimal before 2015 filter dataframe\n",
    "tweets_processed = tweets[tweets.publish_date > '2015']"
   ]
  },
  {
   "cell_type": "markdown",
   "metadata": {},
   "source": [
    "### Account Category"
   ]
  },
  {
   "cell_type": "code",
   "execution_count": null,
   "metadata": {},
   "outputs": [],
   "source": [
    "#create dataframe with publish date and account type\n",
    "accounttype_time = tweets_processed[['publish_date', 'account_category']]"
   ]
  },
  {
   "cell_type": "code",
   "execution_count": null,
   "metadata": {},
   "outputs": [],
   "source": [
    "data = trace_generator_account(accounttype_time)\n",
    "layout = do_layout('Date', 'Number of Tweets','Account Type of Tweets by Month')\n",
    "fig = go.Figure(data=data, layout=layout)\n",
    "py.iplot(fig, filename='styling-names2')"
   ]
  },
  {
   "cell_type": "code",
   "execution_count": null,
   "metadata": {},
   "outputs": [],
   "source": [
    "bubble_data = tweets_processed[['publish_date', 'followers','account_category']]\n",
    "\n",
    "righttroll = count_followers('RightTroll', bubble_data)\n",
    "lefttroll = count_followers('LeftTroll', bubble_data)\n",
    "newsfeed = count_followers('NewsFeed', bubble_data)\n",
    "nonenglish = count_followers('NonEnglish', bubble_data)"
   ]
  },
  {
   "cell_type": "code",
   "execution_count": null,
   "metadata": {},
   "outputs": [],
   "source": [
    "trace0 = go.Scatter(\n",
    "    x=list(pd.Series(righttroll.index.strftime('%Y-%m-%d %H-%M-%S')).apply(lambda x: x[0:7])),\n",
    "    y=righttroll.tweet_category_num.values,\n",
    "    mode='markers',\n",
    "    name='Right Troll',\n",
    "    marker=dict(\n",
    "        size=righttroll.followers.values * 0.00001,\n",
    "        sizemode='area',\n",
    "        sizeref=2,\n",
    "        sizemin=4))\n",
    "\n",
    "trace1 = go.Scatter(\n",
    "    x=list(pd.Series(lefttroll.index.strftime('%Y-%m-%d %H-%M-%S')).apply(lambda x: x[0:7])),\n",
    "    y=lefttroll.tweet_category_num.values,\n",
    "    mode='markers',\n",
    "    name='Left Troll',\n",
    "    marker=dict(\n",
    "        size=lefttroll.followers.values * 0.00001,\n",
    "        sizemode='area',\n",
    "        sizeref=2,\n",
    "        sizemin=4))"
   ]
  },
  {
   "cell_type": "code",
   "execution_count": null,
   "metadata": {},
   "outputs": [],
   "source": [
    "data = [trace0, trace1]\n",
    "layout = do_layout('Date','Number of Tweets in Category',\n",
    "                   'Social Power of Tweet Category by Month')\n",
    "fig = go.Figure(data=data, layout=layout)\n",
    "py.iplot(fig, filename='styling-names2')"
   ]
  }
 ],
 "metadata": {
  "kernelspec": {
   "display_name": "Python [conda env:ada]",
   "language": "python",
   "name": "conda-env-ada-py"
  },
  "language_info": {
   "codemirror_mode": {
    "name": "ipython",
    "version": 3
   },
   "file_extension": ".py",
   "mimetype": "text/x-python",
   "name": "python",
   "nbconvert_exporter": "python",
   "pygments_lexer": "ipython3",
   "version": "3.6.7"
  }
 },
 "nbformat": 4,
 "nbformat_minor": 2
}
