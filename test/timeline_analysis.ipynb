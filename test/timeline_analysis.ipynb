{
 "cells": [
  {
   "cell_type": "code",
   "execution_count": 1,
   "metadata": {},
   "outputs": [],
   "source": [
    "# Imports\n",
    "\n",
    "import pandas as pd\n",
    "import numpy as np\n",
    "import seaborn as sb\n",
    "import matplotlib.pyplot as plt\n",
    "from datetime import datetime\n",
    "\n",
    "import plotly.plotly as py\n",
    "import plotly.graph_objs as go\n",
    "import plotly\n",
    "plotly.tools.set_credentials_file(username='halima.schede', api_key='0BXIz4i3MnnYF4z7QhA0')\n",
    "\n",
    "from helpers import *\n"
   ]
  },
  {
   "cell_type": "code",
   "execution_count": 2,
   "metadata": {},
   "outputs": [],
   "source": [
    "# Load data\n",
    "tweets1 = pd.read_csv(access_folder('data') + 'IRAhandle_tweets_1.csv')\n",
    "tweets2 = pd.read_csv(access_folder('data') + 'IRAhandle_tweets_2.csv')\n",
    "tweets3 = pd.read_csv(access_folder('data') + 'IRAhandle_tweets_3.csv')\n",
    "tweets4 = pd.read_csv(access_folder('data') + 'IRAhandle_tweets_4.csv')\n",
    "tweets5 = pd.read_csv(access_folder('data') + 'IRAhandle_tweets_5.csv')\n",
    "tweets6 = pd.read_csv(access_folder('data') + 'IRAhandle_tweets_6.csv')\n",
    "tweets7 = pd.read_csv(access_folder('data') + 'IRAhandle_tweets_6.csv')\n",
    "tweets8 = pd.read_csv(access_folder('data') + 'IRAhandle_tweets_6.csv')\n",
    "tweets9 = pd.read_csv(access_folder('data') + 'IRAhandle_tweets_6.csv')\n",
    "\n",
    "\n",
    "\n",
    "tweets = pd.concat([tweets1, tweets2, tweets3, tweets5, tweets6], axis=0, join='outer', join_axes=None, ignore_index=False,\n",
    "          keys=None, levels=None, names=None, verify_integrity=False,\n",
    "          copy=True)\n"
   ]
  },
  {
   "cell_type": "code",
   "execution_count": 3,
   "metadata": {},
   "outputs": [
    {
     "data": {
      "text/html": [
       "<div>\n",
       "<style scoped>\n",
       "    .dataframe tbody tr th:only-of-type {\n",
       "        vertical-align: middle;\n",
       "    }\n",
       "\n",
       "    .dataframe tbody tr th {\n",
       "        vertical-align: top;\n",
       "    }\n",
       "\n",
       "    .dataframe thead th {\n",
       "        text-align: right;\n",
       "    }\n",
       "</style>\n",
       "<table border=\"1\" class=\"dataframe\">\n",
       "  <thead>\n",
       "    <tr style=\"text-align: right;\">\n",
       "      <th></th>\n",
       "      <th>external_author_id</th>\n",
       "      <th>following</th>\n",
       "      <th>followers</th>\n",
       "      <th>updates</th>\n",
       "      <th>new_june_2018</th>\n",
       "      <th>retweet</th>\n",
       "    </tr>\n",
       "  </thead>\n",
       "  <tbody>\n",
       "    <tr>\n",
       "      <th>count</th>\n",
       "      <td>1.803462e+06</td>\n",
       "      <td>1.803466e+06</td>\n",
       "      <td>1.803466e+06</td>\n",
       "      <td>1.803466e+06</td>\n",
       "      <td>1.803466e+06</td>\n",
       "      <td>1.803466e+06</td>\n",
       "    </tr>\n",
       "    <tr>\n",
       "      <th>mean</th>\n",
       "      <td>1.648020e+17</td>\n",
       "      <td>2.755869e+03</td>\n",
       "      <td>6.010060e+03</td>\n",
       "      <td>1.052307e+04</td>\n",
       "      <td>2.444194e-01</td>\n",
       "      <td>4.347368e-01</td>\n",
       "    </tr>\n",
       "    <tr>\n",
       "      <th>std</th>\n",
       "      <td>3.361395e+17</td>\n",
       "      <td>4.253591e+03</td>\n",
       "      <td>1.451730e+04</td>\n",
       "      <td>1.980754e+04</td>\n",
       "      <td>4.297425e-01</td>\n",
       "      <td>4.957226e-01</td>\n",
       "    </tr>\n",
       "    <tr>\n",
       "      <th>min</th>\n",
       "      <td>3.497640e+07</td>\n",
       "      <td>-1.000000e+00</td>\n",
       "      <td>-1.000000e+00</td>\n",
       "      <td>-1.000000e+00</td>\n",
       "      <td>0.000000e+00</td>\n",
       "      <td>0.000000e+00</td>\n",
       "    </tr>\n",
       "    <tr>\n",
       "      <th>25%</th>\n",
       "      <td>1.930748e+09</td>\n",
       "      <td>2.510000e+02</td>\n",
       "      <td>2.590000e+02</td>\n",
       "      <td>1.726000e+03</td>\n",
       "      <td>0.000000e+00</td>\n",
       "      <td>0.000000e+00</td>\n",
       "    </tr>\n",
       "    <tr>\n",
       "      <th>50%</th>\n",
       "      <td>2.577152e+09</td>\n",
       "      <td>1.161000e+03</td>\n",
       "      <td>9.480000e+02</td>\n",
       "      <td>4.207000e+03</td>\n",
       "      <td>0.000000e+00</td>\n",
       "      <td>0.000000e+00</td>\n",
       "    </tr>\n",
       "    <tr>\n",
       "      <th>75%</th>\n",
       "      <td>3.312143e+09</td>\n",
       "      <td>3.401000e+03</td>\n",
       "      <td>3.952000e+03</td>\n",
       "      <td>1.154000e+04</td>\n",
       "      <td>0.000000e+00</td>\n",
       "      <td>1.000000e+00</td>\n",
       "    </tr>\n",
       "    <tr>\n",
       "      <th>max</th>\n",
       "      <td>9.681310e+17</td>\n",
       "      <td>4.313100e+04</td>\n",
       "      <td>2.512760e+05</td>\n",
       "      <td>1.661130e+05</td>\n",
       "      <td>1.000000e+00</td>\n",
       "      <td>1.000000e+00</td>\n",
       "    </tr>\n",
       "  </tbody>\n",
       "</table>\n",
       "</div>"
      ],
      "text/plain": [
       "       external_author_id     following     followers       updates  \\\n",
       "count        1.803462e+06  1.803466e+06  1.803466e+06  1.803466e+06   \n",
       "mean         1.648020e+17  2.755869e+03  6.010060e+03  1.052307e+04   \n",
       "std          3.361395e+17  4.253591e+03  1.451730e+04  1.980754e+04   \n",
       "min          3.497640e+07 -1.000000e+00 -1.000000e+00 -1.000000e+00   \n",
       "25%          1.930748e+09  2.510000e+02  2.590000e+02  1.726000e+03   \n",
       "50%          2.577152e+09  1.161000e+03  9.480000e+02  4.207000e+03   \n",
       "75%          3.312143e+09  3.401000e+03  3.952000e+03  1.154000e+04   \n",
       "max          9.681310e+17  4.313100e+04  2.512760e+05  1.661130e+05   \n",
       "\n",
       "       new_june_2018       retweet  \n",
       "count   1.803466e+06  1.803466e+06  \n",
       "mean    2.444194e-01  4.347368e-01  \n",
       "std     4.297425e-01  4.957226e-01  \n",
       "min     0.000000e+00  0.000000e+00  \n",
       "25%     0.000000e+00  0.000000e+00  \n",
       "50%     0.000000e+00  0.000000e+00  \n",
       "75%     0.000000e+00  1.000000e+00  \n",
       "max     1.000000e+00  1.000000e+00  "
      ]
     },
     "execution_count": 3,
     "metadata": {},
     "output_type": "execute_result"
    }
   ],
   "source": [
    "tweets.describe()"
   ]
  },
  {
   "cell_type": "code",
   "execution_count": 4,
   "metadata": {},
   "outputs": [],
   "source": [
    "tweets.drop(['new_june_2018','harvested_date','content','region','retweet']\n",
    "            ,axis=1, inplace=True)"
   ]
  },
  {
   "cell_type": "code",
   "execution_count": 5,
   "metadata": {},
   "outputs": [
    {
     "data": {
      "text/html": [
       "<div>\n",
       "<style scoped>\n",
       "    .dataframe tbody tr th:only-of-type {\n",
       "        vertical-align: middle;\n",
       "    }\n",
       "\n",
       "    .dataframe tbody tr th {\n",
       "        vertical-align: top;\n",
       "    }\n",
       "\n",
       "    .dataframe thead th {\n",
       "        text-align: right;\n",
       "    }\n",
       "</style>\n",
       "<table border=\"1\" class=\"dataframe\">\n",
       "  <thead>\n",
       "    <tr style=\"text-align: right;\">\n",
       "      <th></th>\n",
       "      <th>external_author_id</th>\n",
       "      <th>author</th>\n",
       "      <th>language</th>\n",
       "      <th>publish_date</th>\n",
       "      <th>following</th>\n",
       "      <th>followers</th>\n",
       "      <th>updates</th>\n",
       "      <th>post_type</th>\n",
       "      <th>account_type</th>\n",
       "      <th>account_category</th>\n",
       "    </tr>\n",
       "  </thead>\n",
       "  <tbody>\n",
       "    <tr>\n",
       "      <th>0</th>\n",
       "      <td>9.060000e+17</td>\n",
       "      <td>10_GOP</td>\n",
       "      <td>English</td>\n",
       "      <td>10/1/2017 19:58</td>\n",
       "      <td>1052</td>\n",
       "      <td>9636</td>\n",
       "      <td>253</td>\n",
       "      <td>NaN</td>\n",
       "      <td>Right</td>\n",
       "      <td>RightTroll</td>\n",
       "    </tr>\n",
       "    <tr>\n",
       "      <th>1</th>\n",
       "      <td>9.060000e+17</td>\n",
       "      <td>10_GOP</td>\n",
       "      <td>English</td>\n",
       "      <td>10/1/2017 22:43</td>\n",
       "      <td>1054</td>\n",
       "      <td>9637</td>\n",
       "      <td>254</td>\n",
       "      <td>NaN</td>\n",
       "      <td>Right</td>\n",
       "      <td>RightTroll</td>\n",
       "    </tr>\n",
       "    <tr>\n",
       "      <th>2</th>\n",
       "      <td>9.060000e+17</td>\n",
       "      <td>10_GOP</td>\n",
       "      <td>English</td>\n",
       "      <td>10/1/2017 22:50</td>\n",
       "      <td>1054</td>\n",
       "      <td>9637</td>\n",
       "      <td>255</td>\n",
       "      <td>RETWEET</td>\n",
       "      <td>Right</td>\n",
       "      <td>RightTroll</td>\n",
       "    </tr>\n",
       "    <tr>\n",
       "      <th>3</th>\n",
       "      <td>9.060000e+17</td>\n",
       "      <td>10_GOP</td>\n",
       "      <td>English</td>\n",
       "      <td>10/1/2017 23:52</td>\n",
       "      <td>1062</td>\n",
       "      <td>9642</td>\n",
       "      <td>256</td>\n",
       "      <td>NaN</td>\n",
       "      <td>Right</td>\n",
       "      <td>RightTroll</td>\n",
       "    </tr>\n",
       "    <tr>\n",
       "      <th>4</th>\n",
       "      <td>9.060000e+17</td>\n",
       "      <td>10_GOP</td>\n",
       "      <td>English</td>\n",
       "      <td>10/1/2017 2:13</td>\n",
       "      <td>1050</td>\n",
       "      <td>9645</td>\n",
       "      <td>246</td>\n",
       "      <td>RETWEET</td>\n",
       "      <td>Right</td>\n",
       "      <td>RightTroll</td>\n",
       "    </tr>\n",
       "  </tbody>\n",
       "</table>\n",
       "</div>"
      ],
      "text/plain": [
       "   external_author_id  author language     publish_date  following  followers  \\\n",
       "0        9.060000e+17  10_GOP  English  10/1/2017 19:58       1052       9636   \n",
       "1        9.060000e+17  10_GOP  English  10/1/2017 22:43       1054       9637   \n",
       "2        9.060000e+17  10_GOP  English  10/1/2017 22:50       1054       9637   \n",
       "3        9.060000e+17  10_GOP  English  10/1/2017 23:52       1062       9642   \n",
       "4        9.060000e+17  10_GOP  English   10/1/2017 2:13       1050       9645   \n",
       "\n",
       "   updates post_type account_type account_category  \n",
       "0      253       NaN        Right       RightTroll  \n",
       "1      254       NaN        Right       RightTroll  \n",
       "2      255   RETWEET        Right       RightTroll  \n",
       "3      256       NaN        Right       RightTroll  \n",
       "4      246   RETWEET        Right       RightTroll  "
      ]
     },
     "execution_count": 5,
     "metadata": {},
     "output_type": "execute_result"
    }
   ],
   "source": [
    "tweets.head()"
   ]
  },
  {
   "cell_type": "code",
   "execution_count": 6,
   "metadata": {},
   "outputs": [
    {
     "data": {
      "text/plain": [
       "external_author_id          4\n",
       "author                      0\n",
       "language                    0\n",
       "publish_date                0\n",
       "following                   0\n",
       "followers                   0\n",
       "updates                     0\n",
       "post_type             1019433\n",
       "account_type                0\n",
       "account_category            0\n",
       "dtype: int64"
      ]
     },
     "execution_count": 6,
     "metadata": {},
     "output_type": "execute_result"
    }
   ],
   "source": [
    "# check for NaN values\n",
    "tweets.isnull().sum()"
   ]
  },
  {
   "cell_type": "code",
   "execution_count": 7,
   "metadata": {},
   "outputs": [],
   "source": [
    "# convert datetime * respect m/d/y format\n",
    "tweets['publish_date'] = pd.to_datetime(tweets['publish_date'], format='%m/%d/%Y %H:%M')"
   ]
  },
  {
   "cell_type": "markdown",
   "metadata": {},
   "source": [
    "### Language Distribution"
   ]
  },
  {
   "cell_type": "code",
   "execution_count": 8,
   "metadata": {},
   "outputs": [],
   "source": [
    "# create dataframe with publish_date and language\n",
    "language_time = tweets[['publish_date', 'language']]"
   ]
  },
  {
   "cell_type": "code",
   "execution_count": 9,
   "metadata": {},
   "outputs": [],
   "source": [
    "def count_language(lang):\n",
    "    filt = language_time[language_time.language == lang].copy()\n",
    "    filt['language_num'] = filt.language.map({lang:1}).copy()\n",
    "    return filt.groupby(pd.Grouper(key='publish_date', freq='1M')).sum()"
   ]
  },
  {
   "cell_type": "code",
   "execution_count": 12,
   "metadata": {},
   "outputs": [],
   "source": [
    "# Create function that generates the data variable to be used in py.iplot\n",
    "\n",
    "def trace_generator(lang_df):\n",
    "    \n",
    "    data = []\n",
    "    for lang in lang_df.language.value_counts().index.values[0:10]:\n",
    "        filtered=count_language(lang)\n",
    "        strd = pd.Series(filtered.index.strftime('%Y-%m-%d %H-%M-%S'))\n",
    "        xlabels = list(strd.apply(lambda x: x[0:7]))\n",
    "        trace = go.Scatter(x=xlabels, \n",
    "                            y=filtered.language_num.values,\n",
    "                            fill='tozeroy',\n",
    "                            mode= 'none',\n",
    "                            name=lang)\n",
    "        data.append(trace)\n",
    "        \n",
    "    return data"
   ]
  },
  {
   "cell_type": "code",
   "execution_count": 13,
   "metadata": {},
   "outputs": [],
   "source": [
    "# english = count_language('English') # create dataframe with appropriate datetimes\n",
    "# strg = pd.Series(english.index.strftime('%Y-%m-%d %H-%M-%S')) # convert index to strings\n",
    "# xlabels = list(strg.apply(lambda x: x[0:7])) # list them and crop for month\n",
    "\n",
    "data = trace_generator(language_time)\n",
    "\n",
    "layout = go.Layout(\n",
    "    title='Languages of Tweets by Month',\n",
    "    xaxis=dict(\n",
    "        title='Date',\n",
    "        titlefont=dict(\n",
    "            family='Courier New, monospace',\n",
    "            size=18,\n",
    "            color='#7f7f7f'\n",
    "        )\n",
    "    ),\n",
    "    yaxis=dict(\n",
    "        title='Number of Tweets',\n",
    "        titlefont=dict(\n",
    "            family='Courier New, monospace',\n",
    "            size=18,\n",
    "            color='#7f7f7f'\n",
    "        )\n",
    "    )\n",
    ")"
   ]
  },
  {
   "cell_type": "code",
   "execution_count": 14,
   "metadata": {},
   "outputs": [
    {
     "data": {
      "text/html": [
       "<iframe id=\"igraph\" scrolling=\"no\" style=\"border:none;\" seamless=\"seamless\" src=\"https://plot.ly/~halima.schede/2.embed\" height=\"525px\" width=\"100%\"></iframe>"
      ],
      "text/plain": [
       "<plotly.tools.PlotlyDisplay object>"
      ]
     },
     "execution_count": 14,
     "metadata": {},
     "output_type": "execute_result"
    }
   ],
   "source": [
    "fig = go.Figure(data=data, layout=layout)\n",
    "py.iplot(fig, filename='styling-names')"
   ]
  },
  {
   "cell_type": "markdown",
   "metadata": {},
   "source": [
    "### Account Category"
   ]
  },
  {
   "cell_type": "code",
   "execution_count": null,
   "metadata": {},
   "outputs": [],
   "source": [
    "russian = count_language('Russian')"
   ]
  },
  {
   "cell_type": "code",
   "execution_count": null,
   "metadata": {},
   "outputs": [],
   "source": [
    "russian.tail(100)"
   ]
  },
  {
   "cell_type": "code",
   "execution_count": null,
   "metadata": {},
   "outputs": [],
   "source": []
  }
 ],
 "metadata": {
  "kernelspec": {
   "display_name": "Python [conda env:ada]",
   "language": "python",
   "name": "conda-env-ada-py"
  },
  "language_info": {
   "codemirror_mode": {
    "name": "ipython",
    "version": 3
   },
   "file_extension": ".py",
   "mimetype": "text/x-python",
   "name": "python",
   "nbconvert_exporter": "python",
   "pygments_lexer": "ipython3",
   "version": "3.6.6"
  }
 },
 "nbformat": 4,
 "nbformat_minor": 2
}
