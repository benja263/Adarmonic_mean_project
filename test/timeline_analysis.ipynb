{
 "cells": [
  {
   "cell_type": "code",
   "execution_count": 1,
   "metadata": {},
   "outputs": [],
   "source": [
    "# Imports\n",
    "\n",
    "import pandas as pd\n",
    "import numpy as np\n",
    "import seaborn as sb\n",
    "import matplotlib.pyplot as plt\n",
    "from datetime import datetime\n",
    "\n",
    "import plotly.plotly as py\n",
    "import plotly.graph_objs as go\n",
    "import plotly\n",
    "plotly.tools.set_credentials_file(username='halima.schede', api_key='0BXIz4i3MnnYF4z7QhA0')\n",
    "\n",
    "from helpers import *\n",
    "from timeline_helpers import *\n"
   ]
  },
  {
   "cell_type": "code",
   "execution_count": 2,
   "metadata": {},
   "outputs": [],
   "source": [
    "# Load data\n",
    "tweets1 = pd.read_csv(access_folder('data') + 'IRAhandle_tweets_1.csv')\n",
    "tweets2 = pd.read_csv(access_folder('data') + 'IRAhandle_tweets_2.csv')\n",
    "tweets3 = pd.read_csv(access_folder('data') + 'IRAhandle_tweets_3.csv')\n",
    "tweets4 = pd.read_csv(access_folder('data') + 'IRAhandle_tweets_4.csv')\n",
    "tweets5 = pd.read_csv(access_folder('data') + 'IRAhandle_tweets_5.csv')\n",
    "tweets6 = pd.read_csv(access_folder('data') + 'IRAhandle_tweets_6.csv')\n",
    "tweets7 = pd.read_csv(access_folder('data') + 'IRAhandle_tweets_7.csv')\n",
    "tweets8 = pd.read_csv(access_folder('data') + 'IRAhandle_tweets_8.csv')\n",
    "tweets9 = pd.read_csv(access_folder('data') + 'IRAhandle_tweets_9.csv')\n",
    "\n",
    "\n",
    "\n",
    "tweets = pd.concat([tweets1, tweets2, tweets3, tweets4, tweets5, tweets6, tweets7, tweets8, tweets9], axis=0, join='outer', join_axes=None, ignore_index=False,\n",
    "          keys=None, levels=None, names=None, verify_integrity=False,\n",
    "          copy=True)\n"
   ]
  },
  {
   "cell_type": "code",
   "execution_count": 3,
   "metadata": {},
   "outputs": [
    {
     "data": {
      "text/html": [
       "<div>\n",
       "<style scoped>\n",
       "    .dataframe tbody tr th:only-of-type {\n",
       "        vertical-align: middle;\n",
       "    }\n",
       "\n",
       "    .dataframe tbody tr th {\n",
       "        vertical-align: top;\n",
       "    }\n",
       "\n",
       "    .dataframe thead th {\n",
       "        text-align: right;\n",
       "    }\n",
       "</style>\n",
       "<table border=\"1\" class=\"dataframe\">\n",
       "  <thead>\n",
       "    <tr style=\"text-align: right;\">\n",
       "      <th></th>\n",
       "      <th>external_author_id</th>\n",
       "      <th>following</th>\n",
       "      <th>followers</th>\n",
       "      <th>updates</th>\n",
       "      <th>new_june_2018</th>\n",
       "      <th>retweet</th>\n",
       "    </tr>\n",
       "  </thead>\n",
       "  <tbody>\n",
       "    <tr>\n",
       "      <th>count</th>\n",
       "      <td>2.973367e+06</td>\n",
       "      <td>2.973371e+06</td>\n",
       "      <td>2.973371e+06</td>\n",
       "      <td>2.973371e+06</td>\n",
       "      <td>2.973371e+06</td>\n",
       "      <td>2.973371e+06</td>\n",
       "    </tr>\n",
       "    <tr>\n",
       "      <th>mean</th>\n",
       "      <td>1.296128e+17</td>\n",
       "      <td>3.433524e+03</td>\n",
       "      <td>7.018913e+03</td>\n",
       "      <td>1.049756e+04</td>\n",
       "      <td>2.078735e-01</td>\n",
       "      <td>4.408955e-01</td>\n",
       "    </tr>\n",
       "    <tr>\n",
       "      <th>std</th>\n",
       "      <td>3.036341e+17</td>\n",
       "      <td>5.609881e+03</td>\n",
       "      <td>1.458463e+04</td>\n",
       "      <td>1.768729e+04</td>\n",
       "      <td>4.057859e-01</td>\n",
       "      <td>4.964945e-01</td>\n",
       "    </tr>\n",
       "    <tr>\n",
       "      <th>min</th>\n",
       "      <td>3.497640e+07</td>\n",
       "      <td>-1.000000e+00</td>\n",
       "      <td>-1.000000e+00</td>\n",
       "      <td>-1.000000e+00</td>\n",
       "      <td>0.000000e+00</td>\n",
       "      <td>0.000000e+00</td>\n",
       "    </tr>\n",
       "    <tr>\n",
       "      <th>25%</th>\n",
       "      <td>1.930748e+09</td>\n",
       "      <td>3.270000e+02</td>\n",
       "      <td>3.200000e+02</td>\n",
       "      <td>1.787000e+03</td>\n",
       "      <td>0.000000e+00</td>\n",
       "      <td>0.000000e+00</td>\n",
       "    </tr>\n",
       "    <tr>\n",
       "      <th>50%</th>\n",
       "      <td>2.581835e+09</td>\n",
       "      <td>1.499000e+03</td>\n",
       "      <td>1.274000e+03</td>\n",
       "      <td>4.333000e+03</td>\n",
       "      <td>0.000000e+00</td>\n",
       "      <td>0.000000e+00</td>\n",
       "    </tr>\n",
       "    <tr>\n",
       "      <th>75%</th>\n",
       "      <td>3.254274e+09</td>\n",
       "      <td>4.730000e+03</td>\n",
       "      <td>1.060000e+04</td>\n",
       "      <td>1.234100e+04</td>\n",
       "      <td>0.000000e+00</td>\n",
       "      <td>1.000000e+00</td>\n",
       "    </tr>\n",
       "    <tr>\n",
       "      <th>max</th>\n",
       "      <td>9.812510e+17</td>\n",
       "      <td>7.621000e+04</td>\n",
       "      <td>2.512760e+05</td>\n",
       "      <td>1.661130e+05</td>\n",
       "      <td>1.000000e+00</td>\n",
       "      <td>1.000000e+00</td>\n",
       "    </tr>\n",
       "  </tbody>\n",
       "</table>\n",
       "</div>"
      ],
      "text/plain": [
       "       external_author_id     following     followers       updates  \\\n",
       "count        2.973367e+06  2.973371e+06  2.973371e+06  2.973371e+06   \n",
       "mean         1.296128e+17  3.433524e+03  7.018913e+03  1.049756e+04   \n",
       "std          3.036341e+17  5.609881e+03  1.458463e+04  1.768729e+04   \n",
       "min          3.497640e+07 -1.000000e+00 -1.000000e+00 -1.000000e+00   \n",
       "25%          1.930748e+09  3.270000e+02  3.200000e+02  1.787000e+03   \n",
       "50%          2.581835e+09  1.499000e+03  1.274000e+03  4.333000e+03   \n",
       "75%          3.254274e+09  4.730000e+03  1.060000e+04  1.234100e+04   \n",
       "max          9.812510e+17  7.621000e+04  2.512760e+05  1.661130e+05   \n",
       "\n",
       "       new_june_2018       retweet  \n",
       "count   2.973371e+06  2.973371e+06  \n",
       "mean    2.078735e-01  4.408955e-01  \n",
       "std     4.057859e-01  4.964945e-01  \n",
       "min     0.000000e+00  0.000000e+00  \n",
       "25%     0.000000e+00  0.000000e+00  \n",
       "50%     0.000000e+00  0.000000e+00  \n",
       "75%     0.000000e+00  1.000000e+00  \n",
       "max     1.000000e+00  1.000000e+00  "
      ]
     },
     "execution_count": 3,
     "metadata": {},
     "output_type": "execute_result"
    }
   ],
   "source": [
    "tweets.describe()"
   ]
  },
  {
   "cell_type": "code",
   "execution_count": 4,
   "metadata": {},
   "outputs": [],
   "source": [
    "tweets.drop(['new_june_2018','harvested_date','content','region','retweet']\n",
    "            ,axis=1, inplace=True)"
   ]
  },
  {
   "cell_type": "code",
   "execution_count": 5,
   "metadata": {},
   "outputs": [
    {
     "data": {
      "text/plain": [
       "external_author_id          4\n",
       "author                      0\n",
       "language                    0\n",
       "publish_date                0\n",
       "following                   0\n",
       "followers                   0\n",
       "updates                     0\n",
       "post_type             1662425\n",
       "account_type              363\n",
       "account_category            0\n",
       "dtype: int64"
      ]
     },
     "execution_count": 5,
     "metadata": {},
     "output_type": "execute_result"
    }
   ],
   "source": [
    "# check for NaN values\n",
    "tweets.isnull().sum()"
   ]
  },
  {
   "cell_type": "code",
   "execution_count": 6,
   "metadata": {},
   "outputs": [],
   "source": [
    "# convert datetime * respect m/d/y format\n",
    "tweets['publish_date'] = pd.to_datetime(tweets['publish_date'], format='%m/%d/%Y %H:%M')"
   ]
  },
  {
   "cell_type": "markdown",
   "metadata": {},
   "source": [
    "### Language Distribution"
   ]
  },
  {
   "cell_type": "code",
   "execution_count": 7,
   "metadata": {},
   "outputs": [],
   "source": [
    "# create dataframe with publish_date and language\n",
    "language_time = tweets[['publish_date', 'language']]\n"
   ]
  },
  {
   "cell_type": "code",
   "execution_count": 8,
   "metadata": {},
   "outputs": [
    {
     "data": {
      "text/html": [
       "<iframe id=\"igraph\" scrolling=\"no\" style=\"border:none;\" seamless=\"seamless\" src=\"https://plot.ly/~halima.schede/2.embed\" height=\"525px\" width=\"100%\"></iframe>"
      ],
      "text/plain": [
       "<plotly.tools.PlotlyDisplay object>"
      ]
     },
     "execution_count": 8,
     "metadata": {},
     "output_type": "execute_result"
    }
   ],
   "source": [
    "data = trace_generator_language(language_time)\n",
    "layout = do_layout('Date', 'Number of Tweets', 'Language as a Function of Time')\n",
    "fig = go.Figure(data=data, layout=layout)\n",
    "py.iplot(fig, filename='styling-names')"
   ]
  },
  {
   "cell_type": "code",
   "execution_count": 9,
   "metadata": {},
   "outputs": [],
   "source": [
    "# Since the values of tweets are minimal before 2015 filter dataframe\n",
    "tweets_processed = tweets[tweets.publish_date > '2015']"
   ]
  },
  {
   "cell_type": "markdown",
   "metadata": {},
   "source": [
    "### Account Category"
   ]
  },
  {
   "cell_type": "code",
   "execution_count": 10,
   "metadata": {},
   "outputs": [],
   "source": [
    "#create dataframe with publish date and account type\n",
    "accounttype_time = tweets_processed[['publish_date', 'account_category']]"
   ]
  },
  {
   "cell_type": "code",
   "execution_count": 11,
   "metadata": {},
   "outputs": [
    {
     "data": {
      "text/html": [
       "<iframe id=\"igraph\" scrolling=\"no\" style=\"border:none;\" seamless=\"seamless\" src=\"https://plot.ly/~halima.schede/4.embed\" height=\"525px\" width=\"100%\"></iframe>"
      ],
      "text/plain": [
       "<plotly.tools.PlotlyDisplay object>"
      ]
     },
     "execution_count": 11,
     "metadata": {},
     "output_type": "execute_result"
    }
   ],
   "source": [
    "data = trace_generator_account(accounttype_time)\n",
    "layout = do_layout('Date', 'Number of Tweets','Account Type of Tweets by Month')\n",
    "fig = go.Figure(data=data, layout=layout)\n",
    "py.iplot(fig, filename='styling-names2')"
   ]
  },
  {
   "cell_type": "code",
   "execution_count": 12,
   "metadata": {},
   "outputs": [],
   "source": [
    "bubble_data = tweets_processed[['publish_date', 'followers','account_category']]\n",
    "\n",
    "righttroll = count_followers('RightTroll', bubble_data)\n",
    "lefttroll = count_followers('LeftTroll', bubble_data)\n",
    "newsfeed = count_followers('NewsFeed', bubble_data)\n",
    "nonenglish = count_followers('NonEnglish', bubble_data)"
   ]
  },
  {
   "cell_type": "code",
   "execution_count": 13,
   "metadata": {},
   "outputs": [],
   "source": [
    "trace0 = go.Scatter(\n",
    "    x=list(pd.Series(righttroll.index.strftime('%Y-%m-%d %H-%M-%S')).apply(lambda x: x[0:7])),\n",
    "    y=righttroll.tweet_category_num.values,\n",
    "    mode='markers',\n",
    "    name='Right Troll',\n",
    "    marker=dict(\n",
    "        size=righttroll.followers.values * 0.00001,\n",
    "        sizemode='area',\n",
    "        sizeref=2,\n",
    "        sizemin=4))\n",
    "\n",
    "trace1 = go.Scatter(\n",
    "    x=list(pd.Series(lefttroll.index.strftime('%Y-%m-%d %H-%M-%S')).apply(lambda x: x[0:7])),\n",
    "    y=lefttroll.tweet_category_num.values,\n",
    "    mode='markers',\n",
    "    name='Left Troll',\n",
    "    marker=dict(\n",
    "        size=lefttroll.followers.values * 0.00001,\n",
    "        sizemode='area',\n",
    "        sizeref=2,\n",
    "        sizemin=4))"
   ]
  },
  {
   "cell_type": "code",
   "execution_count": 14,
   "metadata": {},
   "outputs": [
    {
     "data": {
      "text/html": [
       "<iframe id=\"igraph\" scrolling=\"no\" style=\"border:none;\" seamless=\"seamless\" src=\"https://plot.ly/~halima.schede/4.embed\" height=\"525px\" width=\"100%\"></iframe>"
      ],
      "text/plain": [
       "<plotly.tools.PlotlyDisplay object>"
      ]
     },
     "execution_count": 14,
     "metadata": {},
     "output_type": "execute_result"
    }
   ],
   "source": [
    "data = [trace0, trace1]\n",
    "layout = do_layout('Date','Number of Tweets in Category',\n",
    "                   'Social Power of Tweet Category by Month')\n",
    "fig = go.Figure(data=data, layout=layout)\n",
    "py.iplot(fig, filename='styling-names2')"
   ]
  }
 ],
 "metadata": {
  "kernelspec": {
   "display_name": "Python [conda env:ada]",
   "language": "python",
   "name": "conda-env-ada-py"
  },
  "language_info": {
   "codemirror_mode": {
    "name": "ipython",
    "version": 3
   },
   "file_extension": ".py",
   "mimetype": "text/x-python",
   "name": "python",
   "nbconvert_exporter": "python",
   "pygments_lexer": "ipython3",
   "version": "3.6.7"
  }
 },
 "nbformat": 4,
 "nbformat_minor": 2
}
