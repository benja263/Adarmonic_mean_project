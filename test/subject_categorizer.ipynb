{
 "cells": [
  {
   "cell_type": "code",
   "execution_count": 3,
   "metadata": {},
   "outputs": [],
   "source": [
    "# Imports\n",
    "import pandas as pd\n",
    "import gensim\n",
    "import numpy as np\n",
    "import nltk\n",
    "import re\n",
    "\n",
    "from helpers  import *\n",
    "\n",
    "from gensim.utils import simple_preprocess\n",
    "from gensim.parsing.preprocessing import remove_stopwords\n",
    "from nltk.stem import WordNetLemmatizer, SnowballStemmer\n",
    "from nltk.stem.porter import *\n",
    "#nltk.download('punkt')\n",
    "\n",
    "np.random.seed(2018) # set random seed\n"
   ]
  },
  {
   "cell_type": "code",
   "execution_count": null,
   "metadata": {},
   "outputs": [],
   "source": [
    "\n"
   ]
  },
  {
   "cell_type": "code",
   "execution_count": 4,
   "metadata": {},
   "outputs": [
    {
     "data": {
      "text/plain": [
       "array(['sitting democrat senator trial corruption youve barely heard peep mainstream media @nedryun',\n",
       "       'marshawn lynch arrives game anti-trump shirt judging sagging pants shirt lynch vs belt',\n",
       "       'daughter fallen navy sailor delivers powerful monologue anthem protests burns nfl packers gear #boycottnfl',\n",
       "       ...,\n",
       "       '“this world canvas imagination” – henry david thoreau american essayist poet philosopher',\n",
       "       'house republicans release dismantle affordable care act likely resulting uninsured',\n",
       "       'retweeted citizen tv kenya (@citizentvkenya) koome court won’t sit week ask president'],\n",
       "      dtype=object)"
      ]
     },
     "execution_count": 4,
     "metadata": {},
     "output_type": "execute_result"
    }
   ],
   "source": [
    "# Load data\n",
    "tweets1 = pd.read_csv(access_folder('data') + 'IRAhandle_tweets_1.csv')\n",
    "\n",
    "# selecting content columns for subject categorization (all should be in english)\n",
    "content = tweets1[tweets1.language == 'English'].content\n",
    "\n",
    "# Remove external links to unknown websites and get rid of punctuation and lower case everything\n",
    "content = content.apply(lambda x: re.sub(r'http\\S+', '', x)).apply(lambda x: re.sub(r\"'|\\\"|`|:|\\?|~|,|\\.\", '', x))\\\n",
    "                .apply(lambda x: x.lower()).apply(lambda x: remove_stopwords(x))\n",
    "\n",
    "content = content.values\n",
    "\n",
    "content"
   ]
  },
  {
   "cell_type": "code",
   "execution_count": null,
   "metadata": {},
   "outputs": [],
   "source": [
    "# Tokenization: Split text into words. Lowercase the words and remove punctuation\n",
    "\n",
    "stemmer = SnowballStemmer(\"english\") # initiate dictionary type\n",
    "# create words from sentences\n",
    "content_tokens = [nltk.word_tokenize(x) for x in content]\n",
    "# Stem words (truncate)\n",
    "content_stemmed = []\n",
    "for tweet in content_tokens:\n",
    "    stem = [stemmer.stem(x) for x in tweet if len(x) > 3] # only consider words more than 3 letters\n",
    "    content_stemmed.append(stem)"
   ]
  },
  {
   "cell_type": "code",
   "execution_count": null,
   "metadata": {},
   "outputs": [],
   "source": [
    "# Create dictionary to know the frequency of words\n",
    "dictionary = gensim.corpora.Dictionary(content_stemmed)\n",
    "dictionary.filter_extremes(no_below=15) # remove words that have appearances less than 15 times\n",
    "\n",
    "# Create bag-of-words\n",
    "bow_corpus = [dictionary.doc2bow(doc) for doc in content_stemmed]"
   ]
  },
  {
   "cell_type": "code",
   "execution_count": null,
   "metadata": {},
   "outputs": [],
   "source": [
    "# Check shit is working\n",
    "test = bow_corpus[126]\n",
    "for i in range(len(test)):\n",
    "    print(\"Word {} (\\\"{}\\\") appears {} time.\".format(test[i][0],dictionary[test[i][0]], \n",
    "test[i][1]))"
   ]
  },
  {
   "cell_type": "code",
   "execution_count": null,
   "metadata": {},
   "outputs": [],
   "source": [
    "# Create model on bag-of-words\n",
    "\n",
    "lda_model = gensim.models.LdaMulticore(bow_corpus, num_topics=10, id2word=dictionary, passes=2, workers=2)"
   ]
  },
  {
   "cell_type": "code",
   "execution_count": null,
   "metadata": {},
   "outputs": [],
   "source": [
    "for idx, topic in lda_model.print_topics(-1):\n",
    "    print('Topic: {} \\nWords: {}'.format(idx, topic))"
   ]
  },
  {
   "cell_type": "code",
   "execution_count": null,
   "metadata": {},
   "outputs": [],
   "source": []
  }
 ],
 "metadata": {
  "kernelspec": {
   "display_name": "Python 3",
   "language": "python",
   "name": "python3"
  },
  "language_info": {
   "codemirror_mode": {
    "name": "ipython",
    "version": 3
   },
   "file_extension": ".py",
   "mimetype": "text/x-python",
   "name": "python",
   "nbconvert_exporter": "python",
   "pygments_lexer": "ipython3",
   "version": "3.6.6"
  }
 },
 "nbformat": 4,
 "nbformat_minor": 2
}
