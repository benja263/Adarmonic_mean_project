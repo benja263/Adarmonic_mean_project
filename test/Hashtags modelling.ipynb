{
 "cells": [
  {
   "cell_type": "code",
   "execution_count": 1,
   "metadata": {},
   "outputs": [],
   "source": [
    "import pandas as pd\n",
    "import numpy as np\n",
    "import re\n",
    "from helpers import *\n",
    "import matplotlib.pyplot as plt"
   ]
  },
  {
   "cell_type": "code",
   "execution_count": 2,
   "metadata": {},
   "outputs": [],
   "source": [
    "df = pd.read_csv(access_folder(folder_name='generated') + 'tweets_n_hashtags.csv', index_col = 0)"
   ]
  },
  {
   "cell_type": "code",
   "execution_count": 3,
   "metadata": {},
   "outputs": [],
   "source": [
    "import ast\n",
    "df.tweet_text = df.tweet_text.apply(ast.literal_eval)"
   ]
  },
  {
   "cell_type": "code",
   "execution_count": 4,
   "metadata": {},
   "outputs": [
    {
     "data": {
      "text/html": [
       "<div>\n",
       "<style scoped>\n",
       "    .dataframe tbody tr th:only-of-type {\n",
       "        vertical-align: middle;\n",
       "    }\n",
       "\n",
       "    .dataframe tbody tr th {\n",
       "        vertical-align: top;\n",
       "    }\n",
       "\n",
       "    .dataframe thead th {\n",
       "        text-align: right;\n",
       "    }\n",
       "</style>\n",
       "<table border=\"1\" class=\"dataframe\">\n",
       "  <thead>\n",
       "    <tr style=\"text-align: right;\">\n",
       "      <th></th>\n",
       "      <th>Topic</th>\n",
       "      <th>tweet_text</th>\n",
       "      <th>hashtag</th>\n",
       "    </tr>\n",
       "  </thead>\n",
       "  <tbody>\n",
       "    <tr>\n",
       "      <th>33</th>\n",
       "      <td>News</td>\n",
       "      <td>[john, carroll, university, get, gift]</td>\n",
       "      <td>news</td>\n",
       "    </tr>\n",
       "    <tr>\n",
       "      <th>34</th>\n",
       "      <td>News</td>\n",
       "      <td>[spring, cook, book, healthy, chocolate, bar]</td>\n",
       "      <td>local</td>\n",
       "    </tr>\n",
       "    <tr>\n",
       "      <th>37</th>\n",
       "      <td>News</td>\n",
       "      <td>[rocky, river, prepare, more, flooding, city, ...</td>\n",
       "      <td>news</td>\n",
       "    </tr>\n",
       "    <tr>\n",
       "      <th>39</th>\n",
       "      <td>News</td>\n",
       "      <td>[forecast, cooler, mid, week, cooler, isolated...</td>\n",
       "      <td>news</td>\n",
       "    </tr>\n",
       "    <tr>\n",
       "      <th>40</th>\n",
       "      <td>News</td>\n",
       "      <td>[brother, farook, decorate, veteran, killer]</td>\n",
       "      <td>TopNews</td>\n",
       "    </tr>\n",
       "  </tbody>\n",
       "</table>\n",
       "</div>"
      ],
      "text/plain": [
       "   Topic                                         tweet_text  hashtag\n",
       "33  News             [john, carroll, university, get, gift]     news\n",
       "34  News      [spring, cook, book, healthy, chocolate, bar]    local\n",
       "37  News  [rocky, river, prepare, more, flooding, city, ...     news\n",
       "39  News  [forecast, cooler, mid, week, cooler, isolated...     news\n",
       "40  News       [brother, farook, decorate, veteran, killer]  TopNews"
      ]
     },
     "execution_count": 4,
     "metadata": {},
     "output_type": "execute_result"
    }
   ],
   "source": [
    "#df.columns = ['Topic', 'tweet_text']\n",
    "df.head()"
   ]
  },
  {
   "cell_type": "markdown",
   "metadata": {},
   "source": [
    "# Don't run"
   ]
  },
  {
   "cell_type": "code",
   "execution_count": 78,
   "metadata": {},
   "outputs": [
    {
     "data": {
      "text/html": [
       "<div>\n",
       "<style scoped>\n",
       "    .dataframe tbody tr th:only-of-type {\n",
       "        vertical-align: middle;\n",
       "    }\n",
       "\n",
       "    .dataframe tbody tr th {\n",
       "        vertical-align: top;\n",
       "    }\n",
       "\n",
       "    .dataframe thead th {\n",
       "        text-align: right;\n",
       "    }\n",
       "</style>\n",
       "<table border=\"1\" class=\"dataframe\">\n",
       "  <thead>\n",
       "    <tr style=\"text-align: right;\">\n",
       "      <th></th>\n",
       "      <th>Hashtags</th>\n",
       "    </tr>\n",
       "    <tr>\n",
       "      <th>0</th>\n",
       "      <th></th>\n",
       "    </tr>\n",
       "  </thead>\n",
       "  <tbody>\n",
       "    <tr>\n",
       "      <th>33</th>\n",
       "      <td>news</td>\n",
       "    </tr>\n",
       "    <tr>\n",
       "      <th>34</th>\n",
       "      <td>local</td>\n",
       "    </tr>\n",
       "    <tr>\n",
       "      <th>37</th>\n",
       "      <td>news</td>\n",
       "    </tr>\n",
       "    <tr>\n",
       "      <th>39</th>\n",
       "      <td>news</td>\n",
       "    </tr>\n",
       "    <tr>\n",
       "      <th>40</th>\n",
       "      <td>TopNews</td>\n",
       "    </tr>\n",
       "  </tbody>\n",
       "</table>\n",
       "</div>"
      ],
      "text/plain": [
       "   Hashtags\n",
       "0          \n",
       "33     news\n",
       "34    local\n",
       "37     news\n",
       "39     news\n",
       "40  TopNews"
      ]
     },
     "execution_count": 78,
     "metadata": {},
     "output_type": "execute_result"
    }
   ],
   "source": [
    "realHashes = pd.read_csv('hashtagsIndices.csv', index_col=0,  header=None)\n",
    "realHashes.columns = ['Hashtags']\n",
    "realHashes.head()"
   ]
  },
  {
   "cell_type": "code",
   "execution_count": 81,
   "metadata": {},
   "outputs": [
    {
     "data": {
      "text/html": [
       "<div>\n",
       "<style scoped>\n",
       "    .dataframe tbody tr th:only-of-type {\n",
       "        vertical-align: middle;\n",
       "    }\n",
       "\n",
       "    .dataframe tbody tr th {\n",
       "        vertical-align: top;\n",
       "    }\n",
       "\n",
       "    .dataframe thead th {\n",
       "        text-align: right;\n",
       "    }\n",
       "</style>\n",
       "<table border=\"1\" class=\"dataframe\">\n",
       "  <thead>\n",
       "    <tr style=\"text-align: right;\">\n",
       "      <th></th>\n",
       "      <th>Topic</th>\n",
       "      <th>tweet_text</th>\n",
       "      <th>hashtag</th>\n",
       "    </tr>\n",
       "  </thead>\n",
       "  <tbody>\n",
       "    <tr>\n",
       "      <th>33</th>\n",
       "      <td>News</td>\n",
       "      <td>[john, carroll, university, get, gift]</td>\n",
       "      <td>news</td>\n",
       "    </tr>\n",
       "    <tr>\n",
       "      <th>34</th>\n",
       "      <td>News</td>\n",
       "      <td>[spring, cook, book, healthy, chocolate, bar]</td>\n",
       "      <td>local</td>\n",
       "    </tr>\n",
       "    <tr>\n",
       "      <th>37</th>\n",
       "      <td>News</td>\n",
       "      <td>[rocky, river, prepare, more, flooding, city, ...</td>\n",
       "      <td>news</td>\n",
       "    </tr>\n",
       "    <tr>\n",
       "      <th>39</th>\n",
       "      <td>News</td>\n",
       "      <td>[forecast, cooler, mid, week, cooler, isolated...</td>\n",
       "      <td>news</td>\n",
       "    </tr>\n",
       "    <tr>\n",
       "      <th>40</th>\n",
       "      <td>News</td>\n",
       "      <td>[brother, farook, decorate, veteran, killer]</td>\n",
       "      <td>TopNews</td>\n",
       "    </tr>\n",
       "    <tr>\n",
       "      <th>42</th>\n",
       "      <td>News</td>\n",
       "      <td>[arrest, connection, art, festival, theft, arr...</td>\n",
       "      <td>news</td>\n",
       "    </tr>\n",
       "    <tr>\n",
       "      <th>44</th>\n",
       "      <td>News</td>\n",
       "      <td>[director, craven, die, scream, filmmaker, die...</td>\n",
       "      <td>news</td>\n",
       "    </tr>\n",
       "    <tr>\n",
       "      <th>45</th>\n",
       "      <td>Sports</td>\n",
       "      <td>[secretariat, dominate, american, pharoah, bel...</td>\n",
       "      <td>sports</td>\n",
       "    </tr>\n",
       "    <tr>\n",
       "      <th>46</th>\n",
       "      <td>News</td>\n",
       "      <td>[black, box, miss, german, airline, crash]</td>\n",
       "      <td>local</td>\n",
       "    </tr>\n",
       "    <tr>\n",
       "      <th>48</th>\n",
       "      <td>Sports</td>\n",
       "      <td>[dale, earnhardt, get, engage, girlfriend, amy...</td>\n",
       "      <td>sports</td>\n",
       "    </tr>\n",
       "    <tr>\n",
       "      <th>50</th>\n",
       "      <td>Sports</td>\n",
       "      <td>[brown, mingo, undergo, surgery, brown, lineba...</td>\n",
       "      <td>sports</td>\n",
       "    </tr>\n",
       "    <tr>\n",
       "      <th>51</th>\n",
       "      <td>News</td>\n",
       "      <td>[avenger, explode, thursday]</td>\n",
       "      <td>local</td>\n",
       "    </tr>\n",
       "    <tr>\n",
       "      <th>52</th>\n",
       "      <td>Crime</td>\n",
       "      <td>[clean, sweep, vacuum, cleaner, thief, mayfiel...</td>\n",
       "      <td>crime</td>\n",
       "    </tr>\n",
       "    <tr>\n",
       "      <th>53</th>\n",
       "      <td>News</td>\n",
       "      <td>[state, senate, expect, vote, common, core, bill]</td>\n",
       "      <td>local</td>\n",
       "    </tr>\n",
       "    <tr>\n",
       "      <th>56</th>\n",
       "      <td>Sports</td>\n",
       "      <td>[johns, take, trust, new, report, look, nfls, ...</td>\n",
       "      <td>sports</td>\n",
       "    </tr>\n",
       "    <tr>\n",
       "      <th>57</th>\n",
       "      <td>Crime</td>\n",
       "      <td>[cleveland, height, police, look, man, shot, h...</td>\n",
       "      <td>crime</td>\n",
       "    </tr>\n",
       "    <tr>\n",
       "      <th>58</th>\n",
       "      <td>Crime</td>\n",
       "      <td>[medina, man, use, trash, hide, smell, daughte...</td>\n",
       "      <td>crime</td>\n",
       "    </tr>\n",
       "    <tr>\n",
       "      <th>60</th>\n",
       "      <td>Entertainment</td>\n",
       "      <td>[best, cast, director]</td>\n",
       "      <td>MyEmmyNominationWouldBe</td>\n",
       "    </tr>\n",
       "    <tr>\n",
       "      <th>67</th>\n",
       "      <td>Entertainment</td>\n",
       "      <td>[take, hand, add, plan]</td>\n",
       "      <td>rap</td>\n",
       "    </tr>\n",
       "    <tr>\n",
       "      <th>71</th>\n",
       "      <td>Anti-Trump</td>\n",
       "      <td>[voting, voting, gop, nominee, vote, htt]</td>\n",
       "      <td>NeverHillary</td>\n",
       "    </tr>\n",
       "  </tbody>\n",
       "</table>\n",
       "</div>"
      ],
      "text/plain": [
       "            Topic                                         tweet_text  \\\n",
       "33           News             [john, carroll, university, get, gift]   \n",
       "34           News      [spring, cook, book, healthy, chocolate, bar]   \n",
       "37           News  [rocky, river, prepare, more, flooding, city, ...   \n",
       "39           News  [forecast, cooler, mid, week, cooler, isolated...   \n",
       "40           News       [brother, farook, decorate, veteran, killer]   \n",
       "42           News  [arrest, connection, art, festival, theft, arr...   \n",
       "44           News  [director, craven, die, scream, filmmaker, die...   \n",
       "45         Sports  [secretariat, dominate, american, pharoah, bel...   \n",
       "46           News         [black, box, miss, german, airline, crash]   \n",
       "48         Sports  [dale, earnhardt, get, engage, girlfriend, amy...   \n",
       "50         Sports  [brown, mingo, undergo, surgery, brown, lineba...   \n",
       "51           News                       [avenger, explode, thursday]   \n",
       "52          Crime  [clean, sweep, vacuum, cleaner, thief, mayfiel...   \n",
       "53           News  [state, senate, expect, vote, common, core, bill]   \n",
       "56         Sports  [johns, take, trust, new, report, look, nfls, ...   \n",
       "57          Crime  [cleveland, height, police, look, man, shot, h...   \n",
       "58          Crime  [medina, man, use, trash, hide, smell, daughte...   \n",
       "60  Entertainment                             [best, cast, director]   \n",
       "67  Entertainment                            [take, hand, add, plan]   \n",
       "71     Anti-Trump          [voting, voting, gop, nominee, vote, htt]   \n",
       "\n",
       "                    hashtag  \n",
       "33                     news  \n",
       "34                    local  \n",
       "37                     news  \n",
       "39                     news  \n",
       "40                  TopNews  \n",
       "42                     news  \n",
       "44                     news  \n",
       "45                   sports  \n",
       "46                    local  \n",
       "48                   sports  \n",
       "50                   sports  \n",
       "51                    local  \n",
       "52                    crime  \n",
       "53                    local  \n",
       "56                   sports  \n",
       "57                    crime  \n",
       "58                    crime  \n",
       "60  MyEmmyNominationWouldBe  \n",
       "67                      rap  \n",
       "71             NeverHillary  "
      ]
     },
     "execution_count": 81,
     "metadata": {},
     "output_type": "execute_result"
    }
   ],
   "source": [
    "df['hashtag'] = realHashes\n",
    "df.head(20)"
   ]
  },
  {
   "cell_type": "markdown",
   "metadata": {},
   "source": [
    "#### build hashtag to topic table"
   ]
  },
  {
   "cell_type": "code",
   "execution_count": 95,
   "metadata": {},
   "outputs": [],
   "source": [
    "hash2topic = {\n",
    "    'news':'News',\n",
    "    'local':'News',\n",
    "    'isis':'News',\n",
    "    'world':'News',\n",
    "    'breaking':'News',\n",
    "    'business':'News',\n",
    "    'TopNews':'News',\n",
    "    'Breaking':'News',\n",
    "    'money':'News',\n",
    "    'FukushimaAgain':'Fukushima',\n",
    "    'Fukushima2015':'Fukushima',\n",
    "    'FUKUSHIMA2015':'Fukushima',\n",
    "    'fukushima2015':'Fukushima',\n",
    "    'crime':'Crime',\n",
    "    'PoliceBrutality':'Crime',\n",
    "    'NRA':'Patriot',\n",
    "    'USFA':'Patriot',\n",
    "    'nra':'Patriot',\n",
    "    'pjnet':'Patriot',\n",
    "    'PJNET':'Patriot',\n",
    "    'ArmyWomenProblems':'Patriot',\n",
    "    '2A':'Patriot',\n",
    "    'ISIS':'Anti-Islam',\n",
    "    'IslamKills':'Anti-Islam',\n",
    "    'StopIslam':'Anti-Islam',\n",
    "    'Hillary':'Anti-Trump',\n",
    "    'ThingsMoreTrustedThanHillary':'Anti-Trump',\n",
    "    'NeverHillary':'Anti-Trump',\n",
    "    'ARRESTObama':'Anti-Trump',\n",
    "    'LockHerUp':'Anti-Trump',\n",
    "    'ObamaWishlist':'Anti-Trump',\n",
    "    'Obama':'Anti-Trump',\n",
    "    'ObamaLameDuck':'Anti-Trump',\n",
    "    'CrookedHillary':'Anti-Trump',\n",
    "    'isis':'Foreign Countries',\n",
    "    'Syria':'Foreign Countries',\n",
    "    'Turkey':'Foreign Countries',\n",
    "    'nukraine':'Foreign Countries',\n",
    "    'Brussels':'Foreign Countries',\n",
    "    'Russia':'Foreign Countries',\n",
    "    'Iraq':'Foreign Countries',\n",
    "    'entertainment':'Entertainment',\n",
    "    'celebs':'Entertainment',\n",
    "    'NowPlaying':'Entertainment',\n",
    "    'Showbiz':'Entertainment',\n",
    "    'RAP':'Entertainment',\n",
    "    'life':'Entertainment',\n",
    "    'Music':'Entertainment',\n",
    "    'showbiz':'Entertainment',\n",
    "    'MyEmmyNominationWouldBe':'Entertainment',\n",
    "    'soundcloud':'Entertainment',\n",
    "    'IHatePokemonGoBecause':'Entertainment',\n",
    "    'iTunes':'Entertainment',\n",
    "    'rap':'Entertainment',\n",
    "    'BlackLivesMatter':'Black Support',\n",
    "    'BlackTwitter':'Black Support',\n",
    "    'blacklivesmatter':'Black Support',\n",
    "    'BlackHistoryMonth':'Black Support',\n",
    "    'BlackSkinIsNotACrime':'Black Support',\n",
    "    'BLM':'Black Support',\n",
    "    'BlackToLive':'Black Support',\n",
    "    'blacktwitter':'Black Support',\n",
    "    'blacktolive':'Black Support',\n",
    "    'ICelebrateTrumpWith':'Trump Support',\n",
    "    'MAGA':'Trump Support',\n",
    "    'WakeUpAmerica':'Trump Support',\n",
    "    'MakeAmericaGreatAgain':'Trump Support',\n",
    "    'TrumpTrain':'Trump Support',\n",
    "    'Trump2016':'Trump Support',\n",
    "    'maga':'Trump Support',\n",
    "    'tcot':'Trump Support',\n",
    "    'TCOT':'Trump Support',\n",
    "    'GOP':'Trump Support',\n",
    "    'GOPDebate':'Trump Support',\n",
    "    'ccot':'Trump Support',\n",
    "    'AmericaFirst':'Trump Support',\n",
    "    'TrumpForPresident':'Trump Support',\n",
    "    'TrumpBecause':'Trump Support',\n",
    "    'health':'Health',\n",
    "    'environment':'Health',\n",
    "    'sports':'Sports',\n",
    "    'hockey':'Sports',\n",
    "    'Hockey':'Sports',\n",
    "    'baseball':'Sports',\n",
    "    'Sports':'Sports',\n",
    "    'MyOlympicSportWouldBe':'Sports',\n",
    "}"
   ]
  },
  {
   "cell_type": "code",
   "execution_count": 83,
   "metadata": {},
   "outputs": [],
   "source": [
    "hash2topicDF = pd.DataFrame(list(hash2topic.values()), list(hash2topic.keys()))"
   ]
  },
  {
   "cell_type": "code",
   "execution_count": 84,
   "metadata": {},
   "outputs": [
    {
     "data": {
      "text/plain": [
       "80"
      ]
     },
     "execution_count": 84,
     "metadata": {},
     "output_type": "execute_result"
    }
   ],
   "source": [
    "hash2topicDF.columns = ['category']\n",
    "hash2topicDF.category.value_counts().sum()"
   ]
  },
  {
   "cell_type": "code",
   "execution_count": 96,
   "metadata": {},
   "outputs": [],
   "source": [
    "df['NewCategories']=df.hashtag.apply(lambda x: hash2topic[x])"
   ]
  },
  {
   "cell_type": "code",
   "execution_count": 102,
   "metadata": {},
   "outputs": [
    {
     "data": {
      "text/html": [
       "<div>\n",
       "<style scoped>\n",
       "    .dataframe tbody tr th:only-of-type {\n",
       "        vertical-align: middle;\n",
       "    }\n",
       "\n",
       "    .dataframe tbody tr th {\n",
       "        vertical-align: top;\n",
       "    }\n",
       "\n",
       "    .dataframe thead th {\n",
       "        text-align: right;\n",
       "    }\n",
       "</style>\n",
       "<table border=\"1\" class=\"dataframe\">\n",
       "  <thead>\n",
       "    <tr style=\"text-align: right;\">\n",
       "      <th></th>\n",
       "      <th>Topic</th>\n",
       "      <th>tweet_text</th>\n",
       "      <th>hashtag</th>\n",
       "    </tr>\n",
       "  </thead>\n",
       "  <tbody>\n",
       "    <tr>\n",
       "      <th>33</th>\n",
       "      <td>News</td>\n",
       "      <td>[john, carroll, university, get, gift]</td>\n",
       "      <td>news</td>\n",
       "    </tr>\n",
       "    <tr>\n",
       "      <th>34</th>\n",
       "      <td>News</td>\n",
       "      <td>[spring, cook, book, healthy, chocolate, bar]</td>\n",
       "      <td>local</td>\n",
       "    </tr>\n",
       "    <tr>\n",
       "      <th>37</th>\n",
       "      <td>News</td>\n",
       "      <td>[rocky, river, prepare, more, flooding, city, ...</td>\n",
       "      <td>news</td>\n",
       "    </tr>\n",
       "    <tr>\n",
       "      <th>39</th>\n",
       "      <td>News</td>\n",
       "      <td>[forecast, cooler, mid, week, cooler, isolated...</td>\n",
       "      <td>news</td>\n",
       "    </tr>\n",
       "    <tr>\n",
       "      <th>40</th>\n",
       "      <td>News</td>\n",
       "      <td>[brother, farook, decorate, veteran, killer]</td>\n",
       "      <td>TopNews</td>\n",
       "    </tr>\n",
       "  </tbody>\n",
       "</table>\n",
       "</div>"
      ],
      "text/plain": [
       "   Topic                                         tweet_text  hashtag\n",
       "33  News             [john, carroll, university, get, gift]     news\n",
       "34  News      [spring, cook, book, healthy, chocolate, bar]    local\n",
       "37  News  [rocky, river, prepare, more, flooding, city, ...     news\n",
       "39  News  [forecast, cooler, mid, week, cooler, isolated...     news\n",
       "40  News       [brother, farook, decorate, veteran, killer]  TopNews"
      ]
     },
     "execution_count": 102,
     "metadata": {},
     "output_type": "execute_result"
    }
   ],
   "source": [
    "df = df.drop('NewCategories', axis=1)\n",
    "df.head()"
   ]
  },
  {
   "cell_type": "code",
   "execution_count": 178,
   "metadata": {},
   "outputs": [
    {
     "data": {
      "text/plain": [
       "['margaret',\n",
       " 'gaffney',\n",
       " 'haughery',\n",
       " 'statue',\n",
       " 'restoration',\n",
       " 'celebrate',\n",
       " 'thursday']"
      ]
     },
     "execution_count": 178,
     "metadata": {},
     "output_type": "execute_result"
    }
   ],
   "source": [
    "df.tweet_text.iloc[159080]"
   ]
  },
  {
   "cell_type": "code",
   "execution_count": 103,
   "metadata": {},
   "outputs": [],
   "source": [
    "df.to_csv('tweets_n_hashtags.csv')"
   ]
  },
  {
   "cell_type": "code",
   "execution_count": 104,
   "metadata": {},
   "outputs": [
    {
     "data": {
      "text/plain": [
       "(738502, 3)"
      ]
     },
     "execution_count": 104,
     "metadata": {},
     "output_type": "execute_result"
    }
   ],
   "source": [
    "df.shape"
   ]
  },
  {
   "cell_type": "code",
   "execution_count": 77,
   "metadata": {},
   "outputs": [
    {
     "data": {
      "text/plain": [
       "News                  1.908644\n",
       "Sports                6.774937\n",
       "Entertainment        13.805582\n",
       "Trump Support        14.152970\n",
       "Black Support        28.066051\n",
       "Fukushima            30.912599\n",
       "Health               33.586593\n",
       "Patriot              38.143794\n",
       "Anti-Trump           49.687277\n",
       "Crime                67.616004\n",
       "Anti-Islam           72.730156\n",
       "Foreign Countries    78.497236\n",
       "Name: Topic, dtype: float64"
      ]
     },
     "execution_count": 77,
     "metadata": {},
     "output_type": "execute_result"
    }
   ],
   "source": [
    "(df.Topic.value_counts()/df.Topic.value_counts().sum())**(-1)"
   ]
  },
  {
   "cell_type": "code",
   "execution_count": 114,
   "metadata": {},
   "outputs": [
    {
     "data": {
      "text/plain": [
       "array([     33,      34,      37, ..., 2150849, 2150857, 2150867], dtype=int64)"
      ]
     },
     "execution_count": 114,
     "metadata": {},
     "output_type": "execute_result"
    }
   ],
   "source": [
    "df.index.values"
   ]
  },
  {
   "cell_type": "code",
   "execution_count": 117,
   "metadata": {},
   "outputs": [
    {
     "data": {
      "text/plain": [
       "738502"
      ]
     },
     "execution_count": 117,
     "metadata": {},
     "output_type": "execute_result"
    }
   ],
   "source": [
    "len(df.index.values)"
   ]
  },
  {
   "cell_type": "code",
   "execution_count": 131,
   "metadata": {},
   "outputs": [],
   "source": [
    "test_indices = np.random.choice(df.index.values, size=round(len(df.index.values)*0.2), replace=False)"
   ]
  },
  {
   "cell_type": "code",
   "execution_count": 132,
   "metadata": {},
   "outputs": [
    {
     "data": {
      "text/plain": [
       "147700"
      ]
     },
     "execution_count": 132,
     "metadata": {},
     "output_type": "execute_result"
    }
   ],
   "source": [
    "len(test_indices)"
   ]
  },
  {
   "cell_type": "code",
   "execution_count": 133,
   "metadata": {},
   "outputs": [
    {
     "data": {
      "text/plain": [
       "(147700,)"
      ]
     },
     "execution_count": 133,
     "metadata": {},
     "output_type": "execute_result"
    }
   ],
   "source": [
    "np.unique(test_indices).shape"
   ]
  },
  {
   "cell_type": "code",
   "execution_count": 138,
   "metadata": {},
   "outputs": [
    {
     "data": {
      "text/plain": [
       "0.19999945836301053"
      ]
     },
     "execution_count": 138,
     "metadata": {},
     "output_type": "execute_result"
    }
   ],
   "source": [
    "len(test_indices)/len(df.index.values)"
   ]
  },
  {
   "cell_type": "code",
   "execution_count": 148,
   "metadata": {},
   "outputs": [
    {
     "name": "stderr",
     "output_type": "stream",
     "text": [
      "C:\\Users\\utente\\Anaconda3\\envs\\ada\\lib\\site-packages\\ipykernel_launcher.py:1: DeprecationWarning: elementwise == comparison failed; this will raise an error in the future.\n",
      "  \"\"\"Entry point for launching an IPython kernel.\n"
     ]
    }
   ],
   "source": [
    "train_indices = np.delete(df.index.values, np.where(df.index.values == test_indices))"
   ]
  },
  {
   "cell_type": "code",
   "execution_count": 149,
   "metadata": {},
   "outputs": [
    {
     "data": {
      "text/plain": [
       "738502"
      ]
     },
     "execution_count": 149,
     "metadata": {},
     "output_type": "execute_result"
    }
   ],
   "source": [
    "len(train_indices)"
   ]
  },
  {
   "cell_type": "code",
   "execution_count": 159,
   "metadata": {},
   "outputs": [],
   "source": [
    "np.save('test_indices', test_indices)"
   ]
  },
  {
   "cell_type": "markdown",
   "metadata": {},
   "source": [
    "# Trying to make sense of it"
   ]
  },
  {
   "cell_type": "code",
   "execution_count": 56,
   "metadata": {},
   "outputs": [],
   "source": [
    "from collections import Counter\n",
    "\n",
    "vocab = Counter()\n",
    "\n",
    "for text in df.tweet_text:\n",
    "    for word in text: ## change this because the texts are already a list of words\n",
    "        vocab[word.lower()]+=1\n",
    "\n",
    "total_words = len(vocab)\n",
    "\n",
    "def get_word_2_index(vocab):\n",
    "    word2index = {}\n",
    "    for i,word in enumerate(vocab):\n",
    "        word2index[word.lower()] = i\n",
    "\n",
    "    return word2index\n",
    "\n",
    "word2index = get_word_2_index(vocab)"
   ]
  },
  {
   "cell_type": "code",
   "execution_count": 57,
   "metadata": {},
   "outputs": [],
   "source": [
    "corpus = []"
   ]
  },
  {
   "cell_type": "code",
   "execution_count": 58,
   "metadata": {},
   "outputs": [
    {
     "name": "stdout",
     "output_type": "stream",
     "text": [
      "['john', 'carroll']\n"
     ]
    }
   ],
   "source": [
    "df.tweet_text.apply(lambda x: corpus.extend(x))\n",
    "print(corpus[0:2])"
   ]
  },
  {
   "cell_type": "code",
   "execution_count": 59,
   "metadata": {},
   "outputs": [
    {
     "data": {
      "text/plain": [
       "4674565"
      ]
     },
     "execution_count": 59,
     "metadata": {},
     "output_type": "execute_result"
    }
   ],
   "source": [
    "len(corpus)"
   ]
  },
  {
   "cell_type": "code",
   "execution_count": 62,
   "metadata": {},
   "outputs": [
    {
     "data": {
      "text/plain": [
       "(array([  6.61010000e+04,   1.27000000e+02,   3.90000000e+01,\n",
       "          1.10000000e+01,   4.00000000e+00,   2.00000000e+00,\n",
       "          0.00000000e+00,   0.00000000e+00,   0.00000000e+00,\n",
       "          2.00000000e+00]),\n",
       " array([  1.00000000e+00,   3.56310000e+03,   7.12520000e+03,\n",
       "          1.06873000e+04,   1.42494000e+04,   1.78115000e+04,\n",
       "          2.13736000e+04,   2.49357000e+04,   2.84978000e+04,\n",
       "          3.20599000e+04,   3.56220000e+04]),\n",
       " <a list of 10 Patch objects>)"
      ]
     },
     "execution_count": 62,
     "metadata": {},
     "output_type": "execute_result"
    },
    {
     "data": {
      "image/png": "[encoded data removed]",
      "text/plain": [
       "<Figure size 432x288 with 1 Axes>"
      ]
     },
     "metadata": {
      "needs_background": "light"
     },
     "output_type": "display_data"
    }
   ],
   "source": [
    "unique, counts = np.unique(corpus, return_counts=True)\n"
   ]
  },
  {
   "cell_type": "code",
   "execution_count": 66,
   "metadata": {},
   "outputs": [
    {
     "data": {
      "image/png": "[encoded data removed]",
      "text/plain": [
       "<Figure size 432x288 with 1 Axes>"
      ]
     },
     "metadata": {
      "needs_background": "light"
     },
     "output_type": "display_data"
    }
   ],
   "source": [
    "plt.hist(counts, bins=np.logspace(np.log10(1),np.log10(35000)), log=True)\n",
    "plt.xscale('log')\n",
    "plt.show()"
   ]
  },
  {
   "cell_type": "code",
   "execution_count": 43,
   "metadata": {},
   "outputs": [],
   "source": [
    "corpus = np.unique(corpus)"
   ]
  },
  {
   "cell_type": "code",
   "execution_count": 68,
   "metadata": {},
   "outputs": [],
   "source": [
    "from sklearn.linear_model import LogisticRegression\n",
    "\n",
    "LogisticRegression"
   ]
  },
  {
   "cell_type": "code",
   "execution_count": 44,
   "metadata": {
    "scrolled": true
   },
   "outputs": [
    {
     "data": {
      "text/plain": [
       "66286"
      ]
     },
     "execution_count": 44,
     "metadata": {},
     "output_type": "execute_result"
    }
   ],
   "source": [
    "len(corpus)"
   ]
  },
  {
   "cell_type": "code",
   "execution_count": null,
   "metadata": {},
   "outputs": [],
   "source": []
  },
  {
   "cell_type": "code",
   "execution_count": 45,
   "metadata": {},
   "outputs": [],
   "source": [
    "from sklearn.preprocessing import Binarizer\n",
    "from sklearn.feature_extraction.text import CountVectorizer\n",
    "\n",
    "freq   = CountVectorizer()\n",
    "corpus = freq.fit_transform(corpus)"
   ]
  },
  {
   "cell_type": "markdown",
   "metadata": {},
   "source": [
    "# Extract words"
   ]
  },
  {
   "cell_type": "code",
   "execution_count": 55,
   "metadata": {},
   "outputs": [
    {
     "data": {
      "text/plain": [
       "33                    [john, carroll, university, get, gift]\n",
       "34             [spring, cook, book, healthy, chocolate, bar]\n",
       "37         [rocky, river, prepare, more, flooding, city, ...\n",
       "39         [forecast, cooler, mid, week, cooler, isolated...\n",
       "40              [brother, farook, decorate, veteran, killer]\n",
       "42         [arrest, connection, art, festival, theft, arr...\n",
       "44         [director, craven, die, scream, filmmaker, die...\n",
       "46                [black, box, miss, german, airline, crash]\n",
       "51                              [avenger, explode, thursday]\n",
       "53         [state, senate, expect, vote, common, core, bill]\n",
       "89         [richard, kivett, elected, mayor, village, sun...\n",
       "102           [yeman, fighter, take, aden, tawahi, district]\n",
       "103           [yeman, fighter, take, aden, tawahi, district]\n",
       "104        [agriculture, equestrian, center, take, shape,...\n",
       "105        [agriculture, equestrian, center, take, shape,...\n",
       "106        [arrest, polouse, drive, stolen, vehicle, dwi,...\n",
       "107        [saint, patriot, joint, practice, bring, chang...\n",
       "110                        [clinton, campaign, arrest, make]\n",
       "121        [pesticide, eye, brazilian, birth, defect, new...\n",
       "125        [movie, tavern, open, baton, area, dine, theat...\n",
       "127        [criminal, probe, miss, bernard, parish, recre...\n",
       "129        [arranged, marriage, iran, end, brutal, baton,...\n",
       "131                      [new, orlean, business, make, move]\n",
       "132        [louisiana, follow, new, jersey, lead, come, a...\n",
       "133        [mother, indicted, death, newborn, found, year...\n",
       "134        [plaquemine, parish, ferry, toll, increase, fe...\n",
       "135                   [rapper, murder, offer, witness, teen]\n",
       "136        [clear, scientology, prison, belief, read, oth...\n",
       "137        [eastern, new, orleans, boy, rob, gunpoint, ex...\n",
       "138            [texas, bowl, lsu, gameday, preview, podcast]\n",
       "                                 ...                        \n",
       "2149712    [head, start, meet, controversial, federal, cl...\n",
       "2149738    [bush, suspend, campaign, poor, finish, south,...\n",
       "2149756                [black, blue, division, turn, purple]\n",
       "2149757    [week, golf, davis, love, get, greensboro, hat...\n",
       "2149759    [office, warn, scam, artist, try, take, advant...\n",
       "2149777    [forecast, beautiful, weekend, tap, greater, c...\n",
       "2149778        [liberty, twp, put, spending, record, online]\n",
       "2149779          [subzero, temps, stop, bicycling, commuter]\n",
       "2149780            [blank, slate, orchid, collaborate, beer]\n",
       "2149798    [big, tech, company, join, apple, encryption, ...\n",
       "2149803    [listen, big, nevawski, chicago, hockey, podcast]\n",
       "2149805    [reporter, photographer, kill, virginia, shoot...\n",
       "2149810    [walgreen, insurer, push, expansion, virtual, ...\n",
       "2149811         [thorson, tds, northwestern, top, minnesota]\n",
       "2149813    [obama, library, news, bring, elation, south, ...\n",
       "2149815    [space, station, grocery, run, include, italia...\n",
       "2149816    [twitter, war, candidate, wield, social, mediu...\n",
       "2149818    [subway, spokesman, fogle, set, sentenced, sex...\n",
       "2149819                    [winter, kill, test, kansa, crop]\n",
       "2149831    [latest, asian, stock, strongly, fed, rate, hi...\n",
       "2149865    [local, chicagoan, reach, help, victim, nepal,...\n",
       "2149892     [profit, slump, corporate, earning, first, time]\n",
       "2149907                    [lafley, receive, mark, employee]\n",
       "2149908                         [cvg, board, overhaul, deal]\n",
       "2149951             [matty, call, issue, miss, atlanta, man]\n",
       "2149981      [san, francisco, police, investigate, shooting]\n",
       "2149982     [peorium, host, dog, spring, training, ballpark]\n",
       "2149983     [peorium, host, dog, spring, training, ballpark]\n",
       "2150614      [refuse, reveal, source, wont, seem, confident]\n",
       "2150669    [clinton, campaign, manager, robby, mook, pred...\n",
       "Name: tweet_text, Length: 386925, dtype: object"
      ]
     },
     "execution_count": 55,
     "metadata": {},
     "output_type": "execute_result"
    }
   ],
   "source": [
    "df[df.Topic == 'News'].tweet_text"
   ]
  }
 ],
 "metadata": {
  "kernelspec": {
   "display_name": "Python 3",
   "language": "python",
   "name": "python3"
  },
  "language_info": {
   "codemirror_mode": {
    "name": "ipython",
    "version": 3
   },
   "file_extension": ".py",
   "mimetype": "text/x-python",
   "name": "python",
   "nbconvert_exporter": "python",
   "pygments_lexer": "ipython3",
   "version": "3.6.6"
  }
 },
 "nbformat": 4,
 "nbformat_minor": 2
}
