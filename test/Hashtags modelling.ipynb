{
 "cells": [
  {
   "cell_type": "code",
   "execution_count": 153,
   "metadata": {},
   "outputs": [],
   "source": [
    "import pandas as pd\n",
    "import numpy as np\n",
    "import re\n",
    "from helpers import *\n",
    "import matplotlib.pyplot as plt"
   ]
  },
  {
   "cell_type": "code",
   "execution_count": 63,
   "metadata": {},
   "outputs": [],
   "source": [
    "df = pd.read_csv(access_folder(folder_name='generated') + 'tweets_n_hashtags.csv', index_col = 0)"
   ]
  },
  {
   "cell_type": "code",
   "execution_count": 64,
   "metadata": {},
   "outputs": [],
   "source": [
    "import ast\n",
    "df.tweet_text = df.tweet_text.apply(ast.literal_eval)"
   ]
  },
  {
   "cell_type": "code",
   "execution_count": 75,
   "metadata": {},
   "outputs": [
    {
     "data": {
      "text/html": [
       "<div>\n",
       "<style scoped>\n",
       "    .dataframe tbody tr th:only-of-type {\n",
       "        vertical-align: middle;\n",
       "    }\n",
       "\n",
       "    .dataframe tbody tr th {\n",
       "        vertical-align: top;\n",
       "    }\n",
       "\n",
       "    .dataframe thead th {\n",
       "        text-align: right;\n",
       "    }\n",
       "</style>\n",
       "<table border=\"1\" class=\"dataframe\">\n",
       "  <thead>\n",
       "    <tr style=\"text-align: right;\">\n",
       "      <th></th>\n",
       "      <th>Topic</th>\n",
       "      <th>tweet_text</th>\n",
       "    </tr>\n",
       "  </thead>\n",
       "  <tbody>\n",
       "    <tr>\n",
       "      <th>33</th>\n",
       "      <td>News</td>\n",
       "      <td>[john, carroll, university, get, gift]</td>\n",
       "    </tr>\n",
       "    <tr>\n",
       "      <th>34</th>\n",
       "      <td>News</td>\n",
       "      <td>[spring, cook, book, healthy, chocolate, bar]</td>\n",
       "    </tr>\n",
       "    <tr>\n",
       "      <th>37</th>\n",
       "      <td>News</td>\n",
       "      <td>[rocky, river, prepare, more, flooding, city, ...</td>\n",
       "    </tr>\n",
       "    <tr>\n",
       "      <th>39</th>\n",
       "      <td>News</td>\n",
       "      <td>[forecast, cooler, mid, week, cooler, isolated...</td>\n",
       "    </tr>\n",
       "    <tr>\n",
       "      <th>40</th>\n",
       "      <td>News</td>\n",
       "      <td>[brother, farook, decorate, veteran, killer]</td>\n",
       "    </tr>\n",
       "  </tbody>\n",
       "</table>\n",
       "</div>"
      ],
      "text/plain": [
       "   Topic                                         tweet_text\n",
       "33  News             [john, carroll, university, get, gift]\n",
       "34  News      [spring, cook, book, healthy, chocolate, bar]\n",
       "37  News  [rocky, river, prepare, more, flooding, city, ...\n",
       "39  News  [forecast, cooler, mid, week, cooler, isolated...\n",
       "40  News       [brother, farook, decorate, veteran, killer]"
      ]
     },
     "execution_count": 75,
     "metadata": {},
     "output_type": "execute_result"
    }
   ],
   "source": [
    "df.columns = ['Topic', 'tweet_text']\n",
    "df.head()"
   ]
  },
  {
   "cell_type": "code",
   "execution_count": 78,
   "metadata": {},
   "outputs": [
    {
     "data": {
      "text/html": [
       "<div>\n",
       "<style scoped>\n",
       "    .dataframe tbody tr th:only-of-type {\n",
       "        vertical-align: middle;\n",
       "    }\n",
       "\n",
       "    .dataframe tbody tr th {\n",
       "        vertical-align: top;\n",
       "    }\n",
       "\n",
       "    .dataframe thead th {\n",
       "        text-align: right;\n",
       "    }\n",
       "</style>\n",
       "<table border=\"1\" class=\"dataframe\">\n",
       "  <thead>\n",
       "    <tr style=\"text-align: right;\">\n",
       "      <th></th>\n",
       "      <th>Hashtags</th>\n",
       "    </tr>\n",
       "    <tr>\n",
       "      <th>0</th>\n",
       "      <th></th>\n",
       "    </tr>\n",
       "  </thead>\n",
       "  <tbody>\n",
       "    <tr>\n",
       "      <th>33</th>\n",
       "      <td>news</td>\n",
       "    </tr>\n",
       "    <tr>\n",
       "      <th>34</th>\n",
       "      <td>local</td>\n",
       "    </tr>\n",
       "    <tr>\n",
       "      <th>37</th>\n",
       "      <td>news</td>\n",
       "    </tr>\n",
       "    <tr>\n",
       "      <th>39</th>\n",
       "      <td>news</td>\n",
       "    </tr>\n",
       "    <tr>\n",
       "      <th>40</th>\n",
       "      <td>TopNews</td>\n",
       "    </tr>\n",
       "  </tbody>\n",
       "</table>\n",
       "</div>"
      ],
      "text/plain": [
       "   Hashtags\n",
       "0          \n",
       "33     news\n",
       "34    local\n",
       "37     news\n",
       "39     news\n",
       "40  TopNews"
      ]
     },
     "execution_count": 78,
     "metadata": {},
     "output_type": "execute_result"
    }
   ],
   "source": [
    "realHashes = pd.read_csv('hashtagsIndices.csv', index_col=0,  header=None)\n",
    "realHashes.columns = ['Hashtags']\n",
    "realHashes.head()"
   ]
  },
  {
   "cell_type": "code",
   "execution_count": 81,
   "metadata": {},
   "outputs": [
    {
     "data": {
      "text/html": [
       "<div>\n",
       "<style scoped>\n",
       "    .dataframe tbody tr th:only-of-type {\n",
       "        vertical-align: middle;\n",
       "    }\n",
       "\n",
       "    .dataframe tbody tr th {\n",
       "        vertical-align: top;\n",
       "    }\n",
       "\n",
       "    .dataframe thead th {\n",
       "        text-align: right;\n",
       "    }\n",
       "</style>\n",
       "<table border=\"1\" class=\"dataframe\">\n",
       "  <thead>\n",
       "    <tr style=\"text-align: right;\">\n",
       "      <th></th>\n",
       "      <th>Topic</th>\n",
       "      <th>tweet_text</th>\n",
       "      <th>hashtag</th>\n",
       "    </tr>\n",
       "  </thead>\n",
       "  <tbody>\n",
       "    <tr>\n",
       "      <th>33</th>\n",
       "      <td>News</td>\n",
       "      <td>[john, carroll, university, get, gift]</td>\n",
       "      <td>news</td>\n",
       "    </tr>\n",
       "    <tr>\n",
       "      <th>34</th>\n",
       "      <td>News</td>\n",
       "      <td>[spring, cook, book, healthy, chocolate, bar]</td>\n",
       "      <td>local</td>\n",
       "    </tr>\n",
       "    <tr>\n",
       "      <th>37</th>\n",
       "      <td>News</td>\n",
       "      <td>[rocky, river, prepare, more, flooding, city, ...</td>\n",
       "      <td>news</td>\n",
       "    </tr>\n",
       "    <tr>\n",
       "      <th>39</th>\n",
       "      <td>News</td>\n",
       "      <td>[forecast, cooler, mid, week, cooler, isolated...</td>\n",
       "      <td>news</td>\n",
       "    </tr>\n",
       "    <tr>\n",
       "      <th>40</th>\n",
       "      <td>News</td>\n",
       "      <td>[brother, farook, decorate, veteran, killer]</td>\n",
       "      <td>TopNews</td>\n",
       "    </tr>\n",
       "    <tr>\n",
       "      <th>42</th>\n",
       "      <td>News</td>\n",
       "      <td>[arrest, connection, art, festival, theft, arr...</td>\n",
       "      <td>news</td>\n",
       "    </tr>\n",
       "    <tr>\n",
       "      <th>44</th>\n",
       "      <td>News</td>\n",
       "      <td>[director, craven, die, scream, filmmaker, die...</td>\n",
       "      <td>news</td>\n",
       "    </tr>\n",
       "    <tr>\n",
       "      <th>45</th>\n",
       "      <td>Sports</td>\n",
       "      <td>[secretariat, dominate, american, pharoah, bel...</td>\n",
       "      <td>sports</td>\n",
       "    </tr>\n",
       "    <tr>\n",
       "      <th>46</th>\n",
       "      <td>News</td>\n",
       "      <td>[black, box, miss, german, airline, crash]</td>\n",
       "      <td>local</td>\n",
       "    </tr>\n",
       "    <tr>\n",
       "      <th>48</th>\n",
       "      <td>Sports</td>\n",
       "      <td>[dale, earnhardt, get, engage, girlfriend, amy...</td>\n",
       "      <td>sports</td>\n",
       "    </tr>\n",
       "    <tr>\n",
       "      <th>50</th>\n",
       "      <td>Sports</td>\n",
       "      <td>[brown, mingo, undergo, surgery, brown, lineba...</td>\n",
       "      <td>sports</td>\n",
       "    </tr>\n",
       "    <tr>\n",
       "      <th>51</th>\n",
       "      <td>News</td>\n",
       "      <td>[avenger, explode, thursday]</td>\n",
       "      <td>local</td>\n",
       "    </tr>\n",
       "    <tr>\n",
       "      <th>52</th>\n",
       "      <td>Crime</td>\n",
       "      <td>[clean, sweep, vacuum, cleaner, thief, mayfiel...</td>\n",
       "      <td>crime</td>\n",
       "    </tr>\n",
       "    <tr>\n",
       "      <th>53</th>\n",
       "      <td>News</td>\n",
       "      <td>[state, senate, expect, vote, common, core, bill]</td>\n",
       "      <td>local</td>\n",
       "    </tr>\n",
       "    <tr>\n",
       "      <th>56</th>\n",
       "      <td>Sports</td>\n",
       "      <td>[johns, take, trust, new, report, look, nfls, ...</td>\n",
       "      <td>sports</td>\n",
       "    </tr>\n",
       "    <tr>\n",
       "      <th>57</th>\n",
       "      <td>Crime</td>\n",
       "      <td>[cleveland, height, police, look, man, shot, h...</td>\n",
       "      <td>crime</td>\n",
       "    </tr>\n",
       "    <tr>\n",
       "      <th>58</th>\n",
       "      <td>Crime</td>\n",
       "      <td>[medina, man, use, trash, hide, smell, daughte...</td>\n",
       "      <td>crime</td>\n",
       "    </tr>\n",
       "    <tr>\n",
       "      <th>60</th>\n",
       "      <td>Entertainment</td>\n",
       "      <td>[best, cast, director]</td>\n",
       "      <td>MyEmmyNominationWouldBe</td>\n",
       "    </tr>\n",
       "    <tr>\n",
       "      <th>67</th>\n",
       "      <td>Entertainment</td>\n",
       "      <td>[take, hand, add, plan]</td>\n",
       "      <td>rap</td>\n",
       "    </tr>\n",
       "    <tr>\n",
       "      <th>71</th>\n",
       "      <td>Anti-Trump</td>\n",
       "      <td>[voting, voting, gop, nominee, vote, htt]</td>\n",
       "      <td>NeverHillary</td>\n",
       "    </tr>\n",
       "  </tbody>\n",
       "</table>\n",
       "</div>"
      ],
      "text/plain": [
       "            Topic                                         tweet_text  \\\n",
       "33           News             [john, carroll, university, get, gift]   \n",
       "34           News      [spring, cook, book, healthy, chocolate, bar]   \n",
       "37           News  [rocky, river, prepare, more, flooding, city, ...   \n",
       "39           News  [forecast, cooler, mid, week, cooler, isolated...   \n",
       "40           News       [brother, farook, decorate, veteran, killer]   \n",
       "42           News  [arrest, connection, art, festival, theft, arr...   \n",
       "44           News  [director, craven, die, scream, filmmaker, die...   \n",
       "45         Sports  [secretariat, dominate, american, pharoah, bel...   \n",
       "46           News         [black, box, miss, german, airline, crash]   \n",
       "48         Sports  [dale, earnhardt, get, engage, girlfriend, amy...   \n",
       "50         Sports  [brown, mingo, undergo, surgery, brown, lineba...   \n",
       "51           News                       [avenger, explode, thursday]   \n",
       "52          Crime  [clean, sweep, vacuum, cleaner, thief, mayfiel...   \n",
       "53           News  [state, senate, expect, vote, common, core, bill]   \n",
       "56         Sports  [johns, take, trust, new, report, look, nfls, ...   \n",
       "57          Crime  [cleveland, height, police, look, man, shot, h...   \n",
       "58          Crime  [medina, man, use, trash, hide, smell, daughte...   \n",
       "60  Entertainment                             [best, cast, director]   \n",
       "67  Entertainment                            [take, hand, add, plan]   \n",
       "71     Anti-Trump          [voting, voting, gop, nominee, vote, htt]   \n",
       "\n",
       "                    hashtag  \n",
       "33                     news  \n",
       "34                    local  \n",
       "37                     news  \n",
       "39                     news  \n",
       "40                  TopNews  \n",
       "42                     news  \n",
       "44                     news  \n",
       "45                   sports  \n",
       "46                    local  \n",
       "48                   sports  \n",
       "50                   sports  \n",
       "51                    local  \n",
       "52                    crime  \n",
       "53                    local  \n",
       "56                   sports  \n",
       "57                    crime  \n",
       "58                    crime  \n",
       "60  MyEmmyNominationWouldBe  \n",
       "67                      rap  \n",
       "71             NeverHillary  "
      ]
     },
     "execution_count": 81,
     "metadata": {},
     "output_type": "execute_result"
    }
   ],
   "source": [
    "df['hashtag'] = realHashes\n",
    "df.head(20)"
   ]
  },
  {
   "cell_type": "markdown",
   "metadata": {},
   "source": [
    "#### build hashtag to topic table"
   ]
  },
  {
   "cell_type": "code",
   "execution_count": 95,
   "metadata": {},
   "outputs": [],
   "source": [
    "hash2topic = {\n",
    "    'news':'News',\n",
    "    'local':'News',\n",
    "    'isis':'News',\n",
    "    'world':'News',\n",
    "    'breaking':'News',\n",
    "    'business':'News',\n",
    "    'TopNews':'News',\n",
    "    'Breaking':'News',\n",
    "    'money':'News',\n",
    "    'FukushimaAgain':'Fukushima',\n",
    "    'Fukushima2015':'Fukushima',\n",
    "    'FUKUSHIMA2015':'Fukushima',\n",
    "    'fukushima2015':'Fukushima',\n",
    "    'crime':'Crime',\n",
    "    'PoliceBrutality':'Crime',\n",
    "    'NRA':'Patriot',\n",
    "    'USFA':'Patriot',\n",
    "    'nra':'Patriot',\n",
    "    'pjnet':'Patriot',\n",
    "    'PJNET':'Patriot',\n",
    "    'ArmyWomenProblems':'Patriot',\n",
    "    '2A':'Patriot',\n",
    "    'ISIS':'Anti-Islam',\n",
    "    'IslamKills':'Anti-Islam',\n",
    "    'StopIslam':'Anti-Islam',\n",
    "    'Hillary':'Anti-Trump',\n",
    "    'ThingsMoreTrustedThanHillary':'Anti-Trump',\n",
    "    'NeverHillary':'Anti-Trump',\n",
    "    'ARRESTObama':'Anti-Trump',\n",
    "    'LockHerUp':'Anti-Trump',\n",
    "    'ObamaWishlist':'Anti-Trump',\n",
    "    'Obama':'Anti-Trump',\n",
    "    'ObamaLameDuck':'Anti-Trump',\n",
    "    'CrookedHillary':'Anti-Trump',\n",
    "    'isis':'Foreign Countries',\n",
    "    'Syria':'Foreign Countries',\n",
    "    'Turkey':'Foreign Countries',\n",
    "    'nukraine':'Foreign Countries',\n",
    "    'Brussels':'Foreign Countries',\n",
    "    'Russia':'Foreign Countries',\n",
    "    'Iraq':'Foreign Countries',\n",
    "    'entertainment':'Entertainment',\n",
    "    'celebs':'Entertainment',\n",
    "    'NowPlaying':'Entertainment',\n",
    "    'Showbiz':'Entertainment',\n",
    "    'RAP':'Entertainment',\n",
    "    'life':'Entertainment',\n",
    "    'Music':'Entertainment',\n",
    "    'showbiz':'Entertainment',\n",
    "    'MyEmmyNominationWouldBe':'Entertainment',\n",
    "    'soundcloud':'Entertainment',\n",
    "    'IHatePokemonGoBecause':'Entertainment',\n",
    "    'iTunes':'Entertainment',\n",
    "    'rap':'Entertainment',\n",
    "    'BlackLivesMatter':'Black Support',\n",
    "    'BlackTwitter':'Black Support',\n",
    "    'blacklivesmatter':'Black Support',\n",
    "    'BlackHistoryMonth':'Black Support',\n",
    "    'BlackSkinIsNotACrime':'Black Support',\n",
    "    'BLM':'Black Support',\n",
    "    'BlackToLive':'Black Support',\n",
    "    'blacktwitter':'Black Support',\n",
    "    'blacktolive':'Black Support',\n",
    "    'ICelebrateTrumpWith':'Trump Support',\n",
    "    'MAGA':'Trump Support',\n",
    "    'WakeUpAmerica':'Trump Support',\n",
    "    'MakeAmericaGreatAgain':'Trump Support',\n",
    "    'TrumpTrain':'Trump Support',\n",
    "    'Trump2016':'Trump Support',\n",
    "    'maga':'Trump Support',\n",
    "    'tcot':'Trump Support',\n",
    "    'TCOT':'Trump Support',\n",
    "    'GOP':'Trump Support',\n",
    "    'GOPDebate':'Trump Support',\n",
    "    'ccot':'Trump Support',\n",
    "    'AmericaFirst':'Trump Support',\n",
    "    'TrumpForPresident':'Trump Support',\n",
    "    'TrumpBecause':'Trump Support',\n",
    "    'health':'Health',\n",
    "    'environment':'Health',\n",
    "    'sports':'Sports',\n",
    "    'hockey':'Sports',\n",
    "    'Hockey':'Sports',\n",
    "    'baseball':'Sports',\n",
    "    'Sports':'Sports',\n",
    "    'MyOlympicSportWouldBe':'Sports',\n",
    "}"
   ]
  },
  {
   "cell_type": "code",
   "execution_count": 83,
   "metadata": {},
   "outputs": [],
   "source": [
    "hash2topicDF = pd.DataFrame(list(hash2topic.values()), list(hash2topic.keys()))"
   ]
  },
  {
   "cell_type": "code",
   "execution_count": 84,
   "metadata": {},
   "outputs": [
    {
     "data": {
      "text/plain": [
       "80"
      ]
     },
     "execution_count": 84,
     "metadata": {},
     "output_type": "execute_result"
    }
   ],
   "source": [
    "hash2topicDF.columns = ['category']\n",
    "hash2topicDF.category.value_counts().sum()"
   ]
  },
  {
   "cell_type": "code",
   "execution_count": 96,
   "metadata": {},
   "outputs": [],
   "source": [
    "df['NewCategories']=df.hashtag.apply(lambda x: hash2topic[x])"
   ]
  },
  {
   "cell_type": "code",
   "execution_count": 102,
   "metadata": {},
   "outputs": [
    {
     "data": {
      "text/html": [
       "<div>\n",
       "<style scoped>\n",
       "    .dataframe tbody tr th:only-of-type {\n",
       "        vertical-align: middle;\n",
       "    }\n",
       "\n",
       "    .dataframe tbody tr th {\n",
       "        vertical-align: top;\n",
       "    }\n",
       "\n",
       "    .dataframe thead th {\n",
       "        text-align: right;\n",
       "    }\n",
       "</style>\n",
       "<table border=\"1\" class=\"dataframe\">\n",
       "  <thead>\n",
       "    <tr style=\"text-align: right;\">\n",
       "      <th></th>\n",
       "      <th>Topic</th>\n",
       "      <th>tweet_text</th>\n",
       "      <th>hashtag</th>\n",
       "    </tr>\n",
       "  </thead>\n",
       "  <tbody>\n",
       "    <tr>\n",
       "      <th>33</th>\n",
       "      <td>News</td>\n",
       "      <td>[john, carroll, university, get, gift]</td>\n",
       "      <td>news</td>\n",
       "    </tr>\n",
       "    <tr>\n",
       "      <th>34</th>\n",
       "      <td>News</td>\n",
       "      <td>[spring, cook, book, healthy, chocolate, bar]</td>\n",
       "      <td>local</td>\n",
       "    </tr>\n",
       "    <tr>\n",
       "      <th>37</th>\n",
       "      <td>News</td>\n",
       "      <td>[rocky, river, prepare, more, flooding, city, ...</td>\n",
       "      <td>news</td>\n",
       "    </tr>\n",
       "    <tr>\n",
       "      <th>39</th>\n",
       "      <td>News</td>\n",
       "      <td>[forecast, cooler, mid, week, cooler, isolated...</td>\n",
       "      <td>news</td>\n",
       "    </tr>\n",
       "    <tr>\n",
       "      <th>40</th>\n",
       "      <td>News</td>\n",
       "      <td>[brother, farook, decorate, veteran, killer]</td>\n",
       "      <td>TopNews</td>\n",
       "    </tr>\n",
       "  </tbody>\n",
       "</table>\n",
       "</div>"
      ],
      "text/plain": [
       "   Topic                                         tweet_text  hashtag\n",
       "33  News             [john, carroll, university, get, gift]     news\n",
       "34  News      [spring, cook, book, healthy, chocolate, bar]    local\n",
       "37  News  [rocky, river, prepare, more, flooding, city, ...     news\n",
       "39  News  [forecast, cooler, mid, week, cooler, isolated...     news\n",
       "40  News       [brother, farook, decorate, veteran, killer]  TopNews"
      ]
     },
     "execution_count": 102,
     "metadata": {},
     "output_type": "execute_result"
    }
   ],
   "source": [
    "df = df.drop('NewCategories', axis=1)\n",
    "df.head()"
   ]
  },
  {
   "cell_type": "code",
   "execution_count": 103,
   "metadata": {},
   "outputs": [],
   "source": [
    "df.to_csv('tweets_n_hashtags.csv')"
   ]
  },
  {
   "cell_type": "code",
   "execution_count": 104,
   "metadata": {},
   "outputs": [
    {
     "data": {
      "text/plain": [
       "(738502, 3)"
      ]
     },
     "execution_count": 104,
     "metadata": {},
     "output_type": "execute_result"
    }
   ],
   "source": [
    "df.shape"
   ]
  },
  {
   "cell_type": "code",
   "execution_count": 107,
   "metadata": {},
   "outputs": [
    {
     "data": {
      "text/plain": [
       "News                 52.393223\n",
       "Sports               14.760285\n",
       "Entertainment         7.243447\n",
       "Trump Support         7.065655\n",
       "Black Support         3.563024\n",
       "Fukushima             3.234927\n",
       "Health                2.977379\n",
       "Patriot               2.621658\n",
       "Anti-Trump            2.012588\n",
       "Crime                 1.478940\n",
       "Anti-Islam            1.374945\n",
       "Foreign Countries     1.273930\n",
       "Name: Topic, dtype: float64"
      ]
     },
     "execution_count": 107,
     "metadata": {},
     "output_type": "execute_result"
    }
   ],
   "source": [
    "df.Topic.value_counts()/df.Topic.value_counts().sum()*100"
   ]
  },
  {
   "cell_type": "code",
   "execution_count": 114,
   "metadata": {},
   "outputs": [
    {
     "data": {
      "text/plain": [
       "array([     33,      34,      37, ..., 2150849, 2150857, 2150867], dtype=int64)"
      ]
     },
     "execution_count": 114,
     "metadata": {},
     "output_type": "execute_result"
    }
   ],
   "source": [
    "df.index.values"
   ]
  },
  {
   "cell_type": "code",
   "execution_count": 117,
   "metadata": {},
   "outputs": [
    {
     "data": {
      "text/plain": [
       "738502"
      ]
     },
     "execution_count": 117,
     "metadata": {},
     "output_type": "execute_result"
    }
   ],
   "source": [
    "len(df.index.values)"
   ]
  },
  {
   "cell_type": "code",
   "execution_count": 131,
   "metadata": {},
   "outputs": [],
   "source": [
    "test_indices = np.random.choice(df.index.values, size=round(len(df.index.values)*0.2), replace=False)"
   ]
  },
  {
   "cell_type": "code",
   "execution_count": 132,
   "metadata": {},
   "outputs": [
    {
     "data": {
      "text/plain": [
       "147700"
      ]
     },
     "execution_count": 132,
     "metadata": {},
     "output_type": "execute_result"
    }
   ],
   "source": [
    "len(test_indices)"
   ]
  },
  {
   "cell_type": "code",
   "execution_count": 133,
   "metadata": {},
   "outputs": [
    {
     "data": {
      "text/plain": [
       "(147700,)"
      ]
     },
     "execution_count": 133,
     "metadata": {},
     "output_type": "execute_result"
    }
   ],
   "source": [
    "np.unique(test_indices).shape"
   ]
  },
  {
   "cell_type": "code",
   "execution_count": 138,
   "metadata": {},
   "outputs": [
    {
     "data": {
      "text/plain": [
       "0.19999945836301053"
      ]
     },
     "execution_count": 138,
     "metadata": {},
     "output_type": "execute_result"
    }
   ],
   "source": [
    "len(test_indices)/len(df.index.values)"
   ]
  },
  {
   "cell_type": "code",
   "execution_count": 148,
   "metadata": {},
   "outputs": [
    {
     "name": "stderr",
     "output_type": "stream",
     "text": [
      "C:\\Users\\utente\\Anaconda3\\envs\\ada\\lib\\site-packages\\ipykernel_launcher.py:1: DeprecationWarning: elementwise == comparison failed; this will raise an error in the future.\n",
      "  \"\"\"Entry point for launching an IPython kernel.\n"
     ]
    }
   ],
   "source": [
    "train_indices = np.delete(df.index.values, np.where(df.index.values == test_indices))"
   ]
  },
  {
   "cell_type": "code",
   "execution_count": 149,
   "metadata": {},
   "outputs": [
    {
     "data": {
      "text/plain": [
       "738502"
      ]
     },
     "execution_count": 149,
     "metadata": {},
     "output_type": "execute_result"
    }
   ],
   "source": [
    "len(train_indices)"
   ]
  },
  {
   "cell_type": "code",
   "execution_count": 155,
   "metadata": {},
   "outputs": [
    {
     "data": {
      "text/plain": [
       "(array([ 181.,  139.,  152.,  139.,  155.,  127.,  159.,  157.,  165.,\n",
       "         164.,  158.,  153.,  136.,  144.,  139.,  161.,  161.,  149.,\n",
       "         142.,  153.,  157.,  160.,  131.,  185.,  156.,  149.,  160.,\n",
       "         155.,  139.,  145.,  140.,  147.,  143.,  138.,  151.,  154.,\n",
       "         174.,  162.,  175.,  133.,  107.,  150.,  165.,  139.,  138.,\n",
       "         180.,  130.,  127.,  159.,  142.,  156.,  162.,  132.,  132.,\n",
       "         158.,  130.,  157.,  165.,  120.,  161.,  135.,  110.,  133.,\n",
       "         155.,  170.,  142.,  148.,  167.,  168.,  167.,  168.,  165.,\n",
       "         163.,  158.,  139.,  132.,  148.,  171.,  169.,  169.,  132.,\n",
       "         174.,  151.,  159.,  164.,  137.,  133.,  164.,  166.,  155.,\n",
       "         135.,  145.,  141.,  157.,  134.,  161.,  168.,  194.,  179.,\n",
       "         140.,  154.,  152.,  179.,  150.,  137.,  134.,  157.,  149.,\n",
       "         165.,  159.,  178.,  144.,  151.,  155.,  134.,  150.,  142.,\n",
       "         178.,  168.,  145.,  169.,  169.,  140.,  137.,  161.,  156.,\n",
       "         147.,  153.,  148.,  175.,  170.,  143.,  138.,  144.,  146.,\n",
       "         155.,  146.,  164.,  150.,  144.,  140.,  135.,  177.,  151.,\n",
       "         145.,  156.,  162.,  142.,  171.,  156.,  137.,  126.,  150.,\n",
       "         152.,  115.,  139.,  122.,  165.,  148.,  178.,  165.,  151.,\n",
       "         176.,  146.,  156.,  160.,  189.,  163.,  134.,  124.,  151.,\n",
       "         164.,  149.,  155.,  145.,  127.,  126.,  152.,  148.,  150.,\n",
       "         161.,  118.,  135.,  180.,  130.,  162.,  152.,  146.,  149.,\n",
       "         127.,  145.,  148.,  125.,  163.,  154.,  128.,  136.,  165.,\n",
       "         162.,  150.,  139.,  159.,  152.,  147.,  156.,  136.,  127.,\n",
       "         155.,  143.,  144.,  139.,  157.,  134.,  153.,  129.,  152.,\n",
       "         140.,  128.,  140.,  135.,  142.,  125.,  160.,  136.,  144.,\n",
       "         140.,  138.,  153.,  147.,  170.,  135.,  122.,  161.,  132.,\n",
       "         152.,  171.,  161.,  138.,  138.,  153.,  124.,  133.,  156.,\n",
       "         128.,  144.,  171.,  149.,  107.,  163.,  143.,  158.,  162.,\n",
       "         160.,  131.,  141.,  156.,  128.,  144.,  152.,  165.,  144.,\n",
       "         151.,  140.,  177.,  156.,  128.,  135.,  158.,  153.,  157.,\n",
       "         144.,  160.,  150.,  139.,  158.,  119.,  150.,  137.,  146.,\n",
       "         141.,  148.,  152.,  134.,  158.,  146.,  150.,  143.,  127.,\n",
       "         158.,  130.,  158.,  160.,  143.,  145.,  142.,  152.,  134.,\n",
       "         143.,  165.,  121.,  152.,  126.,  158.,  164.,  171.,  163.,\n",
       "         112.,  139.,  171.,  143.,  133.,  139.,  147.,  187.,  177.,\n",
       "         141.,  146.,  119.,  117.,  119.,  152.,  175.,  161.,  161.,\n",
       "         161.,  116.,  156.,  138.,  161.,  141.,  153.,  130.,  176.,\n",
       "         165.,  125.,  147.,  154.,  118.,  160.,  159.,  130.,  150.,\n",
       "         158.,  158.,  140.,  142.,  148.,  146.,  154.,  139.,  156.,\n",
       "         131.,  147.,  168.,  145.,  132.,  125.,  148.,  159.,  151.,\n",
       "         159.,  149.,  123.,  155.,  148.,  127.,  132.,  138.,  129.,\n",
       "         152.,  153.,  140.,  157.,  148.,  159.,  152.,  143.,  168.,\n",
       "         140.,  167.,  139.,  143.,  170.,  166.,  159.,  151.,  161.,\n",
       "         141.,  140.,  139.,  155.,  145.,  149.,  120.,  131.,  158.,\n",
       "         145.,  112.,  151.,  164.,  120.,  141.,  161.,  153.,  139.,\n",
       "         167.,  138.,  145.,  142.,  159.,  129.,  144.,  149.,  142.,\n",
       "         159.,  156.,  138.,  159.,  120.,  154.,  158.,  164.,  144.,\n",
       "         167.,  144.,  138.,  151.,  141.,  134.,  129.,  149.,  144.,\n",
       "         162.,  152.,  150.,  150.,  139.,  136.,  127.,  142.,  141.,\n",
       "         160.,  147.,  143.,  148.,  154.,  147.,  145.,  154.,  126.,\n",
       "         143.,  144.,  149.,  185.,  162.,  126.,  164.,  119.,  178.,\n",
       "         178.,  151.,  155.,  136.,  161.,  140.,  145.,  183.,  145.,\n",
       "         145.,  136.,  161.,  122.,  118.,  165.,  157.,  128.,  145.,\n",
       "         147.,  154.,  140.,  168.,  150.,  124.,  161.,  160.,  170.,\n",
       "         132.,  147.,  152.,  161.,  134.,  146.,  136.,  159.,  139.,\n",
       "         140.,  173.,  148.,  149.,  140.,  151.,  148.,  136.,  157.,\n",
       "         150.,  139.,  107.,  157.,  155.,  159.,  116.,  143.,  143.,\n",
       "         138.,  121.,  145.,  195.,  150.,  145.,  132.,  170.,  134.,\n",
       "         141.,  140.,  147.,  157.,  164.,  152.,  151.,  139.,  142.,\n",
       "         157.,  139.,  130.,  170.,  148.,  104.,  167.,  141.,  129.,\n",
       "         140.,  152.,  167.,  129.,  146.,  143.,  156.,  166.,  150.,\n",
       "         121.,  157.,  146.,  149.,  133.,  140.,  141.,  140.,  150.,\n",
       "         169.,  158.,  135.,  132.,  139.,  134.,  151.,  157.,  124.,\n",
       "         161.,  127.,  147.,  163.,  150.,  124.,  150.,  146.,  159.,\n",
       "         153.,  180.,  130.,  165.,  130.,  134.,  141.,  152.,  133.,\n",
       "         146.,  145.,  144.,  135.,  164.,  156.,  147.,  142.,  126.,\n",
       "         157.,  141.,  154.,  148.,  136.,  152.,  166.,  132.,  150.,\n",
       "         146.,  181.,  146.,  137.,  144.,  151.,  159.,  131.,  152.,\n",
       "         154.,  138.,  139.,  158.,  155.,  154.,  165.,  154.,  144.,\n",
       "         165.,  125.,  169.,  152.,  139.,  166.,  145.,  171.,  125.,\n",
       "         148.,  148.,  128.,  148.,  153.,  129.,  172.,  138.,  135.,\n",
       "         138.,  169.,  125.,  137.,  154.,  134.,  147.,  133.,  158.,\n",
       "         153.,  168.,  136.,  153.,  163.,  133.,  139.,  145.,  162.,\n",
       "         127.,  139.,  157.,  180.,  155.,  129.,  181.,  150.,  161.,\n",
       "         170.,  136.,  136.,  154.,  145.,  165.,  124.,  154.,  165.,\n",
       "         153.,  127.,  153.,  171.,  132.,  130.,  165.,  136.,  154.,\n",
       "         140.,  164.,  151.,  128.,  139.,  138.,  156.,  139.,  146.,\n",
       "         143.,  171.,  150.,  149.,  169.,  148.,  165.,  137.,  148.,\n",
       "         155.,  167.,  151.,  148.,  168.,  161.,  131.,  170.,  137.,\n",
       "         155.,  159.,  154.,  160.,  134.,  145.,  152.,  118.,  156.,\n",
       "         134.,  141.,  155.,  135.,  110.,  157.,  133.,  151.,  133.,\n",
       "         153.,  147.,  133.,  132.,  141.,  168.,  145.,  136.,  152.,\n",
       "         166.,  144.,  156.,  150.,  142.,  149.,  118.,  156.,  173.,\n",
       "         147.,  147.,  137.,  144.,  148.,  139.,  176.,  139.,  115.,\n",
       "         149.,  144.,  145.,  139.,  159.,  140.,  157.,  132.,  163.,\n",
       "         160.,  168.,  160.,  142.,  146.,  140.,  148.,  149.,  148.,\n",
       "         134.,  154.,  116.,  174.,  156.,  125.,  124.,  154.,  153.,\n",
       "         144.,  139.,  131.,  147.,  149.,  129.,  129.,  140.,  152.,\n",
       "         164.,  173.,  152.,  149.,  139.,  135.,  171.,  141.,  125.,\n",
       "         137.,  126.,  150.,  158.,  158.,  134.,  148.,  132.,  128.,\n",
       "         162.,  144.,  148.,  144.,  121.,  165.,  125.,  143.,  160.,\n",
       "         152.,  132.,  142.,  132.,  142.,  148.,  144.,  131.,  139.,\n",
       "         175.,  153.,  148.,  152.,  164.,  138.,  127.,  153.,  137.,\n",
       "         128.,  126.,  164.,  153.,  129.,  148.,  135.,  155.,  162.,\n",
       "         162.,  127.,  139.,  167.,  143.,  151.,  169.,  157.,  151.,\n",
       "         148.,  106.,  131.,  123.,  150.,  176.,  166.,  164.,  144.,\n",
       "         158.,  120.,  171.,  136.,  140.,  136.,  138.,  150.,  155.,\n",
       "         140.,  140.,  146.,  132.,  167.,  132.,  175.,  152.,  155.,\n",
       "         156.,  145.,  151.,  143.,  124.,  169.,  157.,  139.,  149.,\n",
       "         142.,  145.,  153.,  128.,  143.,  148.,  131.,  142.,  154.,\n",
       "         152.,  143.,  152.,  150.,  139.,  150.,  149.,  124.,  178.,\n",
       "         179.,  134.,  153.,  133.,  144.,  147.,  136.,  159.,  155.,\n",
       "         162.,  155.,  144.,  148.,  141.,  178.,  155.,  131.,  143.,\n",
       "         141.,  156.,  157.,  153.,  120.,  147.,  160.,  163.,  151.,\n",
       "         141.,  157.,  112.,  157.,  146.,  152.,  134.,  160.,  123.,\n",
       "         174.,  157.,  166.,  144.,  149.,  136.,  134.,  160.,  175.,\n",
       "         145.,  162.,  141.,  166.,  156.,  160.,  157.,  145.,  128.,\n",
       "         151.,  137.,  134.,  142.,  165.,  141.,  132.,  155.,  169.,\n",
       "         143.,  126.,  142.,  133.,  134.,  141.,  163.,  173.,  126.,\n",
       "         129.,  140.,  146.,  169.,  134.,  129.,  134.,  146.,  132.,\n",
       "         150.,  154.,  115.,  146.,  163.,  163.,  150.,  139.,  156.,   85.]),\n",
       " array([  3.90000000e+01,   2.18982800e+03,   4.34065600e+03, ...,\n",
       "          2.14656534e+06,   2.14871617e+06,   2.15086700e+06]),\n",
       " <a list of 1000 Patch objects>)"
      ]
     },
     "execution_count": 155,
     "metadata": {},
     "output_type": "execute_result"
    },
    {
     "data": {
      "image/png": "[encoded data removed]",
      "text/plain": [
       "<Figure size 432x288 with 1 Axes>"
      ]
     },
     "metadata": {
      "needs_background": "light"
     },
     "output_type": "display_data"
    }
   ],
   "source": [
    "test_"
   ]
  }
 ],
 "metadata": {
  "kernelspec": {
   "display_name": "Python 3",
   "language": "python",
   "name": "python3"
  },
  "language_info": {
   "codemirror_mode": {
    "name": "ipython",
    "version": 3
   },
   "file_extension": ".py",
   "mimetype": "text/x-python",
   "name": "python",
   "nbconvert_exporter": "python",
   "pygments_lexer": "ipython3",
   "version": "3.6.6"
  }
 },
 "nbformat": 4,
 "nbformat_minor": 2
}
