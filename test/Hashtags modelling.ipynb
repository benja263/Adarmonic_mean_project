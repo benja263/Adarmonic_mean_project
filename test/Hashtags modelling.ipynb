{
 "cells": [
  {
   "cell_type": "code",
   "execution_count": null,
   "metadata": {},
   "outputs": [],
   "source": [
    "import pandas as pd\n",
    "import numpy as np\n",
    "import re\n",
    "from helpers import *"
   ]
  },
  {
   "cell_type": "code",
   "execution_count": null,
   "metadata": {},
   "outputs": [],
   "source": [
    "df = pd.read_csv(access_folder(folder_name='generated') + 'tweets_n_hashtags.csv', index_col = 0)"
   ]
  },
  {
   "cell_type": "code",
   "execution_count": null,
   "metadata": {},
   "outputs": [],
   "source": [
    "import ast\n",
    "df.tweet_text = df.tweet_text.apply(ast.literal_eval)"
   ]
  },
  {
   "cell_type": "code",
   "execution_count": 5,
   "metadata": {},
   "outputs": [
    {
     "data": {
      "text/html": [
       "<div>\n",
       "<style scoped>\n",
       "    .dataframe tbody tr th:only-of-type {\n",
       "        vertical-align: middle;\n",
       "    }\n",
       "\n",
       "    .dataframe tbody tr th {\n",
       "        vertical-align: top;\n",
       "    }\n",
       "\n",
       "    .dataframe thead th {\n",
       "        text-align: right;\n",
       "    }\n",
       "</style>\n",
       "<table border=\"1\" class=\"dataframe\">\n",
       "  <thead>\n",
       "    <tr style=\"text-align: right;\">\n",
       "      <th></th>\n",
       "      <th>hashtags</th>\n",
       "      <th>tweet_text</th>\n",
       "    </tr>\n",
       "  </thead>\n",
       "  <tbody>\n",
       "    <tr>\n",
       "      <th>33</th>\n",
       "      <td>news</td>\n",
       "      <td>[john, carroll, university, gets, $225, millio...</td>\n",
       "    </tr>\n",
       "    <tr>\n",
       "      <th>34</th>\n",
       "      <td>local</td>\n",
       "      <td>[spring, cook, book, healthy, chocolate, bars]</td>\n",
       "    </tr>\n",
       "    <tr>\n",
       "      <th>37</th>\n",
       "      <td>news</td>\n",
       "      <td>[rocky, river, prepares, more, flooding, city,...</td>\n",
       "    </tr>\n",
       "    <tr>\n",
       "      <th>39</th>\n",
       "      <td>news</td>\n",
       "      <td>[forecast, cooler, mid-week, cooler, isolated,...</td>\n",
       "    </tr>\n",
       "    <tr>\n",
       "      <th>40</th>\n",
       "      <td>TopNews</td>\n",
       "      <td>[brothers, farook, one, decorated, veteran, ki...</td>\n",
       "    </tr>\n",
       "  </tbody>\n",
       "</table>\n",
       "</div>"
      ],
      "text/plain": [
       "   hashtags                                         tweet_text\n",
       "33     news  [john, carroll, university, gets, $225, millio...\n",
       "34    local     [spring, cook, book, healthy, chocolate, bars]\n",
       "37     news  [rocky, river, prepares, more, flooding, city,...\n",
       "39     news  [forecast, cooler, mid-week, cooler, isolated,...\n",
       "40  TopNews  [brothers, farook, one, decorated, veteran, ki..."
      ]
     },
     "execution_count": 5,
     "metadata": {},
     "output_type": "execute_result"
    }
   ],
   "source": [
    "df.head()"
   ]
  },
  {
   "cell_type": "markdown",
   "metadata": {},
   "source": [
    "#### build hashtag to topic table"
   ]
  },
  {
   "cell_type": "code",
   "execution_count": 20,
   "metadata": {},
   "outputs": [],
   "source": [
    "hash2topic = {\n",
    "    'news':'News',\n",
    "    'local':'News',\n",
    "    'isis':'News',\n",
    "    'world':'News',\n",
    "    'breaking':'News',\n",
    "    'business':'News',\n",
    "    'TopNews':'News',\n",
    "    'Breaking':'News',\n",
    "    'money':'News',\n",
    "    'FukushimaAgain':'Fukushima',\n",
    "    'Fukushima2015':'Fukushima',\n",
    "    'FUKUSHIMA2015':'Fukushima',\n",
    "    'fukushima2015':'Fukushima',\n",
    "    'crime':'Crime',\n",
    "    'PoliceBrutality':'Crime',\n",
    "    'NRA':'Patriot',\n",
    "    'USFA':'Patriot',\n",
    "    'nra':'Patriot',\n",
    "    'pjnet':'Patriot',\n",
    "    'PJNET':'Patriot',\n",
    "    '2A':'Patriot',\n",
    "    'ISIS':'Anti-Islam',\n",
    "    'IslamKills':'Anti-Islam',\n",
    "    'StopIslam':'Anti-Islam',\n",
    "    'Hillary':'Anti-Trump',\n",
    "    'ThingsMoreTrustedThanHillary':'Anti-Trump',\n",
    "    'NeverHillary':'Anti-Trump',\n",
    "    'ARRESTObama':'Anti-Trump',\n",
    "    'LockHerUp':'Anti-Trump',\n",
    "    'ObamaWishlist':'Anti-Trump',\n",
    "    'Obama':'Anti-Trump',\n",
    "    'ObamaLameDuck':'Anti-Trump',\n",
    "    'CrookedHillary':'Anti-Trump',\n",
    "    'isis':'Foreign Countries',\n",
    "    'Syria':'Foreign Countries',\n",
    "    'Turkey':'Foreign Countries',\n",
    "    'nukraine':'Foreign Countries',\n",
    "    'Brussels':'Foreign Countries',\n",
    "    'Russia':'Foreign Countries',\n",
    "    'Iraq':'Foreign Countries',\n",
    "    'entertainment':'Entertainment',\n",
    "    'celebs':'Entertainment',\n",
    "    'NowPlaying':'Entertainment',\n",
    "    'Showbiz':'Entertainment',\n",
    "    'RAP':'Entertainment',\n",
    "    'life':'Entertainment',\n",
    "    'Music':'Entertainment',\n",
    "    'MyEmmyNominationWouldBe':'Entertainment',\n",
    "    'soundcloud':'Entertainment',\n",
    "    'iTunes':'Entertainment',\n",
    "    'rap':'Entertainment',\n",
    "    'BlackLivesMatter':'Black Support',\n",
    "    'BlackTwitter':'Black Support',\n",
    "    'blacklivesmatter':'Black Support',\n",
    "    'BlackHistoryMonth':'Black Support',\n",
    "    'BlackSkinIsNotACrime':'Black Support',\n",
    "    'BLM':'Black Support',\n",
    "    'BlackToLive':'Black Support',\n",
    "    'blacktwitter':'Black Support',\n",
    "    'ICelebrateTrumpWith':'Trump Support',\n",
    "    'MAGA':'Trump Support',\n",
    "    'WakeUpAmerica':'Trump Support',\n",
    "    'MakeAmericaGreatAgain':'Trump Support',\n",
    "    'TrumpTrain':'Trump Support',\n",
    "    'Trump2016':'Trump Support',\n",
    "    'maga':'Trump Support',\n",
    "    'tcot':'Trump Support',\n",
    "    'TCOT':'Trump Support',\n",
    "    'GOP':'Trump Support',\n",
    "    'ccot':'Trump Support',\n",
    "    'AmericaFirst':'Trump Support',\n",
    "    'TrumpForPresident':'Trump Support',\n",
    "    'TrumpBecause':'Trump Support',\n",
    "    'health':'Health',\n",
    "    'environment':'Health',\n",
    "    'sports':'Sports',\n",
    "    'hockey':'Sports',\n",
    "    'Hockey':'Sports',\n",
    "    'baseball':'Sports',\n",
    "    'Sports':'Sports',\n",
    "    'MyOlympicSportWouldBe':'Sports',\n",
    "}"
   ]
  },
  {
   "cell_type": "code",
   "execution_count": 47,
   "metadata": {},
   "outputs": [],
   "source": [
    "hash2topicDF = pd.DataFrame(list(hash2topic.values()), list(hash2topic.keys()))"
   ]
  },
  {
   "cell_type": "code",
   "execution_count": 59,
   "metadata": {},
   "outputs": [
    {
     "data": {
      "text/plain": [
       "80"
      ]
     },
     "execution_count": 59,
     "metadata": {},
     "output_type": "execute_result"
    }
   ],
   "source": [
    "hash2topicDF.columns = ['category']\n",
    "hash2topicDF.category.value_counts().sum()"
   ]
  },
  {
   "cell_type": "code",
   "execution_count": 61,
   "metadata": {},
   "outputs": [],
   "source": [
    "df.hashtags.to_csv('hashtagsIndices.csv')"
   ]
  }
 ],
 "metadata": {
  "kernelspec": {
   "display_name": "Python 3",
   "language": "python",
   "name": "python3"
  },
  "language_info": {
   "codemirror_mode": {
    "name": "ipython",
    "version": 3
   },
   "file_extension": ".py",
   "mimetype": "text/x-python",
   "name": "python",
   "nbconvert_exporter": "python",
   "pygments_lexer": "ipython3",
   "version": "3.6.6"
  }
 },
 "nbformat": 4,
 "nbformat_minor": 2
}
