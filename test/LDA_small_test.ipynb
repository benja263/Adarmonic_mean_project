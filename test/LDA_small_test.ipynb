{
 "cells": [
  {
   "cell_type": "code",
   "execution_count": 8,
   "metadata": {},
   "outputs": [],
   "source": [
    "# Imports\n",
    "import gensim\n",
    "import numpy as np\n",
    "import pyLDAvis.gensim\n",
    "\n",
    "from gensim import corpora\n",
    "from gensim.utils import simple_preprocess\n",
    "from gensim.parsing.preprocessing import remove_stopwords"
   ]
  },
  {
   "cell_type": "markdown",
   "metadata": {},
   "source": [
    "__TEST__\n",
    "\n",
    "A good lda model is obtained if inside the documents there is a high amount of repetition within the same words. This is defined as a topic.\n",
    "One document might be composed of different topics, so looking only at repetitions in the same document will assign all the words of the document to one topic. \n",
    "\n",
    "We need multiple documents that have different combination of topics (if two documents contain the same two topics the outcome will be a single topic).\n",
    "\n",
    "Repetition is important as it is the key to find sets of words that go along together, notice that the same word can belong to different topics.\n",
    "\n",
    "*text_data_1*:\n",
    "In the example we get a good differentiation between topics like disease, food and guns because each document contains a high repetition of one topic and small repetitions of other topics, this is the ideal case in which each document have a well defined topic and some spurious different topics.\n",
    "\n",
    "\n",
    "ldamodel = gensim.models.ldamodel.LdaModel(bow_corpus, num_topics = 3, id2word=dictionary )\n",
    "\n",
    "\n",
    "Will not produce stable results, sometimes it is able to distinguish the topics, other times no. Maybe there is a parameter to tune better, or we need more data\n"
   ]
  },
  {
   "cell_type": "code",
   "execution_count": 21,
   "metadata": {},
   "outputs": [],
   "source": [
    "# text_data = [['apples', 'oranges', 'avocados', 'apples', 'oranges', 'avocados', 'apples', 'oranges', 'avocados', 'machinegun', 'pistols'],\\\n",
    "#              ['machinegun', 'pistols', 'machinegun', 'pistols', 'flu', 'cold', 'healthy', 'machinegun', 'pistols', 'machinegun', 'pistols', ],\\\n",
    "#              ['flu', 'cold', 'healthy' , 'flu', 'cold', 'healthy' , 'flu', 'cold', 'healthy', 'apples', 'oranges', 'avocados']]\n",
    "\n",
    "text_data = [['apples', 'oranges', 'avocados', 'apples', 'oranges', 'avocados', 'machinegun', 'pistols'],\\\n",
    "             ['machinegun', 'pistols', 'flu', 'cold', 'healthy', 'machinegun', 'pistols', 'machinegun', 'pistols', ],\\\n",
    "             ['flu', 'cold', 'healthy' , 'flu', 'cold', 'healthy' , 'flu', 'cold', 'healthy', 'apples', 'oranges', 'avocados']]"
   ]
  },
  {
   "cell_type": "code",
   "execution_count": 50,
   "metadata": {},
   "outputs": [
    {
     "data": {
      "text/plain": [
       "[[(0, 2), (1, 2), (2, 1), (3, 2), (4, 1)],\n",
       " [(2, 3), (4, 3), (5, 1), (6, 1), (7, 1)],\n",
       " [(0, 1), (1, 1), (3, 1), (5, 3), (6, 3), (7, 3)]]"
      ]
     },
     "execution_count": 50,
     "metadata": {},
     "output_type": "execute_result"
    }
   ],
   "source": [
    "# Create dictionary to know the frequency of words\n",
    "dictionary = gensim.corpora.Dictionary(text_data)\n",
    "\n",
    "# Create bag-of-words\n",
    "bow_corpus = [dictionary.doc2bow(doc) for doc in text_data]\n",
    "\n",
    "ldamodel = gensim.models.ldamodel.LdaModel(bow_corpus, num_topics = 3, id2word=dictionary, iterations=100, passes = 10 )\n",
    "bow_corpus"
   ]
  },
  {
   "cell_type": "code",
   "execution_count": 51,
   "metadata": {},
   "outputs": [
    {
     "name": "stderr",
     "output_type": "stream",
     "text": [
      "C:\\Users\\utente\\Anaconda3\\envs\\ada\\lib\\site-packages\\pyLDAvis\\_prepare.py:257: FutureWarning: Sorting because non-concatenation axis is not aligned. A future version\n",
      "of pandas will change to not sort by default.\n",
      "\n",
      "To accept the future behavior, pass 'sort=False'.\n",
      "\n",
      "To retain the current behavior and silence the warning, pass 'sort=True'.\n",
      "\n",
      "  return pd.concat([default_term_info] + list(topic_dfs))\n"
     ]
    },
    {
     "data": {
      "text/html": [
       "\n",
       "<link rel=\"stylesheet\" type=\"text/css\" href=\"https://cdn.rawgit.com/bmabey/pyLDAvis/files/ldavis.v1.0.0.css\">\n",
       "\n",
       "\n",
       "<div id=\"ldavis_el567619285162287049748987605\"></div>\n",
       "<script type=\"text/javascript\">\n",
       "\n",
       "var ldavis_el567619285162287049748987605_data = {\"mdsDat\": {\"x\": [-0.0909620931468995, 0.09586338420113624, -0.004901291054236695], \"y\": [0.0, 0.0, 0.0], \"topics\": [1, 2, 3], \"cluster\": [1, 1, 1], \"Freq\": [65.80164337158203, 31.004270553588867, 3.1940882205963135]}, \"tinfo\": {\"Category\": [\"Default\", \"Default\", \"Default\", \"Default\", \"Default\", \"Default\", \"Default\", \"Default\", \"Topic1\", \"Topic1\", \"Topic1\", \"Topic1\", \"Topic1\", \"Topic1\", \"Topic1\", \"Topic1\", \"Topic2\", \"Topic2\", \"Topic2\", \"Topic2\", \"Topic2\", \"Topic2\", \"Topic2\", \"Topic2\", \"Topic3\", \"Topic3\", \"Topic3\", \"Topic3\", \"Topic3\", \"Topic3\", \"Topic3\", \"Topic3\"], \"Freq\": [3.0, 3.0, 3.0, 3.0, 3.0, 3.0, 3.0, 3.0, 3.5787875652313232, 3.5786685943603516, 3.5786962509155273, 2.752577543258667, 2.7526276111602783, 0.9472636580467224, 0.946994423866272, 0.9468603134155273, 2.0156872272491455, 2.0154850482940674, 2.015188694000244, 1.0677350759506226, 1.0676333904266357, 0.2698643207550049, 0.26983004808425903, 0.269814133644104, 0.1159680038690567, 0.11595259606838226, 0.11592168360948563, 0.11620006710290909, 0.11613558232784271, 0.11539214104413986, 0.11536580324172974, 0.115349680185318], \"Term\": [\"cold\", \"healthy\", \"flu\", \"apples\", \"oranges\", \"avocados\", \"pistols\", \"machinegun\", \"flu\", \"cold\", \"healthy\", \"pistols\", \"machinegun\", \"oranges\", \"apples\", \"avocados\", \"avocados\", \"apples\", \"oranges\", \"machinegun\", \"pistols\", \"healthy\", \"cold\", \"flu\", \"oranges\", \"apples\", \"avocados\", \"pistols\", \"machinegun\", \"cold\", \"healthy\", \"flu\"], \"Total\": [3.0, 3.0, 3.0, 3.0, 3.0, 3.0, 3.0, 3.0, 3.963951587677002, 3.963890790939331, 3.963926315307617, 3.936410903930664, 3.9364981651306152, 3.078420400619507, 3.078432083129883, 3.0784692764282227, 3.0784692764282227, 3.078432083129883, 3.078420400619507, 3.9364981651306152, 3.936410903930664, 3.963926315307617, 3.963890790939331, 3.963951587677002, 3.078420400619507, 3.078432083129883, 3.0784692764282227, 3.936410903930664, 3.9364981651306152, 3.963890790939331, 3.963926315307617, 3.963951587677002], \"loglift\": [8.0, 7.0, 6.0, 5.0, 4.0, 3.0, 2.0, 1.0, 0.31630000472068787, 0.31630000472068787, 0.31630000472068787, 0.06080000102519989, 0.06080000102519989, -0.7601000070571899, -0.7603999972343445, -0.7605000138282776, 0.7476000189781189, 0.7475000023841858, 0.7473000288009644, -0.13369999825954437, -0.13379999995231628, -1.5160000324249268, -1.5161000490188599, -1.5161999464035034, 0.16500000655651093, 0.164900004863739, 0.16459999978542328, -0.07880000025033951, -0.07940000295639038, -0.09279999881982803, -0.09300000220537186, -0.09319999814033508], \"logprob\": [8.0, 7.0, 6.0, 5.0, 4.0, 3.0, 2.0, 1.0, -1.673699975013733, -1.673799991607666, -1.673799991607666, -1.9362000226974487, -1.9362000226974487, -3.0028998851776123, -3.003200054168701, -3.0034000873565674, -1.495300054550171, -1.4953999519348145, -1.4954999685287476, -2.13070011138916, -2.1308000087738037, -3.5060999393463135, -3.506200075149536, -3.5062999725341797, -2.077899932861328, -2.078000068664551, -2.0782999992370605, -2.075900077819824, -2.0764000415802, -2.0827999114990234, -2.0831000804901123, -2.083199977874756]}, \"token.table\": {\"Topic\": [1, 2, 1, 2, 1, 1, 1, 1, 2, 1, 2, 1, 2], \"Freq\": [0.3248406946659088, 0.6496813893318176, 0.32483676075935364, 0.6496735215187073, 1.0091094970703125, 1.0090941190719604, 1.0091004371643066, 0.7620986700057983, 0.2540328800678253, 0.3248419165611267, 0.6496838331222534, 0.7621155381202698, 0.2540385127067566], \"Term\": [\"apples\", \"apples\", \"avocados\", \"avocados\", \"cold\", \"flu\", \"healthy\", \"machinegun\", \"machinegun\", \"oranges\", \"oranges\", \"pistols\", \"pistols\"]}, \"R\": 8, \"lambda.step\": 0.01, \"plot.opts\": {\"xlab\": \"PC1\", \"ylab\": \"PC2\"}, \"topic.order\": [2, 1, 3]};\n",
       "\n",
       "function LDAvis_load_lib(url, callback){\n",
       "  var s = document.createElement('script');\n",
       "  s.src = url;\n",
       "  s.async = true;\n",
       "  s.onreadystatechange = s.onload = callback;\n",
       "  s.onerror = function(){console.warn(\"failed to load library \" + url);};\n",
       "  document.getElementsByTagName(\"head\")[0].appendChild(s);\n",
       "}\n",
       "\n",
       "if(typeof(LDAvis) !== \"undefined\"){\n",
       "   // already loaded: just create the visualization\n",
       "   !function(LDAvis){\n",
       "       new LDAvis(\"#\" + \"ldavis_el567619285162287049748987605\", ldavis_el567619285162287049748987605_data);\n",
       "   }(LDAvis);\n",
       "}else if(typeof define === \"function\" && define.amd){\n",
       "   // require.js is available: use it to load d3/LDAvis\n",
       "   require.config({paths: {d3: \"https://cdnjs.cloudflare.com/ajax/libs/d3/3.5.5/d3.min\"}});\n",
       "   require([\"d3\"], function(d3){\n",
       "      window.d3 = d3;\n",
       "      LDAvis_load_lib(\"https://cdn.rawgit.com/bmabey/pyLDAvis/files/ldavis.v1.0.0.js\", function(){\n",
       "        new LDAvis(\"#\" + \"ldavis_el567619285162287049748987605\", ldavis_el567619285162287049748987605_data);\n",
       "      });\n",
       "    });\n",
       "}else{\n",
       "    // require.js not available: dynamically load d3 & LDAvis\n",
       "    LDAvis_load_lib(\"https://cdnjs.cloudflare.com/ajax/libs/d3/3.5.5/d3.min.js\", function(){\n",
       "         LDAvis_load_lib(\"https://cdn.rawgit.com/bmabey/pyLDAvis/files/ldavis.v1.0.0.js\", function(){\n",
       "                 new LDAvis(\"#\" + \"ldavis_el567619285162287049748987605\", ldavis_el567619285162287049748987605_data);\n",
       "            })\n",
       "         });\n",
       "}\n",
       "</script>"
      ],
      "text/plain": [
       "<IPython.core.display.HTML object>"
      ]
     },
     "execution_count": 51,
     "metadata": {},
     "output_type": "execute_result"
    }
   ],
   "source": [
    "lda_display = pyLDAvis.gensim.prepare(ldamodel, bow_corpus, dictionary, sort_topics=True)\n",
    "\n",
    "pyLDAvis.display(lda_display)"
   ]
  },
  {
   "cell_type": "code",
   "execution_count": null,
   "metadata": {},
   "outputs": [],
   "source": []
  }
 ],
 "metadata": {
  "kernelspec": {
   "display_name": "Python [default]",
   "language": "python",
   "name": "python3"
  },
  "language_info": {
   "codemirror_mode": {
    "name": "ipython",
    "version": 3
   },
   "file_extension": ".py",
   "mimetype": "text/x-python",
   "name": "python",
   "nbconvert_exporter": "python",
   "pygments_lexer": "ipython3",
   "version": "3.7.0"
  },
  "toc": {
   "nav_menu": {},
   "number_sections": true,
   "sideBar": true,
   "skip_h1_title": false,
   "title_cell": "Table of Contents",
   "title_sidebar": "Contents",
   "toc_cell": false,
   "toc_position": {},
   "toc_section_display": true,
   "toc_window_display": false
  }
 },
 "nbformat": 4,
 "nbformat_minor": 2
}
