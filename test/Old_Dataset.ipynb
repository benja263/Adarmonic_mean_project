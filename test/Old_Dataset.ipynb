{
 "cells": [
  {
   "cell_type": "code",
   "execution_count": 1,
   "metadata": {},
   "outputs": [],
   "source": [
    "import pandas as pd\n",
    "import numpy as np\n",
    "import matplotlib.pyplot as plt\n",
    "import datetime\n",
    "from helpers import *"
   ]
  },
  {
   "cell_type": "markdown",
   "metadata": {},
   "source": [
    "# Merging old dataset with just few columns of the new ones (likes in particular)"
   ]
  },
  {
   "cell_type": "code",
   "execution_count": 2,
   "metadata": {},
   "outputs": [],
   "source": [
    "#merged = pd.read_csv(access_folder('generated') + 'merged_tweets.csv')\n",
    "\n",
    "tweets1 = pd.read_csv(access_folder('data') + 'IRAhandle_tweets_1.csv')\n",
    "tweets2 = pd.read_csv(access_folder('data') + 'IRAhandle_tweets_2.csv')\n",
    "tweets3 = pd.read_csv(access_folder('data') + 'IRAhandle_tweets_3.csv')\n",
    "tweets4 = pd.read_csv(access_folder('data') + 'IRAhandle_tweets_4.csv')\n",
    "tweets5 = pd.read_csv(access_folder('data') + 'IRAhandle_tweets_5.csv')\n",
    "tweets6 = pd.read_csv(access_folder('data') + 'IRAhandle_tweets_6.csv')\n",
    "tweets7 = pd.read_csv(access_folder('data') + 'IRAhandle_tweets_7.csv')\n",
    "tweets8 = pd.read_csv(access_folder('data') + 'IRAhandle_tweets_8.csv')\n",
    "tweets9 = pd.read_csv(access_folder('data') + 'IRAhandle_tweets_9.csv')\n",
    "\n",
    "old = pd.concat([tweets1,tweets2,tweets3,tweets4,tweets5,tweets6,tweets7,tweets8,tweets9], axis=0)\n",
    "\n",
    "del tweets1,tweets2,tweets3,tweets4,tweets5,tweets6,tweets7,tweets8,tweets9"
   ]
  },
  {
   "cell_type": "code",
   "execution_count": 3,
   "metadata": {},
   "outputs": [
    {
     "data": {
      "text/html": [
       "<div>\n",
       "<style scoped>\n",
       "    .dataframe tbody tr th:only-of-type {\n",
       "        vertical-align: middle;\n",
       "    }\n",
       "\n",
       "    .dataframe tbody tr th {\n",
       "        vertical-align: top;\n",
       "    }\n",
       "\n",
       "    .dataframe thead th {\n",
       "        text-align: right;\n",
       "    }\n",
       "</style>\n",
       "<table border=\"1\" class=\"dataframe\">\n",
       "  <thead>\n",
       "    <tr style=\"text-align: right;\">\n",
       "      <th></th>\n",
       "      <th>external_author_id</th>\n",
       "      <th>author</th>\n",
       "      <th>content</th>\n",
       "      <th>region</th>\n",
       "      <th>language</th>\n",
       "      <th>publish_date</th>\n",
       "      <th>harvested_date</th>\n",
       "      <th>following</th>\n",
       "      <th>followers</th>\n",
       "      <th>updates</th>\n",
       "      <th>post_type</th>\n",
       "      <th>account_type</th>\n",
       "      <th>new_june_2018</th>\n",
       "      <th>retweet</th>\n",
       "      <th>account_category</th>\n",
       "    </tr>\n",
       "  </thead>\n",
       "  <tbody>\n",
       "    <tr>\n",
       "      <th>0</th>\n",
       "      <td>9.060000e+17</td>\n",
       "      <td>10_GOP</td>\n",
       "      <td>\"We have a sitting Democrat US Senator on tria...</td>\n",
       "      <td>Unknown</td>\n",
       "      <td>English</td>\n",
       "      <td>10/1/2017 19:58</td>\n",
       "      <td>10/1/2017 19:59</td>\n",
       "      <td>1052</td>\n",
       "      <td>9636</td>\n",
       "      <td>253</td>\n",
       "      <td>NaN</td>\n",
       "      <td>Right</td>\n",
       "      <td>0</td>\n",
       "      <td>0</td>\n",
       "      <td>RightTroll</td>\n",
       "    </tr>\n",
       "    <tr>\n",
       "      <th>1</th>\n",
       "      <td>9.060000e+17</td>\n",
       "      <td>10_GOP</td>\n",
       "      <td>Marshawn Lynch arrives to game in anti-Trump s...</td>\n",
       "      <td>Unknown</td>\n",
       "      <td>English</td>\n",
       "      <td>10/1/2017 22:43</td>\n",
       "      <td>10/1/2017 22:43</td>\n",
       "      <td>1054</td>\n",
       "      <td>9637</td>\n",
       "      <td>254</td>\n",
       "      <td>NaN</td>\n",
       "      <td>Right</td>\n",
       "      <td>0</td>\n",
       "      <td>0</td>\n",
       "      <td>RightTroll</td>\n",
       "    </tr>\n",
       "  </tbody>\n",
       "</table>\n",
       "</div>"
      ],
      "text/plain": [
       "   external_author_id  author  \\\n",
       "0        9.060000e+17  10_GOP   \n",
       "1        9.060000e+17  10_GOP   \n",
       "\n",
       "                                             content   region language  \\\n",
       "0  \"We have a sitting Democrat US Senator on tria...  Unknown  English   \n",
       "1  Marshawn Lynch arrives to game in anti-Trump s...  Unknown  English   \n",
       "\n",
       "      publish_date   harvested_date  following  followers  updates post_type  \\\n",
       "0  10/1/2017 19:58  10/1/2017 19:59       1052       9636      253       NaN   \n",
       "1  10/1/2017 22:43  10/1/2017 22:43       1054       9637      254       NaN   \n",
       "\n",
       "  account_type  new_june_2018  retweet account_category  \n",
       "0        Right              0        0       RightTroll  \n",
       "1        Right              0        0       RightTroll  "
      ]
     },
     "execution_count": 3,
     "metadata": {},
     "output_type": "execute_result"
    }
   ],
   "source": [
    "old.head(2)"
   ]
  },
  {
   "cell_type": "code",
   "execution_count": 4,
   "metadata": {},
   "outputs": [],
   "source": [
    "old = old.drop(['external_author_id', 'region', 'harvested_date', 'updates', 'new_june_2018', 'account_type'],axis=1)"
   ]
  },
  {
   "cell_type": "code",
   "execution_count": 5,
   "metadata": {},
   "outputs": [],
   "source": [
    "old.rename(columns = {'content':'tweet_text'}, inplace = True)"
   ]
  },
  {
   "cell_type": "code",
   "execution_count": 6,
   "metadata": {},
   "outputs": [
    {
     "data": {
      "text/html": [
       "<div>\n",
       "<style scoped>\n",
       "    .dataframe tbody tr th:only-of-type {\n",
       "        vertical-align: middle;\n",
       "    }\n",
       "\n",
       "    .dataframe tbody tr th {\n",
       "        vertical-align: top;\n",
       "    }\n",
       "\n",
       "    .dataframe thead th {\n",
       "        text-align: right;\n",
       "    }\n",
       "</style>\n",
       "<table border=\"1\" class=\"dataframe\">\n",
       "  <thead>\n",
       "    <tr style=\"text-align: right;\">\n",
       "      <th></th>\n",
       "      <th>author</th>\n",
       "      <th>tweet_text</th>\n",
       "      <th>language</th>\n",
       "      <th>publish_date</th>\n",
       "      <th>following</th>\n",
       "      <th>followers</th>\n",
       "      <th>post_type</th>\n",
       "      <th>retweet</th>\n",
       "      <th>account_category</th>\n",
       "    </tr>\n",
       "  </thead>\n",
       "  <tbody>\n",
       "    <tr>\n",
       "      <th>0</th>\n",
       "      <td>10_GOP</td>\n",
       "      <td>\"We have a sitting Democrat US Senator on tria...</td>\n",
       "      <td>English</td>\n",
       "      <td>10/1/2017 19:58</td>\n",
       "      <td>1052</td>\n",
       "      <td>9636</td>\n",
       "      <td>NaN</td>\n",
       "      <td>0</td>\n",
       "      <td>RightTroll</td>\n",
       "    </tr>\n",
       "  </tbody>\n",
       "</table>\n",
       "</div>"
      ],
      "text/plain": [
       "   author                                         tweet_text language  \\\n",
       "0  10_GOP  \"We have a sitting Democrat US Senator on tria...  English   \n",
       "\n",
       "      publish_date  following  followers post_type  retweet account_category  \n",
       "0  10/1/2017 19:58       1052       9636       NaN        0       RightTroll  "
      ]
     },
     "execution_count": 6,
     "metadata": {},
     "output_type": "execute_result"
    }
   ],
   "source": [
    "old.head(1)"
   ]
  },
  {
   "cell_type": "markdown",
   "metadata": {},
   "source": [
    "### Filtering by date and language (election day not included)"
   ]
  },
  {
   "cell_type": "code",
   "execution_count": 7,
   "metadata": {},
   "outputs": [
    {
     "data": {
      "text/plain": [
       "(896975, 9)"
      ]
     },
     "execution_count": 7,
     "metadata": {},
     "output_type": "execute_result"
    }
   ],
   "source": [
    "old['publish_date'] = pd.to_datetime(old['publish_date'], format='%m/%d/%Y %H:%M')\n",
    "old = old[old.language == 'English' ]\n",
    "old = old[(old.publish_date > '2015-08') & (old.publish_date < '2016-11-08')]\n",
    "old.shape"
   ]
  },
  {
   "cell_type": "markdown",
   "metadata": {},
   "source": [
    "##### Grouping by content highlights only the unique tweets"
   ]
  },
  {
   "cell_type": "code",
   "execution_count": 8,
   "metadata": {},
   "outputs": [
    {
     "data": {
      "text/plain": [
       "(699924, 3)"
      ]
     },
     "execution_count": 8,
     "metadata": {},
     "output_type": "execute_result"
    }
   ],
   "source": [
    "gpo = old.groupby('tweet_text').sum()\n",
    "gpo.shape"
   ]
  },
  {
   "cell_type": "markdown",
   "metadata": {},
   "source": [
    "### New dataset, saving only some columns"
   ]
  },
  {
   "cell_type": "code",
   "execution_count": 9,
   "metadata": {},
   "outputs": [
    {
     "name": "stderr",
     "output_type": "stream",
     "text": [
      "C:\\Users\\utente\\Anaconda3\\envs\\ada\\lib\\site-packages\\IPython\\core\\interactiveshell.py:2785: DtypeWarning: Columns (6,12,23,24) have mixed types. Specify dtype option on import or set low_memory=False.\n",
      "  interactivity=interactivity, compiler=compiler, result=result)\n"
     ]
    }
   ],
   "source": [
    "new = pd.read_csv(access_folder('generated') + 'FINAL_DF_WITH_TOPICS.csv', index_col=0)"
   ]
  },
  {
   "cell_type": "code",
   "execution_count": 10,
   "metadata": {},
   "outputs": [
    {
     "data": {
      "text/plain": [
       "(638046, 8)"
      ]
     },
     "execution_count": 10,
     "metadata": {},
     "output_type": "execute_result"
    }
   ],
   "source": [
    "new = new[['tweet_text', 'hashtags', 'topic', 'topic_scores', 'reply_count', 'like_count', 'retweet_count', 'user_mentions']]\n",
    "new.shape"
   ]
  },
  {
   "cell_type": "code",
   "execution_count": 11,
   "metadata": {},
   "outputs": [
    {
     "data": {
      "text/html": [
       "<div>\n",
       "<style scoped>\n",
       "    .dataframe tbody tr th:only-of-type {\n",
       "        vertical-align: middle;\n",
       "    }\n",
       "\n",
       "    .dataframe tbody tr th {\n",
       "        vertical-align: top;\n",
       "    }\n",
       "\n",
       "    .dataframe thead th {\n",
       "        text-align: right;\n",
       "    }\n",
       "</style>\n",
       "<table border=\"1\" class=\"dataframe\">\n",
       "  <thead>\n",
       "    <tr style=\"text-align: right;\">\n",
       "      <th></th>\n",
       "      <th>tweet_text</th>\n",
       "      <th>hashtags</th>\n",
       "      <th>topic</th>\n",
       "      <th>topic_scores</th>\n",
       "      <th>reply_count</th>\n",
       "      <th>like_count</th>\n",
       "      <th>retweet_count</th>\n",
       "      <th>user_mentions</th>\n",
       "    </tr>\n",
       "  </thead>\n",
       "  <tbody>\n",
       "    <tr>\n",
       "      <th>0</th>\n",
       "      <td>#FoodPoisoning is not a joke! #Walmart #KochFa...</td>\n",
       "      <td>[FoodPoisoning, Walmart, KochFarms]</td>\n",
       "      <td>Trump Support</td>\n",
       "      <td>[-8.1184225  -4.818271   -2.6408563  -0.574982...</td>\n",
       "      <td>0</td>\n",
       "      <td>0</td>\n",
       "      <td>15</td>\n",
       "      <td>NaN</td>\n",
       "    </tr>\n",
       "    <tr>\n",
       "      <th>1</th>\n",
       "      <td>#FoodPoisoning is not a joke! #Walmart #KochFa...</td>\n",
       "      <td>[FoodPoisoning, Walmart, KochFarms]</td>\n",
       "      <td>Trump Support</td>\n",
       "      <td>[-8.1184225  -4.818271   -2.6408563  -0.574982...</td>\n",
       "      <td>0</td>\n",
       "      <td>0</td>\n",
       "      <td>15</td>\n",
       "      <td>NaN</td>\n",
       "    </tr>\n",
       "  </tbody>\n",
       "</table>\n",
       "</div>"
      ],
      "text/plain": [
       "                                          tweet_text  \\\n",
       "0  #FoodPoisoning is not a joke! #Walmart #KochFa...   \n",
       "1  #FoodPoisoning is not a joke! #Walmart #KochFa...   \n",
       "\n",
       "                              hashtags          topic  \\\n",
       "0  [FoodPoisoning, Walmart, KochFarms]  Trump Support   \n",
       "1  [FoodPoisoning, Walmart, KochFarms]  Trump Support   \n",
       "\n",
       "                                        topic_scores  reply_count  like_count  \\\n",
       "0  [-8.1184225  -4.818271   -2.6408563  -0.574982...            0           0   \n",
       "1  [-8.1184225  -4.818271   -2.6408563  -0.574982...            0           0   \n",
       "\n",
       "   retweet_count user_mentions  \n",
       "0             15           NaN  \n",
       "1             15           NaN  "
      ]
     },
     "execution_count": 11,
     "metadata": {},
     "output_type": "execute_result"
    }
   ],
   "source": [
    "new.head(2)"
   ]
  },
  {
   "cell_type": "code",
   "execution_count": 12,
   "metadata": {},
   "outputs": [
    {
     "name": "stdout",
     "output_type": "stream",
     "text": [
      "(358060, 3)\n"
     ]
    },
    {
     "data": {
      "text/html": [
       "<div>\n",
       "<style scoped>\n",
       "    .dataframe tbody tr th:only-of-type {\n",
       "        vertical-align: middle;\n",
       "    }\n",
       "\n",
       "    .dataframe tbody tr th {\n",
       "        vertical-align: top;\n",
       "    }\n",
       "\n",
       "    .dataframe thead th {\n",
       "        text-align: right;\n",
       "    }\n",
       "</style>\n",
       "<table border=\"1\" class=\"dataframe\">\n",
       "  <thead>\n",
       "    <tr style=\"text-align: right;\">\n",
       "      <th></th>\n",
       "      <th>reply_count</th>\n",
       "      <th>like_count</th>\n",
       "      <th>retweet_count</th>\n",
       "    </tr>\n",
       "    <tr>\n",
       "      <th>tweet_text</th>\n",
       "      <th></th>\n",
       "      <th></th>\n",
       "      <th></th>\n",
       "    </tr>\n",
       "  </thead>\n",
       "  <tbody>\n",
       "    <tr>\n",
       "      <th>!!!!!!! A LIL LOUDER FOR THE WHITE FEMINISTS IN THE BACK https://t.co/Bui3f3S0sq</th>\n",
       "      <td>1</td>\n",
       "      <td>79</td>\n",
       "      <td>65</td>\n",
       "    </tr>\n",
       "    <tr>\n",
       "      <th>!!!!!!!! Great comment. At least we can fire 'em https://t.co/bc01nVr79o</th>\n",
       "      <td>0</td>\n",
       "      <td>2</td>\n",
       "      <td>10</td>\n",
       "    </tr>\n",
       "    <tr>\n",
       "      <th>!!!I I was getting to the place for an hour instead of 15 minutes. Just HOW... Like every pupil is driver lol https://t.co/H3IjhSRzao</th>\n",
       "      <td>0</td>\n",
       "      <td>16</td>\n",
       "      <td>8</td>\n",
       "    </tr>\n",
       "    <tr>\n",
       "      <th>!!!WARNING!!!GRAPHIC CONTENT!!! Footage allegedly shows #Kurdish civilians being shot by Turkish military #Cizre https://t.co/a1nBKKs3rn</th>\n",
       "      <td>4</td>\n",
       "      <td>15</td>\n",
       "      <td>70</td>\n",
       "    </tr>\n",
       "    <tr>\n",
       "      <th>!#RejectedTimeCapsuleItems Apparently, a time bomb http://t.co/safoMy1Az2</th>\n",
       "      <td>1</td>\n",
       "      <td>0</td>\n",
       "      <td>1</td>\n",
       "    </tr>\n",
       "  </tbody>\n",
       "</table>\n",
       "</div>"
      ],
      "text/plain": [
       "                                                    reply_count  like_count  \\\n",
       "tweet_text                                                                    \n",
       "!!!!!!! A LIL LOUDER FOR THE WHITE FEMINISTS IN...            1          79   \n",
       "!!!!!!!! Great comment. At least we can fire 'e...            0           2   \n",
       "!!!I I was getting to the place for an hour ins...            0          16   \n",
       "!!!WARNING!!!GRAPHIC CONTENT!!! Footage alleged...            4          15   \n",
       "!#RejectedTimeCapsuleItems Apparently, a time b...            1           0   \n",
       "\n",
       "                                                    retweet_count  \n",
       "tweet_text                                                         \n",
       "!!!!!!! A LIL LOUDER FOR THE WHITE FEMINISTS IN...             65  \n",
       "!!!!!!!! Great comment. At least we can fire 'e...             10  \n",
       "!!!I I was getting to the place for an hour ins...              8  \n",
       "!!!WARNING!!!GRAPHIC CONTENT!!! Footage alleged...             70  \n",
       "!#RejectedTimeCapsuleItems Apparently, a time b...              1  "
      ]
     },
     "execution_count": 12,
     "metadata": {},
     "output_type": "execute_result"
    }
   ],
   "source": [
    "gp = new.groupby('tweet_text').sum()\n",
    "print(gp.shape)\n",
    "gp.head()"
   ]
  },
  {
   "cell_type": "code",
   "execution_count": 13,
   "metadata": {},
   "outputs": [
    {
     "data": {
      "text/html": [
       "<div>\n",
       "<style scoped>\n",
       "    .dataframe tbody tr th:only-of-type {\n",
       "        vertical-align: middle;\n",
       "    }\n",
       "\n",
       "    .dataframe tbody tr th {\n",
       "        vertical-align: top;\n",
       "    }\n",
       "\n",
       "    .dataframe thead th {\n",
       "        text-align: right;\n",
       "    }\n",
       "</style>\n",
       "<table border=\"1\" class=\"dataframe\">\n",
       "  <thead>\n",
       "    <tr style=\"text-align: right;\">\n",
       "      <th></th>\n",
       "      <th>tweet_text</th>\n",
       "      <th>hashtags</th>\n",
       "      <th>topic</th>\n",
       "      <th>topic_scores</th>\n",
       "      <th>reply_count</th>\n",
       "      <th>like_count</th>\n",
       "      <th>retweet_count</th>\n",
       "      <th>user_mentions</th>\n",
       "    </tr>\n",
       "  </thead>\n",
       "  <tbody>\n",
       "    <tr>\n",
       "      <th>521090</th>\n",
       "      <td>Wow. Hadn't thought of it that way but that's ...</td>\n",
       "      <td>[BlackLivesMatter]</td>\n",
       "      <td>Black Support</td>\n",
       "      <td>[ -7.8478956  -8.217757   -7.6867266  -4.57260...</td>\n",
       "      <td>90</td>\n",
       "      <td>11709</td>\n",
       "      <td>13316</td>\n",
       "      <td>NaN</td>\n",
       "    </tr>\n",
       "    <tr>\n",
       "      <th>521091</th>\n",
       "      <td>Wow. Hadn't thought of it that way but that's ...</td>\n",
       "      <td>[BlackLivesMatter]</td>\n",
       "      <td>Black Support</td>\n",
       "      <td>[ -7.8478956  -8.217757   -7.6867266  -4.57260...</td>\n",
       "      <td>90</td>\n",
       "      <td>11709</td>\n",
       "      <td>13316</td>\n",
       "      <td>NaN</td>\n",
       "    </tr>\n",
       "    <tr>\n",
       "      <th>521092</th>\n",
       "      <td>Wow. Hadn't thought of it that way but that's ...</td>\n",
       "      <td>[BlackLivesMatter]</td>\n",
       "      <td>Black Support</td>\n",
       "      <td>[ -7.8478956  -8.217757   -7.6867266  -4.57260...</td>\n",
       "      <td>90</td>\n",
       "      <td>11709</td>\n",
       "      <td>13316</td>\n",
       "      <td>NaN</td>\n",
       "    </tr>\n",
       "    <tr>\n",
       "      <th>521093</th>\n",
       "      <td>Wow. Hadn't thought of it that way but that's ...</td>\n",
       "      <td>[BlackLivesMatter]</td>\n",
       "      <td>Black Support</td>\n",
       "      <td>[ -7.8478956  -8.217757   -7.6867266  -4.57260...</td>\n",
       "      <td>90</td>\n",
       "      <td>11709</td>\n",
       "      <td>13316</td>\n",
       "      <td>NaN</td>\n",
       "    </tr>\n",
       "    <tr>\n",
       "      <th>521094</th>\n",
       "      <td>Wow. Hadn't thought of it that way but that's ...</td>\n",
       "      <td>[BlackLivesMatter]</td>\n",
       "      <td>Black Support</td>\n",
       "      <td>[ -7.8478956  -8.217757   -7.6867266  -4.57260...</td>\n",
       "      <td>90</td>\n",
       "      <td>11709</td>\n",
       "      <td>13316</td>\n",
       "      <td>NaN</td>\n",
       "    </tr>\n",
       "    <tr>\n",
       "      <th>521095</th>\n",
       "      <td>Wow. Hadn't thought of it that way but that's ...</td>\n",
       "      <td>[BlackLivesMatter]</td>\n",
       "      <td>Black Support</td>\n",
       "      <td>[ -7.8478956  -8.217757   -7.6867266  -4.57260...</td>\n",
       "      <td>90</td>\n",
       "      <td>11709</td>\n",
       "      <td>13316</td>\n",
       "      <td>NaN</td>\n",
       "    </tr>\n",
       "    <tr>\n",
       "      <th>521096</th>\n",
       "      <td>Wow. Hadn't thought of it that way but that's ...</td>\n",
       "      <td>[BlackLivesMatter]</td>\n",
       "      <td>Black Support</td>\n",
       "      <td>[ -7.8478956  -8.217757   -7.6867266  -4.57260...</td>\n",
       "      <td>90</td>\n",
       "      <td>11709</td>\n",
       "      <td>13316</td>\n",
       "      <td>NaN</td>\n",
       "    </tr>\n",
       "  </tbody>\n",
       "</table>\n",
       "</div>"
      ],
      "text/plain": [
       "                                               tweet_text            hashtags  \\\n",
       "521090  Wow. Hadn't thought of it that way but that's ...  [BlackLivesMatter]   \n",
       "521091  Wow. Hadn't thought of it that way but that's ...  [BlackLivesMatter]   \n",
       "521092  Wow. Hadn't thought of it that way but that's ...  [BlackLivesMatter]   \n",
       "521093  Wow. Hadn't thought of it that way but that's ...  [BlackLivesMatter]   \n",
       "521094  Wow. Hadn't thought of it that way but that's ...  [BlackLivesMatter]   \n",
       "521095  Wow. Hadn't thought of it that way but that's ...  [BlackLivesMatter]   \n",
       "521096  Wow. Hadn't thought of it that way but that's ...  [BlackLivesMatter]   \n",
       "\n",
       "                topic                                       topic_scores  \\\n",
       "521090  Black Support  [ -7.8478956  -8.217757   -7.6867266  -4.57260...   \n",
       "521091  Black Support  [ -7.8478956  -8.217757   -7.6867266  -4.57260...   \n",
       "521092  Black Support  [ -7.8478956  -8.217757   -7.6867266  -4.57260...   \n",
       "521093  Black Support  [ -7.8478956  -8.217757   -7.6867266  -4.57260...   \n",
       "521094  Black Support  [ -7.8478956  -8.217757   -7.6867266  -4.57260...   \n",
       "521095  Black Support  [ -7.8478956  -8.217757   -7.6867266  -4.57260...   \n",
       "521096  Black Support  [ -7.8478956  -8.217757   -7.6867266  -4.57260...   \n",
       "\n",
       "        reply_count  like_count  retweet_count user_mentions  \n",
       "521090           90       11709          13316           NaN  \n",
       "521091           90       11709          13316           NaN  \n",
       "521092           90       11709          13316           NaN  \n",
       "521093           90       11709          13316           NaN  \n",
       "521094           90       11709          13316           NaN  \n",
       "521095           90       11709          13316           NaN  \n",
       "521096           90       11709          13316           NaN  "
      ]
     },
     "execution_count": 13,
     "metadata": {},
     "output_type": "execute_result"
    }
   ],
   "source": [
    "new[new.tweet_text == \"Wow. Hadn't thought of it that way but that's exactly what is happening. So true. #BlackLivesMatter https://t.co/ACxots9JCA\"]"
   ]
  },
  {
   "cell_type": "code",
   "execution_count": 14,
   "metadata": {},
   "outputs": [
    {
     "data": {
      "text/plain": [
       "<matplotlib.axes._subplots.AxesSubplot at 0x208004ff390>"
      ]
     },
     "execution_count": 14,
     "metadata": {},
     "output_type": "execute_result"
    },
    {
     "data": {
      "image/png": "[encoded data removed]",
      "text/plain": [
       "<Figure size 432x288 with 1 Axes>"
      ]
     },
     "metadata": {
      "needs_background": "light"
     },
     "output_type": "display_data"
    }
   ],
   "source": [
    "gp.like_count.hist(log=True, bins=50)"
   ]
  },
  {
   "cell_type": "code",
   "execution_count": 15,
   "metadata": {},
   "outputs": [],
   "source": [
    "partitioned_likes = gp.div(new.groupby('tweet_text').count().like_count.values, axis=0)"
   ]
  },
  {
   "cell_type": "code",
   "execution_count": 16,
   "metadata": {},
   "outputs": [
    {
     "data": {
      "text/html": [
       "<div>\n",
       "<style scoped>\n",
       "    .dataframe tbody tr th:only-of-type {\n",
       "        vertical-align: middle;\n",
       "    }\n",
       "\n",
       "    .dataframe tbody tr th {\n",
       "        vertical-align: top;\n",
       "    }\n",
       "\n",
       "    .dataframe thead th {\n",
       "        text-align: right;\n",
       "    }\n",
       "</style>\n",
       "<table border=\"1\" class=\"dataframe\">\n",
       "  <thead>\n",
       "    <tr style=\"text-align: right;\">\n",
       "      <th></th>\n",
       "      <th>reply_count</th>\n",
       "      <th>like_count</th>\n",
       "      <th>retweet_count</th>\n",
       "    </tr>\n",
       "    <tr>\n",
       "      <th>tweet_text</th>\n",
       "      <th></th>\n",
       "      <th></th>\n",
       "      <th></th>\n",
       "    </tr>\n",
       "  </thead>\n",
       "  <tbody>\n",
       "    <tr>\n",
       "      <th>Wow. Hadn't thought of it that way but that's exactly what is happening. So true. #BlackLivesMatter https://t.co/ACxots9JCA</th>\n",
       "      <td>90.0</td>\n",
       "      <td>11709.0</td>\n",
       "      <td>13316.0</td>\n",
       "    </tr>\n",
       "  </tbody>\n",
       "</table>\n",
       "</div>"
      ],
      "text/plain": [
       "                                                    reply_count  like_count  \\\n",
       "tweet_text                                                                    \n",
       "Wow. Hadn't thought of it that way but that's e...         90.0     11709.0   \n",
       "\n",
       "                                                    retweet_count  \n",
       "tweet_text                                                         \n",
       "Wow. Hadn't thought of it that way but that's e...        13316.0  "
      ]
     },
     "execution_count": 16,
     "metadata": {},
     "output_type": "execute_result"
    }
   ],
   "source": [
    "partitioned_likes[partitioned_likes.index == \"Wow. Hadn't thought of it that way but that's exactly what is happening. So true. #BlackLivesMatter https://t.co/ACxots9JCA\"]"
   ]
  },
  {
   "cell_type": "code",
   "execution_count": 17,
   "metadata": {},
   "outputs": [
    {
     "data": {
      "text/plain": [
       "<matplotlib.axes._subplots.AxesSubplot at 0x20800cc79e8>"
      ]
     },
     "execution_count": 17,
     "metadata": {},
     "output_type": "execute_result"
    },
    {
     "data": {
      "image/png": "[encoded data removed]",
      "text/plain": [
       "<Figure size 432x288 with 1 Axes>"
      ]
     },
     "metadata": {
      "needs_background": "light"
     },
     "output_type": "display_data"
    }
   ],
   "source": [
    "partitioned_likes.like_count.hist(bins=50, log=True)"
   ]
  },
  {
   "cell_type": "markdown",
   "metadata": {},
   "source": [
    "##### partitioned_likes is the counts variables divided by the amount of tweets there are of the same content, in order to put them again in the old dataset with an equal repartition"
   ]
  },
  {
   "cell_type": "markdown",
   "metadata": {},
   "source": [
    "### How many tweets are shared between old and new?"
   ]
  },
  {
   "cell_type": "code",
   "execution_count": 18,
   "metadata": {},
   "outputs": [
    {
     "data": {
      "text/plain": [
       "358060"
      ]
     },
     "execution_count": 18,
     "metadata": {},
     "output_type": "execute_result"
    }
   ],
   "source": [
    "shared_content = list(set(gp.index) & set(old.tweet_text.values))\n",
    "len(shared_content)"
   ]
  },
  {
   "cell_type": "markdown",
   "metadata": {},
   "source": [
    "##### extract the shared content from old"
   ]
  },
  {
   "cell_type": "code",
   "execution_count": 19,
   "metadata": {},
   "outputs": [
    {
     "data": {
      "text/plain": [
       "(411853, 9)"
      ]
     },
     "execution_count": 19,
     "metadata": {},
     "output_type": "execute_result"
    }
   ],
   "source": [
    "shared = old[old.tweet_text.isin(shared_content)]\n",
    "shared.shape"
   ]
  },
  {
   "cell_type": "code",
   "execution_count": 20,
   "metadata": {},
   "outputs": [
    {
     "data": {
      "text/html": [
       "<div>\n",
       "<style scoped>\n",
       "    .dataframe tbody tr th:only-of-type {\n",
       "        vertical-align: middle;\n",
       "    }\n",
       "\n",
       "    .dataframe tbody tr th {\n",
       "        vertical-align: top;\n",
       "    }\n",
       "\n",
       "    .dataframe thead th {\n",
       "        text-align: right;\n",
       "    }\n",
       "</style>\n",
       "<table border=\"1\" class=\"dataframe\">\n",
       "  <thead>\n",
       "    <tr style=\"text-align: right;\">\n",
       "      <th></th>\n",
       "      <th>author</th>\n",
       "      <th>tweet_text</th>\n",
       "      <th>language</th>\n",
       "      <th>publish_date</th>\n",
       "      <th>following</th>\n",
       "      <th>followers</th>\n",
       "      <th>post_type</th>\n",
       "      <th>retweet</th>\n",
       "      <th>account_category</th>\n",
       "    </tr>\n",
       "  </thead>\n",
       "  <tbody>\n",
       "    <tr>\n",
       "      <th>425</th>\n",
       "      <td>1D_NICOLE_</td>\n",
       "      <td>#FoodPoisoning is not a joke! #Walmart #KochFa...</td>\n",
       "      <td>English</td>\n",
       "      <td>2015-11-26 22:20:00</td>\n",
       "      <td>48</td>\n",
       "      <td>40</td>\n",
       "      <td>RETWEET</td>\n",
       "      <td>1</td>\n",
       "      <td>Fearmonger</td>\n",
       "    </tr>\n",
       "    <tr>\n",
       "      <th>426</th>\n",
       "      <td>1D_NICOLE_</td>\n",
       "      <td>Thanks God that #turkey i ate few days ago was...</td>\n",
       "      <td>English</td>\n",
       "      <td>2015-11-26 22:35:00</td>\n",
       "      <td>48</td>\n",
       "      <td>40</td>\n",
       "      <td>RETWEET</td>\n",
       "      <td>1</td>\n",
       "      <td>Fearmonger</td>\n",
       "    </tr>\n",
       "  </tbody>\n",
       "</table>\n",
       "</div>"
      ],
      "text/plain": [
       "         author                                         tweet_text language  \\\n",
       "425  1D_NICOLE_  #FoodPoisoning is not a joke! #Walmart #KochFa...  English   \n",
       "426  1D_NICOLE_  Thanks God that #turkey i ate few days ago was...  English   \n",
       "\n",
       "           publish_date  following  followers post_type  retweet  \\\n",
       "425 2015-11-26 22:20:00         48         40   RETWEET        1   \n",
       "426 2015-11-26 22:35:00         48         40   RETWEET        1   \n",
       "\n",
       "    account_category  \n",
       "425       Fearmonger  \n",
       "426       Fearmonger  "
      ]
     },
     "execution_count": 20,
     "metadata": {},
     "output_type": "execute_result"
    }
   ],
   "source": [
    "shared.head(2)"
   ]
  },
  {
   "cell_type": "markdown",
   "metadata": {},
   "source": [
    "##### add the counts columns"
   ]
  },
  {
   "cell_type": "code",
   "execution_count": 21,
   "metadata": {},
   "outputs": [
    {
     "data": {
      "text/html": [
       "<div>\n",
       "<style scoped>\n",
       "    .dataframe tbody tr th:only-of-type {\n",
       "        vertical-align: middle;\n",
       "    }\n",
       "\n",
       "    .dataframe tbody tr th {\n",
       "        vertical-align: top;\n",
       "    }\n",
       "\n",
       "    .dataframe thead th {\n",
       "        text-align: right;\n",
       "    }\n",
       "</style>\n",
       "<table border=\"1\" class=\"dataframe\">\n",
       "  <thead>\n",
       "    <tr style=\"text-align: right;\">\n",
       "      <th></th>\n",
       "      <th>col2</th>\n",
       "      <th>col3</th>\n",
       "    </tr>\n",
       "    <tr>\n",
       "      <th>col1</th>\n",
       "      <th></th>\n",
       "      <th></th>\n",
       "    </tr>\n",
       "  </thead>\n",
       "  <tbody>\n",
       "    <tr>\n",
       "      <th>1</th>\n",
       "      <td>3</td>\n",
       "      <td>5</td>\n",
       "    </tr>\n",
       "    <tr>\n",
       "      <th>1</th>\n",
       "      <td>4</td>\n",
       "      <td>6</td>\n",
       "    </tr>\n",
       "    <tr>\n",
       "      <th>2</th>\n",
       "      <td>44</td>\n",
       "      <td>66</td>\n",
       "    </tr>\n",
       "  </tbody>\n",
       "</table>\n",
       "</div>"
      ],
      "text/plain": [
       "      col2  col3\n",
       "col1            \n",
       "1        3     5\n",
       "1        4     6\n",
       "2       44    66"
      ]
     },
     "execution_count": 21,
     "metadata": {},
     "output_type": "execute_result"
    }
   ],
   "source": [
    "d = pd.DataFrame({'col1': [1, 1, 2], 'col2': [3, 4, 44], 'col3': [5, 6, 66]})\n",
    "d = d.set_index('col1')\n",
    "d"
   ]
  },
  {
   "cell_type": "code",
   "execution_count": 22,
   "metadata": {},
   "outputs": [
    {
     "data": {
      "text/html": [
       "<div>\n",
       "<style scoped>\n",
       "    .dataframe tbody tr th:only-of-type {\n",
       "        vertical-align: middle;\n",
       "    }\n",
       "\n",
       "    .dataframe tbody tr th {\n",
       "        vertical-align: top;\n",
       "    }\n",
       "\n",
       "    .dataframe thead th {\n",
       "        text-align: right;\n",
       "    }\n",
       "</style>\n",
       "<table border=\"1\" class=\"dataframe\">\n",
       "  <thead>\n",
       "    <tr style=\"text-align: right;\">\n",
       "      <th></th>\n",
       "      <th>col2</th>\n",
       "    </tr>\n",
       "    <tr>\n",
       "      <th>col1</th>\n",
       "      <th></th>\n",
       "    </tr>\n",
       "  </thead>\n",
       "  <tbody>\n",
       "    <tr>\n",
       "      <th>1</th>\n",
       "      <td>0</td>\n",
       "    </tr>\n",
       "    <tr>\n",
       "      <th>2</th>\n",
       "      <td>44</td>\n",
       "    </tr>\n",
       "  </tbody>\n",
       "</table>\n",
       "</div>"
      ],
      "text/plain": [
       "      col2\n",
       "col1      \n",
       "1        0\n",
       "2       44"
      ]
     },
     "execution_count": 22,
     "metadata": {},
     "output_type": "execute_result"
    }
   ],
   "source": [
    "e = pd.DataFrame({'col1': [1, 2], 'col2': [0, 44]})\n",
    "e = e.set_index('col1')\n",
    "e"
   ]
  },
  {
   "cell_type": "code",
   "execution_count": 23,
   "metadata": {},
   "outputs": [
    {
     "data": {
      "text/html": [
       "<div>\n",
       "<style scoped>\n",
       "    .dataframe tbody tr th:only-of-type {\n",
       "        vertical-align: middle;\n",
       "    }\n",
       "\n",
       "    .dataframe tbody tr th {\n",
       "        vertical-align: top;\n",
       "    }\n",
       "\n",
       "    .dataframe thead th {\n",
       "        text-align: right;\n",
       "    }\n",
       "</style>\n",
       "<table border=\"1\" class=\"dataframe\">\n",
       "  <thead>\n",
       "    <tr style=\"text-align: right;\">\n",
       "      <th></th>\n",
       "      <th>col2_x</th>\n",
       "      <th>col3</th>\n",
       "      <th>col2_y</th>\n",
       "    </tr>\n",
       "    <tr>\n",
       "      <th>col1</th>\n",
       "      <th></th>\n",
       "      <th></th>\n",
       "      <th></th>\n",
       "    </tr>\n",
       "  </thead>\n",
       "  <tbody>\n",
       "    <tr>\n",
       "      <th>1</th>\n",
       "      <td>3</td>\n",
       "      <td>5</td>\n",
       "      <td>0</td>\n",
       "    </tr>\n",
       "    <tr>\n",
       "      <th>1</th>\n",
       "      <td>4</td>\n",
       "      <td>6</td>\n",
       "      <td>0</td>\n",
       "    </tr>\n",
       "    <tr>\n",
       "      <th>2</th>\n",
       "      <td>44</td>\n",
       "      <td>66</td>\n",
       "      <td>44</td>\n",
       "    </tr>\n",
       "  </tbody>\n",
       "</table>\n",
       "</div>"
      ],
      "text/plain": [
       "      col2_x  col3  col2_y\n",
       "col1                      \n",
       "1          3     5       0\n",
       "1          4     6       0\n",
       "2         44    66      44"
      ]
     },
     "execution_count": 23,
     "metadata": {},
     "output_type": "execute_result"
    }
   ],
   "source": [
    "d.merge(e, how='left', on='col1')"
   ]
  },
  {
   "cell_type": "code",
   "execution_count": 24,
   "metadata": {},
   "outputs": [],
   "source": [
    "sha = shared.set_index('tweet_text')\n",
    "merged = sha.merge(partitioned_likes,  how='left', on = 'tweet_text')"
   ]
  },
  {
   "cell_type": "code",
   "execution_count": 25,
   "metadata": {},
   "outputs": [
    {
     "data": {
      "text/plain": [
       "(411853, 11)"
      ]
     },
     "execution_count": 25,
     "metadata": {},
     "output_type": "execute_result"
    }
   ],
   "source": [
    "merged.shape"
   ]
  },
  {
   "cell_type": "markdown",
   "metadata": {},
   "source": [
    "##### add the predictions and others..."
   ]
  },
  {
   "cell_type": "code",
   "execution_count": 26,
   "metadata": {},
   "outputs": [],
   "source": [
    "new.set_index('tweet_text', inplace=True)"
   ]
  },
  {
   "cell_type": "code",
   "execution_count": 27,
   "metadata": {},
   "outputs": [
    {
     "data": {
      "text/html": [
       "<div>\n",
       "<style scoped>\n",
       "    .dataframe tbody tr th:only-of-type {\n",
       "        vertical-align: middle;\n",
       "    }\n",
       "\n",
       "    .dataframe tbody tr th {\n",
       "        vertical-align: top;\n",
       "    }\n",
       "\n",
       "    .dataframe thead th {\n",
       "        text-align: right;\n",
       "    }\n",
       "</style>\n",
       "<table border=\"1\" class=\"dataframe\">\n",
       "  <thead>\n",
       "    <tr style=\"text-align: right;\">\n",
       "      <th></th>\n",
       "      <th>hashtags</th>\n",
       "      <th>topic</th>\n",
       "      <th>topic_scores</th>\n",
       "      <th>reply_count</th>\n",
       "      <th>like_count</th>\n",
       "      <th>retweet_count</th>\n",
       "      <th>user_mentions</th>\n",
       "    </tr>\n",
       "    <tr>\n",
       "      <th>tweet_text</th>\n",
       "      <th></th>\n",
       "      <th></th>\n",
       "      <th></th>\n",
       "      <th></th>\n",
       "      <th></th>\n",
       "      <th></th>\n",
       "      <th></th>\n",
       "    </tr>\n",
       "  </thead>\n",
       "  <tbody>\n",
       "    <tr>\n",
       "      <th>#FoodPoisoning is not a joke! #Walmart #KochFarms https://t.co/o4i3tFAEgv https://t.co/pv5lmkdWgE</th>\n",
       "      <td>[FoodPoisoning, Walmart, KochFarms]</td>\n",
       "      <td>Trump Support</td>\n",
       "      <td>[-8.1184225  -4.818271   -2.6408563  -0.574982...</td>\n",
       "      <td>0</td>\n",
       "      <td>0</td>\n",
       "      <td>15</td>\n",
       "      <td>NaN</td>\n",
       "    </tr>\n",
       "    <tr>\n",
       "      <th>#FoodPoisoning is not a joke! #Walmart #KochFarms https://t.co/o4i3tFAEgv https://t.co/pv5lmkdWgE</th>\n",
       "      <td>[FoodPoisoning, Walmart, KochFarms]</td>\n",
       "      <td>Trump Support</td>\n",
       "      <td>[-8.1184225  -4.818271   -2.6408563  -0.574982...</td>\n",
       "      <td>0</td>\n",
       "      <td>0</td>\n",
       "      <td>15</td>\n",
       "      <td>NaN</td>\n",
       "    </tr>\n",
       "    <tr>\n",
       "      <th>#FoodPoisoning is not a joke! #Walmart #KochFarms https://t.co/o4i3tFAEgv https://t.co/pv5lmkdWgE</th>\n",
       "      <td>[FoodPoisoning, Walmart, KochFarms]</td>\n",
       "      <td>Trump Support</td>\n",
       "      <td>[-8.1184225  -4.818271   -2.6408563  -0.574982...</td>\n",
       "      <td>0</td>\n",
       "      <td>0</td>\n",
       "      <td>15</td>\n",
       "      <td>NaN</td>\n",
       "    </tr>\n",
       "    <tr>\n",
       "      <th>#FoodPoisoning is not a joke! #Walmart #KochFarms https://t.co/o4i3tFAEgv https://t.co/pv5lmkdWgE</th>\n",
       "      <td>[FoodPoisoning, Walmart, KochFarms]</td>\n",
       "      <td>Trump Support</td>\n",
       "      <td>[-8.1184225  -4.818271   -2.6408563  -0.574982...</td>\n",
       "      <td>0</td>\n",
       "      <td>0</td>\n",
       "      <td>15</td>\n",
       "      <td>NaN</td>\n",
       "    </tr>\n",
       "  </tbody>\n",
       "</table>\n",
       "</div>"
      ],
      "text/plain": [
       "                                                                               hashtags  \\\n",
       "tweet_text                                                                                \n",
       "#FoodPoisoning is not a joke! #Walmart #KochFar...  [FoodPoisoning, Walmart, KochFarms]   \n",
       "#FoodPoisoning is not a joke! #Walmart #KochFar...  [FoodPoisoning, Walmart, KochFarms]   \n",
       "#FoodPoisoning is not a joke! #Walmart #KochFar...  [FoodPoisoning, Walmart, KochFarms]   \n",
       "#FoodPoisoning is not a joke! #Walmart #KochFar...  [FoodPoisoning, Walmart, KochFarms]   \n",
       "\n",
       "                                                            topic  \\\n",
       "tweet_text                                                          \n",
       "#FoodPoisoning is not a joke! #Walmart #KochFar...  Trump Support   \n",
       "#FoodPoisoning is not a joke! #Walmart #KochFar...  Trump Support   \n",
       "#FoodPoisoning is not a joke! #Walmart #KochFar...  Trump Support   \n",
       "#FoodPoisoning is not a joke! #Walmart #KochFar...  Trump Support   \n",
       "\n",
       "                                                                                         topic_scores  \\\n",
       "tweet_text                                                                                              \n",
       "#FoodPoisoning is not a joke! #Walmart #KochFar...  [-8.1184225  -4.818271   -2.6408563  -0.574982...   \n",
       "#FoodPoisoning is not a joke! #Walmart #KochFar...  [-8.1184225  -4.818271   -2.6408563  -0.574982...   \n",
       "#FoodPoisoning is not a joke! #Walmart #KochFar...  [-8.1184225  -4.818271   -2.6408563  -0.574982...   \n",
       "#FoodPoisoning is not a joke! #Walmart #KochFar...  [-8.1184225  -4.818271   -2.6408563  -0.574982...   \n",
       "\n",
       "                                                    reply_count  like_count  \\\n",
       "tweet_text                                                                    \n",
       "#FoodPoisoning is not a joke! #Walmart #KochFar...            0           0   \n",
       "#FoodPoisoning is not a joke! #Walmart #KochFar...            0           0   \n",
       "#FoodPoisoning is not a joke! #Walmart #KochFar...            0           0   \n",
       "#FoodPoisoning is not a joke! #Walmart #KochFar...            0           0   \n",
       "\n",
       "                                                    retweet_count  \\\n",
       "tweet_text                                                          \n",
       "#FoodPoisoning is not a joke! #Walmart #KochFar...             15   \n",
       "#FoodPoisoning is not a joke! #Walmart #KochFar...             15   \n",
       "#FoodPoisoning is not a joke! #Walmart #KochFar...             15   \n",
       "#FoodPoisoning is not a joke! #Walmart #KochFar...             15   \n",
       "\n",
       "                                                   user_mentions  \n",
       "tweet_text                                                        \n",
       "#FoodPoisoning is not a joke! #Walmart #KochFar...           NaN  \n",
       "#FoodPoisoning is not a joke! #Walmart #KochFar...           NaN  \n",
       "#FoodPoisoning is not a joke! #Walmart #KochFar...           NaN  \n",
       "#FoodPoisoning is not a joke! #Walmart #KochFar...           NaN  "
      ]
     },
     "execution_count": 27,
     "metadata": {},
     "output_type": "execute_result"
    }
   ],
   "source": [
    "new.head(4)"
   ]
  },
  {
   "cell_type": "markdown",
   "metadata": {},
   "source": [
    "##### Removing duplicate content, only to get one topic+hashtags+topic_scores per content (since they share the same columns content)"
   ]
  },
  {
   "cell_type": "code",
   "execution_count": 28,
   "metadata": {},
   "outputs": [
    {
     "name": "stderr",
     "output_type": "stream",
     "text": [
      "C:\\Users\\utente\\Anaconda3\\envs\\ada\\lib\\site-packages\\pandas\\core\\frame.py:3697: SettingWithCopyWarning: \n",
      "A value is trying to be set on a copy of a slice from a DataFrame\n",
      "\n",
      "See the caveats in the documentation: http://pandas.pydata.org/pandas-docs/stable/indexing.html#indexing-view-versus-copy\n",
      "  errors=errors)\n"
     ]
    },
    {
     "data": {
      "text/html": [
       "<div>\n",
       "<style scoped>\n",
       "    .dataframe tbody tr th:only-of-type {\n",
       "        vertical-align: middle;\n",
       "    }\n",
       "\n",
       "    .dataframe tbody tr th {\n",
       "        vertical-align: top;\n",
       "    }\n",
       "\n",
       "    .dataframe thead th {\n",
       "        text-align: right;\n",
       "    }\n",
       "</style>\n",
       "<table border=\"1\" class=\"dataframe\">\n",
       "  <thead>\n",
       "    <tr style=\"text-align: right;\">\n",
       "      <th></th>\n",
       "      <th>hashtags</th>\n",
       "      <th>topic</th>\n",
       "      <th>topic_scores</th>\n",
       "    </tr>\n",
       "    <tr>\n",
       "      <th>tweet_text</th>\n",
       "      <th></th>\n",
       "      <th></th>\n",
       "      <th></th>\n",
       "    </tr>\n",
       "  </thead>\n",
       "  <tbody>\n",
       "    <tr>\n",
       "      <th>#FoodPoisoning is not a joke! #Walmart #KochFarms https://t.co/o4i3tFAEgv https://t.co/pv5lmkdWgE</th>\n",
       "      <td>[FoodPoisoning, Walmart, KochFarms]</td>\n",
       "      <td>Trump Support</td>\n",
       "      <td>[-8.1184225  -4.818271   -2.6408563  -0.574982...</td>\n",
       "    </tr>\n",
       "    <tr>\n",
       "      <th>Thanks God that #turkey i ate few days ago was good. #KochFarms https://t.co/HSSve9bLt1 https://t.co/qR0Ykj3xyZ</th>\n",
       "      <td>[turkey, KochFarms]</td>\n",
       "      <td>Patriot</td>\n",
       "      <td>[ -9.862805   -4.7526827   4.4411793 -10.09800...</td>\n",
       "    </tr>\n",
       "    <tr>\n",
       "      <th>When we first met, I had no idea you’d become this important to me.</th>\n",
       "      <td>[]</td>\n",
       "      <td>Black Support</td>\n",
       "      <td>[  2.1860437  -4.266829   -7.4841847  -4.18709...</td>\n",
       "    </tr>\n",
       "    <tr>\n",
       "      <th>I want my little parrot to speak at last!!! #DumbGenieWishes</th>\n",
       "      <td>[DumbGenieWishes]</td>\n",
       "      <td>Trump Support</td>\n",
       "      <td>[-5.468153   -3.8110754   0.38878125 -7.120957...</td>\n",
       "    </tr>\n",
       "  </tbody>\n",
       "</table>\n",
       "</div>"
      ],
      "text/plain": [
       "                                                                               hashtags  \\\n",
       "tweet_text                                                                                \n",
       "#FoodPoisoning is not a joke! #Walmart #KochFar...  [FoodPoisoning, Walmart, KochFarms]   \n",
       "Thanks God that #turkey i ate few days ago was ...                  [turkey, KochFarms]   \n",
       "When we first met, I had no idea you’d become t...                                   []   \n",
       "I want my little parrot to speak at last!!! #Du...                    [DumbGenieWishes]   \n",
       "\n",
       "                                                            topic  \\\n",
       "tweet_text                                                          \n",
       "#FoodPoisoning is not a joke! #Walmart #KochFar...  Trump Support   \n",
       "Thanks God that #turkey i ate few days ago was ...        Patriot   \n",
       "When we first met, I had no idea you’d become t...  Black Support   \n",
       "I want my little parrot to speak at last!!! #Du...  Trump Support   \n",
       "\n",
       "                                                                                         topic_scores  \n",
       "tweet_text                                                                                             \n",
       "#FoodPoisoning is not a joke! #Walmart #KochFar...  [-8.1184225  -4.818271   -2.6408563  -0.574982...  \n",
       "Thanks God that #turkey i ate few days ago was ...  [ -9.862805   -4.7526827   4.4411793 -10.09800...  \n",
       "When we first met, I had no idea you’d become t...  [  2.1860437  -4.266829   -7.4841847  -4.18709...  \n",
       "I want my little parrot to speak at last!!! #Du...  [-5.468153   -3.8110754   0.38878125 -7.120957...  "
      ]
     },
     "execution_count": 28,
     "metadata": {},
     "output_type": "execute_result"
    }
   ],
   "source": [
    "dropped_dup = new[~new.index.duplicated(keep='first')]\n",
    "dropped_dup.drop(['reply_count', 'like_count', 'retweet_count', 'user_mentions'],axis=1, inplace=True)\n",
    "dropped_dup.head(4)"
   ]
  },
  {
   "cell_type": "code",
   "execution_count": 29,
   "metadata": {},
   "outputs": [
    {
     "data": {
      "text/plain": [
       "(411853, 14)"
      ]
     },
     "execution_count": 29,
     "metadata": {},
     "output_type": "execute_result"
    }
   ],
   "source": [
    "final = merged.merge(dropped_dup,  how='left', on = 'tweet_text')\n",
    "final.shape"
   ]
  },
  {
   "cell_type": "code",
   "execution_count": 30,
   "metadata": {},
   "outputs": [],
   "source": [
    "final['tweet_text'] = final.index\n",
    "final.index = np.arange(1, len(final) + 1)\n",
    "final.drop('language', axis=1, inplace=True)"
   ]
  },
  {
   "cell_type": "markdown",
   "metadata": {},
   "source": [
    "##### Removing the column retweet since the column post_type is more informative"
   ]
  },
  {
   "cell_type": "code",
   "execution_count": 32,
   "metadata": {},
   "outputs": [
    {
     "data": {
      "text/html": [
       "<div>\n",
       "<style scoped>\n",
       "    .dataframe tbody tr th:only-of-type {\n",
       "        vertical-align: middle;\n",
       "    }\n",
       "\n",
       "    .dataframe tbody tr th {\n",
       "        vertical-align: top;\n",
       "    }\n",
       "\n",
       "    .dataframe thead th {\n",
       "        text-align: right;\n",
       "    }\n",
       "</style>\n",
       "<table border=\"1\" class=\"dataframe\">\n",
       "  <thead>\n",
       "    <tr style=\"text-align: right;\">\n",
       "      <th></th>\n",
       "      <th>author</th>\n",
       "      <th>publish_date</th>\n",
       "      <th>following</th>\n",
       "      <th>followers</th>\n",
       "      <th>post_type</th>\n",
       "      <th>retweet</th>\n",
       "      <th>account_category</th>\n",
       "      <th>reply_count</th>\n",
       "      <th>like_count</th>\n",
       "      <th>retweet_count</th>\n",
       "      <th>hashtags</th>\n",
       "      <th>topic</th>\n",
       "      <th>topic_scores</th>\n",
       "      <th>tweet_text</th>\n",
       "    </tr>\n",
       "  </thead>\n",
       "  <tbody>\n",
       "    <tr>\n",
       "      <th>1</th>\n",
       "      <td>1D_NICOLE_</td>\n",
       "      <td>2015-11-26 22:20:00</td>\n",
       "      <td>48</td>\n",
       "      <td>40</td>\n",
       "      <td>RETWEET</td>\n",
       "      <td>1</td>\n",
       "      <td>Fearmonger</td>\n",
       "      <td>0.0</td>\n",
       "      <td>0.0</td>\n",
       "      <td>15.0</td>\n",
       "      <td>[FoodPoisoning, Walmart, KochFarms]</td>\n",
       "      <td>Trump Support</td>\n",
       "      <td>[-8.1184225  -4.818271   -2.6408563  -0.574982...</td>\n",
       "      <td>#FoodPoisoning is not a joke! #Walmart #KochFa...</td>\n",
       "    </tr>\n",
       "    <tr>\n",
       "      <th>2</th>\n",
       "      <td>1D_NICOLE_</td>\n",
       "      <td>2015-11-26 22:35:00</td>\n",
       "      <td>48</td>\n",
       "      <td>40</td>\n",
       "      <td>RETWEET</td>\n",
       "      <td>1</td>\n",
       "      <td>Fearmonger</td>\n",
       "      <td>1.0</td>\n",
       "      <td>0.0</td>\n",
       "      <td>20.0</td>\n",
       "      <td>[turkey, KochFarms]</td>\n",
       "      <td>Patriot</td>\n",
       "      <td>[ -9.862805   -4.7526827   4.4411793 -10.09800...</td>\n",
       "      <td>Thanks God that #turkey i ate few days ago was...</td>\n",
       "    </tr>\n",
       "    <tr>\n",
       "      <th>3</th>\n",
       "      <td>1D_NICOLE_</td>\n",
       "      <td>2015-09-06 15:26:00</td>\n",
       "      <td>59</td>\n",
       "      <td>53</td>\n",
       "      <td>TWEET</td>\n",
       "      <td>0</td>\n",
       "      <td>Fearmonger</td>\n",
       "      <td>0.0</td>\n",
       "      <td>0.0</td>\n",
       "      <td>0.0</td>\n",
       "      <td>[DumbGenieWishes]</td>\n",
       "      <td>Trump Support</td>\n",
       "      <td>[-5.468153   -3.8110754   0.38878125 -7.120957...</td>\n",
       "      <td>I want my little parrot to speak at last!!! #D...</td>\n",
       "    </tr>\n",
       "    <tr>\n",
       "      <th>4</th>\n",
       "      <td>1D_NICOLE_</td>\n",
       "      <td>2015-09-06 15:30:00</td>\n",
       "      <td>59</td>\n",
       "      <td>53</td>\n",
       "      <td>TWEET</td>\n",
       "      <td>0</td>\n",
       "      <td>Fearmonger</td>\n",
       "      <td>0.0</td>\n",
       "      <td>0.5</td>\n",
       "      <td>0.0</td>\n",
       "      <td>[DumbGenieWishes]</td>\n",
       "      <td>Black Support</td>\n",
       "      <td>[-3.9203706  -1.6616256  -0.85534257 -3.182626...</td>\n",
       "      <td>An everyday changing funny church sign #DumbGe...</td>\n",
       "    </tr>\n",
       "    <tr>\n",
       "      <th>5</th>\n",
       "      <td>1D_NICOLE_</td>\n",
       "      <td>2015-09-06 15:33:00</td>\n",
       "      <td>59</td>\n",
       "      <td>53</td>\n",
       "      <td>TWEET</td>\n",
       "      <td>0</td>\n",
       "      <td>Fearmonger</td>\n",
       "      <td>0.0</td>\n",
       "      <td>0.5</td>\n",
       "      <td>0.0</td>\n",
       "      <td>[YoLandi, DumbGenieWishes]</td>\n",
       "      <td>Black Support</td>\n",
       "      <td>[-7.635078   -1.9815104  -0.70070666 -4.231632...</td>\n",
       "      <td>I wish look like #YoLandi #DumbGenieWishes</td>\n",
       "    </tr>\n",
       "  </tbody>\n",
       "</table>\n",
       "</div>"
      ],
      "text/plain": [
       "       author        publish_date  following  followers post_type  retweet  \\\n",
       "1  1D_NICOLE_ 2015-11-26 22:20:00         48         40   RETWEET        1   \n",
       "2  1D_NICOLE_ 2015-11-26 22:35:00         48         40   RETWEET        1   \n",
       "3  1D_NICOLE_ 2015-09-06 15:26:00         59         53     TWEET        0   \n",
       "4  1D_NICOLE_ 2015-09-06 15:30:00         59         53     TWEET        0   \n",
       "5  1D_NICOLE_ 2015-09-06 15:33:00         59         53     TWEET        0   \n",
       "\n",
       "  account_category  reply_count  like_count  retweet_count  \\\n",
       "1       Fearmonger          0.0         0.0           15.0   \n",
       "2       Fearmonger          1.0         0.0           20.0   \n",
       "3       Fearmonger          0.0         0.0            0.0   \n",
       "4       Fearmonger          0.0         0.5            0.0   \n",
       "5       Fearmonger          0.0         0.5            0.0   \n",
       "\n",
       "                              hashtags          topic  \\\n",
       "1  [FoodPoisoning, Walmart, KochFarms]  Trump Support   \n",
       "2                  [turkey, KochFarms]        Patriot   \n",
       "3                    [DumbGenieWishes]  Trump Support   \n",
       "4                    [DumbGenieWishes]  Black Support   \n",
       "5           [YoLandi, DumbGenieWishes]  Black Support   \n",
       "\n",
       "                                        topic_scores  \\\n",
       "1  [-8.1184225  -4.818271   -2.6408563  -0.574982...   \n",
       "2  [ -9.862805   -4.7526827   4.4411793 -10.09800...   \n",
       "3  [-5.468153   -3.8110754   0.38878125 -7.120957...   \n",
       "4  [-3.9203706  -1.6616256  -0.85534257 -3.182626...   \n",
       "5  [-7.635078   -1.9815104  -0.70070666 -4.231632...   \n",
       "\n",
       "                                          tweet_text  \n",
       "1  #FoodPoisoning is not a joke! #Walmart #KochFa...  \n",
       "2  Thanks God that #turkey i ate few days ago was...  \n",
       "3  I want my little parrot to speak at last!!! #D...  \n",
       "4  An everyday changing funny church sign #DumbGe...  \n",
       "5         I wish look like #YoLandi #DumbGenieWishes  "
      ]
     },
     "execution_count": 32,
     "metadata": {},
     "output_type": "execute_result"
    }
   ],
   "source": [
    "final.head()"
   ]
  },
  {
   "cell_type": "code",
   "execution_count": 33,
   "metadata": {},
   "outputs": [
    {
     "data": {
      "text/plain": [
       "TWEET          374547\n",
       "RETWEET         31094\n",
       "QUOTE_TWEET      6212\n",
       "Name: post_type, dtype: int64"
      ]
     },
     "execution_count": 33,
     "metadata": {},
     "output_type": "execute_result"
    }
   ],
   "source": [
    "final.post_type.fillna('TWEET', inplace=True)\n",
    "final.drop('retweet', inplace=True, axis=1)\n",
    "final.post_type.value_counts()"
   ]
  },
  {
   "cell_type": "code",
   "execution_count": 34,
   "metadata": {},
   "outputs": [
    {
     "data": {
      "text/html": [
       "<div>\n",
       "<style scoped>\n",
       "    .dataframe tbody tr th:only-of-type {\n",
       "        vertical-align: middle;\n",
       "    }\n",
       "\n",
       "    .dataframe tbody tr th {\n",
       "        vertical-align: top;\n",
       "    }\n",
       "\n",
       "    .dataframe thead th {\n",
       "        text-align: right;\n",
       "    }\n",
       "</style>\n",
       "<table border=\"1\" class=\"dataframe\">\n",
       "  <thead>\n",
       "    <tr style=\"text-align: right;\">\n",
       "      <th></th>\n",
       "      <th>author</th>\n",
       "      <th>publish_date</th>\n",
       "      <th>following</th>\n",
       "      <th>followers</th>\n",
       "      <th>post_type</th>\n",
       "      <th>account_category</th>\n",
       "      <th>reply_count</th>\n",
       "      <th>like_count</th>\n",
       "      <th>retweet_count</th>\n",
       "      <th>hashtags</th>\n",
       "      <th>topic</th>\n",
       "      <th>topic_scores</th>\n",
       "      <th>tweet_text</th>\n",
       "    </tr>\n",
       "  </thead>\n",
       "  <tbody>\n",
       "    <tr>\n",
       "      <th>1</th>\n",
       "      <td>1D_NICOLE_</td>\n",
       "      <td>2015-11-26 22:20:00</td>\n",
       "      <td>48</td>\n",
       "      <td>40</td>\n",
       "      <td>RETWEET</td>\n",
       "      <td>Fearmonger</td>\n",
       "      <td>0.0</td>\n",
       "      <td>0.0</td>\n",
       "      <td>15.0</td>\n",
       "      <td>[FoodPoisoning, Walmart, KochFarms]</td>\n",
       "      <td>Trump Support</td>\n",
       "      <td>[-8.1184225  -4.818271   -2.6408563  -0.574982...</td>\n",
       "      <td>#FoodPoisoning is not a joke! #Walmart #KochFa...</td>\n",
       "    </tr>\n",
       "    <tr>\n",
       "      <th>2</th>\n",
       "      <td>1D_NICOLE_</td>\n",
       "      <td>2015-11-26 22:35:00</td>\n",
       "      <td>48</td>\n",
       "      <td>40</td>\n",
       "      <td>RETWEET</td>\n",
       "      <td>Fearmonger</td>\n",
       "      <td>1.0</td>\n",
       "      <td>0.0</td>\n",
       "      <td>20.0</td>\n",
       "      <td>[turkey, KochFarms]</td>\n",
       "      <td>Patriot</td>\n",
       "      <td>[ -9.862805   -4.7526827   4.4411793 -10.09800...</td>\n",
       "      <td>Thanks God that #turkey i ate few days ago was...</td>\n",
       "    </tr>\n",
       "    <tr>\n",
       "      <th>3</th>\n",
       "      <td>1D_NICOLE_</td>\n",
       "      <td>2015-09-06 15:26:00</td>\n",
       "      <td>59</td>\n",
       "      <td>53</td>\n",
       "      <td>TWEET</td>\n",
       "      <td>Fearmonger</td>\n",
       "      <td>0.0</td>\n",
       "      <td>0.0</td>\n",
       "      <td>0.0</td>\n",
       "      <td>[DumbGenieWishes]</td>\n",
       "      <td>Trump Support</td>\n",
       "      <td>[-5.468153   -3.8110754   0.38878125 -7.120957...</td>\n",
       "      <td>I want my little parrot to speak at last!!! #D...</td>\n",
       "    </tr>\n",
       "    <tr>\n",
       "      <th>4</th>\n",
       "      <td>1D_NICOLE_</td>\n",
       "      <td>2015-09-06 15:30:00</td>\n",
       "      <td>59</td>\n",
       "      <td>53</td>\n",
       "      <td>TWEET</td>\n",
       "      <td>Fearmonger</td>\n",
       "      <td>0.0</td>\n",
       "      <td>0.5</td>\n",
       "      <td>0.0</td>\n",
       "      <td>[DumbGenieWishes]</td>\n",
       "      <td>Black Support</td>\n",
       "      <td>[-3.9203706  -1.6616256  -0.85534257 -3.182626...</td>\n",
       "      <td>An everyday changing funny church sign #DumbGe...</td>\n",
       "    </tr>\n",
       "    <tr>\n",
       "      <th>5</th>\n",
       "      <td>1D_NICOLE_</td>\n",
       "      <td>2015-09-06 15:33:00</td>\n",
       "      <td>59</td>\n",
       "      <td>53</td>\n",
       "      <td>TWEET</td>\n",
       "      <td>Fearmonger</td>\n",
       "      <td>0.0</td>\n",
       "      <td>0.5</td>\n",
       "      <td>0.0</td>\n",
       "      <td>[YoLandi, DumbGenieWishes]</td>\n",
       "      <td>Black Support</td>\n",
       "      <td>[-7.635078   -1.9815104  -0.70070666 -4.231632...</td>\n",
       "      <td>I wish look like #YoLandi #DumbGenieWishes</td>\n",
       "    </tr>\n",
       "  </tbody>\n",
       "</table>\n",
       "</div>"
      ],
      "text/plain": [
       "       author        publish_date  following  followers post_type  \\\n",
       "1  1D_NICOLE_ 2015-11-26 22:20:00         48         40   RETWEET   \n",
       "2  1D_NICOLE_ 2015-11-26 22:35:00         48         40   RETWEET   \n",
       "3  1D_NICOLE_ 2015-09-06 15:26:00         59         53     TWEET   \n",
       "4  1D_NICOLE_ 2015-09-06 15:30:00         59         53     TWEET   \n",
       "5  1D_NICOLE_ 2015-09-06 15:33:00         59         53     TWEET   \n",
       "\n",
       "  account_category  reply_count  like_count  retweet_count  \\\n",
       "1       Fearmonger          0.0         0.0           15.0   \n",
       "2       Fearmonger          1.0         0.0           20.0   \n",
       "3       Fearmonger          0.0         0.0            0.0   \n",
       "4       Fearmonger          0.0         0.5            0.0   \n",
       "5       Fearmonger          0.0         0.5            0.0   \n",
       "\n",
       "                              hashtags          topic  \\\n",
       "1  [FoodPoisoning, Walmart, KochFarms]  Trump Support   \n",
       "2                  [turkey, KochFarms]        Patriot   \n",
       "3                    [DumbGenieWishes]  Trump Support   \n",
       "4                    [DumbGenieWishes]  Black Support   \n",
       "5           [YoLandi, DumbGenieWishes]  Black Support   \n",
       "\n",
       "                                        topic_scores  \\\n",
       "1  [-8.1184225  -4.818271   -2.6408563  -0.574982...   \n",
       "2  [ -9.862805   -4.7526827   4.4411793 -10.09800...   \n",
       "3  [-5.468153   -3.8110754   0.38878125 -7.120957...   \n",
       "4  [-3.9203706  -1.6616256  -0.85534257 -3.182626...   \n",
       "5  [-7.635078   -1.9815104  -0.70070666 -4.231632...   \n",
       "\n",
       "                                          tweet_text  \n",
       "1  #FoodPoisoning is not a joke! #Walmart #KochFa...  \n",
       "2  Thanks God that #turkey i ate few days ago was...  \n",
       "3  I want my little parrot to speak at last!!! #D...  \n",
       "4  An everyday changing funny church sign #DumbGe...  \n",
       "5         I wish look like #YoLandi #DumbGenieWishes  "
      ]
     },
     "execution_count": 34,
     "metadata": {},
     "output_type": "execute_result"
    }
   ],
   "source": [
    "final.head(5)"
   ]
  },
  {
   "cell_type": "markdown",
   "metadata": {},
   "source": [
    "##### Changing topics' names"
   ]
  },
  {
   "cell_type": "code",
   "execution_count": 35,
   "metadata": {},
   "outputs": [
    {
     "data": {
      "text/plain": [
       "Trump Support        93910\n",
       "Sports               84079\n",
       "Black Support        68307\n",
       "Entertainment        52155\n",
       "Health               37749\n",
       "Crime                21316\n",
       "Anti-Islam           17781\n",
       "Foreign Countries    13848\n",
       "Anti-Trump           13405\n",
       "Patriot               8825\n",
       "Fukushima              478\n",
       "Name: topic, dtype: int64"
      ]
     },
     "execution_count": 35,
     "metadata": {},
     "output_type": "execute_result"
    }
   ],
   "source": [
    "final.topic.value_counts()"
   ]
  },
  {
   "cell_type": "code",
   "execution_count": 36,
   "metadata": {},
   "outputs": [
    {
     "data": {
      "text/plain": [
       "Trump                93910\n",
       "Sports               84079\n",
       "Black                68307\n",
       "Entertainment        52155\n",
       "Health               37749\n",
       "Crime                21316\n",
       "Islam                17781\n",
       "Foreign Countries    13848\n",
       "Trump Adversaries    13405\n",
       "Patriot               8825\n",
       "Fukushima              478\n",
       "Name: topic, dtype: int64"
      ]
     },
     "execution_count": 36,
     "metadata": {},
     "output_type": "execute_result"
    }
   ],
   "source": [
    "final.topic = final.topic.replace({'Trump Support':'Trump',\\\n",
    "                                   'Black Support':'Black',\\\n",
    "                                   'Anti-Islam': 'Islam',\\\n",
    "                                   'Anti-Trump': 'Trump Adversaries'})\n",
    "final.topic.value_counts()"
   ]
  },
  {
   "cell_type": "code",
   "execution_count": 37,
   "metadata": {},
   "outputs": [
    {
     "data": {
      "text/html": [
       "<div>\n",
       "<style scoped>\n",
       "    .dataframe tbody tr th:only-of-type {\n",
       "        vertical-align: middle;\n",
       "    }\n",
       "\n",
       "    .dataframe tbody tr th {\n",
       "        vertical-align: top;\n",
       "    }\n",
       "\n",
       "    .dataframe thead th {\n",
       "        text-align: right;\n",
       "    }\n",
       "</style>\n",
       "<table border=\"1\" class=\"dataframe\">\n",
       "  <thead>\n",
       "    <tr style=\"text-align: right;\">\n",
       "      <th></th>\n",
       "      <th>author</th>\n",
       "      <th>publish_date</th>\n",
       "      <th>following</th>\n",
       "      <th>followers</th>\n",
       "      <th>post_type</th>\n",
       "      <th>account_category</th>\n",
       "      <th>reply_count</th>\n",
       "      <th>like_count</th>\n",
       "      <th>retweet_count</th>\n",
       "      <th>hashtags</th>\n",
       "      <th>topic</th>\n",
       "      <th>topic_scores</th>\n",
       "      <th>tweet_text</th>\n",
       "    </tr>\n",
       "  </thead>\n",
       "  <tbody>\n",
       "    <tr>\n",
       "      <th>1</th>\n",
       "      <td>1D_NICOLE_</td>\n",
       "      <td>2015-11-26 22:20:00</td>\n",
       "      <td>48</td>\n",
       "      <td>40</td>\n",
       "      <td>RETWEET</td>\n",
       "      <td>Fearmonger</td>\n",
       "      <td>0.0</td>\n",
       "      <td>0.0</td>\n",
       "      <td>15.0</td>\n",
       "      <td>[FoodPoisoning, Walmart, KochFarms]</td>\n",
       "      <td>Trump</td>\n",
       "      <td>[-8.1184225  -4.818271   -2.6408563  -0.574982...</td>\n",
       "      <td>#FoodPoisoning is not a joke! #Walmart #KochFa...</td>\n",
       "    </tr>\n",
       "    <tr>\n",
       "      <th>2</th>\n",
       "      <td>1D_NICOLE_</td>\n",
       "      <td>2015-11-26 22:35:00</td>\n",
       "      <td>48</td>\n",
       "      <td>40</td>\n",
       "      <td>RETWEET</td>\n",
       "      <td>Fearmonger</td>\n",
       "      <td>1.0</td>\n",
       "      <td>0.0</td>\n",
       "      <td>20.0</td>\n",
       "      <td>[turkey, KochFarms]</td>\n",
       "      <td>Patriot</td>\n",
       "      <td>[ -9.862805   -4.7526827   4.4411793 -10.09800...</td>\n",
       "      <td>Thanks God that #turkey i ate few days ago was...</td>\n",
       "    </tr>\n",
       "    <tr>\n",
       "      <th>3</th>\n",
       "      <td>1D_NICOLE_</td>\n",
       "      <td>2015-09-06 15:26:00</td>\n",
       "      <td>59</td>\n",
       "      <td>53</td>\n",
       "      <td>TWEET</td>\n",
       "      <td>Fearmonger</td>\n",
       "      <td>0.0</td>\n",
       "      <td>0.0</td>\n",
       "      <td>0.0</td>\n",
       "      <td>[DumbGenieWishes]</td>\n",
       "      <td>Trump</td>\n",
       "      <td>[-5.468153   -3.8110754   0.38878125 -7.120957...</td>\n",
       "      <td>I want my little parrot to speak at last!!! #D...</td>\n",
       "    </tr>\n",
       "    <tr>\n",
       "      <th>4</th>\n",
       "      <td>1D_NICOLE_</td>\n",
       "      <td>2015-09-06 15:30:00</td>\n",
       "      <td>59</td>\n",
       "      <td>53</td>\n",
       "      <td>TWEET</td>\n",
       "      <td>Fearmonger</td>\n",
       "      <td>0.0</td>\n",
       "      <td>0.5</td>\n",
       "      <td>0.0</td>\n",
       "      <td>[DumbGenieWishes]</td>\n",
       "      <td>Black</td>\n",
       "      <td>[-3.9203706  -1.6616256  -0.85534257 -3.182626...</td>\n",
       "      <td>An everyday changing funny church sign #DumbGe...</td>\n",
       "    </tr>\n",
       "    <tr>\n",
       "      <th>5</th>\n",
       "      <td>1D_NICOLE_</td>\n",
       "      <td>2015-09-06 15:33:00</td>\n",
       "      <td>59</td>\n",
       "      <td>53</td>\n",
       "      <td>TWEET</td>\n",
       "      <td>Fearmonger</td>\n",
       "      <td>0.0</td>\n",
       "      <td>0.5</td>\n",
       "      <td>0.0</td>\n",
       "      <td>[YoLandi, DumbGenieWishes]</td>\n",
       "      <td>Black</td>\n",
       "      <td>[-7.635078   -1.9815104  -0.70070666 -4.231632...</td>\n",
       "      <td>I wish look like #YoLandi #DumbGenieWishes</td>\n",
       "    </tr>\n",
       "  </tbody>\n",
       "</table>\n",
       "</div>"
      ],
      "text/plain": [
       "       author        publish_date  following  followers post_type  \\\n",
       "1  1D_NICOLE_ 2015-11-26 22:20:00         48         40   RETWEET   \n",
       "2  1D_NICOLE_ 2015-11-26 22:35:00         48         40   RETWEET   \n",
       "3  1D_NICOLE_ 2015-09-06 15:26:00         59         53     TWEET   \n",
       "4  1D_NICOLE_ 2015-09-06 15:30:00         59         53     TWEET   \n",
       "5  1D_NICOLE_ 2015-09-06 15:33:00         59         53     TWEET   \n",
       "\n",
       "  account_category  reply_count  like_count  retweet_count  \\\n",
       "1       Fearmonger          0.0         0.0           15.0   \n",
       "2       Fearmonger          1.0         0.0           20.0   \n",
       "3       Fearmonger          0.0         0.0            0.0   \n",
       "4       Fearmonger          0.0         0.5            0.0   \n",
       "5       Fearmonger          0.0         0.5            0.0   \n",
       "\n",
       "                              hashtags    topic  \\\n",
       "1  [FoodPoisoning, Walmart, KochFarms]    Trump   \n",
       "2                  [turkey, KochFarms]  Patriot   \n",
       "3                    [DumbGenieWishes]    Trump   \n",
       "4                    [DumbGenieWishes]    Black   \n",
       "5           [YoLandi, DumbGenieWishes]    Black   \n",
       "\n",
       "                                        topic_scores  \\\n",
       "1  [-8.1184225  -4.818271   -2.6408563  -0.574982...   \n",
       "2  [ -9.862805   -4.7526827   4.4411793 -10.09800...   \n",
       "3  [-5.468153   -3.8110754   0.38878125 -7.120957...   \n",
       "4  [-3.9203706  -1.6616256  -0.85534257 -3.182626...   \n",
       "5  [-7.635078   -1.9815104  -0.70070666 -4.231632...   \n",
       "\n",
       "                                          tweet_text  \n",
       "1  #FoodPoisoning is not a joke! #Walmart #KochFa...  \n",
       "2  Thanks God that #turkey i ate few days ago was...  \n",
       "3  I want my little parrot to speak at last!!! #D...  \n",
       "4  An everyday changing funny church sign #DumbGe...  \n",
       "5         I wish look like #YoLandi #DumbGenieWishes  "
      ]
     },
     "execution_count": 37,
     "metadata": {},
     "output_type": "execute_result"
    }
   ],
   "source": [
    "final.head()"
   ]
  },
  {
   "cell_type": "code",
   "execution_count": 39,
   "metadata": {},
   "outputs": [],
   "source": [
    "final.to_csv('Final_dataset.csv')"
   ]
  },
  {
   "cell_type": "code",
   "execution_count": null,
   "metadata": {},
   "outputs": [],
   "source": []
  },
  {
   "cell_type": "code",
   "execution_count": null,
   "metadata": {},
   "outputs": [],
   "source": []
  },
  {
   "cell_type": "code",
   "execution_count": null,
   "metadata": {},
   "outputs": [],
   "source": []
  },
  {
   "cell_type": "code",
   "execution_count": null,
   "metadata": {},
   "outputs": [],
   "source": []
  },
  {
   "cell_type": "code",
   "execution_count": null,
   "metadata": {},
   "outputs": [],
   "source": []
  },
  {
   "cell_type": "markdown",
   "metadata": {},
   "source": [
    "# other stuff"
   ]
  },
  {
   "cell_type": "code",
   "execution_count": null,
   "metadata": {},
   "outputs": [],
   "source": [
    "import requests\n",
    "from bs4 import BeautifulSoup\n",
    "import lxml\n",
    "\n",
    "#https://en.wikipedia.org/wiki/List_of_largest_cities_of_U.S._states_and_territories_by_population\n",
    "# Scrape wikipedia table for american cities and states\n",
    "website = requests.get('https://simple.wikipedia.org/wiki/List_of_U.S._states%27_largest_cities').text\n",
    "soup = BeautifulSoup(website,'html.parser')\n",
    "My_table = soup.find('table',{'class':'wikitable sortable mw-collapsible'})\n",
    "links = My_table.find_all('a')\n",
    "\n",
    "places = []\n",
    "for link in links:\n",
    "    places.append(link.get('title'))\n",
    "    \n",
    "city_clean = list(filter(None.__ne__, places)) # Drop None values\n",
    "cities = {}\n",
    "\n",
    "\n",
    "for entry in city_clean:\n",
    "    split=entry.split(', ')\n",
    "    if len(split) == 1:\n",
    "        cities[split[0]] = []\n",
    "    else:\n",
    "        if split[1] in cities.keys():\n",
    "            cities[split[1]].append(split[0]) \n",
    "state_n_city = []\n",
    "for state in cities.keys():\n",
    "    state_list = []\n",
    "    state_cities = cities[state]\n",
    "    for city in state_cities:\n",
    "        state_list.append(city + '|' + city.lower())\n",
    "    state_list.append(state + '|' + state.lower())\n",
    "    state_list = '|'.join(state_list)\n",
    "    state_n_city.append([state, state_list])\n",
    "    \n",
    "state_n_city_dict = {}\n",
    "for state in state_n_city:\n",
    "    state_n_city_dict[state[0]] = state[1]\n",
    "\n",
    "state_n_city_dict['Georgia (U.S. state)'] += '|Georgia|georgia'"
   ]
  },
  {
   "cell_type": "code",
   "execution_count": null,
   "metadata": {},
   "outputs": [],
   "source": [
    "state_n_city_dict"
   ]
  },
  {
   "cell_type": "code",
   "execution_count": null,
   "metadata": {
    "scrolled": false
   },
   "outputs": [],
   "source": [
    "with pd.option_context('display.max_rows', None, 'display.max_columns', None):\n",
    "    print(final.author.value_counts())"
   ]
  },
  {
   "cell_type": "markdown",
   "metadata": {},
   "source": [
    "### Checkin benja dataset"
   ]
  },
  {
   "cell_type": "code",
   "execution_count": null,
   "metadata": {},
   "outputs": [],
   "source": [
    "ben = pd.read_csv(access_folder('generated')+'final_merged_tweets.csv')\n",
    "ben.head()"
   ]
  },
  {
   "cell_type": "code",
   "execution_count": null,
   "metadata": {},
   "outputs": [],
   "source": [
    "ben['publish_date'] = pd.to_datetime(ben['publish_date'], format='%Y-%m-%d %H:%M:%S')\n",
    "ben = ben[(ben.publish_date > '2015-08') & (ben.publish_date < '2016-11-08')]\n",
    "ben.shape"
   ]
  },
  {
   "cell_type": "code",
   "execution_count": null,
   "metadata": {},
   "outputs": [],
   "source": []
  }
 ],
 "metadata": {
  "kernelspec": {
   "display_name": "Python 3",
   "language": "python",
   "name": "python3"
  },
  "language_info": {
   "codemirror_mode": {
    "name": "ipython",
    "version": 3
   },
   "file_extension": ".py",
   "mimetype": "text/x-python",
   "name": "python",
   "nbconvert_exporter": "python",
   "pygments_lexer": "ipython3",
   "version": "3.6.6"
  }
 },
 "nbformat": 4,
 "nbformat_minor": 2
}
