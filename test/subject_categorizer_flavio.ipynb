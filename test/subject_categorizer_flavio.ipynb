{
 "cells": [
  {
   "cell_type": "code",
   "execution_count": 255,
   "metadata": {},
   "outputs": [],
   "source": [
    "# Imports\n",
    "import pandas as pd\n",
    "import gensim\n",
    "import numpy as np\n",
    "import nltk\n",
    "import re\n",
    "\n",
    "from helpers  import *\n",
    "\n",
    "from gensim.utils import simple_preprocess\n",
    "from gensim.parsing.preprocessing import remove_stopwords\n",
    "from nltk.stem import WordNetLemmatizer, SnowballStemmer\n",
    "from nltk.stem.porter import *\n",
    "\n",
    "#nltk.download('wordnet')\n",
    "\n",
    "np.random.seed(2018) # set random seed\n"
   ]
  },
  {
   "cell_type": "code",
   "execution_count": 256,
   "metadata": {},
   "outputs": [],
   "source": [
    "import spacy\n",
    "spacy.load('en_core_web_sm')\n",
    "from spacy.lang.en import English\n",
    "parser = English()\n",
    "\n",
    "#import parser able to cut sentences into english words\n",
    "\n",
    "def tokenize(text):\n",
    "    '''\n",
    "    cuts the sentences into words, performs also specific operations on URLs and @, plus lowercasing\n",
    "    '''\n",
    "    lda_tokens = []\n",
    "    tokens = parser(text)\n",
    "    for token in tokens:\n",
    "        if token.orth_.isspace():\n",
    "            continue\n",
    "        elif token.like_url:\n",
    "            lda_tokens.append('URL')\n",
    "        elif token.orth_.startswith('@'):\n",
    "#             lda_tokens.append('SCREEN_NAME')\n",
    "            #PROBABLY BETTER THIS ONE BUT LDA CRASHES DUE TO THE HUGE NUMBER OF WORDS WITH 1 OCCURRENCE (NEED TO AGGREGATE)\n",
    "            lda_tokens.append(token.string[1:].lower())\n",
    "        else:\n",
    "            lda_tokens.append(token.lower_)\n",
    "    return lda_tokens"
   ]
  },
  {
   "cell_type": "code",
   "execution_count": 257,
   "metadata": {},
   "outputs": [
    {
     "name": "stdout",
     "output_type": "stream",
     "text": [
      "a \n",
      "acca \n",
      " \n",
      "lu\n",
      " \n",
      "ciao\n"
     ]
    },
    {
     "data": {
      "text/plain": [
       "['la', 'cacca', 'è', 'blu', ',', 'ciao']"
      ]
     },
     "execution_count": 257,
     "metadata": {},
     "output_type": "execute_result"
    }
   ],
   "source": [
    "token = parser('La CACca è blu, @ciao')\n",
    "for tok in token:\n",
    "    print(tok.string[1:].lower())\n",
    "    \n",
    "tokenize('La CACca è blu, @ciao')"
   ]
  },
  {
   "cell_type": "code",
   "execution_count": 258,
   "metadata": {},
   "outputs": [
    {
     "data": {
      "text/plain": [
       "'Marshawn Lynch arrives to game in anti-Trump shirt. Judging by his sagging pants the shirt should say Lynch vs. belt https://t.co/mLH1i30LZZ'"
      ]
     },
     "execution_count": 258,
     "metadata": {},
     "output_type": "execute_result"
    }
   ],
   "source": [
    "# Load data\n",
    "tweets1 = pd.read_csv(access_folder('data') + 'IRAhandle_tweets_1.csv')\n",
    "\n",
    "# selecting content columns for subject categorization (all should be in english)\n",
    "content = tweets1[tweets1.language == 'English'].content\n",
    "\n",
    "content[1]"
   ]
  },
  {
   "cell_type": "code",
   "execution_count": 259,
   "metadata": {},
   "outputs": [
    {
     "data": {
      "text/plain": [
       "1     Marshawn Lynch arrives to game in anti-Trump s...\n",
       "2     Daughter of fallen Navy Sailor delivers powerf...\n",
       "3     JUST IN: President Trump dedicates Presidents ...\n",
       "4     19,000 RESPECTING our National Anthem! #StandF...\n",
       "5     Dan Bongino: \"Nobody trolls liberals better th...\n",
       "6                           🐝🐝🐝 https://t.co/MorL3AQW0z\n",
       "7     '@SenatorMenendez @CarmenYulinCruz Doesn't mat...\n",
       "8     As much as I hate promoting CNN article, here ...\n",
       "9     After the 'genocide' remark from San Juan Mayo...\n",
       "10    After the 'genocide' remark from San Juan Mayo...\n",
       "11    '@thehill Why won't she apologize to us for ly...\n",
       "12    Sarah Sanders destroys NBC reporter: \"Trump ma...\n",
       "13    Hi @MichelleObama, remember when you said Wein...\n",
       "14    Hi @MichelleObama, remember when you praised H...\n",
       "15    Wow! Even CNN is slamming the Obamas for silen...\n",
       "16    First lady Melania Trump visits infant opioid ...\n",
       "17    BREAKING: The audio of sexual predator Harvey ...\n",
       "18                   '@Breaking911 Build that wall!! 👍'\n",
       "19    \"It took Hillary abt 5 minutes to blame NRA fo...\n",
       "20    Because he hates women so much, President Trum...\n",
       "21    Congrats to Kirstjen Nielsen, our next Secreta...\n",
       "22    Pres. Trump: \"We want lower taxes, bigger payc...\n",
       "23    I am an Eagle Scout   Only boys should be in B...\n",
       "24    This Eminem freestyle proves that celebs still...\n",
       "25    Do you agree with the Boy Scouts for allowing ...\n",
       "26    Pres. Trump just dropped a NUKE-truth-bomb: \"T...\n",
       "27    Chief of Staff John Kelly destroys liberal rep...\n",
       "28    Network news has become so partisan, distorted...\n",
       "29    So we’ve gone from “Russia literally hacked th...\n",
       "30    To be clear, when we say \"Pokémon Go was used\"...\n",
       "                            ...                        \n",
       "60    Health Insurance stocks, which have gone throu...\n",
       "61    #FakeNews MSM has been out to get President Tr...\n",
       "62    President Trump tweeted this back in 2012. htt...\n",
       "63    President Trump tweeted this back in 2012. htt...\n",
       "64    Liberal's are the most hate filled, racist, hy...\n",
       "65    Photo of NFL players today protesting domestic...\n",
       "66    I have no sympathy for Hayley Geftman-Gold. #L...\n",
       "67    President Trump and first lady Melania Trump l...\n",
       "68    Ignorant, irrelevant and exploitative https://...\n",
       "69    #LasVegasShooting victim Sonny Melton was a Te...\n",
       "70    TMZ now reporting Tom Petty is still “clinging...\n",
       "71    Thousands of Americans are waiting in line to ...\n",
       "72    Here is video of woman approaching the man say...\n",
       "73    Tom Petty hearing the reports of his own death...\n",
       "74                    '@Cernovich @KFILE JOURNALISM 😱😱'\n",
       "75    Sunrise Hospital in Las Vegas today.. Let’s ta...\n",
       "76    Will players “take a knee” tonight to protest ...\n",
       "77    Wow.. this man was literally standing when eve...\n",
       "78    Crybaby Marshawn Lynch of the Oakland Raiders ...\n",
       "79    The truth about Puerto Rico 🇵🇷 &amp; it's not ...\n",
       "80    FEMA deputy rips Democrat San Juan Mayor: \"She...\n",
       "81    WOW! CNN cuts off former Puerto Rico AG after ...\n",
       "82    Police stand-up and rush in to save lives in L...\n",
       "83    '@CNN in hysterics as Puerto Rico FULLY EMBRAC...\n",
       "84    A couple hours before the Las Vegas Mass Shoot...\n",
       "85                        '@AP_Politics This is tragic'\n",
       "86    .@POTUS and @FLOTUS meet with storm survivors ...\n",
       "87    Kids, choose your idols wisely https://t.co/rq...\n",
       "88    House Democrat Katherine Clark refuses to part...\n",
       "89    The Senate Intel Committee basically confirms ...\n",
       "Name: content, Length: 89, dtype: object"
      ]
     },
     "execution_count": 259,
     "metadata": {},
     "output_type": "execute_result"
    }
   ],
   "source": [
    "content[1:90]"
   ]
  },
  {
   "cell_type": "code",
   "execution_count": 260,
   "metadata": {},
   "outputs": [
    {
     "name": "stdout",
     "output_type": "stream",
     "text": [
      "[nltk_data] Downloading package wordnet to\n",
      "[nltk_data]     C:\\Users\\utente\\AppData\\Roaming\\nltk_data...\n",
      "[nltk_data]   Package wordnet is already up-to-date!\n"
     ]
    }
   ],
   "source": [
    "import nltk\n",
    "nltk.download('wordnet')\n",
    "\n",
    "from nltk.corpus import wordnet as wn\n",
    "\n",
    "def get_lemma(word):\n",
    "    '''\n",
    "    To be understood better, it should transform words into their roots\n",
    "    '''\n",
    "    lemma = wn.morphy(word)\n",
    "    if lemma is None:\n",
    "        return word\n",
    "    else:\n",
    "        return lemma\n",
    "    \n",
    "from nltk.stem.wordnet import WordNetLemmatizer\n",
    "\n",
    "def get_lemma2(word):\n",
    "    '''\n",
    "    To be understood better, it should transform words into their roots. DIFFERENT VERSION\n",
    "    '''\n",
    "    return WordNetLemmatizer().lemmatize(word)"
   ]
  },
  {
   "cell_type": "code",
   "execution_count": 261,
   "metadata": {},
   "outputs": [
    {
     "name": "stdout",
     "output_type": "stream",
     "text": [
      "[nltk_data] Downloading package stopwords to\n",
      "[nltk_data]     C:\\Users\\utente\\AppData\\Roaming\\nltk_data...\n",
      "[nltk_data]   Package stopwords is already up-to-date!\n",
      "{'your', 'is', 'from', 'she', 'few', 't', 'yours', 'what', 'that', 'him', 'mightn', \"isn't\", 'up', 'needn', 'weren', 'but', 'not', 'out', 'in', 'very', 'during', 'whom', 'after', 'between', 'herself', 'having', 'you', \"won't\", 'nor', 'don', \"hasn't\", \"wouldn't\", 'won', 'didn', 'the', 'of', 'wouldn', \"mightn't\", 'while', 'do', 'ain', 'm', \"you'd\", 'our', 'which', 'll', \"don't\", \"mustn't\", 'these', 'shouldn', 'was', 'be', 'because', 'will', 'myself', 'only', 'them', 'with', 'those', 'off', 'for', 'over', 'yourself', 'a', 'd', 'each', 'have', \"couldn't\", 'any', 'more', 'being', \"you've\", 'me', 'did', 'their', 'we', 'can', 'her', 'y', \"hadn't\", 'too', 'so', 'when', 'it', 's', \"shan't\", 'yourselves', 'aren', 'how', 'here', 'all', 'has', 'by', \"aren't\", 'and', 'who', 'where', 'ma', 'own', \"you're\", 'below', 'on', 'hasn', 'had', 'hadn', 're', 'itself', 'are', 'ourselves', 've', 'himself', 'theirs', 'no', 'i', 'most', 'doesn', 'at', 'his', 'were', 'my', 'wasn', 'into', 'why', 'to', 'down', 'if', 'than', 'or', 'isn', \"weren't\", 'under', 'o', 'this', \"shouldn't\", \"wasn't\", 'against', \"you'll\", 'same', 'haven', 'its', 'an', 'there', \"should've\", \"it's\", \"didn't\", 'until', 'both', 'then', 'he', 'they', 'hers', 'before', 'am', 'as', 'once', 'now', 'again', 'just', 'further', 'shan', 'some', \"doesn't\", \"haven't\", 'mustn', 'should', 'does', 'couldn', 'above', 'other', 'doing', 'about', \"that'll\", 'themselves', 'through', 'such', 'ours', \"needn't\", 'been', \"she's\"}\n"
     ]
    }
   ],
   "source": [
    "nltk.download('stopwords')\n",
    "\n",
    "#define set of stopwords to be ignored \n",
    "\n",
    "en_stop = set(nltk.corpus.stopwords.words('english'))\n",
    "print(en_stop)"
   ]
  },
  {
   "cell_type": "code",
   "execution_count": 262,
   "metadata": {},
   "outputs": [],
   "source": [
    "def prepare_text_for_lda(text, filter_size = 3):\n",
    "    \n",
    "    '''\n",
    "    Collection of all function described above + filtering for short words (default > 3 letters)\n",
    "    '''\n",
    "    \n",
    "    tokens = tokenize(text)\n",
    "    tokens = [token for token in tokens if len(token) > filter_size]\n",
    "    tokens = [token for token in tokens if token not in en_stop]\n",
    "    tokens = [get_lemma(token) for token in tokens]\n",
    "    return tokens"
   ]
  },
  {
   "cell_type": "code",
   "execution_count": 263,
   "metadata": {},
   "outputs": [],
   "source": [
    "#apply transformation to every tweets to fit the lda datatype\n",
    "\n",
    "import random\n",
    "text_data = []\n",
    "for line in content:\n",
    "    tokens = prepare_text_for_lda(line)\n",
    "#     if random.random() > .9999:\n",
    "#         print(tokens)\n",
    "    text_data.append(tokens)"
   ]
  },
  {
   "cell_type": "code",
   "execution_count": 265,
   "metadata": {},
   "outputs": [
    {
     "data": {
      "text/plain": [
       "[['marshawn',\n",
       "  'lynch',\n",
       "  'arrive',\n",
       "  'game',\n",
       "  'anti',\n",
       "  'trump',\n",
       "  'shirt',\n",
       "  'judging',\n",
       "  'sag',\n",
       "  'pants',\n",
       "  'shirt',\n",
       "  'lynch',\n",
       "  'belt'],\n",
       " ['daughter',\n",
       "  'fall',\n",
       "  'navy',\n",
       "  'sailor',\n",
       "  'deliver',\n",
       "  'powerful',\n",
       "  'monologue',\n",
       "  'anthem',\n",
       "  'protest',\n",
       "  'burns',\n",
       "  'packer',\n",
       "  'gear',\n",
       "  'boycottnfl'],\n",
       " ['president',\n",
       "  'trump',\n",
       "  'dedicate',\n",
       "  'president',\n",
       "  'golf',\n",
       "  'tournament',\n",
       "  'trophy',\n",
       "  'people',\n",
       "  'florida',\n",
       "  'texas',\n",
       "  'puerto',\n",
       "  'rico'],\n",
       " ['19,000', 'respect', 'national', 'anthem', 'standforouranthem'],\n",
       " ['bongino',\n",
       "  'nobody',\n",
       "  'troll',\n",
       "  'liberal',\n",
       "  'better',\n",
       "  'donald',\n",
       "  'trump',\n",
       "  'exactly'],\n",
       " ['senatormenendez ',\n",
       "  'carmenyulincruz ',\n",
       "  'matter',\n",
       "  'report',\n",
       "  'crime',\n",
       "  'change',\n",
       "  'fact',\n",
       "  'going'],\n",
       " ['much',\n",
       "  'hate',\n",
       "  'promote',\n",
       "  'article',\n",
       "  'admit',\n",
       "  'everything',\n",
       "  'trump',\n",
       "  'say',\n",
       "  'relief',\n",
       "  'days'],\n",
       " ['genocide',\n",
       "  'remark',\n",
       "  'juan',\n",
       "  'mayor',\n",
       "  'narrative',\n",
       "  'change',\n",
       "  'though',\n",
       "  'cnn ',\n",
       "  'fix',\n",
       "  'reporting',\n",
       "  'constantly'],\n",
       " ['genocide',\n",
       "  'remark',\n",
       "  'juan',\n",
       "  'mayor',\n",
       "  'narrative',\n",
       "  'change',\n",
       "  'though',\n",
       "  'cnn ',\n",
       "  'fix',\n",
       "  'reporting',\n",
       "  'constantly']]"
      ]
     },
     "execution_count": 265,
     "metadata": {},
     "output_type": "execute_result"
    }
   ],
   "source": [
    "# drop the empty lines\n",
    "text_data = [x for x in text_data if x != []]\n"
   ]
  },
  {
   "cell_type": "code",
   "execution_count": 266,
   "metadata": {},
   "outputs": [],
   "source": [
    "from gensim import corpora\n",
    "dictionary = corpora.Dictionary(text_data)\n",
    "\n",
    "#Build corpus of frequency occurrencies\n",
    "\n",
    "corpus = [dictionary.doc2bow(text) for text in text_data]"
   ]
  },
  {
   "cell_type": "code",
   "execution_count": 268,
   "metadata": {},
   "outputs": [
    {
     "data": {
      "text/plain": [
       "'1.11.3'"
      ]
     },
     "execution_count": 268,
     "metadata": {},
     "output_type": "execute_result"
    }
   ],
   "source": [
    "np.version.version\n"
   ]
  },
  {
   "cell_type": "code",
   "execution_count": 269,
   "metadata": {},
   "outputs": [],
   "source": [
    "'''\n",
    "Train the model: \n",
    "-NUM_TOPICS: must be tuned with human judgement;\n",
    "\n",
    "-alpha     : tunes the number of topics that could generate one word,\n",
    "           the lower alpha the easier it is to get a word belonging only to few topics\n",
    "'''\n",
    "\n",
    "NUM_TOPICS = 20\n",
    "ldamodel = gensim.models.ldamodel.LdaModel(corpus, num_topics = NUM_TOPICS, id2word=dictionary, passes=2)"
   ]
  },
  {
   "cell_type": "code",
   "execution_count": 270,
   "metadata": {},
   "outputs": [
    {
     "name": "stdout",
     "output_type": "stream",
     "text": [
      "(0, '0.047*\"life\" + 0.032*\"first\" + 0.025*\"fitness\" + 0.024*\"matter\"')\n",
      "(1, '0.098*\"police\" + 0.048*\"cop\" + 0.035*\"kill\" + 0.034*\"policebrutality\"')\n",
      "(2, '0.034*\"never\" + 0.031*\"come\" + 0.019*\"someone\" + 0.018*\"always\"')\n",
      "(3, '0.026*\"shit\" + 0.021*\"money\" + 0.019*\"stock\" + 0.018*\"must\"')\n",
      "(4, '0.029*\"justice\" + 0.020*\"trump\" + 0.020*\"medium\" + 0.019*\"well\"')\n",
      "(5, '0.061*\"weight\" + 0.026*\"become\" + 0.024*\"blackskinisnotacrime\" + 0.023*\"fire\"')\n",
      "(6, '0.033*\"right\" + 0.030*\"blacktolive\" + 0.024*\"play\" + 0.020*\"music\"')\n",
      "(7, '0.036*\"trump\" + 0.027*\"best\" + 0.024*\"support\" + 0.024*\"obama\"')\n",
      "(8, '0.151*\"black\" + 0.060*\"people\" + 0.047*\"white\" + 0.046*\"blacklivesmatter\"')\n",
      "(9, '0.069*\"like\" + 0.042*\"know\" + 0.037*\"love\" + 0.031*\"would\"')\n",
      "(10, '0.035*\"start\" + 0.028*\"finance\" + 0.023*\"news\" + 0.019*\"real\"')\n",
      "(11, '0.034*\"playing\" + 0.028*\"check\" + 0.026*\"-&gt\" + 0.017*\"happy\"')\n",
      "(12, '0.040*\"school\" + 0.036*\"call\" + 0.020*\"house\" + 0.019*\"hear\"')\n",
      "(13, '0.069*\"lose\" + 0.020*\"breaking\" + 0.017*\"teen\" + 0.012*\"use\"')\n",
      "(14, '0.024*\"workout\" + 0.024*\"student\" + 0.021*\"free\" + 0.018*\"chicago\"')\n",
      "(15, '0.027*\"state\" + 0.026*\"nowplaying\" + 0.024*\"could\" + 0.021*\"jail\"')\n",
      "(16, '0.049*\"need\" + 0.028*\"tell\" + 0.025*\"sport\" + 0.024*\"going\"')\n",
      "(17, '0.073*\"stocks\" + 0.030*\"child\" + 0.025*\"year\" + 0.022*\"murder\"')\n",
      "(18, '0.032*\"girl\" + 0.027*\"soundcloud\" + 0.025*\"work\" + 0.024*\"try\"')\n",
      "(19, '0.028*\"watch\" + 0.027*\"fuck\" + 0.017*\"fight\" + 0.017*\"2016\"')\n"
     ]
    }
   ],
   "source": [
    "topics = ldamodel.print_topics(num_words=4)\n",
    "for topic in topics:\n",
    "    print(topic)"
   ]
  },
  {
   "cell_type": "code",
   "execution_count": 271,
   "metadata": {},
   "outputs": [
    {
     "name": "stdout",
     "output_type": "stream",
     "text": [
      "Topic: 0 \n",
      "Words: 0.047*\"life\" + 0.032*\"first\" + 0.025*\"fitness\" + 0.024*\"matter\" + 0.021*\"live\" + 0.019*\"time\" + 0.017*\"week\" + 0.015*\"kid\" + 0.015*\"die\" + 0.014*\"fact\"\n",
      "Topic: 1 \n",
      "Words: 0.098*\"police\" + 0.048*\"cop\" + 0.035*\"kill\" + 0.034*\"policebrutality\" + 0.031*\"officer\" + 0.025*\"shot\" + 0.024*\"blacklivesmatter\" + 0.022*\"arrest\" + 0.018*\"shooting\" + 0.018*\"death\"\n",
      "Topic: 2 \n",
      "Words: 0.034*\"never\" + 0.031*\"come\" + 0.019*\"someone\" + 0.018*\"always\" + 0.014*\"hope\" + 0.013*\"see\" + 0.012*\"season\" + 0.011*\"star\" + 0.011*\"back\" + 0.010*\"make\"\n",
      "Topic: 3 \n",
      "Words: 0.026*\"shit\" + 0.021*\"money\" + 0.019*\"stock\" + 0.018*\"must\" + 0.017*\"fucking\" + 0.016*\"bill\" + 0.015*\"hillary\" + 0.013*\"business\" + 0.013*\"mixtape\" + 0.012*\"clinton\"\n",
      "Topic: 4 \n",
      "Words: 0.029*\"justice\" + 0.020*\"trump\" + 0.020*\"medium\" + 0.019*\"well\" + 0.018*\"forget\" + 0.016*\"go\" + 0.016*\"nothing\" + 0.013*\"never\" + 0.013*\"remember\" + 0.012*\"beat\"\n",
      "Topic: 5 \n",
      "Words: 0.061*\"weight\" + 0.026*\"become\" + 0.024*\"blackskinisnotacrime\" + 0.023*\"fire\" + 0.020*\"many\" + 0.019*\"....\" + 0.012*\"mother\" + 0.011*\"country\" + 0.011*\"texas\" + 0.011*\"lost\"\n",
      "Topic: 6 \n",
      "Words: 0.033*\"right\" + 0.030*\"blacktolive\" + 0.024*\"play\" + 0.020*\"music\" + 0.020*\"happen\" + 0.019*\"power\" + 0.018*\"change\" + 0.015*\"stand\" + 0.012*\"game\" + 0.012*\"away\"\n",
      "Topic: 7 \n",
      "Words: 0.036*\"trump\" + 0.027*\"best\" + 0.024*\"support\" + 0.024*\"obama\" + 0.020*\"show\" + 0.020*\"years\" + 0.020*\"president\" + 0.019*\"video\" + 0.016*\"ever\" + 0.015*\"vote\"\n",
      "Topic: 8 \n",
      "Words: 0.151*\"black\" + 0.060*\"people\" + 0.047*\"white\" + 0.046*\"blacklivesmatter\" + 0.031*\"american\" + 0.030*\"woman\" + 0.022*\"racism\" + 0.021*\"racist\" + 0.020*\"still\" + 0.019*\"america\"\n",
      "Topic: 9 \n",
      "Words: 0.069*\"like\" + 0.042*\"know\" + 0.037*\"love\" + 0.031*\"would\" + 0.026*\"good\" + 0.024*\"diet\" + 0.021*\"really\" + 0.019*\"history\" + 0.019*\"great\" + 0.018*\"people\"\n",
      "Topic: 10 \n",
      "Words: 0.035*\"start\" + 0.028*\"finance\" + 0.023*\"news\" + 0.019*\"real\" + 0.019*\"world\" + 0.016*\"click\" + 0.014*\"name\" + 0.012*\"point\" + 0.011*\"little\" + 0.010*\"tonight\"\n",
      "Topic: 11 \n",
      "Words: 0.034*\"playing\" + 0.028*\"check\" + 0.026*\"-&gt\" + 0.017*\"happy\" + 0.014*\"party\" + 0.014*\"share\" + 0.014*\"thanks\" + 0.013*\"spend\" + 0.011*\"follow\" + 0.011*\"brand\"\n",
      "Topic: 12 \n",
      "Words: 0.040*\"school\" + 0.036*\"call\" + 0.020*\"house\" + 0.019*\"hear\" + 0.019*\"high\" + 0.019*\"city\" + 0.017*\"profile\" + 0.012*\"blackhistory\" + 0.011*\"catch\" + 0.011*\"peace\"\n",
      "Topic: 13 \n",
      "Words: 0.069*\"lose\" + 0.020*\"breaking\" + 0.017*\"teen\" + 0.012*\"use\" + 0.012*\"brother\" + 0.012*\"mean\" + 0.012*\"future\" + 0.011*\"special\" + 0.010*\"order\" + 0.009*\"voter\"\n",
      "Topic: 14 \n",
      "Words: 0.024*\"workout\" + 0.024*\"student\" + 0.021*\"free\" + 0.018*\"chicago\" + 0.017*\"found\" + 0.015*\"post\" + 0.015*\"get\" + 0.014*\"film\" + 0.013*\"also\" + 0.012*\"fear\"\n",
      "Topic: 15 \n",
      "Words: 0.027*\"state\" + 0.026*\"nowplaying\" + 0.024*\"could\" + 0.021*\"jail\" + 0.015*\"case\" + 0.015*\"victim\" + 0.015*\"brutality\" + 0.013*\"problem\" + 0.012*\"miss\" + 0.012*\"drop\"\n",
      "Topic: 16 \n",
      "Words: 0.049*\"need\" + 0.028*\"tell\" + 0.025*\"sport\" + 0.024*\"going\" + 0.022*\"please\" + 0.020*\"help\" + 0.020*\"next\" + 0.016*\"better\" + 0.015*\"wrong\" + 0.014*\"twitter\"\n",
      "Topic: 17 \n",
      "Words: 0.073*\"stocks\" + 0.030*\"child\" + 0.025*\"year\" + 0.022*\"murder\" + 0.018*\"young\" + 0.017*\"home\" + 0.016*\"truth\" + 0.014*\"person\" + 0.012*\"skin\" + 0.012*\"assault\"\n",
      "Topic: 18 \n",
      "Words: 0.032*\"girl\" + 0.027*\"soundcloud\" + 0.025*\"work\" + 0.024*\"try\" + 0.018*\"give\" + 0.014*\"dead\" + 0.013*\"find\" + 0.013*\"hard\" + 0.012*\"racial\" + 0.012*\"criminal\"\n",
      "Topic: 19 \n",
      "Words: 0.028*\"watch\" + 0.027*\"fuck\" + 0.017*\"fight\" + 0.017*\"2016\" + 0.016*\"join\" + 0.016*\"break\" + 0.015*\"even\" + 0.014*\"attack\" + 0.013*\"protester\" + 0.012*\"award\"\n"
     ]
    }
   ],
   "source": [
    "for idx, topic in ldamodel.print_topics(-1):\n",
    "    print('Topic: {} \\nWords: {}'.format(idx, topic))"
   ]
  },
  {
   "cell_type": "code",
   "execution_count": 272,
   "metadata": {},
   "outputs": [
    {
     "name": "stderr",
     "output_type": "stream",
     "text": [
      "C:\\Users\\utente\\Anaconda3\\envs\\ada\\lib\\site-packages\\pyLDAvis\\_prepare.py:257: FutureWarning: Sorting because non-concatenation axis is not aligned. A future version\n",
      "of pandas will change to not sort by default.\n",
      "\n",
      "To accept the future behavior, pass 'sort=False'.\n",
      "\n",
      "To retain the current behavior and silence the warning, pass 'sort=True'.\n",
      "\n",
      "  return pd.concat([default_term_info] + list(topic_dfs))\n"
     ]
    },
    {
     "data": {
      "text/html": [
       "\n",
       "<link rel=\"stylesheet\" type=\"text/css\" href=\"https://cdn.rawgit.com/bmabey/pyLDAvis/files/ldavis.v1.0.0.css\">\n",
       "\n",
       "\n",
       "<div id=\"ldavis_el577611389841614725282885245\"></div>\n",
       "<script type=\"text/javascript\">\n",
       "\n",
       "var ldavis_el577611389841614725282885245_data = {\"mdsDat\": {\"x\": [-0.04461419897869169, 0.31764451030628116, -0.039123616566500784, -0.011386628906973315, -0.050910865261144335, -0.09907990751372649, 0.010430603259302975, -0.06857937058106503, 0.28133886004254, 0.026373121084324904, -0.0761015865506159, -0.05588813942958781, 0.021735254204093956, -0.11812762659747959, -0.022265574788150642, -0.0298335302741297, -0.023467345743893156, 0.014750026957277515, -0.028606775736941543, -0.004287208924920789], \"y\": [0.04186998747293407, -0.16021700322538024, 0.10926643421473119, 0.08198007037268343, -0.004297464313320209, -0.044065011727184446, 0.1929194917140449, -0.12926306843877688, 0.07922779894757144, 0.15546841128932687, 0.009666958113312973, -0.13996483890409725, -0.09316938297432772, -0.11001786989865804, -0.021103820593050035, -0.05223349304238497, 0.13627537065697512, 0.017311166141264524, 0.054497088790781426, -0.12415082459644623], \"topics\": [1, 2, 3, 4, 5, 6, 7, 8, 9, 10, 11, 12, 13, 14, 15, 16, 17, 18, 19, 20], \"cluster\": [1, 1, 1, 1, 1, 1, 1, 1, 1, 1, 1, 1, 1, 1, 1, 1, 1, 1, 1, 1], \"Freq\": [4.545844554901123, 5.454223155975342, 4.638689994812012, 5.025960922241211, 5.099462985992432, 4.5814385414123535, 5.265395641326904, 6.44469690322876, 5.906421661376953, 5.610013961791992, 4.777444362640381, 4.6306633949279785, 4.703018665313721, 4.71329927444458, 4.466721534729004, 4.526799201965332, 5.361487865447998, 4.458529472351074, 4.3328447341918945, 5.457041263580322]}, \"tinfo\": {\"Category\": [\"Default\", \"Default\", \"Default\", \"Default\", \"Default\", \"Default\", \"Default\", \"Default\", \"Default\", \"Default\", \"Default\", \"Default\", \"Default\", \"Default\", \"Default\", \"Default\", \"Default\", \"Default\", \"Default\", \"Default\", \"Default\", \"Default\", \"Default\", \"Default\", \"Default\", \"Default\", \"Default\", \"Default\", \"Default\", \"Default\", \"Topic1\", \"Topic1\", \"Topic1\", \"Topic1\", \"Topic1\", \"Topic1\", \"Topic1\", \"Topic1\", \"Topic1\", \"Topic1\", \"Topic1\", \"Topic1\", \"Topic1\", \"Topic1\", \"Topic1\", \"Topic1\", \"Topic1\", \"Topic1\", \"Topic1\", \"Topic1\", \"Topic1\", \"Topic1\", \"Topic1\", \"Topic1\", \"Topic1\", \"Topic1\", \"Topic1\", \"Topic1\", \"Topic1\", \"Topic1\", \"Topic1\", \"Topic1\", \"Topic2\", \"Topic2\", \"Topic2\", \"Topic2\", \"Topic2\", \"Topic2\", \"Topic2\", \"Topic2\", \"Topic2\", \"Topic2\", \"Topic2\", \"Topic2\", \"Topic2\", \"Topic2\", \"Topic2\", \"Topic2\", \"Topic2\", \"Topic2\", \"Topic2\", \"Topic2\", \"Topic2\", \"Topic2\", \"Topic2\", \"Topic2\", \"Topic2\", \"Topic2\", \"Topic2\", \"Topic2\", \"Topic2\", \"Topic2\", \"Topic2\", \"Topic2\", \"Topic2\", \"Topic2\", \"Topic2\", \"Topic2\", \"Topic2\", \"Topic2\", \"Topic3\", \"Topic3\", \"Topic3\", \"Topic3\", \"Topic3\", \"Topic3\", \"Topic3\", \"Topic3\", \"Topic3\", \"Topic3\", \"Topic3\", \"Topic3\", \"Topic3\", \"Topic3\", \"Topic3\", \"Topic3\", \"Topic3\", \"Topic3\", \"Topic3\", \"Topic3\", \"Topic3\", \"Topic3\", \"Topic3\", \"Topic3\", \"Topic3\", \"Topic3\", \"Topic3\", \"Topic3\", \"Topic3\", \"Topic3\", \"Topic3\", \"Topic3\", \"Topic3\", \"Topic3\", \"Topic3\", \"Topic4\", \"Topic4\", \"Topic4\", \"Topic4\", \"Topic4\", \"Topic4\", \"Topic4\", \"Topic4\", \"Topic4\", \"Topic4\", \"Topic4\", \"Topic4\", \"Topic4\", \"Topic4\", \"Topic4\", \"Topic4\", \"Topic4\", \"Topic4\", \"Topic4\", \"Topic4\", \"Topic4\", \"Topic4\", \"Topic4\", \"Topic4\", \"Topic4\", \"Topic4\", \"Topic4\", \"Topic4\", \"Topic4\", \"Topic4\", \"Topic4\", \"Topic4\", \"Topic4\", \"Topic5\", \"Topic5\", \"Topic5\", \"Topic5\", \"Topic5\", \"Topic5\", \"Topic5\", \"Topic5\", \"Topic5\", \"Topic5\", \"Topic5\", \"Topic5\", \"Topic5\", \"Topic5\", \"Topic5\", \"Topic5\", \"Topic5\", \"Topic5\", \"Topic5\", \"Topic5\", \"Topic5\", \"Topic5\", \"Topic5\", \"Topic5\", \"Topic5\", \"Topic5\", \"Topic5\", \"Topic5\", \"Topic5\", \"Topic5\", \"Topic5\", \"Topic5\", \"Topic5\", \"Topic5\", \"Topic6\", \"Topic6\", \"Topic6\", \"Topic6\", \"Topic6\", \"Topic6\", \"Topic6\", \"Topic6\", \"Topic6\", \"Topic6\", \"Topic6\", \"Topic6\", \"Topic6\", \"Topic6\", \"Topic6\", \"Topic6\", \"Topic6\", \"Topic6\", \"Topic6\", \"Topic6\", \"Topic6\", \"Topic6\", \"Topic6\", \"Topic6\", \"Topic6\", \"Topic6\", \"Topic6\", \"Topic6\", \"Topic6\", \"Topic6\", \"Topic6\", \"Topic6\", \"Topic7\", \"Topic7\", \"Topic7\", \"Topic7\", \"Topic7\", \"Topic7\", \"Topic7\", \"Topic7\", \"Topic7\", \"Topic7\", \"Topic7\", \"Topic7\", \"Topic7\", \"Topic7\", \"Topic7\", \"Topic7\", \"Topic7\", \"Topic7\", \"Topic7\", \"Topic7\", \"Topic7\", \"Topic7\", \"Topic7\", \"Topic7\", \"Topic7\", \"Topic7\", \"Topic7\", \"Topic7\", \"Topic7\", \"Topic7\", \"Topic7\", \"Topic7\", \"Topic7\", \"Topic7\", \"Topic7\", \"Topic7\", \"Topic8\", \"Topic8\", \"Topic8\", \"Topic8\", \"Topic8\", \"Topic8\", \"Topic8\", \"Topic8\", \"Topic8\", \"Topic8\", \"Topic8\", \"Topic8\", \"Topic8\", \"Topic8\", \"Topic8\", \"Topic8\", \"Topic8\", \"Topic8\", \"Topic8\", \"Topic8\", \"Topic8\", \"Topic8\", \"Topic8\", \"Topic8\", \"Topic8\", \"Topic8\", \"Topic8\", \"Topic8\", \"Topic8\", \"Topic8\", \"Topic8\", \"Topic8\", \"Topic8\", \"Topic8\", \"Topic8\", \"Topic8\", \"Topic8\", \"Topic8\", \"Topic8\", \"Topic8\", \"Topic9\", \"Topic9\", \"Topic9\", \"Topic9\", \"Topic9\", \"Topic9\", \"Topic9\", \"Topic9\", \"Topic9\", \"Topic9\", \"Topic9\", \"Topic9\", \"Topic9\", \"Topic9\", \"Topic9\", \"Topic9\", \"Topic9\", \"Topic9\", \"Topic9\", \"Topic9\", \"Topic9\", \"Topic9\", \"Topic9\", \"Topic9\", \"Topic9\", \"Topic9\", \"Topic9\", \"Topic9\", \"Topic9\", \"Topic9\", \"Topic9\", \"Topic9\", \"Topic9\", \"Topic9\", \"Topic9\", \"Topic9\", \"Topic9\", \"Topic9\", \"Topic9\", \"Topic9\", \"Topic9\", \"Topic9\", \"Topic9\", \"Topic9\", \"Topic10\", \"Topic10\", \"Topic10\", \"Topic10\", \"Topic10\", \"Topic10\", \"Topic10\", \"Topic10\", \"Topic10\", \"Topic10\", \"Topic10\", \"Topic10\", \"Topic10\", \"Topic10\", \"Topic10\", \"Topic10\", \"Topic10\", \"Topic10\", \"Topic10\", \"Topic10\", \"Topic10\", \"Topic10\", \"Topic10\", \"Topic10\", \"Topic10\", \"Topic10\", \"Topic10\", \"Topic10\", \"Topic10\", \"Topic10\", \"Topic10\", \"Topic10\", \"Topic10\", \"Topic10\", \"Topic10\", \"Topic10\", \"Topic10\", \"Topic10\", \"Topic11\", \"Topic11\", \"Topic11\", \"Topic11\", \"Topic11\", \"Topic11\", \"Topic11\", \"Topic11\", \"Topic11\", \"Topic11\", \"Topic11\", \"Topic11\", \"Topic11\", \"Topic11\", \"Topic11\", \"Topic11\", \"Topic11\", \"Topic11\", \"Topic11\", \"Topic11\", \"Topic11\", \"Topic11\", \"Topic11\", \"Topic11\", \"Topic11\", \"Topic11\", \"Topic11\", \"Topic11\", \"Topic11\", \"Topic11\", \"Topic11\", \"Topic11\", \"Topic11\", \"Topic12\", \"Topic12\", \"Topic12\", \"Topic12\", \"Topic12\", \"Topic12\", \"Topic12\", \"Topic12\", \"Topic12\", \"Topic12\", \"Topic12\", \"Topic12\", \"Topic12\", \"Topic12\", \"Topic12\", \"Topic12\", \"Topic12\", \"Topic12\", \"Topic12\", \"Topic12\", \"Topic12\", \"Topic12\", \"Topic12\", \"Topic12\", \"Topic12\", \"Topic12\", \"Topic12\", \"Topic12\", \"Topic12\", \"Topic12\", \"Topic12\", \"Topic12\", \"Topic13\", \"Topic13\", \"Topic13\", \"Topic13\", \"Topic13\", \"Topic13\", \"Topic13\", \"Topic13\", \"Topic13\", \"Topic13\", \"Topic13\", \"Topic13\", \"Topic13\", \"Topic13\", \"Topic13\", \"Topic13\", \"Topic13\", \"Topic13\", \"Topic13\", \"Topic13\", \"Topic13\", \"Topic13\", \"Topic13\", \"Topic13\", \"Topic13\", \"Topic13\", \"Topic13\", \"Topic13\", \"Topic13\", \"Topic13\", \"Topic13\", \"Topic13\", \"Topic13\", \"Topic13\", \"Topic14\", \"Topic14\", \"Topic14\", \"Topic14\", \"Topic14\", \"Topic14\", \"Topic14\", \"Topic14\", \"Topic14\", \"Topic14\", \"Topic14\", \"Topic14\", \"Topic14\", \"Topic14\", \"Topic14\", \"Topic14\", \"Topic14\", \"Topic14\", \"Topic14\", \"Topic14\", \"Topic14\", \"Topic14\", \"Topic14\", \"Topic14\", \"Topic14\", \"Topic14\", \"Topic14\", \"Topic14\", \"Topic14\", \"Topic14\", \"Topic14\", \"Topic14\", \"Topic15\", \"Topic15\", \"Topic15\", \"Topic15\", \"Topic15\", \"Topic15\", \"Topic15\", \"Topic15\", \"Topic15\", \"Topic15\", \"Topic15\", \"Topic15\", \"Topic15\", \"Topic15\", \"Topic15\", \"Topic15\", \"Topic15\", \"Topic15\", \"Topic15\", \"Topic15\", \"Topic15\", \"Topic15\", \"Topic15\", \"Topic15\", \"Topic15\", \"Topic15\", \"Topic15\", \"Topic15\", \"Topic15\", \"Topic15\", \"Topic15\", \"Topic15\", \"Topic15\", \"Topic15\", \"Topic15\", \"Topic16\", \"Topic16\", \"Topic16\", \"Topic16\", \"Topic16\", \"Topic16\", \"Topic16\", \"Topic16\", \"Topic16\", \"Topic16\", \"Topic16\", \"Topic16\", \"Topic16\", \"Topic16\", \"Topic16\", \"Topic16\", \"Topic16\", \"Topic16\", \"Topic16\", \"Topic16\", \"Topic16\", \"Topic16\", \"Topic16\", \"Topic16\", \"Topic16\", \"Topic16\", \"Topic16\", \"Topic16\", \"Topic16\", \"Topic16\", \"Topic16\", \"Topic17\", \"Topic17\", \"Topic17\", \"Topic17\", \"Topic17\", \"Topic17\", \"Topic17\", \"Topic17\", \"Topic17\", \"Topic17\", \"Topic17\", \"Topic17\", \"Topic17\", \"Topic17\", \"Topic17\", \"Topic17\", \"Topic17\", \"Topic17\", \"Topic17\", \"Topic17\", \"Topic17\", \"Topic17\", \"Topic17\", \"Topic17\", \"Topic17\", \"Topic17\", \"Topic17\", \"Topic17\", \"Topic17\", \"Topic17\", \"Topic17\", \"Topic17\", \"Topic17\", \"Topic17\", \"Topic17\", \"Topic18\", \"Topic18\", \"Topic18\", \"Topic18\", \"Topic18\", \"Topic18\", \"Topic18\", \"Topic18\", \"Topic18\", \"Topic18\", \"Topic18\", \"Topic18\", \"Topic18\", \"Topic18\", \"Topic18\", \"Topic18\", \"Topic18\", \"Topic18\", \"Topic18\", \"Topic18\", \"Topic18\", \"Topic18\", \"Topic18\", \"Topic18\", \"Topic18\", \"Topic18\", \"Topic18\", \"Topic18\", \"Topic18\", \"Topic18\", \"Topic18\", \"Topic18\", \"Topic19\", \"Topic19\", \"Topic19\", \"Topic19\", \"Topic19\", \"Topic19\", \"Topic19\", \"Topic19\", \"Topic19\", \"Topic19\", \"Topic19\", \"Topic19\", \"Topic19\", \"Topic19\", \"Topic19\", \"Topic19\", \"Topic19\", \"Topic19\", \"Topic19\", \"Topic19\", \"Topic19\", \"Topic19\", \"Topic19\", \"Topic19\", \"Topic19\", \"Topic19\", \"Topic19\", \"Topic19\", \"Topic19\", \"Topic19\", \"Topic19\", \"Topic19\", \"Topic20\", \"Topic20\", \"Topic20\", \"Topic20\", \"Topic20\", \"Topic20\", \"Topic20\", \"Topic20\", \"Topic20\", \"Topic20\", \"Topic20\", \"Topic20\", \"Topic20\", \"Topic20\", \"Topic20\", \"Topic20\", \"Topic20\", \"Topic20\", \"Topic20\", \"Topic20\", \"Topic20\", \"Topic20\", \"Topic20\", \"Topic20\", \"Topic20\", \"Topic20\", \"Topic20\", \"Topic20\", \"Topic20\", \"Topic20\", \"Topic20\", \"Topic20\", \"Topic20\", \"Topic20\", \"Topic20\", \"Topic20\", \"Topic20\"], \"Freq\": [19355.0, 11605.0, 8349.0, 9825.0, 7057.0, 7082.0, 8793.0, 6083.0, 5717.0, 6994.0, 7564.0, 5151.0, 4649.0, 4485.0, 11547.0, 4076.0, 4914.0, 4136.0, 4568.0, 4745.0, 3993.0, 5622.0, 4427.0, 3824.0, 3588.0, 4054.0, 3716.0, 3413.0, 3718.0, 3440.0, 4648.841796875, 2467.777587890625, 2363.061767578125, 2046.130615234375, 1657.0135498046875, 1453.9393310546875, 1442.798095703125, 1401.674072265625, 1379.2049560546875, 1337.26904296875, 1302.0167236328125, 1271.9842529296875, 1140.1156005859375, 980.6453247070312, 953.6024169921875, 865.16552734375, 850.04345703125, 925.5220336914062, 794.82373046875, 733.4982299804688, 692.9003295898438, 665.4619750976562, 639.7979125976562, 612.8147583007812, 568.2405395507812, 565.9132080078125, 532.7508544921875, 524.2191772460938, 520.9454345703125, 515.3208618164062, 3189.4677734375, 1899.139892578125, 11604.71484375, 5716.9326171875, 3992.300537109375, 3715.19921875, 2935.611083984375, 4135.4560546875, 2091.60009765625, 1824.978271484375, 1492.350341796875, 2081.990234375, 1352.2706298828125, 1286.0687255859375, 1242.7462158203125, 1133.355712890625, 1021.2975463867188, 1018.3761596679688, 954.2265625, 856.8049926757812, 824.5703735351562, 787.8129272460938, 746.4158935546875, 704.8038330078125, 678.7515869140625, 606.3626098632812, 578.458740234375, 572.6039428710938, 512.7206420898438, 493.0312194824219, 463.660888671875, 463.0237731933594, 2582.009033203125, 1922.1556396484375, 1235.0233154296875, 1389.3123779296875, 2829.921875, 754.6351928710938, 1163.6612548828125, 1076.149169921875, 1926.1295166015625, 1785.921875, 1371.976318359375, 1270.5738525390625, 1164.1884765625, 1132.648681640625, 1030.419921875, 1019.7368774414062, 971.6704711914062, 954.4489135742188, 904.0386352539062, 840.620361328125, 822.392333984375, 801.3706665039062, 763.9064331054688, 744.1751098632812, 3129.94775390625, 727.4617309570312, 690.8499145507812, 667.3228149414062, 665.11083984375, 634.0105590820312, 620.9965209960938, 615.9866943359375, 609.34912109375, 590.568603515625, 563.013671875, 559.5090942382812, 555.67431640625, 542.5775756835938, 658.0927734375, 3472.836669921875, 1062.3448486328125, 1033.9837646484375, 664.90478515625, 2789.672607421875, 2277.918701171875, 2115.44482421875, 1915.0462646484375, 1897.5048828125, 1773.658203125, 1686.0322265625, 1426.5020751953125, 1367.9761962890625, 1332.97705078125, 1333.4442138671875, 1324.8736572265625, 1270.3834228515625, 1233.495849609375, 1197.9359130859375, 867.9427490234375, 860.1319580078125, 854.2767333984375, 827.7069091796875, 761.3111572265625, 760.93798828125, 749.1976318359375, 744.3702392578125, 675.761474609375, 674.2743530273438, 668.8547973632812, 665.9312133789062, 630.3856201171875, 818.9749755859375, 599.6869506835938, 863.3072509765625, 1207.4708251953125, 1223.556640625, 3220.60009765625, 2206.322021484375, 2062.782470703125, 1953.830078125, 1771.554931640625, 1729.879150390625, 1415.900390625, 1356.9481201171875, 1340.16259765625, 1182.087646484375, 1103.9698486328125, 1073.4354248046875, 1069.56884765625, 969.4302978515625, 922.1528930664062, 913.2169189453125, 898.1290893554688, 856.8999633789062, 852.8458862304688, 849.5996704101562, 805.2847900390625, 802.5763549804688, 787.97021484375, 769.50537109375, 763.975341796875, 725.4671020507812, 718.7939453125, 710.17333984375, 691.3343505859375, 690.09912109375, 1172.531494140625, 1247.7359619140625, 2212.19677734375, 1441.155029296875, 6082.7666015625, 2554.24072265625, 2343.47607421875, 2259.64697265625, 2000.23828125, 1841.30517578125, 1232.590576171875, 1077.905517578125, 1064.54638671875, 1063.33056640625, 957.61669921875, 937.7622680664062, 857.3291625976562, 803.7998657226562, 792.277099609375, 788.9024658203125, 786.0134887695312, 781.8308715820312, 778.957763671875, 770.4367065429688, 752.4909057617188, 750.8418579101562, 718.3596801757812, 696.829345703125, 645.5472412109375, 620.1860961914062, 608.541748046875, 585.3817749023438, 566.0799560546875, 506.0879821777344, 1113.3201904296875, 724.62109375, 3439.951904296875, 2696.873779296875, 2326.2001953125, 2298.097900390625, 2228.16943359375, 2037.37353515625, 1687.8197021484375, 1378.3685302734375, 1332.586181640625, 1307.9259033203125, 1195.0927734375, 1135.80517578125, 1038.10546875, 963.047119140625, 927.3711547851562, 895.4905395507812, 853.9573364257812, 846.8499145507812, 802.801025390625, 798.2896118164062, 768.85595703125, 758.3722534179688, 747.7988891601562, 741.58935546875, 677.62890625, 657.195556640625, 656.209716796875, 654.7875366210938, 640.158447265625, 638.2175903320312, 3819.131103515625, 931.9382934570312, 1055.96533203125, 1185.5491943359375, 933.0186767578125, 931.0910034179688, 3717.09912109375, 3409.099853515625, 2782.9296875, 2093.852294921875, 2057.427978515625, 1965.09033203125, 1720.131591796875, 1605.0504150390625, 1542.6427001953125, 1509.7523193359375, 1428.37353515625, 1365.0130615234375, 1213.29638671875, 1209.922607421875, 1123.751953125, 1047.3173828125, 964.2310791015625, 918.5260009765625, 894.5525512695312, 788.33203125, 776.33935546875, 666.9097290039062, 633.3202514648438, 602.4689331054688, 598.0099487304688, 597.8624877929688, 596.1783447265625, 585.8949584960938, 579.3911743164062, 561.3040771484375, 2173.544921875, 3324.705810546875, 1788.0010986328125, 2840.917236328125, 2854.31298828125, 5097.94482421875, 2674.6328125, 818.1660766601562, 1237.0025634765625, 848.3262329101562, 19354.890625, 2657.519287109375, 2543.57275390625, 2098.10693359375, 2861.814208984375, 1506.57421875, 1369.15087890625, 1356.349365234375, 1168.1669921875, 918.2935791015625, 890.9072875976562, 774.12353515625, 738.9822998046875, 728.0902099609375, 694.1278686523438, 688.0433959960938, 605.3502197265625, 597.2930297851562, 530.6251220703125, 513.5531616210938, 473.81353759765625, 449.7561340332031, 434.98236083984375, 425.98541259765625, 404.18914794921875, 402.8561706542969, 399.5370178222656, 349.87255859375, 344.18212890625, 334.0725402832031, 3927.9375, 7683.7939453125, 5985.74609375, 2452.161376953125, 5962.6220703125, 3831.72607421875, 773.429931640625, 976.1414184570312, 761.7706909179688, 925.4689331054688, 714.9498291015625, 763.8081665039062, 763.8270874023438, 664.3535766601562, 8348.453125, 4485.01123046875, 3823.2197265625, 3223.88330078125, 2903.2158203125, 2311.423583984375, 2282.85693359375, 1963.2196044921875, 1371.89208984375, 1291.471435546875, 1262.9990234375, 1140.8831787109375, 1012.4584350585938, 943.874755859375, 940.230712890625, 921.7559204101562, 887.468505859375, 879.5472412109375, 865.3956298828125, 833.0460205078125, 736.1481323242188, 710.1373291015625, 605.9586791992188, 593.2867431640625, 587.6528930664062, 576.6596069335938, 535.2003173828125, 532.4558715820312, 522.8460693359375, 506.5146484375, 5062.75634765625, 2503.184814453125, 1074.4368896484375, 2139.99072265625, 1706.76611328125, 1405.4281005859375, 1125.4984130859375, 788.2632446289062, 3587.14697265625, 2883.208251953125, 2348.025390625, 1648.7041015625, 1476.63525390625, 1230.724853515625, 1155.925537109375, 1058.84375, 1049.35546875, 1038.427490234375, 1001.2112426757812, 1000.5032348632812, 955.6333618164062, 950.0509033203125, 944.0953369140625, 792.8955078125, 737.5767822265625, 730.5306396484375, 623.443359375, 621.1808471679688, 621.1425170898438, 593.9391479492188, 556.5532836914062, 554.728759765625, 553.4468994140625, 552.4865112304688, 546.2406005859375, 857.8973388671875, 504.8531494140625, 500.4949035644531, 1996.2745361328125, 1943.0550537109375, 947.5778198242188, 3412.183349609375, 2814.868896484375, 2585.04345703125, 1753.84912109375, 1411.5550537109375, 1399.881591796875, 1382.780029296875, 1323.52734375, 1094.494140625, 1092.2337646484375, 997.6511840820312, 902.9540405273438, 894.8314208984375, 794.149658203125, 792.6691284179688, 790.1936645507812, 787.9043579101562, 724.3251342773438, 724.13720703125, 701.1151733398438, 694.7653198242188, 669.1414794921875, 645.9388427734375, 636.387451171875, 625.8843994140625, 614.3453369140625, 744.1161499023438, 598.5126953125, 577.3541870117188, 549.2593994140625, 917.169921875, 774.0379028320312, 4075.716552734375, 2038.7586669921875, 1986.9647216796875, 1939.9027099609375, 1918.555419921875, 1691.9088134765625, 1219.7730712890625, 1167.6468505859375, 1144.378662109375, 1134.9761962890625, 887.2964477539062, 857.2584838867188, 792.8780517578125, 792.2994995117188, 768.0319213867188, 757.318603515625, 754.8363037109375, 709.6471557617188, 689.7726440429688, 680.2903442382812, 556.245361328125, 554.981689453125, 548.0816040039062, 510.6826477050781, 504.76763916015625, 495.9025573730469, 480.24151611328125, 474.45123291015625, 448.0116882324219, 442.4837951660156, 3650.34326171875, 1086.5196533203125, 675.9348754882812, 1019.3704223632812, 7081.1748046875, 2071.912353515625, 1689.6285400390625, 1269.1007080078125, 1250.2686767578125, 1247.243896484375, 1211.56005859375, 1100.681396484375, 981.0449829101562, 972.0245361328125, 909.5248413085938, 836.4894409179688, 799.7077026367188, 760.9553833007812, 733.6278076171875, 729.1312255859375, 727.2633056640625, 698.3373413085938, 676.37890625, 675.2822265625, 656.1844482421875, 644.1296997070312, 636.543701171875, 634.2505493164062, 620.2711181640625, 593.4048461914062, 576.09814453125, 564.1934204101562, 552.5313720703125, 540.8464965820312, 781.17822265625, 769.46435546875, 2314.110107421875, 2304.59765625, 1997.3126220703125, 1722.683837890625, 1616.045654296875, 1454.1927490234375, 1438.902099609375, 1382.246337890625, 1170.8536376953125, 1138.2784423828125, 914.6015014648438, 885.9026489257812, 844.29638671875, 841.2200927734375, 733.4569091796875, 669.4556274414062, 658.8292846679688, 629.5314331054688, 624.3125610351562, 605.1207885742188, 600.7822265625, 600.4722290039062, 569.5333251953125, 507.6103515625, 500.734130859375, 492.00555419921875, 488.146240234375, 487.8572692871094, 473.0709533691406, 464.0862121582031, 1308.9088134765625, 976.583740234375, 744.5131225585938, 596.859619140625, 640.0009765625, 2573.865234375, 2368.1982421875, 2034.2879638671875, 1507.8453369140625, 1494.2989501953125, 1435.1058349609375, 2658.203857421875, 1267.7974853515625, 1179.7266845703125, 1166.77734375, 1119.46435546875, 1041.7718505859375, 941.955810546875, 914.8394775390625, 897.076416015625, 826.2221069335938, 825.8782958984375, 774.6484375, 753.3682250976562, 745.629638671875, 744.064453125, 723.3851318359375, 722.3226928710938, 708.3069458007812, 707.614501953125, 686.4413452148438, 642.7348022460938, 628.833740234375, 599.2445678710938, 568.8629150390625, 758.0394897460938, 3233.154541015625, 2947.192138671875, 2790.831787109375, 2551.2705078125, 1818.9449462890625, 1762.8387451171875, 1641.183349609375, 1624.945556640625, 1486.05859375, 1473.2410888671875, 1387.554443359375, 1385.13671875, 1265.54833984375, 1223.45263671875, 1176.62060546875, 1129.069580078125, 1074.223388671875, 1023.1844482421875, 1010.2894287109375, 883.707275390625, 882.4032592773438, 847.223876953125, 842.9110107421875, 837.5119018554688, 740.3123168945312, 713.3935546875, 686.3200073242188, 643.10009765625, 636.3504638671875, 568.0064086914062, 2316.77001953125, 5675.6513671875, 2343.980224609375, 1209.02783203125, 882.211669921875, 7056.8544921875, 2942.892578125, 2465.3515625, 2095.073974609375, 1739.2034912109375, 1676.546142578125, 1583.639404296875, 1385.5341796875, 1194.5147705078125, 1140.2943115234375, 1036.320068359375, 960.4625854492188, 957.0411987304688, 904.1088256835938, 903.8287353515625, 896.4389038085938, 845.6847534179688, 798.5933837890625, 734.1800537109375, 713.6802368164062, 700.7117919921875, 686.9483642578125, 650.5328979492188, 648.7440795898438, 552.74755859375, 529.086669921875, 526.1288452148438, 515.8339233398438, 511.94927978515625, 507.0850830078125, 643.8773193359375, 714.0438232421875, 3019.81787109375, 2508.607177734375, 2347.8310546875, 2221.395751953125, 1346.64990234375, 1247.297607421875, 1241.2020263671875, 1123.2349853515625, 1090.431396484375, 994.826171875, 952.8914794921875, 871.5784301757812, 843.7086791992188, 816.0045776367188, 809.8133544921875, 764.0391235351562, 756.916015625, 750.8450317382812, 706.7955322265625, 634.0869140625, 576.5469360351562, 556.753173828125, 553.413330078125, 537.7554321289062, 531.9048461914062, 518.5016479492188, 505.6385192871094, 486.24127197265625, 474.82232666015625, 453.59515380859375, 1723.23779296875, 669.3497924804688, 3317.45068359375, 3223.350830078125, 2067.475341796875, 2015.3995361328125, 1892.517333984375, 1891.5400390625, 1716.189697265625, 1473.862060546875, 1391.498779296875, 1192.87744140625, 1194.2479248046875, 1159.062255859375, 978.5128173828125, 924.9413452148438, 883.2840576171875, 873.3223876953125, 844.300537109375, 721.7210693359375, 699.1723022460938, 638.1286010742188, 630.2608642578125, 625.0643310546875, 620.0444946289062, 600.6134643554688, 596.5177612304688, 581.5670776367188, 575.9691772460938, 570.6243286132812, 566.1575317382812, 563.1351318359375, 1492.2662353515625, 1182.0989990234375, 1467.9627685546875, 1742.3701171875, 693.9900512695312, 1399.3663330078125, 822.5036010742188], \"Term\": [\"black\", \"police\", \"like\", \"people\", \"stocks\", \"lose\", \"blacklivesmatter\", \"weight\", \"cop\", \"need\", \"white\", \"know\", \"life\", \"love\", \"trump\", \"school\", \"never\", \"kill\", \"call\", \"right\", \"policebrutality\", \"woman\", \"first\", \"would\", \"start\", \"american\", \"officer\", \"playing\", \"best\", \"blacktolive\", \"life\", \"fitness\", \"matter\", \"live\", \"week\", \"kid\", \"die\", \"fact\", \"without\", \"single\", \"story\", \"beautiful\", \"coast2coast\", \"blackhistorymonth\", \"place\", \"body\", \"thought\", \"days\", \"daughter\", \"father\", \"louisiana\", \"wake\", \"hero\", \"beyonc\\u00e9\", \"dream\", \"fatally\", \"class\", \"blackexcellence\", \"ballerina\", \"concern\", \"first\", \"time\", \"police\", \"cop\", \"policebrutality\", \"officer\", \"shot\", \"kill\", \"shooting\", \"family\", \"promotion\", \"death\", \"blacktwitter\", \"killing\", \"acab\", \"artist\", \"claim\", \"unarm\", \"thing\", \"shoot\", \"activist\", \"former\", \"nypd\", \"issue\", \"innocent\", \"member\", \"instead\", \"staywoke\", \"florida\", \"perform\", \"youtube\", \"promo\", \"arrest\", \"charge\", \"baltimore\", \"protest\", \"blacklivesmatter\", \"race\", \"video\", \"woman\", \"someone\", \"always\", \"hope\", \"see\", \"season\", \"star\", \"deserve\", \"making\", \"bring\", \"folks\", \"else\", \"anything\", \"coming\", \"return\", \"hell\", \"gun\", \"come\", \"flag\", \"confederate\", \"short\", \"agree\", \"chance\", \"china\", \"blue\", \"saint\", \"company\", \"le\", \"speaking\", \"alabama\", \"different\", \"blacktolive \", \"never\", \"back\", \"make\", \"keep\", \"shit\", \"money\", \"stock\", \"must\", \"fucking\", \"bill\", \"hillary\", \"business\", \"mixtape\", \"everyone\", \"clinton\", \"market\", \"movement\", \"read\", \"march\", \"raise\", \"april\", \"walk\", \"county\", \"founder\", \"rule\", \"rest\", \"surprise\", \"laws\", \"election\", \"shut\", \"wearing\", \"russian\", \"cover\", \"own\", \"saying\", \"believe\", \"million\", \"justice\", \"medium\", \"well\", \"forget\", \"go\", \"nothing\", \"remember\", \"beat\", \"something\", \"line\", \"donald\", \"left\", \"seem\", \"understand\", \"action\", \"almost\", \"college\", \"muslim\", \"already\", \"west\", \"fighting\", \"viral\", \"social\", \"pass\", \"interest\", \"department\", \"bitch\", \"wait\", \"christmas\", \"michael\", \"force\", \"keep\", \"trump\", \"never\", \"weight\", \"become\", \"blackskinisnotacrime\", \"fire\", \"many\", \"....\", \"mother\", \"texas\", \"lost\", \"times\", \"meet\", \"greece\", \"altonsterling\", \"actually\", \"continue\", \"philandocastile\", \"mind\", \"monday\", \"mistake\", \"sick\", \"south\", \"threaten\", \"stuff\", \"north\", \"trumprussia\", \"allow\", \"david\", \"comment\", \"park\", \"safe\", \"country\", \"another\", \"blacktolive\", \"play\", \"music\", \"happen\", \"power\", \"change\", \"stand\", \"game\", \"away\", \"damn\", \"water\", \"hiphop\", \"flint\", \"create\", \"remix\", \"abuse\", \"amaze\", \"control\", \"hack\", \"civil\", \"food\", \"crazy\", \"sell\", \"freedom\", \"speech\", \"fan\", \"talking\", \"truly\", \"player\", \"behind\", \"right\", \"photo\", \"million\", \"need\", \"every\", \"time\", \"best\", \"support\", \"president\", \"vote\", \"retweet\", \"release\", \"official\", \"talk\", \"birthday\", \"night\", \"month\", \"pay\", \"sure\", \"feat\", \"teacher\", \"queen\", \"campaign\", \"crisis\", \"wish\", \"facebook\", \"probably\", \"friday\", \"worst\", \"johnson\", \"involve\", \"breakfast\", \"driver\", \"paul\", \"lyric\", \"voting\", \"ever\", \"obama\", \"last\", \"years\", \"show\", \"trump\", \"video\", \"tweet\", \"first\", \"look\", \"black\", \"racist\", \"still\", \"african\", \"racism\", \"politics\", \"listen\", \"much\", \"crime\", \"long\", \"king\", \"martin\", \"question\", \"society\", \"powerful\", \"celebrate\", \"slavery\", \"privilege\", \"born\", \"together\", \"panther\", \"pull\", \"serious\", \"human\", \"quote\", \"threat\", \"wonder\", \"later\", \"standing\", \"williams\", \"american\", \"people\", \"white\", \"america\", \"blacklivesmatter\", \"woman\", \"court\", \"think\", \"believe\", \"right\", \"hate\", \"stop\", \"make\", \"want\", \"like\", \"love\", \"would\", \"good\", \"diet\", \"history\", \"great\", \"care\", \"feel\", \"things\", \"getting\", \"community\", \"turn\", \"health\", \"thank\", \"friend\", \"book\", \"others\", \"talibkweli \", \"baby\", \"deal\", \"save\", \"kanyewest \", \"present\", \"everybody\", \"mental\", \"culture\", \"rice\", \"explain\", \"important\", \"know\", \"really\", \"face\", \"people\", \"make\", \"want\", \"look\", \"today\", \"start\", \"finance\", \"news\", \"click\", \"name\", \"point\", \"little\", \"tonight\", \"rt_america\", \"around\", \"drake \", \"stay\", \"acemackmw \", \"track\", \"working\", \"exercise\", \"wanna\", \"full\", \"whole\", \"ohio\", \"talks\", \"trap\", \"view\", \"idea\", \"fake\", \"tune\", \"africa\", \"datpiff\", \"calling\", \"album\", \"real\", \"world\", \"open\", \"playing\", \"check\", \"-&gt\", \"happy\", \"party\", \"share\", \"thanks\", \"spend\", \"follow\", \"brand\", \"loss\", \"republican\", \"picture\", \"anti\", \"respect\", \"watching\", \"slave\", \"yeah\", \"female\", \"learn\", \"john\", \"beats\", \"sunday\", \"taking\", \"lead\", \"unemployment\", \"coast2coastmag \", \"side\", \"supremacist\", \"rapper\", \"call\", \"trump\", \"school\", \"house\", \"hear\", \"high\", \"city\", \"profile\", \"blackhistory\", \"catch\", \"peace\", \"u.s.\", \"serve\", \"2017\", \"education\", \"host\", \"mayor\", \"voice\", \"target\", \"camera\", \"sister\", \"info\", \"jump\", \"sheriff\", \"jackson\", \"moment\", \"wife\", \"june\", \"ending\", \"program\", \"actor\", \"trade\", \"call\", \"true\", \"protect\", \"white\", \"lose\", \"breaking\", \"teen\", \"use\", \"brother\", \"mean\", \"future\", \"special\", \"order\", \"voter\", \"morning\", \"lmao\", \"local\", \"industry\", \"july\", \"guess\", \"though\", \"poor\", \"handcuff\", \"houston\", \"guy\", \"evidence\", \"georgia\", \"event\", \"throw\", \"study\", \"boost\", \"pretty\", \"duty\", \"deputy\", \"team\", \"trump\", \"workout\", \"student\", \"free\", \"chicago\", \"found\", \"post\", \"get\", \"film\", \"fear\", \"prison\", \"university\", \"judge\", \"part\", \"hold\", \"daily\", \"kaepernick\", \"proud\", \"inspire\", \"teach\", \"following\", \"dolla\", \"demand\", \"edition\", \"gold\", \"expose\", \"level\", \"ignorance\", \"killer\", \"federal\", \"limited\", \"also\", \"report\", \"street\", \"anyone\", \"system\", \"nowplaying\", \"could\", \"jail\", \"case\", \"victim\", \"brutality\", \"state\", \"problem\", \"miss\", \"drop\", \"atlanta\", \"rally\", \"rock\", \"record\", \"public\", \"resist\", \"dagr8fm\", \"word\", \"heart\", \"brown\", \"unite\", \"receive\", \"sentence\", \"series\", \"five\", \"orleans\", \"washington\", \"self\", \"sue\", \"2015\", \"years\", \"tell\", \"sport\", \"going\", \"please\", \"better\", \"wrong\", \"twitter\", \"sign\", \"bleepthepolice \", \"reason\", \"ready\", \"maga\", \"song\", \"head\", \"plan\", \"everything\", \"enough\", \"do\", \"ask\", \"government\", \"strong\", \"phone\", \"citizen\", \"parent\", \"leave\", \"worker\", \"fall\", \"promise\", \"running\", \"offer\", \"next\", \"need\", \"help\", \"stop\", \"say\", \"stocks\", \"child\", \"year\", \"murder\", \"young\", \"home\", \"truth\", \"person\", \"skin\", \"assault\", \"latest\", \"words\", \"rape\", \"speak\", \"color\", \"result\", \"grow\", \"terrorist\", \"tomorrow\", \"movie\", \"three\", \"refuse\", \"remove\", \"treat\", \"radio\", \"whether\", \"homeless\", \"reveal\", \"california\", \"expect\", \"since\", \"woman\", \"girl\", \"soundcloud\", \"work\", \"try\", \"dead\", \"find\", \"hard\", \"racial\", \"criminal\", \"move\", \"bernie\", \"hands\", \"nigga\", \"drug\", \"suspect\", \"build\", \"sander\", \"hair\", \"cleveland\", \"sound\", \"comey\", \"trust\", \"freddiegray\", \"greek\", \"prod\", \"exist\", \"accused\", \"wall\", \"jones\", \"push\", \"give\", \"national\", \"watch\", \"fuck\", \"fight\", \"2016\", \"join\", \"break\", \"attack\", \"award\", \"likely\", \"disgust\", \"group\", \"honor\", \"oscar\", \"using\", \"second\", \"weekend\", \"least\", \"cool\", \"thug\", \"candidate\", \"guest\", \"happening\", \"send\", \"policy\", \"injustice\", \"opening\", \"admit\", \"struggle\", \"dude\", \"teens\", \"protester\", \"violence\", \"hate\", \"even\", \"supporter\", \"trump\", \"video\"], \"Total\": [19355.0, 11605.0, 8349.0, 9825.0, 7057.0, 7082.0, 8793.0, 6083.0, 5717.0, 6994.0, 7564.0, 5151.0, 4649.0, 4485.0, 11547.0, 4076.0, 4914.0, 4136.0, 4568.0, 4745.0, 3993.0, 5622.0, 4427.0, 3824.0, 3588.0, 4054.0, 3716.0, 3413.0, 3718.0, 3440.0, 4649.7685546875, 2468.705078125, 2363.9892578125, 2047.05859375, 1657.9415283203125, 1454.8673095703125, 1443.72607421875, 1402.60205078125, 1380.1329345703125, 1338.197021484375, 1302.9447021484375, 1272.9122314453125, 1141.0435791015625, 981.5730590820312, 954.5301513671875, 866.09326171875, 850.97119140625, 926.54736328125, 795.75146484375, 734.4259643554688, 693.8280639648438, 666.3897094726562, 640.7256469726562, 613.7424926757812, 569.1682739257812, 566.8409423828125, 533.6785888671875, 525.1469116210938, 521.8746948242188, 516.2485961914062, 4427.34521484375, 5121.7470703125, 11605.6494140625, 5717.86376953125, 3993.232421875, 3716.131103515625, 2936.54296875, 4136.8388671875, 2092.531982421875, 1825.9107666015625, 1493.2828369140625, 2083.36376953125, 1353.203125, 1287.00146484375, 1243.6787109375, 1134.2882080078125, 1022.229736328125, 1019.308349609375, 955.1587524414062, 857.7380981445312, 825.503662109375, 788.7451171875, 747.3480834960938, 705.7360229492188, 679.6837768554688, 607.3063354492188, 579.3909301757812, 573.5361328125, 513.65283203125, 493.9635009765625, 464.5931701660156, 463.9560546875, 2611.660888671875, 2206.5205078125, 1437.9287109375, 1926.06201171875, 8793.4443359375, 1017.1144409179688, 5771.03955078125, 5622.7705078125, 1927.0445556640625, 1786.8369140625, 1372.891357421875, 1271.4888916015625, 1165.103515625, 1133.563720703125, 1031.3349609375, 1020.6517944335938, 972.5853881835938, 955.3638305664062, 904.9535522460938, 841.5352783203125, 823.30859375, 802.2855834960938, 764.8213500976562, 745.0900268554688, 3133.877685546875, 728.3766479492188, 691.7648315429688, 668.2377319335938, 666.0257568359375, 634.9254760742188, 621.9114379882812, 616.901611328125, 610.2640380859375, 591.4835205078125, 563.9285888671875, 560.4240112304688, 556.5892333984375, 543.4924926757812, 659.3193969726562, 4914.853515625, 3517.5087890625, 6607.947265625, 2780.467041015625, 2790.58349609375, 2278.82958984375, 2116.355712890625, 1915.95751953125, 1898.4161376953125, 1774.5694580078125, 1686.9434814453125, 1427.413330078125, 1368.887451171875, 1333.8883056640625, 1334.35546875, 1325.784912109375, 1271.294677734375, 1234.4071044921875, 1198.8480224609375, 868.8538818359375, 861.0430908203125, 855.1878662109375, 828.6180419921875, 762.2222900390625, 761.84912109375, 750.1087646484375, 745.2813720703125, 676.672607421875, 675.1854858398438, 669.7659301757812, 666.8423461914062, 631.2967529296875, 820.1900634765625, 600.5980834960938, 990.4505004882812, 1970.12109375, 2281.245849609375, 3221.513427734375, 2207.253173828125, 2063.69580078125, 1954.7437744140625, 1772.46923828125, 1730.7928466796875, 1416.8140869140625, 1357.86181640625, 1341.0762939453125, 1183.0013427734375, 1104.883544921875, 1074.34912109375, 1070.4825439453125, 970.3438720703125, 923.0689697265625, 914.1304931640625, 899.0426635742188, 857.8135375976562, 853.7594604492188, 850.5132446289062, 806.1983642578125, 803.4899291992188, 788.8837890625, 770.4189453125, 764.888916015625, 726.3806762695312, 719.70751953125, 711.0869140625, 692.2479248046875, 691.0126953125, 1508.595947265625, 2780.467041015625, 11547.40234375, 4914.853515625, 6083.68603515625, 2555.16064453125, 2344.39599609375, 2260.56689453125, 2001.158203125, 1842.22509765625, 1233.510498046875, 1078.825439453125, 1065.46630859375, 1064.25048828125, 958.53662109375, 938.6821899414062, 858.2490844726562, 804.7197875976562, 793.197021484375, 789.8223876953125, 786.9334106445312, 782.7507934570312, 779.877685546875, 771.3566284179688, 753.4108276367188, 751.7617797851562, 719.2796020507812, 697.749267578125, 646.4671630859375, 621.1060180664062, 609.461669921875, 586.3016967773438, 566.9998779296875, 507.0079345703125, 1552.380615234375, 2345.232421875, 3440.870849609375, 2697.792724609375, 2327.119140625, 2299.016845703125, 2229.08837890625, 2038.292724609375, 1688.7763671875, 1379.2877197265625, 1333.505615234375, 1308.8450927734375, 1196.011962890625, 1136.724365234375, 1039.024658203125, 963.9661865234375, 928.2902221679688, 896.4096069335938, 854.8764038085938, 847.7689819335938, 803.7200927734375, 799.2086791992188, 769.7750244140625, 759.2913208007812, 748.7179565429688, 742.5084228515625, 678.5479736328125, 658.1146240234375, 657.1287841796875, 655.7066040039062, 641.0775146484375, 639.1369018554688, 4745.48681640625, 1222.981201171875, 2281.245849609375, 6994.4130859375, 2793.88720703125, 5121.7470703125, 3718.004150390625, 3410.005126953125, 2783.834716796875, 2094.75732421875, 2058.3330078125, 1965.9954833984375, 1721.0367431640625, 1605.95556640625, 1543.5478515625, 1510.657470703125, 1429.2786865234375, 1365.918212890625, 1214.2015380859375, 1210.8277587890625, 1124.6571044921875, 1048.2225341796875, 965.1361694335938, 919.4310913085938, 895.4576416015625, 789.2371215820312, 777.2444458007812, 667.8148193359375, 634.225341796875, 603.3740234375, 598.9150390625, 598.767578125, 597.0834350585938, 586.800048828125, 580.2962646484375, 562.2091674804688, 2375.19580078125, 3856.792236328125, 2102.555419921875, 4007.40576171875, 4052.21142578125, 11547.40234375, 5771.03955078125, 1314.01171875, 4427.34521484375, 3443.441650390625, 19355.9140625, 2658.453857421875, 2544.508056640625, 2099.04150390625, 2863.405517578125, 1507.509033203125, 1370.085693359375, 1357.2841796875, 1169.101806640625, 919.2281494140625, 891.8418579101562, 775.05810546875, 739.9168701171875, 729.0247802734375, 695.0624389648438, 688.9779663085938, 606.2847900390625, 598.2276000976562, 531.5596923828125, 514.4877319335938, 474.7481994628906, 450.6907958984375, 435.9170227050781, 426.9200744628906, 405.1238098144531, 403.79083251953125, 400.4716796875, 350.8072204589844, 345.1167907714844, 335.0072021484375, 4054.121337890625, 9825.0400390625, 7564.85693359375, 3002.033203125, 8793.4443359375, 5622.7705078125, 986.8455810546875, 2869.540283203125, 1970.12109375, 4745.48681640625, 2183.78662109375, 3590.613037109375, 6607.947265625, 5705.15087890625, 8349.505859375, 4485.9326171875, 3824.142333984375, 3224.805419921875, 2904.137939453125, 2312.345703125, 2283.779052734375, 1964.1419677734375, 1372.814453125, 1292.393798828125, 1263.92138671875, 1141.8055419921875, 1013.3806762695312, 944.7969970703125, 941.1529541015625, 922.6781616210938, 888.3907470703125, 880.469482421875, 866.31787109375, 833.96826171875, 737.0703735351562, 711.0596313476562, 606.8809204101562, 594.208984375, 588.5751342773438, 577.5818481445312, 536.12255859375, 533.3781127929688, 523.768310546875, 507.4369201660156, 5151.18505859375, 2595.74072265625, 2155.143798828125, 9825.0400390625, 6607.947265625, 5705.15087890625, 3443.441650390625, 3382.524169921875, 3588.065185546875, 2884.12646484375, 2348.943603515625, 1649.62255859375, 1477.5537109375, 1231.643310546875, 1156.843994140625, 1059.76220703125, 1050.27392578125, 1039.345947265625, 1002.1294555664062, 1001.4214477539062, 956.5515747070312, 950.9691162109375, 945.0135498046875, 793.813720703125, 738.4949951171875, 731.4488525390625, 624.361572265625, 622.0990600585938, 622.0607299804688, 594.8573608398438, 557.4714965820312, 555.64697265625, 554.3651123046875, 553.4047241210938, 547.1588134765625, 859.3468627929688, 505.77142333984375, 501.4131774902344, 2422.0634765625, 2376.87548828125, 1433.0120849609375, 3413.104248046875, 2815.789794921875, 2585.96435546875, 1754.7701416015625, 1412.47607421875, 1400.8026123046875, 1383.7010498046875, 1324.4483642578125, 1095.4151611328125, 1093.15478515625, 998.572021484375, 903.8748779296875, 895.7522583007812, 795.0704956054688, 793.5899658203125, 791.114501953125, 788.8251953125, 725.2459716796875, 725.0580444335938, 702.0360107421875, 695.6861572265625, 670.0623168945312, 646.8596801757812, 637.3082885742188, 626.8052368164062, 615.2661743164062, 745.2411499023438, 599.4335327148438, 578.2750244140625, 550.1802368164062, 4568.380859375, 11547.40234375, 4076.630615234375, 2039.6729736328125, 1987.8790283203125, 1940.8170166015625, 1919.4697265625, 1692.8231201171875, 1220.6873779296875, 1168.5611572265625, 1145.29296875, 1135.8905029296875, 888.2106323242188, 858.1726684570312, 793.792236328125, 793.2136840820312, 768.9461059570312, 758.2327880859375, 755.75048828125, 710.5613403320312, 690.6868286132812, 681.2045288085938, 557.1595458984375, 555.8958740234375, 548.9957885742188, 511.59686279296875, 505.6818542480469, 496.8167724609375, 481.1557312011719, 475.3654479980469, 448.9259033203125, 443.39801025390625, 4568.380859375, 1422.30810546875, 1122.1751708984375, 7564.85693359375, 7082.08349609375, 2072.821533203125, 1690.537841796875, 1270.010009765625, 1251.177978515625, 1248.1531982421875, 1212.4693603515625, 1101.5906982421875, 981.9541015625, 972.9336547851562, 910.4339599609375, 837.3985595703125, 800.6168212890625, 761.864501953125, 734.5369262695312, 730.0403442382812, 728.1724243164062, 699.2464599609375, 677.2880249023438, 676.1913452148438, 657.0935668945312, 645.038818359375, 637.4528198242188, 635.15966796875, 621.1802368164062, 594.31396484375, 577.0072631835938, 565.1025390625, 553.4404907226562, 541.755615234375, 938.0391845703125, 11547.40234375, 2315.032958984375, 2305.5205078125, 1998.2354736328125, 1723.606689453125, 1616.968505859375, 1455.1156005859375, 1439.824951171875, 1383.169189453125, 1171.7764892578125, 1139.2012939453125, 915.524169921875, 886.8253173828125, 845.2190551757812, 842.1427612304688, 734.3795776367188, 670.3782958984375, 659.751953125, 630.4541015625, 625.2352294921875, 606.04345703125, 601.7048950195312, 601.3948974609375, 570.4559936523438, 508.5330810546875, 501.6568603515625, 492.92828369140625, 489.0689697265625, 488.7799987792969, 473.9936828613281, 465.0089416503906, 1611.1292724609375, 1313.52783203125, 1002.92578125, 825.2726440429688, 1334.5565185546875, 2574.78466796875, 2369.11767578125, 2035.207275390625, 1508.7646484375, 1495.21826171875, 1436.025146484375, 2660.0283203125, 1268.7169189453125, 1180.64599609375, 1167.6966552734375, 1120.3836669921875, 1042.691162109375, 942.8750610351562, 915.7587280273438, 897.9956665039062, 827.141357421875, 826.7975463867188, 775.5676879882812, 754.2874755859375, 746.5488891601562, 744.9840087890625, 724.3043823242188, 723.241943359375, 709.2261962890625, 708.5337524414062, 687.360595703125, 643.654052734375, 629.7529907226562, 600.163818359375, 569.7821655273438, 4007.40576171875, 3234.094482421875, 2948.1064453125, 2791.74609375, 2552.184814453125, 1819.8590087890625, 1763.7528076171875, 1642.097412109375, 1625.859619140625, 1486.97265625, 1474.1551513671875, 1388.468505859375, 1386.05078125, 1266.46240234375, 1224.36669921875, 1177.53466796875, 1129.983642578125, 1075.137451171875, 1024.0985107421875, 1011.2034912109375, 884.621337890625, 883.3173217773438, 848.137939453125, 843.8250732421875, 838.4259643554688, 741.2263793945312, 714.3076171875, 687.2340698242188, 644.01416015625, 637.2645263671875, 568.9204711914062, 2334.697021484375, 6994.4130859375, 3226.15380859375, 3590.613037109375, 4198.0234375, 7057.77197265625, 2943.810302734375, 2466.269287109375, 2095.99169921875, 1740.1212158203125, 1677.4638671875, 1584.55712890625, 1386.451904296875, 1195.4324951171875, 1141.212158203125, 1037.23779296875, 961.3802490234375, 957.9588623046875, 905.0264892578125, 904.7463989257812, 897.3565673828125, 846.6024169921875, 799.5110473632812, 735.0977172851562, 714.597900390625, 701.6294555664062, 687.8660278320312, 651.4505615234375, 649.6617431640625, 553.6652221679688, 530.0043334960938, 527.0465087890625, 516.7515869140625, 512.866943359375, 508.0027770996094, 933.0302124023438, 5622.7705078125, 3020.736572265625, 2509.52587890625, 2348.7509765625, 2222.314453125, 1347.5687255859375, 1248.2164306640625, 1242.120849609375, 1124.15380859375, 1091.3502197265625, 995.7449951171875, 953.810302734375, 872.4972534179688, 844.6275024414062, 816.9234008789062, 810.732177734375, 764.9579467773438, 757.8348388671875, 751.7638549804688, 707.71435546875, 635.0057373046875, 577.4657592773438, 557.6719970703125, 554.3321533203125, 538.6742553710938, 532.8236694335938, 519.4204711914062, 506.5573425292969, 487.16009521484375, 475.74114990234375, 454.51397705078125, 2279.767822265625, 1198.943115234375, 3318.3564453125, 3224.256591796875, 2068.381103515625, 2016.305419921875, 1893.4232177734375, 1892.4459228515625, 1717.0955810546875, 1474.7679443359375, 1392.4046630859375, 1193.7833251953125, 1195.1607666015625, 1159.9681396484375, 979.4186401367188, 925.84716796875, 884.1898803710938, 874.2282104492188, 845.2063598632812, 722.6268920898438, 700.078125, 639.034423828125, 631.1666870117188, 625.9701538085938, 620.9503173828125, 601.519287109375, 597.423583984375, 582.472900390625, 576.875, 571.5301513671875, 567.0633544921875, 564.0409545898438, 1649.3377685546875, 1444.676513671875, 2183.78662109375, 3104.0390625, 808.4046630859375, 11547.40234375, 5771.03955078125], \"loglift\": [30.0, 29.0, 28.0, 27.0, 26.0, 25.0, 24.0, 23.0, 22.0, 21.0, 20.0, 19.0, 18.0, 17.0, 16.0, 15.0, 14.0, 13.0, 12.0, 11.0, 10.0, 9.0, 8.0, 7.0, 6.0, 5.0, 4.0, 3.0, 2.0, 1.0, 3.0908000469207764, 3.09060001373291, 3.09060001373291, 3.0905001163482666, 3.090399980545044, 3.0903000831604004, 3.0903000831604004, 3.0903000831604004, 3.0903000831604004, 3.0903000831604004, 3.0901999473571777, 3.0901999473571777, 3.090100049972534, 3.0899999141693115, 3.0899999141693115, 3.089900016784668, 3.089900016784668, 3.0897998809814453, 3.0897998809814453, 3.0896999835968018, 3.089600086212158, 3.089600086212158, 3.0894999504089355, 3.089400053024292, 3.0892999172210693, 3.0892999172210693, 3.089200019836426, 3.089200019836426, 3.089200019836426, 3.089200019836426, 2.763000011444092, 2.098900079727173, 2.9086999893188477, 2.908600091934204, 2.9084999561309814, 2.9084999561309814, 2.9084999561309814, 2.908400058746338, 2.9082999229431152, 2.9082999229431152, 2.9082000255584717, 2.908099889755249, 2.908099889755249, 2.908099889755249, 2.9079999923706055, 2.9079999923706055, 2.907900094985962, 2.907900094985962, 2.9077999591827393, 2.9077000617980957, 2.907599925994873, 2.907599925994873, 2.9075000286102295, 2.9075000286102295, 2.907399892807007, 2.9072000980377197, 2.9072000980377197, 2.9072000980377197, 2.9070000648498535, 2.906899929046631, 2.9068000316619873, 2.9068000316619873, 2.89739990234375, 2.7708001136779785, 2.756700038909912, 2.5820999145507812, 1.774999976158142, 2.610300064086914, 1.3075000047683716, 1.2553000450134277, 3.0703001022338867, 3.070199966430664, 3.0701000690460205, 3.069999933242798, 3.069999933242798, 3.0699000358581543, 3.0699000358581543, 3.0697999000549316, 3.0697999000549316, 3.0697999000549316, 3.069700002670288, 3.069700002670288, 3.0696001052856445, 3.0696001052856445, 3.069499969482422, 3.069499969482422, 3.069499969482422, 3.069499969482422, 3.0694000720977783, 3.0694000720977783, 3.0694000720977783, 3.0692999362945557, 3.0692999362945557, 3.0692999362945557, 3.069200038909912, 3.069200038909912, 3.0690999031066895, 3.0690999031066895, 3.0690999031066895, 3.0690999031066895, 3.0689001083374023, 2.723400115966797, 1.8734999895095825, 1.21589994430542, 1.6399999856948853, 2.9902000427246094, 2.9902000427246094, 2.9900999069213867, 2.9900999069213867, 2.9900999069213867, 2.990000009536743, 2.990000009536743, 2.9899001121520996, 2.9899001121520996, 2.9899001121520996, 2.9899001121520996, 2.9899001121520996, 2.989799976348877, 2.989799976348877, 2.989799976348877, 2.989500045776367, 2.989500045776367, 2.989500045776367, 2.989500045776367, 2.9893999099731445, 2.9893999099731445, 2.989300012588501, 2.989300012588501, 2.9892001152038574, 2.9892001152038574, 2.9892001152038574, 2.9892001152038574, 2.9890999794006348, 2.9890999794006348, 2.989000082015991, 2.8531999588012695, 2.500999927520752, 2.3675999641418457, 2.975800037384033, 2.975600004196167, 2.975600004196167, 2.975600004196167, 2.9755001068115234, 2.9755001068115234, 2.975399971008301, 2.975399971008301, 2.975399971008301, 2.9753000736236572, 2.9751999378204346, 2.9751999378204346, 2.9751999378204346, 2.975100040435791, 2.9749999046325684, 2.9749999046325684, 2.9749999046325684, 2.9749999046325684, 2.9749999046325684, 2.9749999046325684, 2.974900007247925, 2.974900007247925, 2.974900007247925, 2.9748001098632812, 2.9748001098632812, 2.9748001098632812, 2.9748001098632812, 2.9746999740600586, 2.9746999740600586, 2.9746999740600586, 2.7239999771118164, 2.1747000217437744, 1.3236000537872314, 1.7491999864578247, 3.0829999446868896, 3.0827999114990234, 3.0827999114990234, 3.0827999114990234, 3.08270001411438, 3.08270001411438, 3.08240008354187, 3.0822999477386475, 3.0822999477386475, 3.0822999477386475, 3.082200050354004, 3.082200050354004, 3.0820999145507812, 3.0820000171661377, 3.0820000171661377, 3.0820000171661377, 3.0820000171661377, 3.0820000171661377, 3.0820000171661377, 3.0820000171661377, 3.081899881362915, 3.081899881362915, 3.081899881362915, 3.0817999839782715, 3.081700086593628, 3.081700086593628, 3.0815999507904053, 3.0815999507904053, 3.0815000534057617, 3.0813000202178955, 2.750699996948242, 1.9086999893188477, 2.943700075149536, 2.943700075149536, 2.9435999393463135, 2.9435999393463135, 2.9435999393463135, 2.9435999393463135, 2.9433999061584473, 2.9433000087738037, 2.9433000087738037, 2.9433000087738037, 2.94320011138916, 2.94320011138916, 2.9430999755859375, 2.9430999755859375, 2.943000078201294, 2.943000078201294, 2.9428999423980713, 2.9428999423980713, 2.9428999423980713, 2.9428999423980713, 2.9428000450134277, 2.9428000450134277, 2.9428000450134277, 2.9428000450134277, 2.942699909210205, 2.9426000118255615, 2.9426000118255615, 2.9426000118255615, 2.9426000118255615, 2.9426000118255615, 2.726799964904785, 2.6721999645233154, 2.1737000942230225, 1.169100046157837, 1.8472000360488892, 1.2390999794006348, 2.7416999340057373, 2.7416000366210938, 2.7416000366210938, 2.741499900817871, 2.741499900817871, 2.741499900817871, 2.7414000034332275, 2.741300106048584, 2.741300106048584, 2.741300106048584, 2.741300106048584, 2.7411999702453613, 2.7411999702453613, 2.7411999702453613, 2.7411000728607178, 2.740999937057495, 2.740999937057495, 2.7409000396728516, 2.7409000396728516, 2.740799903869629, 2.7407000064849854, 2.740600109100342, 2.740499973297119, 2.7404000759124756, 2.7404000759124756, 2.7404000759124756, 2.7404000759124756, 2.7404000759124756, 2.7404000759124756, 2.740299940109253, 2.6531999111175537, 2.5934998989105225, 2.579900026321411, 2.397900104522705, 2.3914999961853027, 1.924299955368042, 1.9729000329971313, 2.2681000232696533, 1.4667999744415283, 1.340999960899353, 2.8290998935699463, 2.8287999629974365, 2.8287999629974365, 2.828700065612793, 2.8285999298095703, 2.8285000324249268, 2.828399896621704, 2.828399896621704, 2.8282999992370605, 2.8280999660491943, 2.8280999660491943, 2.827899932861328, 2.827899932861328, 2.8278000354766846, 2.8278000354766846, 2.8278000354766846, 2.8276000022888184, 2.8276000022888184, 2.827399969100952, 2.8273000717163086, 2.827199935913086, 2.8271000385284424, 2.8269999027252197, 2.826900005340576, 2.8268001079559326, 2.8268001079559326, 2.8268001079559326, 2.8264999389648438, 2.8264000415802, 2.8262999057769775, 2.797499895095825, 2.5833001136779785, 2.5950000286102295, 2.626800060272217, 2.4405999183654785, 2.4456000328063965, 2.5855000019073486, 1.7508000135421753, 1.8789000511169434, 1.1944999694824219, 1.712499976158142, 1.2813999652862549, 0.6714000105857849, 0.6787999868392944, 2.880500078201294, 2.8803999423980713, 2.8803999423980713, 2.8803000450134277, 2.8803000450134277, 2.880199909210205, 2.880199909210205, 2.8801000118255615, 2.8798999786376953, 2.8798999786376953, 2.8798999786376953, 2.8798000812530518, 2.879699945449829, 2.8796000480651855, 2.8796000480651855, 2.8796000480651855, 2.8796000480651855, 2.8796000480651855, 2.8796000480651855, 2.879499912261963, 2.8794000148773193, 2.879300117492676, 2.8791000843048096, 2.8791000843048096, 2.878999948501587, 2.878999948501587, 2.8789000511169434, 2.8789000511169434, 2.8789000511169434, 2.8787999153137207, 2.863300085067749, 2.8443000316619873, 2.1846001148223877, 1.3565000295639038, 1.526900053024292, 1.479599952697754, 1.7624000310897827, 1.4241000413894653, 3.0409998893737793, 3.0408999919891357, 3.0408999919891357, 3.0406999588012695, 3.040600061416626, 3.0404999256134033, 3.0404999256134033, 3.0404000282287598, 3.0404000282287598, 3.0404000282287598, 3.040299892425537, 3.040299892425537, 3.040299892425537, 3.040299892425537, 3.040299892425537, 3.04010009765625, 3.0399999618530273, 3.0399999618530273, 3.039799928665161, 3.039799928665161, 3.039799928665161, 3.0397000312805176, 3.039599895477295, 3.039599895477295, 3.039599895477295, 3.039599895477295, 3.039599895477295, 3.039599895477295, 3.039400100708008, 3.039400100708008, 2.847899913787842, 2.8396999835968018, 2.6275999546051025, 3.072200059890747, 3.0720999240875244, 3.0720999240875244, 3.071899890899658, 3.0717999935150146, 3.0717999935150146, 3.0717999935150146, 3.0717999935150146, 3.0715999603271484, 3.0715999603271484, 3.071500062942505, 3.071500062942505, 3.0713999271392822, 3.0713000297546387, 3.0713000297546387, 3.0713000297546387, 3.0713000297546387, 3.071199893951416, 3.071199893951416, 3.071199893951416, 3.0710999965667725, 3.0710999965667725, 3.071000099182129, 3.071000099182129, 3.071000099182129, 3.071000099182129, 3.071000099182129, 3.0708999633789062, 3.0708999633789062, 3.0708000659942627, 1.4667999744415283, 0.3698999881744385, 3.0566999912261963, 3.05649995803833, 3.05649995803833, 3.05649995803833, 3.05649995803833, 3.0564000606536865, 3.0562000274658203, 3.0562000274658203, 3.0562000274658203, 3.0562000274658203, 3.0559000968933105, 3.0559000968933105, 3.055799961090088, 3.055799961090088, 3.055799961090088, 3.055799961090088, 3.055799961090088, 3.0557000637054443, 3.0555999279022217, 3.0555999279022217, 3.055299997329712, 3.055299997329712, 3.055299997329712, 3.0552000999450684, 3.0552000999450684, 3.0550999641418457, 3.0550999641418457, 3.055000066757202, 3.0548999309539795, 3.0548999309539795, 2.8326001167297363, 2.7876999378204346, 2.549999952316284, 1.0526000261306763, 3.0546998977661133, 3.05430006980896, 3.0541999340057373, 3.0541000366210938, 3.0541000366210938, 3.0541000366210938, 3.053999900817871, 3.053999900817871, 3.0539000034332275, 3.053800106048584, 3.053800106048584, 3.0536999702453613, 3.0536000728607178, 3.0536000728607178, 3.053499937057495, 3.053499937057495, 3.053499937057495, 3.053499937057495, 3.0534000396728516, 3.0534000396728516, 3.0534000396728516, 3.0534000396728516, 3.0534000396728516, 3.053299903869629, 3.053299903869629, 3.053299903869629, 3.0532000064849854, 3.0532000064849854, 3.053100109100342, 3.053100109100342, 2.871799945831299, 0.34630000591278076, 3.108099937438965, 3.108099937438965, 3.108099937438965, 3.1080000400543213, 3.1078999042510986, 3.1078999042510986, 3.1078999042510986, 3.107800006866455, 3.1077001094818115, 3.1077001094818115, 3.1075000762939453, 3.1075000762939453, 3.1073999404907227, 3.1073999404907227, 3.107300043106079, 3.107100009918213, 3.107100009918213, 3.107100009918213, 3.1070001125335693, 3.1070001125335693, 3.1070001125335693, 3.1070001125335693, 3.1068999767303467, 3.1066999435424805, 3.1066999435424805, 3.106600046157837, 3.106600046157837, 3.106600046157837, 3.106600046157837, 3.1064999103546143, 2.9007999897003174, 2.8120999336242676, 2.8106000423431396, 2.7844998836517334, 2.3736000061035156, 3.0947999954223633, 3.0947999954223633, 3.0947000980377197, 3.0945000648498535, 3.0945000648498535, 3.0945000648498535, 3.0945000648498535, 3.094399929046631, 3.094399929046631, 3.094399929046631, 3.0943000316619873, 3.0943000316619873, 3.0941998958587646, 3.0941998958587646, 3.094099998474121, 3.0940001010894775, 3.0940001010894775, 3.0940001010894775, 3.093899965286255, 3.093899965286255, 3.093899965286255, 3.093899965286255, 3.093899965286255, 3.093899965286255, 3.093899965286255, 3.0938000679016113, 3.0936999320983887, 3.0936999320983887, 3.093600034713745, 3.0934998989105225, 1.4299999475479126, 2.925600051879883, 2.925600051879883, 2.925600051879883, 2.925600051879883, 2.9254000186920166, 2.9254000186920166, 2.9254000186920166, 2.9254000186920166, 2.925299882888794, 2.925299882888794, 2.925299882888794, 2.925299882888794, 2.9251999855041504, 2.9251999855041504, 2.9251999855041504, 2.925100088119507, 2.925100088119507, 2.924999952316284, 2.924999952316284, 2.9249000549316406, 2.9249000549316406, 2.9249000549316406, 2.924799919128418, 2.924799919128418, 2.9247000217437744, 2.9245998859405518, 2.9245998859405518, 2.924499988555908, 2.924499988555908, 2.924299955368042, 2.9182000160217285, 2.7170000076293945, 2.6064999103546143, 1.837399959564209, 1.3660000562667847, 3.1101999282836914, 3.109999895095825, 3.109999895095825, 3.1098999977111816, 3.109800100326538, 3.109800100326538, 3.109800100326538, 3.1096999645233154, 3.109600067138672, 3.109499931335449, 3.109499931335449, 3.1094000339508057, 3.1094000339508057, 3.109299898147583, 3.109299898147583, 3.109299898147583, 3.109299898147583, 3.1092000007629395, 3.109100103378296, 3.109100103378296, 3.1089999675750732, 3.1089999675750732, 3.1089000701904297, 3.1089000701904297, 3.1087000370025635, 3.108599901199341, 3.108599901199341, 3.108599901199341, 3.108599901199341, 3.1085000038146973, 2.7393999099731445, 1.0467000007629395, 3.1386001110076904, 3.1386001110076904, 3.1386001110076904, 3.1384999752044678, 3.1382999420166016, 3.138200044631958, 3.138200044631958, 3.1380999088287354, 3.1380999088287354, 3.138000011444092, 3.138000011444092, 3.1379001140594482, 3.1379001140594482, 3.1377999782562256, 3.1377999782562256, 3.137700080871582, 3.137700080871582, 3.137700080871582, 3.1375999450683594, 3.137500047683716, 3.137399911880493, 3.1373000144958496, 3.1373000144958496, 3.137200117111206, 3.137200117111206, 3.137200117111206, 3.1370999813079834, 3.1370999813079834, 3.13700008392334, 3.136899948120117, 2.859100103378296, 2.5560998916625977, 2.9079999923706055, 2.9079999923706055, 2.9077999591827393, 2.9077999591827393, 2.9077999591827393, 2.9077999591827393, 2.9077000617980957, 2.907599925994873, 2.907599925994873, 2.9075000286102295, 2.9075000286102295, 2.9075000286102295, 2.9072999954223633, 2.9072999954223633, 2.9072000980377197, 2.9072000980377197, 2.9072000980377197, 2.9070000648498535, 2.9070000648498535, 2.9068000316619873, 2.9068000316619873, 2.9068000316619873, 2.9068000316619873, 2.9068000316619873, 2.9066998958587646, 2.9066998958587646, 2.9066998958587646, 2.9066998958587646, 2.9066998958587646, 2.9066998958587646, 2.808199882507324, 2.70770001411438, 2.5111000537872314, 2.3308000564575195, 2.75570011138916, 0.7978000044822693, 0.9599999785423279], \"logprob\": [30.0, 29.0, 28.0, 27.0, 26.0, 25.0, 24.0, 23.0, 22.0, 21.0, 20.0, 19.0, 18.0, 17.0, 16.0, 15.0, 14.0, 13.0, 12.0, 11.0, 10.0, 9.0, 8.0, 7.0, 6.0, 5.0, 4.0, 3.0, 2.0, 1.0, -3.0557000637054443, -3.688999891281128, -3.7323999404907227, -3.8763999938964844, -4.087299823760986, -4.218100070953369, -4.225800037384033, -4.254700183868408, -4.2708001136779785, -4.301700115203857, -4.328400135040283, -4.351799964904785, -4.46120023727417, -4.6118998527526855, -4.639900207519531, -4.737199783325195, -4.754799842834473, -4.6697998046875, -4.822000026702881, -4.902299880981445, -4.959199905395508, -4.999599933624268, -5.039000034332275, -5.081999778747559, -5.157599925994873, -5.1616997718811035, -5.222099781036377, -5.2382001876831055, -5.244500160217285, -5.255300045013428, -3.432499885559082, -3.9509999752044678, -2.3231000900268555, -3.031100034713745, -3.390199899673462, -3.462100028991699, -3.6975998878479004, -3.3548998832702637, -4.036600112915039, -4.172999858856201, -4.374199867248535, -4.041200160980225, -4.472700119018555, -4.522900104522705, -4.557199954986572, -4.649400234222412, -4.753499984741211, -4.75629997253418, -4.821400165557861, -4.929100036621094, -4.967400074005127, -5.013000011444092, -5.066999912261963, -5.1244001388549805, -5.1620001792907715, -5.274799823760986, -5.321899890899658, -5.332099914550781, -5.442599773406982, -5.4816999435424805, -5.543099880218506, -5.54449987411499, -3.8259999752044678, -4.121099948883057, -4.563399791717529, -4.445700168609619, -3.734299898147583, -5.056099891662598, -4.623000144958496, -4.701099872589111, -3.9570999145507812, -4.032599925994873, -4.296299934387207, -4.3730998039245605, -4.460599899291992, -4.48799991607666, -4.582600116729736, -4.5929999351501465, -4.641300201416016, -4.659200191497803, -4.713500022888184, -4.786200046539307, -4.80810022354126, -4.834000110626221, -4.881899833679199, -4.908100128173828, -3.47160005569458, -4.930799961090088, -4.982399940490723, -5.017099857330322, -5.020400047302246, -5.068299770355225, -5.089000225067139, -5.097099781036377, -5.107900142669678, -5.139200210571289, -5.186999797821045, -5.193299770355225, -5.200099945068359, -5.223999977111816, -5.031000137329102, -3.3675999641418457, -4.55210018157959, -4.57919979095459, -5.020699977874756, -3.666800022125244, -3.869499921798706, -3.94350004196167, -4.043000221252441, -4.052199840545654, -4.119699954986572, -4.170400142669678, -4.337500095367432, -4.37939977645874, -4.405300140380859, -4.40500020980835, -4.411399841308594, -4.453400135040283, -4.482900142669678, -4.512199878692627, -4.834400177001953, -4.843400001525879, -4.850299835205078, -4.881899833679199, -4.9654998779296875, -4.966000080108643, -4.981500148773193, -4.98799991607666, -5.084700107574463, -5.086900234222412, -5.094900131225586, -5.099299907684326, -5.154200077056885, -4.892499923706055, -5.204100131988525, -4.839700222015381, -4.504199981689453, -4.491000175476074, -3.5376999378204346, -3.9159998893737793, -3.9832000732421875, -4.037499904632568, -4.13539981842041, -4.159200191497803, -4.359499931335449, -4.4019999504089355, -4.4145002365112305, -4.539999961853027, -4.608399868011475, -4.63640022277832, -4.639999866485596, -4.73829984664917, -4.788300037384033, -4.798099994659424, -4.814700126647949, -4.861700057983398, -4.866499900817871, -4.870299816131592, -4.923799991607666, -4.927199840545654, -4.9456000328063965, -4.969299793243408, -4.976500034332275, -5.028200149536133, -5.037499904632568, -5.049499988555908, -5.076399803161621, -5.078199863433838, -4.548099994659424, -4.485899925231934, -3.913300037384033, -4.341800212860107, -2.7946999073028564, -3.662400007247925, -3.748500108718872, -3.784899950027466, -3.906899929046631, -3.9897000789642334, -4.390999794006348, -4.525100231170654, -4.537600040435791, -4.538700103759766, -4.643499851226807, -4.664400100708008, -4.7540998458862305, -4.818600177764893, -4.833000183105469, -4.837299823760986, -4.84089994430542, -4.84630012512207, -4.849999904632568, -4.861000061035156, -4.884500026702881, -4.88670015335083, -4.9309000968933105, -4.961400032043457, -5.037799835205078, -5.077899932861328, -5.096799850463867, -5.1356000900268555, -5.1691999435424805, -5.281199932098389, -4.492800235748291, -4.922299861907959, -3.5037999153137207, -3.7472000122070312, -3.8951001167297363, -3.9072000980377197, -3.9381000995635986, -4.027599811553955, -4.21589994430542, -4.418399810791016, -4.452199935913086, -4.470900058746338, -4.561100006103516, -4.611999988555908, -4.701900005340576, -4.7769999504089355, -4.814700126647949, -4.849699974060059, -4.897200107574463, -4.9054999351501465, -4.958899974822998, -4.964600086212158, -5.002200126647949, -5.015900135040283, -5.029900074005127, -5.038300037384033, -5.128499984741211, -5.15910005569458, -5.160600185394287, -5.162700176239014, -5.185299873352051, -5.188399791717529, -3.3993000984191895, -4.809800148010254, -4.684800148010254, -4.5690999031066895, -4.808599948883057, -4.810699939727783, -3.628499984741211, -3.7149999141693115, -3.9179000854492188, -4.202400207519531, -4.219900131225586, -4.265900135040283, -4.39900016784668, -4.468200206756592, -4.507900238037109, -4.5295000076293945, -4.58489990234375, -4.630199909210205, -4.7480998039245605, -4.750800132751465, -4.824699878692627, -4.895199775695801, -4.977799892425537, -5.026400089263916, -5.052800178527832, -5.179200172424316, -5.1946001052856445, -5.346499919891357, -5.398200035095215, -5.4481000900268555, -5.45550012588501, -5.4558000564575195, -5.458600044250488, -5.47599983215332, -5.487199783325195, -5.518899917602539, -4.164999961853027, -3.740000009536743, -4.360300064086914, -3.8973000049591064, -3.8926000595092773, -3.3125998973846436, -3.9576001167297363, -5.142099857330322, -4.728700160980225, -5.105899810791016, -1.8911999464035034, -3.876800060272217, -3.920599937438965, -4.113100051879883, -3.8027000427246094, -4.444300174713135, -4.539999961853027, -4.5493998527526855, -4.698699951171875, -4.9394001960754395, -4.969699859619141, -5.110199928283691, -5.156700134277344, -5.171500205993652, -5.219299793243408, -5.228099822998047, -5.356100082397461, -5.369500160217285, -5.4878997802734375, -5.520599842071533, -5.601099967956543, -5.653200149536133, -5.686600208282471, -5.707499980926514, -5.7600998878479, -5.763400077819824, -5.771599769592285, -5.904399871826172, -5.92080020904541, -5.9506001472473145, -3.4860999584198, -2.8150999546051025, -3.0648000240325928, -3.957200050354004, -3.068700075149536, -3.5109000205993652, -5.111100196838379, -4.878300189971924, -5.126299858093262, -4.931600093841553, -5.189700126647949, -5.123600006103516, -5.123600006103516, -5.2631001472473145, -2.6805999279022217, -3.302000045776367, -3.4616000652313232, -3.6321001052856445, -3.7369000911712646, -3.9647998809814453, -3.977299928665161, -4.1280999183654785, -4.486499786376953, -4.546899795532227, -4.569200038909912, -4.670899868011475, -4.790299892425537, -4.860499858856201, -4.864299774169922, -4.884200096130371, -4.922100067138672, -4.931000232696533, -4.947299957275391, -4.985400199890137, -5.109000205993652, -5.144999980926514, -5.303599834442139, -5.32480001449585, -5.3343000411987305, -5.3531999588012695, -5.427800178527832, -5.433000087738037, -5.451200008392334, -5.482900142669678, -3.180799961090088, -3.8850998878479004, -4.730899810791016, -4.041900157928467, -4.268099784851074, -4.462399959564209, -4.684500217437744, -5.040599822998047, -3.3647000789642334, -3.5831000804901123, -3.7885000705718994, -4.142099857330322, -4.252299785614014, -4.4344000816345215, -4.497099876403809, -4.58489990234375, -4.593900203704834, -4.604300022125244, -4.6407999992370605, -4.641499996185303, -4.687399864196777, -4.693299770355225, -4.6996002197265625, -4.874100208282471, -4.946400165557861, -4.955999851226807, -5.114500045776367, -5.118199825286865, -5.118199825286865, -5.163000106811523, -5.228000164031982, -5.231299877166748, -5.23360013961792, -5.235400199890137, -5.246699810028076, -4.795300006866455, -5.325500011444092, -5.334199905395508, -3.9507999420166016, -3.977799892425537, -4.695899963378906, -3.383500099182129, -3.575900077819824, -3.661099910736084, -4.048999786376953, -4.266200065612793, -4.274499893188477, -4.2866997718811035, -4.33050012588501, -4.520599842071533, -4.522600173950195, -4.6132001876831055, -4.712900161743164, -4.7220001220703125, -4.841300010681152, -4.843200206756592, -4.84630012512207, -4.8491997718811035, -4.9334001541137695, -4.933599948883057, -4.96589994430542, -4.974999904632568, -5.012599945068359, -5.047900199890137, -5.06279993057251, -5.079400062561035, -5.0980000495910645, -4.906400203704834, -5.124199867248535, -5.160099983215332, -5.210000038146973, -4.697299957275391, -4.867000102996826, -3.221299886703491, -3.9140000343322754, -3.93969988822937, -3.96370005607605, -3.9748001098632812, -4.100500106811523, -4.427700042724609, -4.471399784088135, -4.491499900817871, -4.49970006942749, -4.7459001541137695, -4.780399799346924, -4.858399868011475, -4.8592000007629395, -4.8902997970581055, -4.904300212860107, -4.907599925994873, -4.969299793243408, -4.997700214385986, -5.011600017547607, -5.212900161743164, -5.215199947357178, -5.227700233459473, -5.298399925231934, -5.309999942779541, -5.327700138092041, -5.359799861907959, -5.3719000816345215, -5.429299831390381, -5.441699981689453, -3.3315000534057617, -4.543399810791016, -5.01800012588501, -4.6072001457214355, -2.671099901199341, -3.900099992752075, -4.104000091552734, -4.390200138092041, -4.405200004577637, -4.407599925994873, -4.436600208282471, -4.532599925994873, -4.64769983291626, -4.656899929046631, -4.723400115966797, -4.80709981918335, -4.8520002365112305, -4.901700019836426, -4.938300132751465, -4.944399833679199, -4.947000026702881, -4.987599849700928, -5.019499778747559, -5.021200180053711, -5.049799919128418, -5.068399906158447, -5.0802001953125, -5.083799839019775, -5.106100082397461, -5.150400161743164, -5.179999828338623, -5.200900077819824, -5.221799850463867, -5.243199825286865, -4.875500202178955, -4.890600204467773, -3.73580002784729, -3.7399001121520996, -3.882999897003174, -4.030900001525879, -4.094799995422363, -4.200300216674805, -4.210899829864502, -4.251100063323975, -4.417099952697754, -4.445300102233887, -4.664100170135498, -4.695899963378906, -4.74399995803833, -4.747700214385986, -4.884799957275391, -4.976099967956543, -4.992099761962891, -5.037600040435791, -5.045899868011475, -5.077099800109863, -5.0843000411987305, -5.084799766540527, -5.137700080871582, -5.252799987792969, -5.266499996185303, -5.28410005569458, -5.291900157928467, -5.292500019073486, -5.323299884796143, -5.34250020980835, -4.305600166320801, -4.598499774932861, -4.869800090789795, -5.09089994430542, -5.021100044250488, -3.642699956893921, -3.7260000705718994, -3.878000020980835, -4.177499771118164, -4.186500072479248, -4.226900100708008, -3.6105000972747803, -4.350900173187256, -4.422900199890137, -4.433899879455566, -4.475299835205078, -4.5472002029418945, -4.6479997634887695, -4.677199840545654, -4.696800231933594, -4.7789998054504395, -4.7795000076293945, -4.843500137329102, -4.871399879455566, -4.881700038909912, -4.883800029754639, -4.9120001792907715, -4.913400173187256, -4.933000087738037, -4.934000015258789, -4.964399814605713, -5.030200004577637, -5.052000045776367, -5.100200176239014, -5.152299880981445, -4.865200042724609, -3.583899974822998, -3.676500082015991, -3.7309999465942383, -3.8208000659942627, -4.15910005569458, -4.190499782562256, -4.26200008392334, -4.271900177001953, -4.361299991607666, -4.369900226593018, -4.429800033569336, -4.431600093841553, -4.521900177001953, -4.555699825286865, -4.594699859619141, -4.636000156402588, -4.685800075531006, -4.734499931335449, -4.747099876403809, -4.88100004196167, -4.882500171661377, -4.9232001304626465, -4.928299903869629, -4.934700012207031, -5.05810022354126, -5.095099925994873, -5.133800029754639, -5.198800086975098, -5.209400177001953, -5.322999954223633, -3.9172000885009766, -3.021199941635132, -3.9054999351501465, -4.567599773406982, -4.882699966430664, -2.61899995803833, -3.4935998916625977, -3.670599937438965, -3.833400011062622, -4.019499778747559, -4.05620002746582, -4.1132001876831055, -4.2469000816345215, -4.395199775695801, -4.441699981689453, -4.537300109863281, -4.61329984664917, -4.6168999671936035, -4.673799991607666, -4.674099922180176, -4.682300090789795, -4.740600109100342, -4.797900199890137, -4.881999969482422, -4.910299777984619, -4.928599834442139, -4.948500156402588, -5.002900123596191, -5.00570011138916, -5.165800094604492, -5.20959997177124, -5.215199947357178, -5.234899997711182, -5.242499828338623, -5.251999855041504, -5.013199806213379, -4.909800052642822, -3.439199924468994, -3.6245999336242676, -3.6909000873565674, -3.7462000846862793, -4.246699810028076, -4.323400020599365, -4.3282999992370605, -4.428199768066406, -4.457799911499023, -4.549600124359131, -4.592599868774414, -4.68179988861084, -4.714300155639648, -4.747700214385986, -4.755300045013428, -4.813499927520752, -4.82289981842041, -4.830900192260742, -4.89139986038208, -4.999899864196777, -5.095099925994873, -5.130000114440918, -5.136000156402588, -5.164700031280518, -5.1757001876831055, -5.201200008392334, -5.22629976272583, -5.265399932861328, -5.2891998291015625, -5.33489990234375, -4.000199794769287, -4.945799827575684, -3.575900077819824, -3.604599952697754, -4.048699855804443, -4.07420015335083, -4.1371002197265625, -4.137700080871582, -4.234899997711182, -4.387199878692627, -4.444699764251709, -4.598700046539307, -4.597499847412109, -4.627399921417236, -4.796800136566162, -4.853099822998047, -4.899199962615967, -4.9105000495910645, -4.944300174713135, -5.101200103759766, -5.132900238037109, -5.224299907684326, -5.236700057983398, -5.244999885559082, -5.252999782562256, -5.284900188446045, -5.2916998863220215, -5.3171000480651855, -5.3267998695373535, -5.336100101470947, -5.343900203704834, -5.349299907684326, -4.374800205230713, -4.607800006866455, -4.391200065612793, -4.219799995422363, -5.1402997970581055, -4.439000129699707, -4.9704999923706055]}, \"token.table\": {\"Topic\": [12, 6, 16, 20, 13, 7, 2, 19, 11, 5, 2, 13, 6, 20, 11, 9, 3, 3, 11, 6, 5, 5, 9, 15, 6, 3, 7, 9, 20, 3, 9, 12, 20, 3, 5, 6, 7, 9, 11, 17, 18, 12, 9, 15, 3, 4, 11, 2, 13, 2, 17, 18, 16, 20, 20, 7, 10, 3, 4, 6, 7, 10, 11, 14, 19, 20, 1, 2, 19, 5, 12, 1, 6, 7, 4, 9, 19, 8, 17, 1, 4, 8, 5, 9, 1, 13, 1, 2, 9, 6, 7, 3, 2, 17, 3, 1, 10, 14, 9, 12, 20, 8, 14, 3, 14, 16, 16, 19, 4, 18, 12, 13, 11, 13, 8, 20, 10, 16, 13, 9, 3, 7, 2, 18, 12, 15, 18, 3, 5, 17, 13, 7, 2, 1, 19, 11, 4, 1, 12, 5, 18, 3, 10, 19, 3, 6, 10, 3, 1, 3, 6, 7, 20, 2, 16, 6, 7, 17, 4, 4, 9, 4, 7, 7, 9, 19, 8, 10, 16, 15, 7, 11, 15, 1, 6, 1, 19, 10, 2, 15, 5, 14, 3, 1, 10, 3, 20, 17, 15, 5, 11, 1, 8, 16, 19, 20, 14, 15, 13, 4, 3, 13, 17, 1, 4, 14, 20, 14, 3, 8, 17, 4, 5, 7, 9, 11, 13, 18, 20, 10, 4, 17, 14, 11, 19, 18, 10, 15, 6, 8, 10, 19, 8, 1, 11, 17, 2, 7, 1, 1, 15, 8, 15, 10, 12, 20, 5, 15, 11, 19, 6, 1, 8, 1, 16, 3, 7, 2, 3, 12, 15, 7, 5, 7, 5, 2, 15, 4, 19, 15, 7, 8, 10, 20, 4, 11, 14, 7, 14, 15, 10, 19, 10, 19, 5, 17, 15, 10, 17, 10, 6, 19, 20, 18, 14, 20, 3, 14, 7, 19, 14, 19, 7, 20, 12, 19, 9, 20, 17, 10, 13, 16, 3, 1, 7, 11, 17, 18, 1, 13, 4, 7, 10, 15, 18, 18, 20, 3, 13, 13, 14, 9, 11, 15, 10, 14, 13, 20, 2, 15, 2, 5, 8, 2, 13, 16, 12, 8, 20, 19, 15, 14, 13, 13, 5, 15, 10, 3, 5, 6, 17, 1, 2, 15, 2, 9, 10, 17, 1, 8, 9, 18, 4, 3, 12, 12, 20, 17, 5, 15, 1, 10, 20, 15, 5, 9, 11, 1, 14, 14, 9, 5, 6, 8, 10, 11, 12, 13, 14, 15, 17, 18, 20, 14, 12, 6, 1, 10, 8, 17, 1, 3, 4, 5, 6, 8, 9, 10, 12, 15, 17, 19, 3, 6, 4, 4, 9, 1, 13, 14, 5, 6, 2, 10, 5, 2, 4, 7, 6, 16, 6, 4, 13, 6, 4, 8, 14, 6, 19, 4, 18, 9, 18, 7, 5, 4, 11, 7, 19, 1, 3, 7, 10, 11, 12, 17, 3, 5, 11, 7, 17, 19, 8, 6, 5, 16, 2, 8, 14, 17, 2, 8, 11, 11, 20, 20, 14, 16, 20, 10, 4, 9, 17, 6, 15, 12, 5, 8, 8, 13, 9, 10, 2, 18, 6, 17, 7, 8, 12, 1, 17, 7, 7, 12, 17, 11, 2, 2, 20, 9, 14, 15, 7, 9, 10, 8, 14, 15, 9, 8, 16, 19, 13, 13, 17, 2, 2, 9, 13, 2, 20, 14, 20, 15, 16, 9, 19, 8, 9, 9, 2, 3, 19, 5, 9, 9, 18, 4, 16, 18, 12, 4, 17, 1, 11, 10, 17, 17, 16, 16, 18, 8, 5, 7, 18, 14, 15, 12, 16, 12, 4, 18, 3, 8, 18, 10, 7, 9, 16, 11, 4, 17, 4, 6, 3, 19, 10, 2, 4, 5, 8, 9, 10, 13, 14, 17, 19, 4, 11, 13, 3, 20, 3, 5, 16, 7, 20, 16, 16, 9, 13, 12, 13, 4, 2, 2, 3, 2, 5, 6, 8, 11, 12, 4, 6, 12, 17, 6, 18, 1, 13, 18, 12, 9, 5, 9, 3, 5, 17, 19, 19, 6, 18, 3, 14, 7, 12, 17, 7, 9, 3, 11, 14, 16, 11, 2, 9, 4, 18, 1, 3, 4, 5, 7, 9, 16, 17, 20, 1, 15, 20, 17, 20, 15, 14, 6, 16, 12, 8, 9, 20, 12, 8, 4, 19, 6, 7, 10, 15, 12, 10, 8, 7, 11, 13, 15, 8, 1, 14, 14, 20, 17, 18, 6, 10, 12, 2, 10, 1, 3, 4, 7, 9, 10, 11, 14, 1, 9, 6, 18, 14, 20, 1, 3, 5, 7, 9, 13, 19, 20, 6, 4, 8, 9, 10, 11, 12, 15, 16, 17, 18, 9, 18, 11, 11, 13, 11, 18, 10, 13, 7, 4, 5, 6, 8, 9, 11, 12, 13, 14, 17, 20, 6, 19, 18, 19, 11, 10, 4, 5, 8, 17, 13, 2, 5, 12, 16, 15, 14, 20, 16, 2, 5, 6, 7, 8, 13, 15, 20, 11, 16, 20, 5, 13, 8, 14, 8, 5, 1, 4, 19, 11, 1, 2, 3, 4, 5, 6, 7, 8, 9, 10, 12, 17, 18, 19, 20, 16, 20, 12, 7, 4, 1, 20, 6, 5, 5, 18, 9, 12, 13, 11, 13, 9, 8, 1, 2, 9, 18, 9, 16, 18, 19, 17, 11, 15, 1, 11, 8, 10, 17, 12, 18, 3, 8, 16, 18, 2], \"Freq\": [0.9996270537376404, 0.999334990978241, 0.998627245426178, 0.9993525743484497, 0.9986335039138794, 0.9984275102615356, 0.9994542598724365, 0.9988997578620911, 0.9994233846664429, 0.9988419413566589, 0.9993898868560791, 0.9979375004768372, 0.9991055130958557, 0.9984831809997559, 0.9978821277618408, 0.9995037913322449, 0.9984598755836487, 0.9989413619041443, 0.9971815943717957, 0.9982192516326904, 0.9987633228302002, 0.9991104602813721, 0.1868254840373993, 0.8124735951423645, 0.9985446333885193, 0.999531626701355, 0.9989748001098633, 0.8167797923088074, 0.18287606537342072, 0.00024666255922056735, 0.9688906073570251, 0.00024666255922056735, 0.030339496210217476, 0.08272100985050201, 0.11256880313158035, 0.3091377913951874, 0.05756359174847603, 0.138152614235878, 0.0724874883890152, 0.05287322402000427, 0.1743963658809662, 0.9986535906791687, 0.27627232670783997, 0.7233973145484924, 0.999363899230957, 0.998788595199585, 0.9987050294876099, 0.9886429309844971, 0.011104045435786247, 0.9988642930984497, 0.998809814453125, 0.9989378452301025, 0.9987649917602539, 0.9993619322776794, 0.9994792938232422, 0.9996208548545837, 0.9988389611244202, 0.3019182085990906, 0.09609073400497437, 0.05884846672415733, 0.09580644220113754, 0.08301329612731934, 0.11144250631332397, 0.05401550233364105, 0.08983630686998367, 0.10888388007879257, 0.998323917388916, 0.8588742613792419, 0.14047984778881073, 0.9993653297424316, 0.9984145760536194, 0.9992833733558655, 0.9995457530021667, 0.998221218585968, 0.6126527190208435, 0.3867782652378082, 0.9991504549980164, 0.9997299313545227, 0.9995279908180237, 0.9987902045249939, 0.9996790885925293, 0.9996450543403625, 0.9990169405937195, 0.9999527931213379, 0.9978160262107849, 0.9994369149208069, 0.999416172504425, 0.3218306601047516, 0.6781188249588013, 0.9994045495986938, 0.9997469186782837, 0.997998833656311, 0.9991108775138855, 0.9993458986282349, 0.9985384941101074, 0.9987376928329468, 0.9984345436096191, 0.9982543587684631, 0.9989470839500427, 0.9989436268806458, 0.9997643828392029, 0.9987180829048157, 0.9996036887168884, 0.9993981122970581, 0.9990584850311279, 0.9992647767066956, 0.9992861151695251, 0.998747706413269, 0.9997104406356812, 0.9983096122741699, 0.20072756707668304, 0.7989701628684998, 0.9984747767448425, 0.999210000038147, 0.998822808265686, 0.9983812570571899, 0.9994186162948608, 0.9994931817054749, 0.9995197653770447, 0.9985805749893188, 0.9985423684120178, 0.9993658065795898, 0.8710546493530273, 0.12825623154640198, 0.999719500541687, 0.9996480345726013, 0.9997247457504272, 0.9985344409942627, 0.9981972575187683, 0.9990222454071045, 0.9997552633285522, 0.998487651348114, 0.9987969994544983, 0.9987284541130066, 0.9989905953407288, 0.9996225833892822, 0.998984158039093, 0.9990854263305664, 0.9983345866203308, 0.9988402724266052, 0.9991750121116638, 0.9987626671791077, 0.000957280513830483, 0.9991934299468994, 0.9984105825424194, 0.9977798461914062, 0.9992945194244385, 0.9991825222969055, 0.997581422328949, 0.9988943934440613, 0.9984908699989319, 0.9990929365158081, 0.9991324543952942, 0.9998489618301392, 0.9995282292366028, 0.7169633507728577, 0.2815031409263611, 0.000644171901512891, 0.9992541074752808, 0.2158392369747162, 0.7833039164543152, 0.9985490441322327, 0.9982993006706238, 0.998997688293457, 0.9990575909614563, 0.9987627863883972, 0.9995311498641968, 0.9979061484336853, 0.9990353584289551, 0.998121440410614, 0.9993543028831482, 0.9984326958656311, 0.0011636745184659958, 0.9990556836128235, 0.9992424845695496, 0.9994092583656311, 0.9995779395103455, 0.9985477924346924, 0.9993454217910767, 0.9976805448532104, 0.9980992674827576, 0.9986052513122559, 0.9987056255340576, 0.9994970560073853, 0.9996081590652466, 0.9990938305854797, 0.9993438124656677, 0.9989273548126221, 0.9988285303115845, 0.9992003440856934, 0.9988729357719421, 0.9979473948478699, 0.9981854557991028, 0.9994034171104431, 0.9988696575164795, 0.9981247782707214, 0.9992040991783142, 0.9992006421089172, 0.9990019798278809, 0.9982442259788513, 0.9989463090896606, 0.9975979924201965, 0.9989420175552368, 0.1237097829580307, 0.14013998210430145, 0.17461121082305908, 0.5612042546272278, 0.9981741905212402, 0.08378256857395172, 0.9152929782867432, 0.0008420358644798398, 0.06156297028064728, 0.10093463957309723, 0.33394333720207214, 0.16035006940364838, 0.17681458592414856, 0.0003579242620617151, 0.09628162533044815, 0.06979522854089737, 0.9990228414535522, 0.9993340373039246, 0.9991295337677002, 0.9983895421028137, 0.9989749193191528, 0.9991905093193054, 0.9980260133743286, 0.9985331296920776, 0.9986906051635742, 0.11646554619073868, 0.21854689717292786, 0.4983426034450531, 0.1661142110824585, 0.9984325170516968, 0.9995707869529724, 0.9975374937057495, 0.9982042908668518, 0.9995012283325195, 0.9983063340187073, 0.9985164403915405, 0.9980583786964417, 0.9993373155593872, 0.999316394329071, 0.99790358543396, 0.9994067549705505, 0.9985407590866089, 0.9993322491645813, 0.9985135793685913, 0.9991546869277954, 0.9996094107627869, 0.9990254640579224, 0.9997492432594299, 0.7202962040901184, 0.27939993143081665, 0.9997143745422363, 0.9992466568946838, 0.9981099963188171, 0.9990138411521912, 0.9987290501594543, 0.9985724687576294, 0.9987081289291382, 0.9982782602310181, 0.9989931583404541, 0.7775442004203796, 0.22206078469753265, 0.9996194839477539, 0.9990553259849548, 0.9994010329246521, 0.9983963966369629, 0.9975968599319458, 0.9993817210197449, 0.9993152618408203, 0.9987798929214478, 0.9992650151252747, 0.9996102452278137, 0.9997807741165161, 0.9993863701820374, 0.9996128678321838, 0.9990664124488831, 0.9992896318435669, 0.9994270205497742, 0.999271035194397, 0.9997561573982239, 0.24388448894023895, 0.7557787299156189, 0.9997352361679077, 0.9997327327728271, 0.9989517331123352, 0.9997502565383911, 0.9992976188659668, 0.9996588826179504, 0.9992732405662537, 0.9987483024597168, 0.9990288019180298, 0.9992884397506714, 0.99857497215271, 0.9981515407562256, 0.9985370635986328, 0.9983357787132263, 0.9991040229797363, 0.9989839196205139, 0.9980982542037964, 0.9994300603866577, 0.9995577335357666, 0.9984501600265503, 0.9995611310005188, 0.9990976452827454, 0.3274129331111908, 0.6722268462181091, 0.9988837242126465, 0.9991564154624939, 0.9995577931404114, 0.9982931017875671, 0.9989261031150818, 0.0006199332419782877, 0.1481640487909317, 0.00030996662098914385, 0.7265617847442627, 0.12398664653301239, 0.9988674521446228, 0.9995790123939514, 0.9994407296180725, 0.9993627667427063, 0.9994180202484131, 0.9986430406570435, 0.999723494052887, 0.9980143904685974, 0.9991653561592102, 0.9993507266044617, 0.998469889163971, 0.9996700286865234, 0.9982381463050842, 0.9978448748588562, 0.9988356232643127, 0.9978142976760864, 0.9991389513015747, 0.9988653063774109, 0.9982317686080933, 0.9992910027503967, 0.998993992805481, 0.9992797374725342, 0.9975993037223816, 0.9988378286361694, 0.9984721541404724, 0.998957097530365, 0.9981861710548401, 0.9994068145751953, 0.9990137219429016, 0.9977227449417114, 0.9997764825820923, 0.9984421133995056, 0.999069333076477, 0.9992690086364746, 0.9979188442230225, 0.9983559846878052, 0.9998406171798706, 0.9979439973831177, 0.9985484480857849, 0.2391684502363205, 0.44884544610977173, 0.13055360317230225, 0.1812645047903061, 0.9994038343429565, 0.9995554685592651, 0.9984042048454285, 0.9992218613624573, 0.9990560412406921, 0.9828806519508362, 0.01708344742655754, 0.14934207499027252, 0.8503937721252441, 0.997698962688446, 0.9988066554069519, 0.9990060329437256, 0.9983533620834351, 0.998715341091156, 0.9985242486000061, 0.9985727071762085, 0.9983454942703247, 0.9987442493438721, 0.9981167912483215, 0.9998347163200378, 0.9998196363449097, 0.9989911913871765, 0.9978302717208862, 0.9991535544395447, 0.9992075562477112, 0.9992704391479492, 0.9994828701019287, 0.9983298778533936, 0.9992295503616333, 0.9986639618873596, 0.0490788035094738, 0.0368817038834095, 0.24626524746418, 0.32670801877975464, 0.03397763520479202, 0.052273284643888474, 0.00029040712979622185, 0.07899073511362076, 0.00029040712979622185, 0.04704595357179642, 0.03775292634963989, 0.09031661599874496, 0.9998469948768616, 0.9994271397590637, 0.9995623230934143, 0.9988065361976624, 0.9997920989990234, 0.9977661967277527, 0.9992418885231018, 0.07218580693006516, 0.15647824108600616, 0.0006053317338228226, 0.10684104263782501, 0.021640608087182045, 0.0767257958650589, 0.11561835557222366, 0.2583253085613251, 0.00045399877126328647, 0.049485865980386734, 0.0767257958650589, 0.06477048993110657, 0.9993613958358765, 0.999421238899231, 0.9992926120758057, 0.999407947063446, 0.9986348152160645, 0.999581515789032, 0.9987695813179016, 0.9990760684013367, 0.9994322657585144, 0.9994401931762695, 0.9978489875793457, 0.9989926218986511, 0.9985345005989075, 0.00043835697579197586, 0.536548912525177, 0.4629049599170685, 0.9988138675689697, 0.9994528293609619, 0.9988746047019958, 0.9993516802787781, 0.9988333582878113, 0.9990408420562744, 0.9996359348297119, 0.9991053342819214, 0.9995233416557312, 0.9995861649513245, 0.9992518424987793, 0.9989815950393677, 0.9991633296012878, 0.9990538358688354, 0.999526858329773, 0.9995191097259521, 0.9990516304969788, 0.9995002150535583, 0.9996252655982971, 0.4412219226360321, 0.5579914450645447, 0.00028594251489266753, 0.00042891374323517084, 0.1695639044046402, 0.01787140592932701, 0.00028594251489266753, 0.00014297125744633377, 0.8115048408508301, 0.706633448600769, 0.29319286346435547, 0.9995982646942139, 0.0072814589366316795, 0.9924200177192688, 0.9992570877075195, 0.9995647668838501, 0.9989261627197266, 0.9995419383049011, 0.9996952414512634, 0.9981961846351624, 0.8621153831481934, 0.13767917454242706, 0.9983820915222168, 0.9996955990791321, 0.9993975758552551, 0.9982333183288574, 0.661543607711792, 0.3384479582309723, 0.9991881251335144, 0.9990283846855164, 0.9980205297470093, 0.9995725750923157, 0.9994667768478394, 0.9990041851997375, 0.9984239935874939, 0.9994919300079346, 0.9982365369796753, 0.9985576868057251, 0.9996629357337952, 0.9994562268257141, 0.9986366033554077, 0.9993277788162231, 0.9988710880279541, 0.7820833325386047, 0.21781082451343536, 0.9980494379997253, 0.9996740818023682, 0.9989587664604187, 0.998658299446106, 0.7620722055435181, 0.2371254712343216, 0.9991601705551147, 0.9994446039199829, 0.9995459318161011, 0.9997061491012573, 0.9983192086219788, 0.9996764659881592, 0.9995357394218445, 0.9994776844978333, 0.9999440312385559, 0.999691367149353, 0.9991366863250732, 0.9996623396873474, 0.9982174038887024, 0.9992333054542542, 0.99951171875, 0.9984714388847351, 0.997965395450592, 0.999700129032135, 0.9980489611625671, 0.9989454746246338, 0.9979479312896729, 0.9983989000320435, 0.9994349479675293, 0.9984541535377502, 0.9995137453079224, 0.9971275925636292, 0.9984252452850342, 0.9979393482208252, 0.9991409182548523, 0.3965512812137604, 0.6024014949798584, 0.7211605906486511, 0.2782880365848541, 0.0945834144949913, 0.904605507850647, 0.998860239982605, 0.9988912343978882, 0.9984672665596008, 0.9988691806793213, 0.9988337159156799, 0.9987608194351196, 0.9972259998321533, 0.742296040058136, 0.25759145617485046, 0.9989736080169678, 0.0003492344985716045, 0.9995091557502747, 0.9998292922973633, 0.9987984895706177, 0.9990172386169434, 0.9993371367454529, 0.9989990592002869, 0.9978548288345337, 0.9988601207733154, 0.9996625781059265, 0.17547021806240082, 0.8240907192230225, 0.9642719626426697, 0.03544267639517784, 0.9992163777351379, 0.9981991052627563, 0.9991714954376221, 0.9987409710884094, 0.9994936585426331, 0.9994254112243652, 0.9986100792884827, 0.9993083477020264, 0.25579968094825745, 0.7437984943389893, 0.9990320801734924, 0.9986200928688049, 0.9992566108703613, 0.9985218644142151, 0.9984882473945618, 0.9983975887298584, 0.9993523955345154, 0.9985455274581909, 0.9974162578582764, 0.8047646284103394, 0.1949220448732376, 0.9990718960762024, 0.9987870454788208, 0.998885452747345, 0.9980157017707825, 0.9979459047317505, 0.9980120062828064, 0.9979286789894104, 0.9988983869552612, 0.9985097646713257, 0.0848018154501915, 0.09051878750324249, 0.13149045407772064, 0.1757970154285431, 0.08980416506528854, 0.05216740816831589, 0.11219565570354462, 0.023344319313764572, 0.21009887754917145, 0.029775917530059814, 0.8713206648826599, 0.12721483409404755, 0.9998453259468079, 0.999052882194519, 0.9986542463302612, 0.999615490436554, 0.9995492100715637, 0.9988043308258057, 0.9990410804748535, 0.9984695911407471, 0.998282790184021, 0.998271107673645, 0.9978963136672974, 0.9986370205879211, 0.9994270205497742, 0.998388409614563, 0.9997909069061279, 0.9991394877433777, 0.999745786190033, 0.9981477856636047, 0.9998151063919067, 0.08193057030439377, 0.000740336487069726, 0.7043067812919617, 0.10488100349903107, 0.1078423485159874, 0.9988564252853394, 0.9982412457466125, 0.9992767572402954, 0.9994713068008423, 0.3086716830730438, 0.6902241706848145, 0.9991055130958557, 0.9990056157112122, 0.9996381998062134, 0.9989538788795471, 0.9978808760643005, 0.9988796710968018, 0.9985942840576172, 0.9994579553604126, 0.9991974234580994, 0.999634861946106, 0.9984161853790283, 0.9997904300689697, 0.9981274008750916, 0.9988657832145691, 0.999243438243866, 0.9994637966156006, 0.9991924166679382, 0.9996614456176758, 0.9996246695518494, 0.9995402693748474, 0.9967640042304993, 0.9995027184486389, 0.9997031092643738, 0.0003759358369279653, 0.9992374777793884, 0.999579131603241, 0.9990652203559875, 0.9998003244400024, 0.9993594288825989, 0.9998906254768372, 0.0002785039832815528, 0.11530064791440964, 0.0754745751619339, 0.1211492270231247, 0.07185402512550354, 0.2127770334482193, 0.06461292505264282, 0.3367113173007965, 0.001392519916407764, 0.9992749691009521, 0.7428266406059265, 0.25724735856056213, 0.9985086917877197, 0.9990723729133606, 0.9997742176055908, 0.9977890849113464, 0.9982209801673889, 0.9980608224868774, 0.9986709952354431, 0.9997052550315857, 0.14101848006248474, 0.8584809303283691, 0.9977951049804688, 0.999010443687439, 0.9982807040214539, 0.9990968704223633, 0.1086503267288208, 0.3064688444137573, 0.1056530773639679, 0.4795600473880768, 0.9979471564292908, 0.9984787702560425, 0.9994049668312073, 0.998282253742218, 0.9982948303222656, 0.999006986618042, 0.9980244040489197, 0.9994157552719116, 0.166304349899292, 0.8325878381729126, 0.999681830406189, 0.9981544613838196, 0.9996615648269653, 0.9993607997894287, 0.9992348551750183, 0.9987749457359314, 0.9994933605194092, 0.9987868666648865, 0.9989215135574341, 0.006272781640291214, 0.12754656374454498, 0.1000160202383995, 0.11116763204336166, 0.3401241600513458, 0.24498698115348816, 0.06934908777475357, 0.9983898997306824, 0.9988587498664856, 0.9980414509773254, 0.9989866614341736, 0.9991028904914856, 0.9980999827384949, 0.9984599947929382, 0.3707719147205353, 0.1093376949429512, 0.1030898243188858, 0.18177391588687897, 0.11324261128902435, 0.030263110995292664, 0.00741934310644865, 0.08415096998214722, 0.9988250136375427, 0.09283008426427841, 0.06533582508563995, 0.11411596089601517, 0.23296211659908295, 0.12239380180835724, 0.05055396258831024, 0.09667336940765381, 0.04198048263788223, 0.04937141388654709, 0.13333238661289215, 0.9990519881248474, 0.9985067248344421, 0.9992807507514954, 0.9989809393882751, 0.9968470335006714, 0.9985587000846863, 0.9989814162254333, 0.23553265631198883, 0.7642506957054138, 0.9989223480224609, 0.0045031774789094925, 0.19155822694301605, 0.03377382829785347, 0.44148457050323486, 0.030916044488549232, 0.003463982604444027, 0.06702806055545807, 0.03689141571521759, 0.06659506261348724, 0.00259798695333302, 0.12115278840065002, 0.9992773532867432, 0.9987949728965759, 0.99964839220047, 0.9994085431098938, 0.9974616765975952, 0.9986375570297241, 0.16286003589630127, 0.21384893357753754, 0.6225211024284363, 0.9993317127227783, 0.9992160201072693, 0.998716413974762, 0.998615026473999, 0.9979420900344849, 0.9986791610717773, 0.9994274377822876, 0.999204695224762, 0.999085009098053, 0.9991852045059204, 0.20169676840305328, 0.06012781709432602, 0.04453270509839058, 0.0038121382240206003, 0.4635213315486908, 0.03846793994307518, 0.045399099588394165, 0.1426086276769638, 0.9991542100906372, 0.18135547637939453, 0.81817626953125, 0.9993902444839478, 0.9983741044998169, 0.9996384382247925, 0.9990403652191162, 0.9978492856025696, 0.9984714984893799, 0.9979145526885986, 0.9986109733581543, 0.9976186752319336, 0.9993297457695007, 0.020683063194155693, 0.0049078455194830894, 0.05240878090262413, 0.05994582921266556, 0.061348069459199905, 0.06327614933252335, 0.10499284416437149, 0.0545121431350708, 0.1163860559463501, 0.24626868963241577, 0.006310087163001299, 0.07063791900873184, 0.04697509482502937, 0.06958623975515366, 0.02173474431037903, 0.9989838600158691, 0.9995912313461304, 0.9985912442207336, 0.9991539120674133, 0.9987367987632751, 0.9994320869445801, 0.998595118522644, 0.999887228012085, 0.9996628165245056, 0.999396562576294, 0.9981050491333008, 0.7912905812263489, 0.07389432191848755, 0.13470181822776794, 0.9978192448616028, 0.9986516237258911, 0.9969934821128845, 0.9994889497756958, 0.9991791248321533, 0.19136473536491394, 0.6815145611763, 0.1269836574792862, 0.9988222122192383, 0.9992680549621582, 0.9985643029212952, 0.9996802806854248, 0.9981693625450134, 0.9989274740219116, 0.9995537996292114, 0.18217192590236664, 0.8174597024917603, 0.9980679750442505, 0.9997012615203857, 0.9995731711387634, 0.9982820153236389, 0.9994853138923645, 0.1018114984035492, 0.7089374661445618, 0.18914979696273804, 0.999355673789978, 0.9987232685089111], \"Term\": [\"-&gt\", \"....\", \"2015\", \"2016\", \"2017\", \"abuse\", \"acab\", \"accused\", \"acemackmw \", \"action\", \"activist\", \"actor\", \"actually\", \"admit\", \"africa\", \"african\", \"agree\", \"alabama\", \"album\", \"allow\", \"almost\", \"already\", \"also\", \"also\", \"altonsterling\", \"always\", \"amaze\", \"america\", \"america\", \"american\", \"american\", \"american\", \"american\", \"another\", \"another\", \"another\", \"another\", \"another\", \"another\", \"another\", \"another\", \"anti\", \"anyone\", \"anyone\", \"anything\", \"april\", \"around\", \"arrest\", \"arrest\", \"artist\", \"ask\", \"assault\", \"atlanta\", \"attack\", \"award\", \"away\", \"baby\", \"back\", \"back\", \"back\", \"back\", \"back\", \"back\", \"back\", \"back\", \"back\", \"ballerina\", \"baltimore\", \"baltimore\", \"beat\", \"beats\", \"beautiful\", \"become\", \"behind\", \"believe\", \"believe\", \"bernie\", \"best\", \"better\", \"beyonc\\u00e9\", \"bill\", \"birthday\", \"bitch\", \"black\", \"blackexcellence\", \"blackhistory\", \"blackhistorymonth\", \"blacklivesmatter\", \"blacklivesmatter\", \"blackskinisnotacrime\", \"blacktolive\", \"blacktolive \", \"blacktwitter\", \"bleepthepolice \", \"blue\", \"body\", \"book\", \"boost\", \"born\", \"brand\", \"break\", \"breakfast\", \"breaking\", \"bring\", \"brother\", \"brown\", \"brutality\", \"build\", \"business\", \"california\", \"call\", \"call\", \"calling\", \"camera\", \"campaign\", \"candidate\", \"care\", \"case\", \"catch\", \"celebrate\", \"chance\", \"change\", \"charge\", \"charge\", \"check\", \"chicago\", \"child\", \"china\", \"christmas\", \"citizen\", \"city\", \"civil\", \"claim\", \"class\", \"cleveland\", \"click\", \"clinton\", \"coast2coast\", \"coast2coastmag \", \"college\", \"color\", \"come\", \"come\", \"comey\", \"coming\", \"comment\", \"community\", \"company\", \"concern\", \"confederate\", \"continue\", \"control\", \"cool\", \"cop\", \"could\", \"country\", \"country\", \"country\", \"county\", \"court\", \"court\", \"cover\", \"crazy\", \"create\", \"crime\", \"criminal\", \"crisis\", \"culture\", \"dagr8fm\", \"daily\", \"damn\", \"datpiff\", \"datpiff\", \"daughter\", \"david\", \"days\", \"dead\", \"deal\", \"death\", \"demand\", \"department\", \"deputy\", \"deserve\", \"die\", \"diet\", \"different\", \"disgust\", \"do\", \"dolla\", \"donald\", \"drake \", \"dream\", \"driver\", \"drop\", \"drug\", \"dude\", \"duty\", \"edition\", \"education\", \"election\", \"else\", \"ending\", \"enough\", \"even\", \"even\", \"even\", \"even\", \"event\", \"ever\", \"ever\", \"ever\", \"every\", \"every\", \"every\", \"every\", \"every\", \"every\", \"every\", \"every\", \"everybody\", \"everyone\", \"everything\", \"evidence\", \"exercise\", \"exist\", \"expect\", \"explain\", \"expose\", \"face\", \"face\", \"face\", \"face\", \"facebook\", \"fact\", \"fake\", \"fall\", \"family\", \"fan\", \"fatally\", \"father\", \"fear\", \"feat\", \"federal\", \"feel\", \"female\", \"fight\", \"fighting\", \"film\", \"finance\", \"find\", \"fire\", \"first\", \"first\", \"fitness\", \"five\", \"flag\", \"flint\", \"florida\", \"folks\", \"follow\", \"following\", \"food\", \"force\", \"force\", \"forget\", \"former\", \"found\", \"founder\", \"freddiegray\", \"free\", \"freedom\", \"friday\", \"friend\", \"fuck\", \"fucking\", \"full\", \"future\", \"game\", \"georgia\", \"get\", \"getting\", \"girl\", \"give\", \"give\", \"go\", \"going\", \"gold\", \"good\", \"government\", \"great\", \"greece\", \"greek\", \"group\", \"grow\", \"guess\", \"guest\", \"gun\", \"guy\", \"hack\", \"hair\", \"handcuff\", \"hands\", \"happen\", \"happening\", \"happy\", \"hard\", \"hate\", \"hate\", \"head\", \"health\", \"hear\", \"heart\", \"hell\", \"help\", \"help\", \"help\", \"help\", \"help\", \"hero\", \"high\", \"hillary\", \"hiphop\", \"history\", \"hold\", \"home\", \"homeless\", \"honor\", \"hope\", \"host\", \"house\", \"houston\", \"human\", \"idea\", \"ignorance\", \"important\", \"industry\", \"info\", \"injustice\", \"innocent\", \"inspire\", \"instead\", \"interest\", \"involve\", \"issue\", \"jackson\", \"jail\", \"john\", \"johnson\", \"join\", \"jones\", \"judge\", \"july\", \"jump\", \"june\", \"justice\", \"kaepernick\", \"kanyewest \", \"keep\", \"keep\", \"keep\", \"keep\", \"kid\", \"kill\", \"killer\", \"killing\", \"king\", \"know\", \"know\", \"last\", \"last\", \"later\", \"latest\", \"laws\", \"le\", \"lead\", \"learn\", \"least\", \"leave\", \"left\", \"level\", \"life\", \"like\", \"likely\", \"limited\", \"line\", \"listen\", \"little\", \"live\", \"lmao\", \"local\", \"long\", \"look\", \"look\", \"look\", \"look\", \"look\", \"look\", \"look\", \"look\", \"look\", \"look\", \"look\", \"look\", \"lose\", \"loss\", \"lost\", \"louisiana\", \"love\", \"lyric\", \"maga\", \"make\", \"make\", \"make\", \"make\", \"make\", \"make\", \"make\", \"make\", \"make\", \"make\", \"make\", \"make\", \"making\", \"many\", \"march\", \"market\", \"martin\", \"matter\", \"mayor\", \"mean\", \"medium\", \"meet\", \"member\", \"mental\", \"michael\", \"million\", \"million\", \"million\", \"mind\", \"miss\", \"mistake\", \"mixtape\", \"moment\", \"monday\", \"money\", \"month\", \"morning\", \"mother\", \"move\", \"movement\", \"movie\", \"much\", \"murder\", \"music\", \"muslim\", \"must\", \"name\", \"national\", \"national\", \"need\", \"need\", \"need\", \"need\", \"need\", \"need\", \"need\", \"never\", \"never\", \"news\", \"next\", \"next\", \"nigga\", \"night\", \"north\", \"nothing\", \"nowplaying\", \"nypd\", \"obama\", \"obama\", \"offer\", \"officer\", \"official\", \"ohio\", \"open\", \"open\", \"opening\", \"order\", \"orleans\", \"oscar\", \"others\", \"own\", \"panther\", \"parent\", \"park\", \"part\", \"party\", \"pass\", \"paul\", \"pay\", \"peace\", \"people\", \"people\", \"perform\", \"person\", \"philandocastile\", \"phone\", \"photo\", \"photo\", \"picture\", \"place\", \"plan\", \"play\", \"player\", \"playing\", \"please\", \"point\", \"police\", \"policebrutality\", \"policy\", \"politics\", \"poor\", \"post\", \"power\", \"powerful\", \"present\", \"president\", \"pretty\", \"prison\", \"privilege\", \"probably\", \"problem\", \"prod\", \"profile\", \"program\", \"promise\", \"promo\", \"promotion\", \"protect\", \"protect\", \"protest\", \"protest\", \"protester\", \"protester\", \"proud\", \"public\", \"pull\", \"push\", \"queen\", \"question\", \"quote\", \"race\", \"race\", \"racial\", \"racism\", \"racism\", \"racist\", \"radio\", \"raise\", \"rally\", \"rape\", \"rapper\", \"read\", \"ready\", \"real\", \"real\", \"really\", \"really\", \"reason\", \"receive\", \"record\", \"refuse\", \"release\", \"remember\", \"remix\", \"remove\", \"report\", \"report\", \"republican\", \"resist\", \"respect\", \"rest\", \"result\", \"return\", \"retweet\", \"reveal\", \"rice\", \"right\", \"right\", \"rock\", \"rt_america\", \"rule\", \"running\", \"russian\", \"safe\", \"saint\", \"sander\", \"save\", \"say\", \"say\", \"say\", \"say\", \"say\", \"say\", \"say\", \"say\", \"say\", \"say\", \"saying\", \"saying\", \"school\", \"season\", \"second\", \"see\", \"seem\", \"self\", \"sell\", \"send\", \"sentence\", \"series\", \"serious\", \"serve\", \"share\", \"sheriff\", \"shit\", \"shoot\", \"shooting\", \"short\", \"shot\", \"show\", \"show\", \"show\", \"show\", \"show\", \"shut\", \"sick\", \"side\", \"sign\", \"since\", \"since\", \"single\", \"sister\", \"skin\", \"slave\", \"slavery\", \"social\", \"society\", \"someone\", \"something\", \"song\", \"sound\", \"soundcloud\", \"south\", \"speak\", \"speaking\", \"special\", \"speech\", \"spend\", \"sport\", \"stand\", \"standing\", \"star\", \"start\", \"state\", \"state\", \"stay\", \"staywoke\", \"still\", \"stock\", \"stocks\", \"stop\", \"stop\", \"stop\", \"stop\", \"stop\", \"stop\", \"stop\", \"stop\", \"stop\", \"story\", \"street\", \"street\", \"strong\", \"struggle\", \"student\", \"study\", \"stuff\", \"sue\", \"sunday\", \"support\", \"supporter\", \"supporter\", \"supremacist\", \"sure\", \"surprise\", \"suspect\", \"system\", \"system\", \"system\", \"system\", \"taking\", \"talibkweli \", \"talk\", \"talking\", \"talks\", \"target\", \"teach\", \"teacher\", \"team\", \"team\", \"teen\", \"teens\", \"tell\", \"terrorist\", \"texas\", \"thank\", \"thanks\", \"thing\", \"things\", \"think\", \"think\", \"think\", \"think\", \"think\", \"think\", \"think\", \"though\", \"thought\", \"threat\", \"threaten\", \"three\", \"throw\", \"thug\", \"time\", \"time\", \"time\", \"time\", \"time\", \"time\", \"time\", \"time\", \"times\", \"today\", \"today\", \"today\", \"today\", \"today\", \"today\", \"today\", \"today\", \"today\", \"today\", \"together\", \"tomorrow\", \"tonight\", \"track\", \"trade\", \"trap\", \"treat\", \"true\", \"true\", \"truly\", \"trump\", \"trump\", \"trump\", \"trump\", \"trump\", \"trump\", \"trump\", \"trump\", \"trump\", \"trump\", \"trump\", \"trumprussia\", \"trust\", \"truth\", \"try\", \"tune\", \"turn\", \"tweet\", \"tweet\", \"tweet\", \"twitter\", \"u.s.\", \"unarm\", \"understand\", \"unemployment\", \"unite\", \"university\", \"use\", \"using\", \"victim\", \"video\", \"video\", \"video\", \"video\", \"video\", \"video\", \"video\", \"video\", \"view\", \"violence\", \"violence\", \"viral\", \"voice\", \"vote\", \"voter\", \"voting\", \"wait\", \"wake\", \"walk\", \"wall\", \"wanna\", \"want\", \"want\", \"want\", \"want\", \"want\", \"want\", \"want\", \"want\", \"want\", \"want\", \"want\", \"want\", \"want\", \"want\", \"want\", \"washington\", \"watch\", \"watching\", \"water\", \"wearing\", \"week\", \"weekend\", \"weight\", \"well\", \"west\", \"whether\", \"white\", \"white\", \"white\", \"whole\", \"wife\", \"williams\", \"wish\", \"without\", \"woman\", \"woman\", \"woman\", \"wonder\", \"word\", \"words\", \"work\", \"worker\", \"working\", \"workout\", \"world\", \"world\", \"worst\", \"would\", \"wrong\", \"yeah\", \"year\", \"years\", \"years\", \"years\", \"young\", \"youtube\"]}, \"R\": 30, \"lambda.step\": 0.01, \"plot.opts\": {\"xlab\": \"PC1\", \"ylab\": \"PC2\"}, \"topic.order\": [1, 2, 3, 4, 5, 6, 7, 8, 9, 10, 11, 12, 13, 14, 15, 16, 17, 18, 19, 20]};\n",
       "\n",
       "function LDAvis_load_lib(url, callback){\n",
       "  var s = document.createElement('script');\n",
       "  s.src = url;\n",
       "  s.async = true;\n",
       "  s.onreadystatechange = s.onload = callback;\n",
       "  s.onerror = function(){console.warn(\"failed to load library \" + url);};\n",
       "  document.getElementsByTagName(\"head\")[0].appendChild(s);\n",
       "}\n",
       "\n",
       "if(typeof(LDAvis) !== \"undefined\"){\n",
       "   // already loaded: just create the visualization\n",
       "   !function(LDAvis){\n",
       "       new LDAvis(\"#\" + \"ldavis_el577611389841614725282885245\", ldavis_el577611389841614725282885245_data);\n",
       "   }(LDAvis);\n",
       "}else if(typeof define === \"function\" && define.amd){\n",
       "   // require.js is available: use it to load d3/LDAvis\n",
       "   require.config({paths: {d3: \"https://cdnjs.cloudflare.com/ajax/libs/d3/3.5.5/d3.min\"}});\n",
       "   require([\"d3\"], function(d3){\n",
       "      window.d3 = d3;\n",
       "      LDAvis_load_lib(\"https://cdn.rawgit.com/bmabey/pyLDAvis/files/ldavis.v1.0.0.js\", function(){\n",
       "        new LDAvis(\"#\" + \"ldavis_el577611389841614725282885245\", ldavis_el577611389841614725282885245_data);\n",
       "      });\n",
       "    });\n",
       "}else{\n",
       "    // require.js not available: dynamically load d3 & LDAvis\n",
       "    LDAvis_load_lib(\"https://cdnjs.cloudflare.com/ajax/libs/d3/3.5.5/d3.min.js\", function(){\n",
       "         LDAvis_load_lib(\"https://cdn.rawgit.com/bmabey/pyLDAvis/files/ldavis.v1.0.0.js\", function(){\n",
       "                 new LDAvis(\"#\" + \"ldavis_el577611389841614725282885245\", ldavis_el577611389841614725282885245_data);\n",
       "            })\n",
       "         });\n",
       "}\n",
       "</script>"
      ],
      "text/plain": [
       "<IPython.core.display.HTML object>"
      ]
     },
     "execution_count": 272,
     "metadata": {},
     "output_type": "execute_result"
    }
   ],
   "source": [
    "import pyLDAvis.gensim\n",
    "\n",
    "lda_display = pyLDAvis.gensim.prepare(ldamodel, corpus, dictionary, sort_topics=False)\n",
    "\n",
    "pyLDAvis.display(lda_display)"
   ]
  }
 ],
 "metadata": {
  "kernelspec": {
   "display_name": "Python 3",
   "language": "python",
   "name": "python3"
  },
  "language_info": {
   "codemirror_mode": {
    "name": "ipython",
    "version": 3
   },
   "file_extension": ".py",
   "mimetype": "text/x-python",
   "name": "python",
   "nbconvert_exporter": "python",
   "pygments_lexer": "ipython3",
   "version": "3.6.6"
  },
  "toc": {
   "nav_menu": {},
   "number_sections": true,
   "sideBar": true,
   "skip_h1_title": false,
   "title_cell": "Table of Contents",
   "title_sidebar": "Contents",
   "toc_cell": false,
   "toc_position": {},
   "toc_section_display": true,
   "toc_window_display": false
  }
 },
 "nbformat": 4,
 "nbformat_minor": 2
}
