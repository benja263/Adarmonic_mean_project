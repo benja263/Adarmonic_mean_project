{
 "cells": [
  {
   "cell_type": "markdown",
   "metadata": {},
   "source": [
    "# Descriptive statistics\n"
   ]
  },
  {
   "cell_type": "code",
   "execution_count": 4,
   "metadata": {},
   "outputs": [],
   "source": [
    "import pandas as pd\n",
    "import numpy as np\n",
    "import matplotlib.pyplot as plt\n",
    "import plotly\n",
    "import plotly.plotly as py\n",
    "import plotly.graph_objs as go\n",
    "\n",
    "from helpers import *\n",
    "plotly.tools.set_credentials_file(username='Flavioh', api_key='Io0YLHDKoqhuWXhgRAIE')"
   ]
  },
  {
   "cell_type": "markdown",
   "metadata": {},
   "source": [
    "### Columns description"
   ]
  },
  {
   "cell_type": "code",
   "execution_count": 5,
   "metadata": {},
   "outputs": [
    {
     "data": {
      "text/html": [
       "<div>\n",
       "<style scoped>\n",
       "    .dataframe tbody tr th:only-of-type {\n",
       "        vertical-align: middle;\n",
       "    }\n",
       "\n",
       "    .dataframe tbody tr th {\n",
       "        vertical-align: top;\n",
       "    }\n",
       "\n",
       "    .dataframe thead th {\n",
       "        text-align: right;\n",
       "    }\n",
       "</style>\n",
       "<table border=\"1\" class=\"dataframe\">\n",
       "  <thead>\n",
       "    <tr style=\"text-align: right;\">\n",
       "      <th></th>\n",
       "      <th>external_author_id</th>\n",
       "      <th>author</th>\n",
       "      <th>content</th>\n",
       "      <th>region</th>\n",
       "      <th>language</th>\n",
       "      <th>publish_date</th>\n",
       "      <th>harvested_date</th>\n",
       "      <th>following</th>\n",
       "      <th>followers</th>\n",
       "      <th>updates</th>\n",
       "      <th>post_type</th>\n",
       "      <th>account_type</th>\n",
       "      <th>new_june_2018</th>\n",
       "      <th>retweet</th>\n",
       "      <th>account_category</th>\n",
       "    </tr>\n",
       "  </thead>\n",
       "  <tbody>\n",
       "    <tr>\n",
       "      <th>0</th>\n",
       "      <td>9.060000e+17</td>\n",
       "      <td>10_GOP</td>\n",
       "      <td>\"We have a sitting Democrat US Senator on tria...</td>\n",
       "      <td>Unknown</td>\n",
       "      <td>English</td>\n",
       "      <td>10/1/2017 19:58</td>\n",
       "      <td>10/1/2017 19:59</td>\n",
       "      <td>1052</td>\n",
       "      <td>9636</td>\n",
       "      <td>253</td>\n",
       "      <td>NaN</td>\n",
       "      <td>Right</td>\n",
       "      <td>0</td>\n",
       "      <td>0</td>\n",
       "      <td>RightTroll</td>\n",
       "    </tr>\n",
       "  </tbody>\n",
       "</table>\n",
       "</div>"
      ],
      "text/plain": [
       "   external_author_id  author  \\\n",
       "0        9.060000e+17  10_GOP   \n",
       "\n",
       "                                             content   region language  \\\n",
       "0  \"We have a sitting Democrat US Senator on tria...  Unknown  English   \n",
       "\n",
       "      publish_date   harvested_date  following  followers  updates post_type  \\\n",
       "0  10/1/2017 19:58  10/1/2017 19:59       1052       9636      253       NaN   \n",
       "\n",
       "  account_type  new_june_2018  retweet account_category  \n",
       "0        Right              0        0       RightTroll  "
      ]
     },
     "execution_count": 5,
     "metadata": {},
     "output_type": "execute_result"
    }
   ],
   "source": [
    "tweets1 = pd.read_csv(access_folder('data') + 'IRAhandle_tweets_1.csv')\n",
    "tweets1.head(1)"
   ]
  },
  {
   "cell_type": "markdown",
   "metadata": {},
   "source": [
    "For a proper description of each column go here: https://www.kaggle.com/fivethirtyeight/russian-troll-tweets/home\n",
    "\n",
    "Out of these colums we have no interest in **harvested_date** and **new_june_2018**, since they contain information concerning the collection of the data and not the content itself."
   ]
  },
  {
   "cell_type": "code",
   "execution_count": 6,
   "metadata": {},
   "outputs": [],
   "source": [
    "cols_to_extract = [0,1,2,3,4,5,7,8,9,10,11,13,14]"
   ]
  },
  {
   "cell_type": "markdown",
   "metadata": {},
   "source": [
    "### Data estraction"
   ]
  },
  {
   "cell_type": "code",
   "execution_count": 7,
   "metadata": {},
   "outputs": [],
   "source": [
    "tweets1 = pd.read_csv(access_folder('data') + 'IRAhandle_tweets_1.csv', usecols=cols_to_extract)\n",
    "tweets2 = pd.read_csv(access_folder('data') + 'IRAhandle_tweets_2.csv', usecols=cols_to_extract)\n",
    "tweets3 = pd.read_csv(access_folder('data') + 'IRAhandle_tweets_3.csv', usecols=cols_to_extract)\n",
    "tweets4 = pd.read_csv(access_folder('data') + 'IRAhandle_tweets_4.csv', usecols=cols_to_extract) \n",
    "tweets5 = pd.read_csv(access_folder('data') + 'IRAhandle_tweets_5.csv', usecols=cols_to_extract)\n",
    "tweets6 = pd.read_csv(access_folder('data') + 'IRAhandle_tweets_6.csv', usecols=cols_to_extract)\n",
    "tweets7 = pd.read_csv(access_folder('data') + 'IRAhandle_tweets_7.csv', usecols=cols_to_extract) \n",
    "tweets8 = pd.read_csv(access_folder('data') + 'IRAhandle_tweets_8.csv', usecols=cols_to_extract) \n",
    "tweets9 = pd.read_csv(access_folder('data') + 'IRAhandle_tweets_9.csv', usecols=cols_to_extract)"
   ]
  },
  {
   "cell_type": "code",
   "execution_count": 8,
   "metadata": {},
   "outputs": [
    {
     "data": {
      "text/html": [
       "<div>\n",
       "<style scoped>\n",
       "    .dataframe tbody tr th:only-of-type {\n",
       "        vertical-align: middle;\n",
       "    }\n",
       "\n",
       "    .dataframe tbody tr th {\n",
       "        vertical-align: top;\n",
       "    }\n",
       "\n",
       "    .dataframe thead th {\n",
       "        text-align: right;\n",
       "    }\n",
       "</style>\n",
       "<table border=\"1\" class=\"dataframe\">\n",
       "  <thead>\n",
       "    <tr style=\"text-align: right;\">\n",
       "      <th></th>\n",
       "      <th>external_author_id</th>\n",
       "      <th>author</th>\n",
       "      <th>content</th>\n",
       "      <th>region</th>\n",
       "      <th>language</th>\n",
       "      <th>publish_date</th>\n",
       "      <th>following</th>\n",
       "      <th>followers</th>\n",
       "      <th>updates</th>\n",
       "      <th>post_type</th>\n",
       "      <th>account_type</th>\n",
       "      <th>retweet</th>\n",
       "      <th>account_category</th>\n",
       "    </tr>\n",
       "  </thead>\n",
       "  <tbody>\n",
       "    <tr>\n",
       "      <th>0</th>\n",
       "      <td>9.060000e+17</td>\n",
       "      <td>10_GOP</td>\n",
       "      <td>\"We have a sitting Democrat US Senator on tria...</td>\n",
       "      <td>Unknown</td>\n",
       "      <td>English</td>\n",
       "      <td>10/1/2017 19:58</td>\n",
       "      <td>1052</td>\n",
       "      <td>9636</td>\n",
       "      <td>253</td>\n",
       "      <td>NaN</td>\n",
       "      <td>Right</td>\n",
       "      <td>0</td>\n",
       "      <td>RightTroll</td>\n",
       "    </tr>\n",
       "    <tr>\n",
       "      <th>1</th>\n",
       "      <td>9.060000e+17</td>\n",
       "      <td>10_GOP</td>\n",
       "      <td>Marshawn Lynch arrives to game in anti-Trump s...</td>\n",
       "      <td>Unknown</td>\n",
       "      <td>English</td>\n",
       "      <td>10/1/2017 22:43</td>\n",
       "      <td>1054</td>\n",
       "      <td>9637</td>\n",
       "      <td>254</td>\n",
       "      <td>NaN</td>\n",
       "      <td>Right</td>\n",
       "      <td>0</td>\n",
       "      <td>RightTroll</td>\n",
       "    </tr>\n",
       "  </tbody>\n",
       "</table>\n",
       "</div>"
      ],
      "text/plain": [
       "   external_author_id  author  \\\n",
       "0        9.060000e+17  10_GOP   \n",
       "1        9.060000e+17  10_GOP   \n",
       "\n",
       "                                             content   region language  \\\n",
       "0  \"We have a sitting Democrat US Senator on tria...  Unknown  English   \n",
       "1  Marshawn Lynch arrives to game in anti-Trump s...  Unknown  English   \n",
       "\n",
       "      publish_date  following  followers  updates post_type account_type  \\\n",
       "0  10/1/2017 19:58       1052       9636      253       NaN        Right   \n",
       "1  10/1/2017 22:43       1054       9637      254       NaN        Right   \n",
       "\n",
       "   retweet account_category  \n",
       "0        0       RightTroll  \n",
       "1        0       RightTroll  "
      ]
     },
     "execution_count": 8,
     "metadata": {},
     "output_type": "execute_result"
    }
   ],
   "source": [
    "tweets = pd.concat([tweets1,tweets2,tweets3,tweets4,tweets5,tweets6,tweets7,tweets8,tweets9], axis=0)\n",
    "tweets.head(2)"
   ]
  },
  {
   "cell_type": "code",
   "execution_count": 9,
   "metadata": {},
   "outputs": [],
   "source": [
    "del tweets1\n",
    "del tweets2\n",
    "del tweets3\n",
    "del tweets4\n",
    "del tweets5\n",
    "del tweets6\n",
    "del tweets7\n",
    "del tweets8\n",
    "del tweets9"
   ]
  },
  {
   "cell_type": "code",
   "execution_count": 10,
   "metadata": {},
   "outputs": [
    {
     "data": {
      "text/html": [
       "<div>\n",
       "<style scoped>\n",
       "    .dataframe tbody tr th:only-of-type {\n",
       "        vertical-align: middle;\n",
       "    }\n",
       "\n",
       "    .dataframe tbody tr th {\n",
       "        vertical-align: top;\n",
       "    }\n",
       "\n",
       "    .dataframe thead th {\n",
       "        text-align: right;\n",
       "    }\n",
       "</style>\n",
       "<table border=\"1\" class=\"dataframe\">\n",
       "  <thead>\n",
       "    <tr style=\"text-align: right;\">\n",
       "      <th></th>\n",
       "      <th>external_author_id</th>\n",
       "      <th>author</th>\n",
       "      <th>content</th>\n",
       "      <th>region</th>\n",
       "      <th>language</th>\n",
       "      <th>publish_date</th>\n",
       "      <th>following</th>\n",
       "      <th>followers</th>\n",
       "      <th>updates</th>\n",
       "      <th>post_type</th>\n",
       "      <th>account_type</th>\n",
       "      <th>retweet</th>\n",
       "      <th>account_category</th>\n",
       "    </tr>\n",
       "  </thead>\n",
       "  <tbody>\n",
       "    <tr>\n",
       "      <th>0</th>\n",
       "      <td>9.060000e+17</td>\n",
       "      <td>10_GOP</td>\n",
       "      <td>\"We have a sitting Democrat US Senator on tria...</td>\n",
       "      <td>Unknown</td>\n",
       "      <td>English</td>\n",
       "      <td>10/1/2017 19:58</td>\n",
       "      <td>1052</td>\n",
       "      <td>9636</td>\n",
       "      <td>253</td>\n",
       "      <td>NaN</td>\n",
       "      <td>Right</td>\n",
       "      <td>0</td>\n",
       "      <td>RightTroll</td>\n",
       "    </tr>\n",
       "  </tbody>\n",
       "</table>\n",
       "</div>"
      ],
      "text/plain": [
       "   external_author_id  author  \\\n",
       "0        9.060000e+17  10_GOP   \n",
       "\n",
       "                                             content   region language  \\\n",
       "0  \"We have a sitting Democrat US Senator on tria...  Unknown  English   \n",
       "\n",
       "      publish_date  following  followers  updates post_type account_type  \\\n",
       "0  10/1/2017 19:58       1052       9636      253       NaN        Right   \n",
       "\n",
       "   retweet account_category  \n",
       "0        0       RightTroll  "
      ]
     },
     "execution_count": 10,
     "metadata": {},
     "output_type": "execute_result"
    }
   ],
   "source": [
    "tweets.head(1)"
   ]
  },
  {
   "cell_type": "markdown",
   "metadata": {},
   "source": [
    "### Data formats\n",
    "\n",
    "The different data columns are transformed into appropriated data type:\n",
    "\n",
    "+ external_author_id, author, region, language, post_type, account_type, retweet, account_category to categorical;\n",
    "+ publish_date to datetime;\n",
    "+ content (the actual tweet) to string type;\n",
    "+ int64 types are left as int64 since they are counting variables.\n",
    "\n",
    "\n"
   ]
  },
  {
   "cell_type": "code",
   "execution_count": 11,
   "metadata": {},
   "outputs": [
    {
     "data": {
      "text/plain": [
       "external_author_id          category\n",
       "author                      category\n",
       "content                       object\n",
       "region                      category\n",
       "language                    category\n",
       "publish_date          datetime64[ns]\n",
       "following                      int64\n",
       "followers                      int64\n",
       "updates                        int64\n",
       "post_type                   category\n",
       "account_type                category\n",
       "retweet                     category\n",
       "account_category            category\n",
       "dtype: object"
      ]
     },
     "execution_count": 11,
     "metadata": {},
     "output_type": "execute_result"
    }
   ],
   "source": [
    "tweets['content'] = tweets.content.astype(str)\n",
    "\n",
    "tweets[['external_author_id', 'author', 'region', 'language', 'post_type', 'account_type', 'retweet', 'account_category']] = \\\n",
    "tweets[['external_author_id', 'author', 'region', 'language', 'post_type', 'account_type', 'retweet', 'account_category']].astype('category')\n",
    "\n",
    "tweets['publish_date'] = pd.to_datetime(tweets['publish_date'], format='%m/%d/%Y %H:%M')\n",
    "\n",
    "tweets.dtypes"
   ]
  },
  {
   "cell_type": "markdown",
   "metadata": {},
   "source": [
    "## Dataset description"
   ]
  },
  {
   "cell_type": "markdown",
   "metadata": {},
   "source": [
    "### Authors\n",
    "\n",
    "Authors are defined by their twitter username, to understand how much different authors may be influencing one needs to take into consideration different aspects:\n",
    "\n",
    "+ each author reaches through time different followers, quantity that shows how many people could have potentially read the author's tweets;\n",
    "+ each author has been assigned to a certain account_category that defines the troll's purpose and main tweeting subject;\n"
   ]
  },
  {
   "cell_type": "code",
   "execution_count": 56,
   "metadata": {},
   "outputs": [
    {
     "name": "stdout",
     "output_type": "stream",
     "text": [
      "There are 2848 unique authors\n"
     ]
    }
   ],
   "source": [
    "print('There are {} unique authors'.format(tweets.author.cat.categories.shape[0]))"
   ]
  },
  {
   "cell_type": "code",
   "execution_count": null,
   "metadata": {},
   "outputs": [],
   "source": [
    "tweets.groupby('author')['followers'].max().dropna().hist(log=True, bins=50)\n",
    "plt.title('Distribution of max followers for each account')\n",
    "plt.xlabel('Number of max followers')\n",
    "plt.ylabel('Count of authors')\n",
    "plt.show()"
   ]
  },
  {
   "cell_type": "code",
   "execution_count": 58,
   "metadata": {},
   "outputs": [
    {
     "name": "stdout",
     "output_type": "stream",
     "text": [
      "Each account belongs to one these categories(with the exception of Fearmonger that can be attributed to sile tweets):\n",
      "\n",
      " ['Commercial', 'Fearmonger', 'HashtagGamer', 'LeftTroll', 'NewsFeed', 'NonEnglish', 'RightTroll', 'Unknown']\n"
     ]
    }
   ],
   "source": [
    "print('Each account belongs to one these categories(with the exception of Fearmonger that can be attributed to sile tweets):\\n\\n {}'\n",
    "      .format(list(tweets.account_category.cat.categories)))"
   ]
  },
  {
   "cell_type": "code",
   "execution_count": null,
   "metadata": {},
   "outputs": [],
   "source": [
    "data = []\n",
    "\n",
    "for cat in reversed(tweets.account_category.cat.categories):\n",
    "    \n",
    "    acc_cat = tweets[['author','followers']][tweets.account_category == cat]\n",
    "    \n",
    "    x0 = acc_cat.groupby('author')['followers'].max().dropna()\n",
    "    \n",
    "    trace = go.Histogram(\n",
    "    x=x0,\n",
    "    opacity=0.4,\n",
    "    name = cat,\n",
    "    xbins=dict(\n",
    "        start=0,\n",
    "        end=250000,\n",
    "        size=10000\n",
    "        )\n",
    "    )\n",
    "    \n",
    "    data.append(trace)\n",
    "    \n",
    "layout = go.Layout(barmode='overlay', \n",
    "                    yaxis=dict(\n",
    "                    type='log'\n",
    "                    )\n",
    "                  )\n",
    "\n",
    "fig = go.Figure(data=data, layout=layout)\n",
    "\n",
    "py.iplot(fig, filename='overlaid histogram')"
   ]
  },
  {
   "cell_type": "markdown",
   "metadata": {},
   "source": [
    "### Search for outliers"
   ]
  },
  {
   "cell_type": "markdown",
   "metadata": {},
   "source": [
    "##### Following and followers distribution\n",
    "\n",
    "to comment"
   ]
  },
  {
   "cell_type": "code",
   "execution_count": 93,
   "metadata": {},
   "outputs": [
    {
     "data": {
      "image/png": "[encoded data removed]",
      "text/plain": [
       "<Figure size 432x288 with 1 Axes>"
      ]
     },
     "metadata": {
      "needs_background": "light"
     },
     "output_type": "display_data"
    },
    {
     "name": "stdout",
     "output_type": "stream",
     "text": [
      "The total amount of following is 10,209,139,778\n"
     ]
    }
   ],
   "source": [
    "plt.hist(tweets['following'], log=True, bins=50) \n",
    "plt.title('Following distribution')\n",
    "plt.ylabel('Accounts')\n",
    "plt.xlabel('Number of following')\n",
    "plt.show()\n",
    "print('The total amount of following is {:,}'.format(tweets.following.sum()))"
   ]
  },
  {
   "cell_type": "code",
   "execution_count": null,
   "metadata": {},
   "outputs": [],
   "source": [
    "gp =tweets.groupby('author')\n",
    "gp.size().sort_values(ascending = False)\n",
    "gp.aggregate(lambda x: )"
   ]
  },
  {
   "cell_type": "markdown",
   "metadata": {},
   "source": [
    "# meaning of external_author ID"
   ]
  },
  {
   "cell_type": "code",
   "execution_count": 16,
   "metadata": {
    "scrolled": true
   },
   "outputs": [
    {
     "data": {
      "text/plain": [
       "EXQUOTE            59652\n",
       "SCREAMYMONKEY      44041\n",
       "WORLDNEWSPOLI      36974\n",
       "AMELIEBALDWIN      35371\n",
       "TODAYPITTSBURGH    33602\n",
       "SPECIALAFFAIR      32588\n",
       "SEATTLE_POST       30800\n",
       "FINDDIET           29038\n",
       "KANSASDAILYNEWS    28890\n",
       "ROOMOFRUMOR        28360\n",
       "DAILYSANFRAN       28076\n",
       "WORLDOFHASHTAGS    23724\n",
       "COVFEFENATIONUS    23544\n",
       "POLITICS_T0DAY     23034\n",
       "RIAFANRU           22886\n",
       "JENN_ABRAMS        22861\n",
       "CHICAGODAILYNEW    22236\n",
       "FUNDDIET           20192\n",
       "BERLINBOTE         19748\n",
       "CHESPLAYSCHESS     19216\n",
       "TODAYNYCITY        18534\n",
       "ONLINECLEVELAND    17706\n",
       "HYDDROX            17411\n",
       "OLD_NEW_POLICY     15418\n",
       "TODAYINSYRIA       15401\n",
       "NEWORLEANSON       14897\n",
       "ARM_2_ALAN         14721\n",
       "CHRIXMORGAN        14705\n",
       "DAILYSANDIEGO      14414\n",
       "DAILYLOSANGELES    14156\n",
       "                   ...  \n",
       "NEVICHENKO             1\n",
       "KHALEDBAKRI7           1\n",
       "459JISALGE             1\n",
       "LAMARMUTANT            1\n",
       "KZUNIGA26              1\n",
       "METROJOKE              1\n",
       "KOTZZZLOVRED           1\n",
       "F_HANKARD              1\n",
       "DUBOSEBELIKE           1\n",
       "ALWAYSHUNGRYBAE        1\n",
       "STERRSAM               1\n",
       "RAUL_STON              1\n",
       "EVERYDAYHOKKU          1\n",
       "MAISURGANIM            1\n",
       "MAH_ELNAF              1\n",
       "ACTIVEMIKR             1\n",
       "DEON_LIEW              1\n",
       "ISMAILGAFUR1           1\n",
       "SHAKURUSUF             1\n",
       "ABU_UBAIDA2            1\n",
       "ABBASSHUKRI            1\n",
       "ERVIN_ALFORD           1\n",
       "HEREANDTHERE_          1\n",
       "ECHOPARADNOY           1\n",
       "HAIDARQUSAY            1\n",
       "ANDREJFROLOV69         1\n",
       "INSTASEX_TOP           1\n",
       "KADENMCCRAY            1\n",
       "EALADDINS              1\n",
       "HUSEINALJABBER         1\n",
       "Name: author, Length: 2848, dtype: int64"
      ]
     },
     "execution_count": 16,
     "metadata": {},
     "output_type": "execute_result"
    }
   ],
   "source": [
    "tweets.author.value_counts()"
   ]
  },
  {
   "cell_type": "code",
   "execution_count": 40,
   "metadata": {},
   "outputs": [],
   "source": [
    "a = tweets[tweets.author == 'EXQUOTE']\n",
    "first_id = a.external_author_id.value_counts().index[0]\n",
    "second_id = a.external_author_id.value_counts().index[1]"
   ]
  },
  {
   "cell_type": "code",
   "execution_count": 48,
   "metadata": {},
   "outputs": [
    {
     "data": {
      "text/plain": [
       "0    45884\n",
       "1      101\n",
       "Name: retweet, dtype: int64"
      ]
     },
     "execution_count": 48,
     "metadata": {},
     "output_type": "execute_result"
    }
   ],
   "source": [
    "b = tweets[tweets.external_author_id == first_id]\n",
    "b.publish_date.describe()\n",
    "b.retweet.value_counts()"
   ]
  },
  {
   "cell_type": "code",
   "execution_count": 49,
   "metadata": {},
   "outputs": [
    {
     "data": {
      "text/plain": [
       "0    13667\n",
       "1        0\n",
       "Name: retweet, dtype: int64"
      ]
     },
     "execution_count": 49,
     "metadata": {},
     "output_type": "execute_result"
    }
   ],
   "source": [
    "c = tweets[tweets.external_author_id == second_id]\n",
    "c.publish_date.describe()\n",
    "c.retweet.value_counts()"
   ]
  },
  {
   "cell_type": "code",
   "execution_count": null,
   "metadata": {},
   "outputs": [],
   "source": []
  },
  {
   "cell_type": "code",
   "execution_count": null,
   "metadata": {},
   "outputs": [],
   "source": []
  },
  {
   "cell_type": "code",
   "execution_count": null,
   "metadata": {},
   "outputs": [],
   "source": []
  },
  {
   "cell_type": "code",
   "execution_count": null,
   "metadata": {},
   "outputs": [],
   "source": []
  },
  {
   "cell_type": "markdown",
   "metadata": {},
   "source": [
    "# Normalized plot of languages over time"
   ]
  },
  {
   "cell_type": "code",
   "execution_count": null,
   "metadata": {},
   "outputs": [],
   "source": [
    "langs = ['English', 'Russian', 'German', 'Ukrainian','Italian','Serbian', 'Spanish']"
   ]
  },
  {
   "cell_type": "code",
   "execution_count": null,
   "metadata": {},
   "outputs": [],
   "source": [
    "langs = tweets.language.value_counts().iloc[0:13].index.tolist()"
   ]
  },
  {
   "cell_type": "code",
   "execution_count": null,
   "metadata": {},
   "outputs": [],
   "source": [
    "language_time = tweets[['language', 'publish_date']]"
   ]
  },
  {
   "cell_type": "code",
   "execution_count": null,
   "metadata": {},
   "outputs": [],
   "source": [
    "def count_language(lang):\n",
    "    filt = language_time[language_time.language == lang].copy()\n",
    "    filt['language_num'] = filt.language.map({lang:1}).copy()\n",
    "    return filt.groupby(pd.Grouper(key='publish_date', freq='1M')).sum()"
   ]
  },
  {
   "cell_type": "code",
   "execution_count": null,
   "metadata": {},
   "outputs": [],
   "source": [
    "tweets.publish_date.describe()"
   ]
  },
  {
   "cell_type": "code",
   "execution_count": null,
   "metadata": {},
   "outputs": [],
   "source": [
    "# Add original data\n",
    "data = []\n",
    "\n",
    "for lang in langs:\n",
    "\n",
    "    filtered=count_language(lang)\n",
    "    strd = pd.Series(filtered.index.strftime('%Y-%m-%d %H-%M-%S'))\n",
    "    xlabels = list(strd.apply(lambda x: x[0:7]))\n",
    "    \n",
    "    trace = dict(\n",
    "        x=xlabels,\n",
    "        y=count_language(lang).values,\n",
    "        hoverinfo='x+y',\n",
    "        mode='lines',\n",
    "        stackgroup='one',\n",
    "        groupnorm='percent',\n",
    "        name = lang,\n",
    "    )\n",
    "    \n",
    "    data.append(trace)\n",
    "\n",
    "fig = dict(data=data)\n",
    "py.iplot(fig, filename='stacked-area-plot-hover', validate=False)"
   ]
  },
  {
   "cell_type": "code",
   "execution_count": null,
   "metadata": {},
   "outputs": [],
   "source": [
    "# convert xticks to the actual dates\n",
    "# d = list(english.index.strftime('%Y.%m.%d').values)\n",
    "plt.style.use('seaborn')\n",
    "for lang in language_time.language.value_counts().index.values[0:10]:\n",
    "    filtered = count_language(lang)\n",
    "    plt.plot(filtered.language_num.values, label=lang)\n",
    "    \n",
    "plt.legend()\n",
    "plt.title('Frequencies of Languages of Days')\n",
    "plt.show()"
   ]
  },
  {
   "cell_type": "code",
   "execution_count": null,
   "metadata": {},
   "outputs": [],
   "source": [
    "# Add original data\n",
    "x=['Winter', 'Spring', 'Summer', 'Fall']\n",
    "\n",
    "trace0 = dict(\n",
    "    x=x,\n",
    "    y=[40, 60, 40, 10],\n",
    "    hoverinfo='x+y',\n",
    "    mode='lines',\n",
    "    line=dict(width=0.5,\n",
    "              color='rgb(131, 90, 241)'),\n",
    "    stackgroup='one'\n",
    ")\n",
    "trace1 = dict(\n",
    "    x=x,\n",
    "    y=[20, 10, 10, 60],\n",
    "    hoverinfo='x+y',\n",
    "    mode='lines',\n",
    "    line=dict(width=0.5,\n",
    "              color='rgb(111, 231, 219)'),\n",
    "    stackgroup='one'\n",
    ")\n",
    "trace2 = dict(\n",
    "    x=x,\n",
    "    y=[40, 30, 50, 30],\n",
    "    hoverinfo='x+y',\n",
    "    mode='lines',\n",
    "    line=dict(width=0.5,\n",
    "              color='rgb(184, 247, 212)'),\n",
    "    stackgroup='one'\n",
    ")\n",
    "data = [trace0, trace1, trace2]\n",
    "\n",
    "fig = dict(data=data)\n",
    "py.iplot(fig, filename='stacked-area-plot-hover', validate=False)"
   ]
  },
  {
   "cell_type": "code",
   "execution_count": null,
   "metadata": {},
   "outputs": [],
   "source": [
    "tweets.language.value_counts()"
   ]
  }
 ],
 "metadata": {
  "kernelspec": {
   "display_name": "Python 3",
   "language": "python",
   "name": "python3"
  },
  "language_info": {
   "codemirror_mode": {
    "name": "ipython",
    "version": 3
   },
   "file_extension": ".py",
   "mimetype": "text/x-python",
   "name": "python",
   "nbconvert_exporter": "python",
   "pygments_lexer": "ipython3",
   "version": "3.6.6"
  }
 },
 "nbformat": 4,
 "nbformat_minor": 2
}
