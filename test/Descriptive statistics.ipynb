{
 "cells": [
  {
   "cell_type": "markdown",
   "metadata": {},
   "source": [
    "# Descriptive statistics\n"
   ]
  },
  {
   "cell_type": "code",
   "execution_count": 1,
   "metadata": {},
   "outputs": [],
   "source": [
    "# Imports\n",
    "\n",
    "# interactive widget imports\n",
    "import ipywidgets as wg\n",
    "from IPython.display import display\n",
    "\n",
    "\n",
    "# data handling modules\n",
    "import pandas as pd\n",
    "import numpy as np\n",
    "from datetime import datetime\n",
    "\n",
    "# plotting imports\n",
    "import seaborn as sb\n",
    "import matplotlib.pyplot as plt\n",
    "import plotly.plotly as py\n",
    "import plotly.graph_objs as go\n",
    "import plotly\n",
    "from plotly import tools\n",
    "plotly.tools.set_credentials_file(username='halima.schede', api_key='0BXIz4i3MnnYF4z7QhA0')\n",
    "plt.style.use('seaborn')\n",
    "\n",
    "# web scraping\n",
    "from bs4 import BeautifulSoup\n",
    "import requests\n",
    "\n",
    "# other helpers and suppress warnings\n",
    "from helpers import *\n",
    "from timeline_helpers import *\n",
    "import warnings\n",
    "warnings.filterwarnings(\"ignore\", 'This pattern has match groups')"
   ]
  },
  {
   "cell_type": "markdown",
   "metadata": {},
   "source": [
    "### Columns description"
   ]
  },
  {
   "cell_type": "code",
   "execution_count": 2,
   "metadata": {},
   "outputs": [
    {
     "data": {
      "text/html": [
       "<div>\n",
       "<style scoped>\n",
       "    .dataframe tbody tr th:only-of-type {\n",
       "        vertical-align: middle;\n",
       "    }\n",
       "\n",
       "    .dataframe tbody tr th {\n",
       "        vertical-align: top;\n",
       "    }\n",
       "\n",
       "    .dataframe thead th {\n",
       "        text-align: right;\n",
       "    }\n",
       "</style>\n",
       "<table border=\"1\" class=\"dataframe\">\n",
       "  <thead>\n",
       "    <tr style=\"text-align: right;\">\n",
       "      <th></th>\n",
       "      <th>external_author_id</th>\n",
       "      <th>author</th>\n",
       "      <th>content</th>\n",
       "      <th>region</th>\n",
       "      <th>language</th>\n",
       "      <th>publish_date</th>\n",
       "      <th>harvested_date</th>\n",
       "      <th>following</th>\n",
       "      <th>followers</th>\n",
       "      <th>updates</th>\n",
       "      <th>post_type</th>\n",
       "      <th>account_type</th>\n",
       "      <th>new_june_2018</th>\n",
       "      <th>retweet</th>\n",
       "      <th>account_category</th>\n",
       "    </tr>\n",
       "  </thead>\n",
       "  <tbody>\n",
       "    <tr>\n",
       "      <th>0</th>\n",
       "      <td>9.060000e+17</td>\n",
       "      <td>10_GOP</td>\n",
       "      <td>\"We have a sitting Democrat US Senator on tria...</td>\n",
       "      <td>Unknown</td>\n",
       "      <td>English</td>\n",
       "      <td>10/1/2017 19:58</td>\n",
       "      <td>10/1/2017 19:59</td>\n",
       "      <td>1052</td>\n",
       "      <td>9636</td>\n",
       "      <td>253</td>\n",
       "      <td>NaN</td>\n",
       "      <td>Right</td>\n",
       "      <td>0</td>\n",
       "      <td>0</td>\n",
       "      <td>RightTroll</td>\n",
       "    </tr>\n",
       "  </tbody>\n",
       "</table>\n",
       "</div>"
      ],
      "text/plain": [
       "   external_author_id  author  \\\n",
       "0        9.060000e+17  10_GOP   \n",
       "\n",
       "                                             content   region language  \\\n",
       "0  \"We have a sitting Democrat US Senator on tria...  Unknown  English   \n",
       "\n",
       "      publish_date   harvested_date  following  followers  updates post_type  \\\n",
       "0  10/1/2017 19:58  10/1/2017 19:59       1052       9636      253       NaN   \n",
       "\n",
       "  account_type  new_june_2018  retweet account_category  \n",
       "0        Right              0        0       RightTroll  "
      ]
     },
     "execution_count": 2,
     "metadata": {},
     "output_type": "execute_result"
    }
   ],
   "source": [
    "tweets1 = pd.read_csv(access_folder('data') + 'IRAhandle_tweets_1.csv')\n",
    "tweets1.head(1)"
   ]
  },
  {
   "cell_type": "markdown",
   "metadata": {},
   "source": [
    "For a proper description of each column go here: https://www.kaggle.com/fivethirtyeight/russian-troll-tweets/home\n",
    "\n",
    "Out of these colums we have no interest in **harvested_date** and **new_june_2018**, since they contain information concerning the collection of the data and not the content itself."
   ]
  },
  {
   "cell_type": "code",
   "execution_count": 3,
   "metadata": {},
   "outputs": [],
   "source": [
    "cols_to_extract = [0,1,2,3,4,5,7,8,9,10,11,13,14]"
   ]
  },
  {
   "cell_type": "markdown",
   "metadata": {},
   "source": [
    "### Data extraction"
   ]
  },
  {
   "cell_type": "code",
   "execution_count": 4,
   "metadata": {},
   "outputs": [],
   "source": [
    "tweets1 = pd.read_csv(access_folder('data') + 'IRAhandle_tweets_1.csv', usecols=cols_to_extract)\n",
    "tweets2 = pd.read_csv(access_folder('data') + 'IRAhandle_tweets_2.csv', usecols=cols_to_extract)\n",
    "tweets3 = pd.read_csv(access_folder('data') + 'IRAhandle_tweets_3.csv', usecols=cols_to_extract)\n",
    "tweets4 = pd.read_csv(access_folder('data') + 'IRAhandle_tweets_4.csv', usecols=cols_to_extract) \n",
    "tweets5 = pd.read_csv(access_folder('data') + 'IRAhandle_tweets_5.csv', usecols=cols_to_extract)\n",
    "tweets6 = pd.read_csv(access_folder('data') + 'IRAhandle_tweets_6.csv', usecols=cols_to_extract)\n",
    "tweets7 = pd.read_csv(access_folder('data') + 'IRAhandle_tweets_7.csv', usecols=cols_to_extract) \n",
    "tweets8 = pd.read_csv(access_folder('data') + 'IRAhandle_tweets_8.csv', usecols=cols_to_extract) \n",
    "tweets9 = pd.read_csv(access_folder('data') + 'IRAhandle_tweets_9.csv', usecols=cols_to_extract)"
   ]
  },
  {
   "cell_type": "code",
   "execution_count": 5,
   "metadata": {},
   "outputs": [
    {
     "data": {
      "text/html": [
       "<div>\n",
       "<style scoped>\n",
       "    .dataframe tbody tr th:only-of-type {\n",
       "        vertical-align: middle;\n",
       "    }\n",
       "\n",
       "    .dataframe tbody tr th {\n",
       "        vertical-align: top;\n",
       "    }\n",
       "\n",
       "    .dataframe thead th {\n",
       "        text-align: right;\n",
       "    }\n",
       "</style>\n",
       "<table border=\"1\" class=\"dataframe\">\n",
       "  <thead>\n",
       "    <tr style=\"text-align: right;\">\n",
       "      <th></th>\n",
       "      <th>external_author_id</th>\n",
       "      <th>author</th>\n",
       "      <th>content</th>\n",
       "      <th>region</th>\n",
       "      <th>language</th>\n",
       "      <th>publish_date</th>\n",
       "      <th>following</th>\n",
       "      <th>followers</th>\n",
       "      <th>updates</th>\n",
       "      <th>post_type</th>\n",
       "      <th>account_type</th>\n",
       "      <th>retweet</th>\n",
       "      <th>account_category</th>\n",
       "    </tr>\n",
       "  </thead>\n",
       "  <tbody>\n",
       "    <tr>\n",
       "      <th>0</th>\n",
       "      <td>9.060000e+17</td>\n",
       "      <td>10_GOP</td>\n",
       "      <td>\"We have a sitting Democrat US Senator on tria...</td>\n",
       "      <td>Unknown</td>\n",
       "      <td>English</td>\n",
       "      <td>10/1/2017 19:58</td>\n",
       "      <td>1052</td>\n",
       "      <td>9636</td>\n",
       "      <td>253</td>\n",
       "      <td>NaN</td>\n",
       "      <td>Right</td>\n",
       "      <td>0</td>\n",
       "      <td>RightTroll</td>\n",
       "    </tr>\n",
       "    <tr>\n",
       "      <th>1</th>\n",
       "      <td>9.060000e+17</td>\n",
       "      <td>10_GOP</td>\n",
       "      <td>Marshawn Lynch arrives to game in anti-Trump s...</td>\n",
       "      <td>Unknown</td>\n",
       "      <td>English</td>\n",
       "      <td>10/1/2017 22:43</td>\n",
       "      <td>1054</td>\n",
       "      <td>9637</td>\n",
       "      <td>254</td>\n",
       "      <td>NaN</td>\n",
       "      <td>Right</td>\n",
       "      <td>0</td>\n",
       "      <td>RightTroll</td>\n",
       "    </tr>\n",
       "  </tbody>\n",
       "</table>\n",
       "</div>"
      ],
      "text/plain": [
       "   external_author_id  author  \\\n",
       "0        9.060000e+17  10_GOP   \n",
       "1        9.060000e+17  10_GOP   \n",
       "\n",
       "                                             content   region language  \\\n",
       "0  \"We have a sitting Democrat US Senator on tria...  Unknown  English   \n",
       "1  Marshawn Lynch arrives to game in anti-Trump s...  Unknown  English   \n",
       "\n",
       "      publish_date  following  followers  updates post_type account_type  \\\n",
       "0  10/1/2017 19:58       1052       9636      253       NaN        Right   \n",
       "1  10/1/2017 22:43       1054       9637      254       NaN        Right   \n",
       "\n",
       "   retweet account_category  \n",
       "0        0       RightTroll  \n",
       "1        0       RightTroll  "
      ]
     },
     "execution_count": 5,
     "metadata": {},
     "output_type": "execute_result"
    }
   ],
   "source": [
    "tweets = pd.concat([tweets1,tweets2,tweets3,tweets4,tweets5,tweets6,tweets7,tweets8,tweets9], axis=0)\n",
    "tweets.head(2)"
   ]
  },
  {
   "cell_type": "code",
   "execution_count": 6,
   "metadata": {},
   "outputs": [],
   "source": [
    "del tweets1\n",
    "del tweets2\n",
    "del tweets3\n",
    "del tweets4\n",
    "del tweets5\n",
    "del tweets6\n",
    "del tweets7\n",
    "del tweets8\n",
    "del tweets9"
   ]
  },
  {
   "cell_type": "markdown",
   "metadata": {},
   "source": [
    "### Data formats\n",
    "\n",
    "The different data columns are transformed into appropriated data type:\n",
    "\n",
    "+ external_author_id, author, region, language, post_type, account_type, retweet, account_category to categorical;\n",
    "+ publish_date to datetime;\n",
    "+ content (the actual tweet) to string type;\n",
    "+ int64 types are left as int64 since they are counting variables.\n",
    "\n",
    "\n"
   ]
  },
  {
   "cell_type": "code",
   "execution_count": 7,
   "metadata": {},
   "outputs": [
    {
     "data": {
      "text/plain": [
       "external_author_id          category\n",
       "author                      category\n",
       "content                       object\n",
       "region                      category\n",
       "language                    category\n",
       "publish_date          datetime64[ns]\n",
       "following                      int64\n",
       "followers                      int64\n",
       "updates                        int64\n",
       "post_type                   category\n",
       "account_type                category\n",
       "retweet                     category\n",
       "account_category            category\n",
       "dtype: object"
      ]
     },
     "execution_count": 7,
     "metadata": {},
     "output_type": "execute_result"
    }
   ],
   "source": [
    "tweets['content'] = tweets.content.astype(str)\n",
    "\n",
    "tweets[['external_author_id', 'author', 'region', 'language', 'post_type', 'account_type', 'retweet', 'account_category']] = \\\n",
    "tweets[['external_author_id', 'author', 'region', 'language', 'post_type', 'account_type', 'retweet', 'account_category']].astype('category')\n",
    "\n",
    "tweets['publish_date'] = pd.to_datetime(tweets['publish_date'], format='%m/%d/%Y %H:%M')\n",
    "\n",
    "tweets.dtypes"
   ]
  },
  {
   "cell_type": "markdown",
   "metadata": {},
   "source": [
    "## Dataset description"
   ]
  },
  {
   "cell_type": "markdown",
   "metadata": {},
   "source": [
    "### General Numbers and Statistics"
   ]
  },
  {
   "cell_type": "code",
   "execution_count": 8,
   "metadata": {},
   "outputs": [
    {
     "name": "stdout",
     "output_type": "stream",
     "text": [
      "The total number of tweets in the unfiltered dataset is 2973371\n"
     ]
    }
   ],
   "source": [
    "print('The total number of tweets in the unfiltered dataset is {}'.format(tweets.shape[0]))"
   ]
  },
  {
   "cell_type": "markdown",
   "metadata": {},
   "source": [
    "### Authors and followers\n",
    "\n",
    "Authors are defined by their twitter username. To understand to what extent a single author can influence the Twitter newsfeed, one needs to take into consideration different aspects:\n",
    "\n",
    "+ each author reaches through time different followers, which is a quantity that shows how many people could have potentially read the author's tweets\n",
    "+ each author has been assigned to a certain account_category that defines the troll's purpose and main tweeting subject\n"
   ]
  },
  {
   "cell_type": "code",
   "execution_count": 9,
   "metadata": {},
   "outputs": [
    {
     "name": "stdout",
     "output_type": "stream",
     "text": [
      "There are 2848 unique authors. Divided in categories in this way:\n",
      "\n",
      "NonEnglish      1475\n",
      "RightTroll       630\n",
      "LeftTroll        233\n",
      "Unknown          214\n",
      "Fearmonger       124\n",
      "HashtagGamer     112\n",
      "NewsFeed          54\n",
      "Commercial         6\n",
      "Name: account_category, dtype: int64\n"
     ]
    }
   ],
   "source": [
    "print('There are {} unique authors. Divided in categories in this way:\\n\\n{}'\n",
    "      .format(tweets.author.cat.categories.shape[0],\n",
    "              tweets[['author','account_category']].drop_duplicates().account_category.value_counts()))"
   ]
  },
  {
   "cell_type": "code",
   "execution_count": 10,
   "metadata": {},
   "outputs": [
    {
     "data": {
      "image/png": "[encoded data removed]",
      "text/plain": [
       "<Figure size 432x288 with 1 Axes>"
      ]
     },
     "metadata": {
      "needs_background": "light"
     },
     "output_type": "display_data"
    }
   ],
   "source": [
    "tweets.groupby('author')['followers'].max().dropna().hist(log=True, bins=50)\n",
    "plt.title('Distribution of max followers for each account')\n",
    "plt.xlabel('Number of max followers')\n",
    "plt.ylabel('Count of authors')\n",
    "plt.show()"
   ]
  },
  {
   "cell_type": "code",
   "execution_count": 11,
   "metadata": {},
   "outputs": [
    {
     "name": "stdout",
     "output_type": "stream",
     "text": [
      "Each account belongs to one these categories(with the exception of Fearmonger that can be attributed to sile tweets):\n",
      "\n",
      " ['Commercial', 'Fearmonger', 'HashtagGamer', 'LeftTroll', 'NewsFeed', 'NonEnglish', 'RightTroll', 'Unknown']\n"
     ]
    }
   ],
   "source": [
    "print('Each account belongs to one these categories(with the exception of Fearmonger that can be attributed to sile tweets):\\n\\n {}'\n",
    "      .format(list(tweets.account_category.cat.categories)))"
   ]
  },
  {
   "cell_type": "code",
   "execution_count": 12,
   "metadata": {},
   "outputs": [
    {
     "name": "stdout",
     "output_type": "stream",
     "text": [
      "NB: The user can toggle the other categories not displayed.\n"
     ]
    },
    {
     "data": {
      "text/html": [
       "<iframe id=\"igraph\" scrolling=\"no\" style=\"border:none;\" seamless=\"seamless\" src=\"https://plot.ly/~halima.schede/15.embed\" height=\"525px\" width=\"100%\"></iframe>"
      ],
      "text/plain": [
       "<plotly.tools.PlotlyDisplay object>"
      ]
     },
     "execution_count": 12,
     "metadata": {},
     "output_type": "execute_result"
    }
   ],
   "source": [
    "print('NB: The user can toggle the other categories not displayed.')\n",
    "\n",
    "data = []\n",
    "\n",
    "for cat in reversed(tweets.account_category.cat.categories):\n",
    "\n",
    "    acc_cat = tweets[['author','followers']][tweets.account_category == cat]\n",
    "    extracted_followers = acc_cat.groupby('author')['followers'].max().dropna().values\n",
    "    \n",
    "    if(cat == 'RightTroll' or cat=='LeftTroll'):\n",
    "        trace = go.Box(\n",
    "                    y=extracted_followers[extracted_followers>0],\n",
    "                    name=cat,\n",
    "                    boxpoints='all'\n",
    "        )\n",
    "    \n",
    "    else:\n",
    "        trace = go.Box(\n",
    "                        y=extracted_followers[extracted_followers>0],\n",
    "                        name=cat,\n",
    "                        boxpoints='all',\n",
    "                        visible= 'legendonly'\n",
    "                )\n",
    "    \n",
    "    data.append(trace)\n",
    "    \n",
    "layout = go.Layout(title = 'Distribution of account followers per category',\n",
    "                   yaxis=dict(type='log',autorange=True,showgrid=True))\n",
    "    \n",
    "fig = go.Figure(data=data, layout=layout)\n",
    "py.iplot(fig, filename='chart1')"
   ]
  },
  {
   "cell_type": "markdown",
   "metadata": {},
   "source": [
    "Interestingly we see that for categories 'RightTroll', 'LefTroll' and 'HashtagGamer' seem to have a bimodal distribution of number of followers per account. Specifically for left and right troll there seem to be a population around 100 followers and another around 1000 followers, we currently cannot explain where this two populations may come from"
   ]
  },
  {
   "cell_type": "markdown",
   "metadata": {},
   "source": [
    "### Search for outliers"
   ]
  },
  {
   "cell_type": "markdown",
   "metadata": {},
   "source": [
    "##### Following and followers distribution\n",
    "\n",
    "to comment"
   ]
  },
  {
   "cell_type": "code",
   "execution_count": 13,
   "metadata": {},
   "outputs": [
    {
     "data": {
      "image/png": "[encoded data removed]",
      "text/plain": [
       "<Figure size 432x288 with 1 Axes>"
      ]
     },
     "metadata": {
      "needs_background": "light"
     },
     "output_type": "display_data"
    },
    {
     "name": "stdout",
     "output_type": "stream",
     "text": [
      "The total amount of following is 10,209,139,778\n"
     ]
    }
   ],
   "source": [
    "plt.hist(tweets['following'], log=True, bins=50) \n",
    "plt.title('Following distribution')\n",
    "plt.ylabel('Accounts')\n",
    "plt.xlabel('Number of following')\n",
    "plt.show()\n",
    "print('The total amount of following is {:,}'.format(tweets.following.sum()))"
   ]
  },
  {
   "cell_type": "code",
   "execution_count": 14,
   "metadata": {},
   "outputs": [
    {
     "ename": "SyntaxError",
     "evalue": "invalid syntax (<ipython-input-14-e1e22e29579d>, line 3)",
     "output_type": "error",
     "traceback": [
      "\u001b[0;36m  File \u001b[0;32m\"<ipython-input-14-e1e22e29579d>\"\u001b[0;36m, line \u001b[0;32m3\u001b[0m\n\u001b[0;31m    gp.aggregate(lambda x: )\u001b[0m\n\u001b[0m                           ^\u001b[0m\n\u001b[0;31mSyntaxError\u001b[0m\u001b[0;31m:\u001b[0m invalid syntax\n"
     ]
    }
   ],
   "source": [
    "gp =tweets.groupby('author')\n",
    "gp.size().sort_values(ascending = False)\n",
    "gp.aggregate(lambda x: )"
   ]
  },
  {
   "cell_type": "markdown",
   "metadata": {},
   "source": [
    "# Tweets Over Time"
   ]
  },
  {
   "cell_type": "markdown",
   "metadata": {},
   "source": [
    "### General Timeline Analysis"
   ]
  },
  {
   "cell_type": "code",
   "execution_count": 15,
   "metadata": {},
   "outputs": [],
   "source": [
    "# Tweets over time\n",
    "# add numerical column of ones to symbolize a tweet\n",
    "tweets['tweet_counts'] = np.ones(tweets.shape[0])\n",
    "\n",
    "\n",
    "  \n",
    "# group by month\n",
    "general_timeline = tweets.groupby(pd.Grouper(key='publish_date', freq='1M')).sum()\n",
    "# construct labels\n",
    "xlabels = list(pd.Series(general_timeline.index.strftime(\n",
    "    '%Y-%m-%d %H-%M-%S')).apply(lambda x: x[0:7]))\n",
    "data = []\n",
    "\n",
    "for col in general_timeline:\n",
    "    filtered = general_timeline[col].copy()\n",
    "    trace = go.Scatter(x=xlabels, y=filtered.values, name=col, \n",
    "                       fill='tozeroy', mode='lines')\n",
    "    data.append(trace)"
   ]
  },
  {
   "cell_type": "code",
   "execution_count": 16,
   "metadata": {},
   "outputs": [
    {
     "name": "stdout",
     "output_type": "stream",
     "text": [
      "This is the format of your plot grid:\n",
      "[ (1,1) x1,y1 ]  [ (1,2) x2,y2 ]\n",
      "\n"
     ]
    },
    {
     "data": {
      "text/html": [
       "<iframe id=\"igraph\" scrolling=\"no\" style=\"border:none;\" seamless=\"seamless\" src=\"https://plot.ly/~halima.schede/4.embed\" height=\"600px\" width=\"800px\"></iframe>"
      ],
      "text/plain": [
       "<plotly.tools.PlotlyDisplay object>"
      ]
     },
     "execution_count": 16,
     "metadata": {},
     "output_type": "execute_result"
    }
   ],
   "source": [
    "# Create plots for following, followers, updates, tweet_counts\n",
    "\n",
    "fig = tools.make_subplots(rows=1, cols=2)\n",
    "\n",
    "fig.append_trace(data[0], 1, 1)\n",
    "fig.append_trace(data[1], 1, 1)\n",
    "fig.append_trace(data[2], 1, 1)\n",
    "fig.append_trace(data[3], 1, 2)\n",
    "\n",
    "fig['layout'].update(height=600, width=800, title='General Trends Across Time')\n",
    "py.iplot(fig, filename='styling-names2')"
   ]
  },
  {
   "cell_type": "markdown",
   "metadata": {},
   "source": [
    "### Language Timeline Analysis"
   ]
  },
  {
   "cell_type": "code",
   "execution_count": 17,
   "metadata": {},
   "outputs": [
    {
     "data": {
      "text/plain": [
       "['English',\n",
       " 'Russian',\n",
       " 'German',\n",
       " 'Ukrainian',\n",
       " 'Italian',\n",
       " 'Serbian',\n",
       " 'Uzbek',\n",
       " 'Bulgarian',\n",
       " 'LANGUAGE UNDEFINED',\n",
       " 'Arabic',\n",
       " 'Macedonian',\n",
       " 'French',\n",
       " 'Spanish']"
      ]
     },
     "execution_count": 17,
     "metadata": {},
     "output_type": "execute_result"
    }
   ],
   "source": [
    "langs = tweets.language.value_counts().iloc[0:13].index.tolist()\n",
    "langs # top 13 list"
   ]
  },
  {
   "cell_type": "code",
   "execution_count": 18,
   "metadata": {},
   "outputs": [],
   "source": [
    "language_time = tweets[['language', 'publish_date']]"
   ]
  },
  {
   "cell_type": "code",
   "execution_count": 19,
   "metadata": {},
   "outputs": [
    {
     "data": {
      "text/plain": [
       "count                 2973371\n",
       "unique                 896684\n",
       "top       2017-08-16 01:29:00\n",
       "freq                      202\n",
       "first     2012-02-02 00:35:00\n",
       "last      2018-05-30 21:01:00\n",
       "Name: publish_date, dtype: object"
      ]
     },
     "execution_count": 19,
     "metadata": {},
     "output_type": "execute_result"
    }
   ],
   "source": [
    "tweets.publish_date.describe()"
   ]
  },
  {
   "cell_type": "code",
   "execution_count": 20,
   "metadata": {},
   "outputs": [
    {
     "data": {
      "text/html": [
       "<iframe id=\"igraph\" scrolling=\"no\" style=\"border:none;\" seamless=\"seamless\" src=\"https://plot.ly/~halima.schede/2.embed\" height=\"525px\" width=\"100%\"></iframe>"
      ],
      "text/plain": [
       "<plotly.tools.PlotlyDisplay object>"
      ]
     },
     "execution_count": 20,
     "metadata": {},
     "output_type": "execute_result"
    }
   ],
   "source": [
    "data = trace_generator_language(language_time)\n",
    "layout = do_layout('Date', 'Number of Tweets', 'Language as a Function of Time')\n",
    "fig = go.Figure(data=data, layout=layout)\n",
    "py.iplot(fig, filename='styling-names')"
   ]
  },
  {
   "cell_type": "code",
   "execution_count": 21,
   "metadata": {},
   "outputs": [
    {
     "data": {
      "text/html": [
       "<iframe id=\"igraph\" scrolling=\"no\" style=\"border:none;\" seamless=\"seamless\" src=\"https://plot.ly/~halima.schede/17.embed\" height=\"525px\" width=\"100%\"></iframe>"
      ],
      "text/plain": [
       "<plotly.tools.PlotlyDisplay object>"
      ]
     },
     "execution_count": 21,
     "metadata": {},
     "output_type": "execute_result"
    }
   ],
   "source": [
    "# Normalized\n",
    "data = []\n",
    "\n",
    "for lang in langs:\n",
    "\n",
    "    filtered=count_language(lang, language_time)\n",
    "    strd = pd.Series(filtered.index.strftime('%Y-%m-%d %H-%M-%S'))\n",
    "    xlabels = list(strd.apply(lambda x: x[0:7]))\n",
    "    \n",
    "    trace = dict(\n",
    "        x=xlabels,\n",
    "        y=filtered.values,\n",
    "        hoverinfo='x+y',\n",
    "        mode='lines',\n",
    "        stackgroup='one',\n",
    "        groupnorm='percent',\n",
    "        name = lang,\n",
    "    )\n",
    "    \n",
    "    data.append(trace)\n",
    "\n",
    "fig = dict(data=data)\n",
    "py.iplot(fig, filename='stacked-area-plot-hover', validate=False)"
   ]
  },
  {
   "cell_type": "code",
   "execution_count": 24,
   "metadata": {},
   "outputs": [
    {
     "data": {
      "image/png": "[encoded data removed]",
      "text/plain": [
       "<Figure size 576x396 with 1 Axes>"
      ]
     },
     "metadata": {},
     "output_type": "display_data"
    }
   ],
   "source": [
    "# convert xticks to the actual dates\n",
    "# d = list(english.index.strftime('%Y.%m.%d').values)\n",
    "plt.style.use('seaborn')\n",
    "for lang in language_time.language.value_counts().index.values[0:10]:\n",
    "    filtered = count_language(lang, language_time)\n",
    "    plt.plot(filtered.language_num.values, label=lang)\n",
    "    \n",
    "plt.legend()\n",
    "plt.title('Frequencies of Languages of Days')\n",
    "plt.show()"
   ]
  },
  {
   "cell_type": "markdown",
   "metadata": {},
   "source": [
    "### Account Category Timeline Analysis"
   ]
  },
  {
   "cell_type": "code",
   "execution_count": 25,
   "metadata": {},
   "outputs": [
    {
     "data": {
      "text/html": [
       "<iframe id=\"igraph\" scrolling=\"no\" style=\"border:none;\" seamless=\"seamless\" src=\"https://plot.ly/~halima.schede/4.embed\" height=\"525px\" width=\"100%\"></iframe>"
      ],
      "text/plain": [
       "<plotly.tools.PlotlyDisplay object>"
      ]
     },
     "execution_count": 25,
     "metadata": {},
     "output_type": "execute_result"
    }
   ],
   "source": [
    "# Since the general timeline analysis tweets indicate that there are hardly any tweets \n",
    "# before the year 2015, a new dataset is created that filters for 2015 onwards\n",
    "\n",
    "# Since the values of tweets are minimal before 2015 filter dataframe\n",
    "tweets_processed = tweets[tweets.publish_date > '2015']\n",
    "#create dataframe with publish date and account type\n",
    "accounttype_time = tweets_processed[['publish_date', 'account_category']]\n",
    "\n",
    "data = trace_generator_account(accounttype_time)\n",
    "layout = do_layout('Date', 'Number of Tweets','Account Type of Tweets by Month')\n",
    "fig = go.Figure(data=data, layout=layout)\n",
    "py.iplot(fig, filename='styling-names2')"
   ]
  },
  {
   "cell_type": "code",
   "execution_count": 26,
   "metadata": {},
   "outputs": [
    {
     "data": {
      "text/html": [
       "<iframe id=\"igraph\" scrolling=\"no\" style=\"border:none;\" seamless=\"seamless\" src=\"https://plot.ly/~halima.schede/4.embed\" height=\"525px\" width=\"100%\"></iframe>"
      ],
      "text/plain": [
       "<plotly.tools.PlotlyDisplay object>"
      ]
     },
     "execution_count": 26,
     "metadata": {},
     "output_type": "execute_result"
    }
   ],
   "source": [
    "bubble_data = tweets_processed[['publish_date', 'followers','account_category']]\n",
    "\n",
    "righttroll = count_followers('RightTroll', bubble_data)\n",
    "lefttroll = count_followers('LeftTroll', bubble_data)\n",
    "# newsfeed = count_followers('NewsFeed', bubble_data)\n",
    "# nonenglish = count_followers('NonEnglish', bubble_data)\n",
    "\n",
    "trace0 = go.Scatter(\n",
    "    x=list(pd.Series(righttroll.index.strftime('%Y-%m-%d %H-%M-%S')).apply(lambda x: x[0:7])),\n",
    "    y=righttroll.tweet_category_num.values,\n",
    "    mode='markers',\n",
    "    name='Right Troll',\n",
    "    marker=dict(\n",
    "        size=righttroll.followers.values * 0.00001,\n",
    "        sizemode='area',\n",
    "        sizeref=2,\n",
    "        sizemin=4))\n",
    "\n",
    "trace1 = go.Scatter(\n",
    "    x=list(pd.Series(lefttroll.index.strftime('%Y-%m-%d %H-%M-%S')).apply(lambda x: x[0:7])),\n",
    "    y=lefttroll.tweet_category_num.values,\n",
    "    mode='markers',\n",
    "    name='Left Troll',\n",
    "    marker=dict(\n",
    "        size=lefttroll.followers.values * 0.00001,\n",
    "        sizemode='area',\n",
    "        sizeref=2,\n",
    "        sizemin=4))\n",
    "\n",
    "data = [trace0, trace1]\n",
    "layout = do_layout('Date','Number of Tweets in Category',\n",
    "                   'Social Power (Followers) of Tweet Category by Month')\n",
    "fig = go.Figure(data=data, layout=layout)\n",
    "py.iplot(fig, filename='styling-names2')"
   ]
  },
  {
   "cell_type": "markdown",
   "metadata": {},
   "source": [
    "### Investigating Change in Account Category Over Time"
   ]
  },
  {
   "cell_type": "code",
   "execution_count": 27,
   "metadata": {},
   "outputs": [],
   "source": [
    "# For each author, find dates of first 5 tweets, 5 tweets in November 2016, 5 last tweets\n",
    "\n",
    "# Find authors that posted in November 2016\n",
    "nov2016 = tweets_processed[(tweets_processed.publish_date > '2016-11-01')\n",
    "                                  & (tweets_processed.publish_date < '2016-11-08')]\n",
    "authors_nov2016 = nov2016.author.unique().categories.values\n",
    "\n",
    "# create dataframe with only authors that posted during the week of the election\n",
    "tweets_with_authors_election = tweets_processed[tweets_processed.author.isin(authors_nov2016)]\n",
    "\n",
    "# Dataframe of authors of interest in first tweet wave\n",
    "jul2015 = tweets_with_authors_election[(tweets_with_authors_election.publish_date\n",
    "                                                > '2015-07-01') & \n",
    "                                               (tweets_with_authors_election.publish_date\n",
    "                                                < '2015-08-01')]\n",
    "\n"
   ]
  },
  {
   "cell_type": "code",
   "execution_count": 28,
   "metadata": {},
   "outputs": [
    {
     "data": {
      "text/plain": [
       "((1551005, 14), (17812, 14), (24256, 14))"
      ]
     },
     "execution_count": 28,
     "metadata": {},
     "output_type": "execute_result"
    }
   ],
   "source": [
    "tweets_with_authors_election.shape, jul2015.shape, nov2016.shape"
   ]
  },
  {
   "cell_type": "code",
   "execution_count": 29,
   "metadata": {},
   "outputs": [
    {
     "data": {
      "text/html": [
       "<div>\n",
       "<style scoped>\n",
       "    .dataframe tbody tr th:only-of-type {\n",
       "        vertical-align: middle;\n",
       "    }\n",
       "\n",
       "    .dataframe tbody tr th {\n",
       "        vertical-align: top;\n",
       "    }\n",
       "\n",
       "    .dataframe thead th {\n",
       "        text-align: right;\n",
       "    }\n",
       "</style>\n",
       "<table border=\"1\" class=\"dataframe\">\n",
       "  <thead>\n",
       "    <tr style=\"text-align: right;\">\n",
       "      <th></th>\n",
       "      <th>following</th>\n",
       "      <th>followers</th>\n",
       "      <th>updates</th>\n",
       "      <th>tweet_counts</th>\n",
       "    </tr>\n",
       "    <tr>\n",
       "      <th>account_category</th>\n",
       "      <th></th>\n",
       "      <th></th>\n",
       "      <th></th>\n",
       "      <th></th>\n",
       "    </tr>\n",
       "  </thead>\n",
       "  <tbody>\n",
       "    <tr>\n",
       "      <th>Commercial</th>\n",
       "      <td>0</td>\n",
       "      <td>0</td>\n",
       "      <td>0</td>\n",
       "      <td>0.0</td>\n",
       "    </tr>\n",
       "    <tr>\n",
       "      <th>Fearmonger</th>\n",
       "      <td>0</td>\n",
       "      <td>0</td>\n",
       "      <td>0</td>\n",
       "      <td>0.0</td>\n",
       "    </tr>\n",
       "    <tr>\n",
       "      <th>HashtagGamer</th>\n",
       "      <td>1461826</td>\n",
       "      <td>2849181</td>\n",
       "      <td>1460469</td>\n",
       "      <td>1212.0</td>\n",
       "    </tr>\n",
       "    <tr>\n",
       "      <th>LeftTroll</th>\n",
       "      <td>526956</td>\n",
       "      <td>108581</td>\n",
       "      <td>509571</td>\n",
       "      <td>738.0</td>\n",
       "    </tr>\n",
       "    <tr>\n",
       "      <th>NewsFeed</th>\n",
       "      <td>82816273</td>\n",
       "      <td>103479115</td>\n",
       "      <td>61403005</td>\n",
       "      <td>8631.0</td>\n",
       "    </tr>\n",
       "    <tr>\n",
       "      <th>NonEnglish</th>\n",
       "      <td>4059897</td>\n",
       "      <td>79236975</td>\n",
       "      <td>48890800</td>\n",
       "      <td>4467.0</td>\n",
       "    </tr>\n",
       "    <tr>\n",
       "      <th>RightTroll</th>\n",
       "      <td>7906504</td>\n",
       "      <td>31139709</td>\n",
       "      <td>6817164</td>\n",
       "      <td>2764.0</td>\n",
       "    </tr>\n",
       "    <tr>\n",
       "      <th>Unknown</th>\n",
       "      <td>0</td>\n",
       "      <td>0</td>\n",
       "      <td>0</td>\n",
       "      <td>0.0</td>\n",
       "    </tr>\n",
       "  </tbody>\n",
       "</table>\n",
       "</div>"
      ],
      "text/plain": [
       "                  following  followers   updates  tweet_counts\n",
       "account_category                                              \n",
       "Commercial                0          0         0           0.0\n",
       "Fearmonger                0          0         0           0.0\n",
       "HashtagGamer        1461826    2849181   1460469        1212.0\n",
       "LeftTroll            526956     108581    509571         738.0\n",
       "NewsFeed           82816273  103479115  61403005        8631.0\n",
       "NonEnglish          4059897   79236975  48890800        4467.0\n",
       "RightTroll          7906504   31139709   6817164        2764.0\n",
       "Unknown                   0          0         0           0.0"
      ]
     },
     "execution_count": 29,
     "metadata": {},
     "output_type": "execute_result"
    }
   ],
   "source": [
    "# Visualize the distribution of account categories between the two selected periods\n",
    "\n",
    "jul2015_grouping = jul2015.groupby('account_category').sum()\n",
    "nov2016_grouping = nov2016.groupby('account_category').sum()\n",
    "\n",
    "jul2015_grouping"
   ]
  },
  {
   "cell_type": "code",
   "execution_count": 30,
   "metadata": {},
   "outputs": [
    {
     "data": {
      "text/html": [
       "<div>\n",
       "<style scoped>\n",
       "    .dataframe tbody tr th:only-of-type {\n",
       "        vertical-align: middle;\n",
       "    }\n",
       "\n",
       "    .dataframe tbody tr th {\n",
       "        vertical-align: top;\n",
       "    }\n",
       "\n",
       "    .dataframe thead th {\n",
       "        text-align: right;\n",
       "    }\n",
       "</style>\n",
       "<table border=\"1\" class=\"dataframe\">\n",
       "  <thead>\n",
       "    <tr style=\"text-align: right;\">\n",
       "      <th></th>\n",
       "      <th>following</th>\n",
       "      <th>followers</th>\n",
       "      <th>updates</th>\n",
       "      <th>tweet_counts</th>\n",
       "    </tr>\n",
       "    <tr>\n",
       "      <th>account_category</th>\n",
       "      <th></th>\n",
       "      <th></th>\n",
       "      <th></th>\n",
       "      <th></th>\n",
       "    </tr>\n",
       "  </thead>\n",
       "  <tbody>\n",
       "    <tr>\n",
       "      <th>Commercial</th>\n",
       "      <td>0</td>\n",
       "      <td>0</td>\n",
       "      <td>0</td>\n",
       "      <td>0.0</td>\n",
       "    </tr>\n",
       "    <tr>\n",
       "      <th>Fearmonger</th>\n",
       "      <td>0</td>\n",
       "      <td>0</td>\n",
       "      <td>0</td>\n",
       "      <td>0.0</td>\n",
       "    </tr>\n",
       "    <tr>\n",
       "      <th>HashtagGamer</th>\n",
       "      <td>10523266</td>\n",
       "      <td>13508170</td>\n",
       "      <td>17662651</td>\n",
       "      <td>2594.0</td>\n",
       "    </tr>\n",
       "    <tr>\n",
       "      <th>LeftTroll</th>\n",
       "      <td>12632523</td>\n",
       "      <td>14666055</td>\n",
       "      <td>22057836</td>\n",
       "      <td>7699.0</td>\n",
       "    </tr>\n",
       "    <tr>\n",
       "      <th>NewsFeed</th>\n",
       "      <td>7319743</td>\n",
       "      <td>19867265</td>\n",
       "      <td>30142509</td>\n",
       "      <td>1124.0</td>\n",
       "    </tr>\n",
       "    <tr>\n",
       "      <th>NonEnglish</th>\n",
       "      <td>11324481</td>\n",
       "      <td>62042550</td>\n",
       "      <td>55930512</td>\n",
       "      <td>8598.0</td>\n",
       "    </tr>\n",
       "    <tr>\n",
       "      <th>RightTroll</th>\n",
       "      <td>21755037</td>\n",
       "      <td>25374027</td>\n",
       "      <td>26041587</td>\n",
       "      <td>4240.0</td>\n",
       "    </tr>\n",
       "    <tr>\n",
       "      <th>Unknown</th>\n",
       "      <td>73</td>\n",
       "      <td>3</td>\n",
       "      <td>3</td>\n",
       "      <td>1.0</td>\n",
       "    </tr>\n",
       "  </tbody>\n",
       "</table>\n",
       "</div>"
      ],
      "text/plain": [
       "                  following  followers   updates  tweet_counts\n",
       "account_category                                              \n",
       "Commercial                0          0         0           0.0\n",
       "Fearmonger                0          0         0           0.0\n",
       "HashtagGamer       10523266   13508170  17662651        2594.0\n",
       "LeftTroll          12632523   14666055  22057836        7699.0\n",
       "NewsFeed            7319743   19867265  30142509        1124.0\n",
       "NonEnglish         11324481   62042550  55930512        8598.0\n",
       "RightTroll         21755037   25374027  26041587        4240.0\n",
       "Unknown                  73          3         3           1.0"
      ]
     },
     "execution_count": 30,
     "metadata": {},
     "output_type": "execute_result"
    }
   ],
   "source": [
    "nov2016_grouping"
   ]
  },
  {
   "cell_type": "code",
   "execution_count": 31,
   "metadata": {},
   "outputs": [],
   "source": [
    "tweet_change = pd.DataFrame([jul2015_grouping.tweet_counts, nov2016_grouping.tweet_counts])\n",
    "tweet_change.index = ['jul2015', 'nov2016']\n",
    "tweet_change.drop(columns=['Commercial', 'Fearmonger','Unknown'], inplace=True)\n",
    "\n",
    "# Show a percent change between the two time frames\n",
    "percent_change = (nov2016_grouping - jul2015_grouping)/jul2015_grouping*100\n",
    "percent_change.dropna(inplace=True)\n"
   ]
  },
  {
   "cell_type": "code",
   "execution_count": 32,
   "metadata": {},
   "outputs": [],
   "source": [
    "data = []\n",
    "xlabels = ['July 2015', 'November 2016']\n",
    "for col in tweet_change:\n",
    "    filtered = tweet_change[col]\n",
    "    trace = go.Scatter(x=xlabels,y=filtered.values,\n",
    "                       fill='tozeroy',mode= 'none',name=col)\n",
    "    data.append(trace)\n",
    "    "
   ]
  },
  {
   "cell_type": "code",
   "execution_count": 33,
   "metadata": {},
   "outputs": [
    {
     "data": {
      "text/html": [
       "<iframe id=\"igraph\" scrolling=\"no\" style=\"border:none;\" seamless=\"seamless\" src=\"https://plot.ly/~halima.schede/2.embed\" height=\"525px\" width=\"100%\"></iframe>"
      ],
      "text/plain": [
       "<plotly.tools.PlotlyDisplay object>"
      ]
     },
     "execution_count": 33,
     "metadata": {},
     "output_type": "execute_result"
    }
   ],
   "source": [
    "layout = do_layout('Time Period', 'Number of Tweets',\n",
    "                   'Account Categories Between Two Time Periods of Identical Author Groups')\n",
    "fig = go.Figure(data=data, layout=layout)\n",
    "py.iplot(fig, filename='styling-names')\n",
    "\n",
    "\n"
   ]
  },
  {
   "cell_type": "markdown",
   "metadata": {},
   "source": [
    "# Which States Are Targetted?"
   ]
  },
  {
   "cell_type": "code",
   "execution_count": 34,
   "metadata": {},
   "outputs": [],
   "source": [
    "# Scrape wikipedia table for american cities and states\n",
    "website = requests.get('https://simple.wikipedia.org/wiki/List_of_United_States_cities_by_population').text\n",
    "soup = BeautifulSoup(website,'html5lib')\n",
    "My_table = soup.find('table',{'class':'wikitable sortable'})\n",
    "links = My_table.find_all('a')\n",
    "\n",
    "places = []\n",
    "for link in links:\n",
    "    places.append(link.get('title'))\n",
    "    \n",
    "    \n",
    "city_clean = list(filter(None.__ne__, places)) # Drop None values\n",
    "\n",
    "# Initialize lists for city and state names\n",
    "cities = []\n",
    "states = []\n",
    "for x in range(0, len(city_clean)):\n",
    "    if x%2 == 0:\n",
    "        cities.append(city_clean[x].split(',')[0]) # Retrieve only city name, not state\n",
    "    else:\n",
    "        states.append(city_clean[x]) # append state name"
   ]
  },
  {
   "cell_type": "code",
   "execution_count": 45,
   "metadata": {},
   "outputs": [],
   "source": [
    "# Filter for english tweets\n",
    "tweets_english = tweets_processed[tweets_processed.language == 'English'].copy()\n",
    "tweets_english.dropna(how='any', axis=0, inplace=True)\n",
    "\n",
    "# count occurences of tweets for names in cities, and names in states\n",
    "tweets_city = list(map(lambda x: tweets_english.content.str.contains(x).sum(), cities))\n",
    "tweets_state = list(map(lambda x: tweets_english.content.str.contains(x).sum(), states))\n",
    "city_counts = pd.DataFrame(data={'city' : cities, 'city_counts':tweets_city})\n",
    "state_counts = pd.DataFrame(data={'state' : states, 'state_counts':tweets_state})\n",
    "\n",
    "cities_states = pd.concat([city_counts, state_counts], axis=1)\n",
    "df_citycounts_state = cities_states[['city', 'city_counts', 'state']]\n",
    "grouped_state = df_citycounts_state.groupby('state')['city_counts'].sum()\n",
    "ordered_state_city = grouped_state.reset_index()"
   ]
  },
  {
   "cell_type": "markdown",
   "metadata": {},
   "source": [
    "### Mapping by State Occurence"
   ]
  },
  {
   "cell_type": "code",
   "execution_count": 46,
   "metadata": {},
   "outputs": [],
   "source": [
    "ordered_state = state_counts.drop_duplicates().sort_values(by='state').reset_index(drop=True)\n",
    "ordered_state['code'] = pd.Series(['AL', 'AK', 'AZ', 'AR', 'CA', 'CO', 'CT', 'DE', 'FL',\n",
    "                                  'GA', 'HI','ID','IL','IN','IA','KS','KY','LA','MD','MA',\n",
    "                                  'MI','MN','MS','MO','MT','NE','NV','NH','NJ','NM','NY',\n",
    "                                  'NC','ND','OH','OK','OR','PA','RI','SC','SD','TN','TX',\n",
    "                                  'UT','VA','WA','WA','WI'])\n",
    "ordered_state.drop(44, inplace=True)\n",
    "ordered_state.loc[44] = ['Wyoming', 0, 'WY']"
   ]
  },
  {
   "cell_type": "code",
   "execution_count": 47,
   "metadata": {},
   "outputs": [
    {
     "data": {
      "text/html": [
       "<iframe id=\"igraph\" scrolling=\"no\" style=\"border:none;\" seamless=\"seamless\" src=\"https://plot.ly/~halima.schede/8.embed\" height=\"525px\" width=\"100%\"></iframe>"
      ],
      "text/plain": [
       "<plotly.tools.PlotlyDisplay object>"
      ]
     },
     "execution_count": 47,
     "metadata": {},
     "output_type": "execute_result"
    }
   ],
   "source": [
    "data = [ dict(\n",
    "        type='choropleth',\n",
    "        colorscale = 'Bluered',\n",
    "        autocolorscale = False,\n",
    "        locations = ordered_state['code'],\n",
    "        z = ordered_state['state_counts'].astype(float).apply(lambda x: np.log(x)),\n",
    "        locationmode = 'USA-states',\n",
    "        text = ordered_state['state'],\n",
    "        marker = dict(\n",
    "            line = dict (\n",
    "                color = 'rgb(255,255,255)',\n",
    "                width = 2\n",
    "            ) ),\n",
    "        colorbar = dict(\n",
    "            title = \"Number of Tweets (Log-value)\")\n",
    "        ) ]\n",
    "\n",
    "layout = dict(\n",
    "        title = 'States Mentioned in Tweets',\n",
    "        geo = dict(\n",
    "            scope='usa',\n",
    "            projection=dict( type='albers usa' ),\n",
    "            showlakes = True,\n",
    "            lakecolor = 'rgb(255, 255, 255)'),\n",
    "             )\n",
    "    \n",
    "fig = dict( data=data, layout=layout )\n",
    "py.iplot( fig, filename='d3-cloropleth-map' )"
   ]
  },
  {
   "cell_type": "markdown",
   "metadata": {},
   "source": [
    "### Timeline analysis of state names in tweets"
   ]
  },
  {
   "cell_type": "code",
   "execution_count": 48,
   "metadata": {},
   "outputs": [
    {
     "data": {
      "text/html": [
       "<iframe id=\"igraph\" scrolling=\"no\" style=\"border:none;\" seamless=\"seamless\" src=\"https://plot.ly/~halima.schede/10.embed\" height=\"525px\" width=\"100%\"></iframe>"
      ],
      "text/plain": [
       "<plotly.tools.PlotlyDisplay object>"
      ]
     },
     "execution_count": 48,
     "metadata": {},
     "output_type": "execute_result"
    }
   ],
   "source": [
    "states_plot = ordered_state.sort_values('state_counts', ascending=False).state.values\n",
    "plot_states = []\n",
    "for i in states_plot:\n",
    "    plot_states.append(extract_states(i, tweets_english))\n",
    "    data = []\n",
    "\n",
    "for ind, i in enumerate(states_plot[0:10]):\n",
    "    strd = pd.Series(plot_states[ind].index.strftime('%Y-%m-%d %H-%M-%S'))\n",
    "    xlabels = list(strd.apply(lambda x: x[0:7]))\n",
    "    trace = go.Scatter(x = xlabels, y = plot_states[ind].values, mode = 'lines', name=i,\n",
    "                      groupnorm='percent')\n",
    "    data.append(trace)\n",
    "\n",
    "layout = do_layout('Date', 'Number of Tweets', 'State Mentions over Time')\n",
    "fig = go.Figure(data=data, layout=layout)\n",
    "py.iplot(fig, filename='line-mode')"
   ]
  },
  {
   "cell_type": "markdown",
   "metadata": {},
   "source": [
    "### Query By User Input"
   ]
  },
  {
   "cell_type": "code",
   "execution_count": 39,
   "metadata": {},
   "outputs": [
    {
     "data": {
      "application/vnd.jupyter.widget-view+json": {
       "model_id": "0e2c97d9029a4e88939606ee5805e5dc",
       "version_major": 2,
       "version_minor": 0
      },
      "text/plain": [
       "Text(value='Query string')"
      ]
     },
     "metadata": {},
     "output_type": "display_data"
    }
   ],
   "source": [
    "# Querying for string defined by user\n",
    "\n",
    "query = wg.Text(value='Query string')\n",
    "display(query)"
   ]
  },
  {
   "cell_type": "code",
   "execution_count": 49,
   "metadata": {},
   "outputs": [
    {
     "data": {
      "text/html": [
       "<iframe id=\"igraph\" scrolling=\"no\" style=\"border:none;\" seamless=\"seamless\" src=\"https://plot.ly/~halima.schede/12.embed\" height=\"525px\" width=\"100%\"></iframe>"
      ],
      "text/plain": [
       "<plotly.tools.PlotlyDisplay object>"
      ]
     },
     "execution_count": 49,
     "metadata": {},
     "output_type": "execute_result"
    }
   ],
   "source": [
    "query_df = extract_states(query.get_interact_value(), tweets_english)\n",
    "strd = pd.Series(query_df.index.strftime('%Y-%m-%d %H-%M-%S'))\n",
    "xlabels = list(strd.apply(lambda x: x[0:7]))\n",
    "trace = go.Scatter(x = xlabels, y = query_df.values, mode = 'lines',\n",
    "                   name=query.get_interact_value(),\n",
    "                   groupnorm='percent')\n",
    "data = []\n",
    "data.append(trace)\n",
    "layout = do_layout('Date', 'Number of Tweets', '{} Mentions over Time'.format(\n",
    "    query.get_interact_value()))\n",
    "fig = go.Figure(data=data, layout=layout)\n",
    "py.iplot(fig, filename='query')"
   ]
  },
  {
   "cell_type": "code",
   "execution_count": null,
   "metadata": {},
   "outputs": [],
   "source": []
  },
  {
   "cell_type": "code",
   "execution_count": null,
   "metadata": {},
   "outputs": [],
   "source": []
  },
  {
   "cell_type": "code",
   "execution_count": null,
   "metadata": {},
   "outputs": [],
   "source": []
  }
 ],
 "metadata": {
  "kernelspec": {
   "display_name": "Python [default]",
   "language": "python",
   "name": "python3"
  },
  "language_info": {
   "codemirror_mode": {
    "name": "ipython",
    "version": 3
   },
   "file_extension": ".py",
   "mimetype": "text/x-python",
   "name": "python",
   "nbconvert_exporter": "python",
   "pygments_lexer": "ipython3",
   "version": "3.6.7"
  }
 },
 "nbformat": 4,
 "nbformat_minor": 2
}
