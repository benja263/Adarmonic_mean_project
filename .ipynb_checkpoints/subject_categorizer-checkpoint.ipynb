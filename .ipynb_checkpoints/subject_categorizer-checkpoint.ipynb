{
 "cells": [
  {
   "cell_type": "code",
   "execution_count": 113,
   "metadata": {},
   "outputs": [],
   "source": [
    "# Imports\n",
    "import pandas as pd\n",
    "import gensim\n",
    "import numpy as np\n",
    "import nltk\n",
    "import re\n",
    "\n",
    "from gensim.utils import simple_preprocess\n",
    "from gensim.parsing.preprocessing import remove_stopwords\n",
    "from nltk.stem import WordNetLemmatizer, SnowballStemmer\n",
    "from nltk.stem.porter import *\n",
    "# nltk.download('punkt')\n",
    "\n",
    "np.random.seed(2018) # set random seed\n"
   ]
  },
  {
   "cell_type": "code",
   "execution_count": 128,
   "metadata": {},
   "outputs": [],
   "source": [
    "# Load data\n",
    "datafolder = './data/'\n",
    "tweets1 = pd.read_csv(datafolder + 'IRAhandle_tweets_1.csv')\n",
    "\n",
    "# selecting content columns for subject categorization (all should be in english)\n",
    "content = tweets1[tweets1.language == 'English'].content\n",
    "\n",
    "# Remove external links to unknown websites and get rid of punctuation and lower case everything\n",
    "content = content.apply(lambda x: re.sub(r'http\\S+', '', x)).apply(lambda x: re.sub(r\"'|\\\"|`|:|\\?|~|,|\\.\", '', x))\\\n",
    "                .apply(lambda x: x.lower()).apply(lambda x: remove_stopwords(x))\n",
    "\n",
    "content = content.values"
   ]
  },
  {
   "cell_type": "code",
   "execution_count": 129,
   "metadata": {},
   "outputs": [],
   "source": [
    "# Tokenization: Split text into words. Lowercase the words and remove punctuation\n",
    "\n",
    "stemmer = SnowballStemmer(\"english\") # initiate dictionary type\n",
    "# create words from sentences\n",
    "content_tokens = [nltk.word_tokenize(x) for x in content]\n",
    "# Stem words (truncate)\n",
    "content_stemmed = []\n",
    "for tweet in content_tokens:\n",
    "    stem = [stemmer.stem(x) for x in tweet if len(x) > 3] # only consider words more than 3 letters\n",
    "    content_stemmed.append(stem)"
   ]
  },
  {
   "cell_type": "code",
   "execution_count": 130,
   "metadata": {},
   "outputs": [],
   "source": [
    "# Create dictionary to know the frequency of words\n",
    "dictionary = gensim.corpora.Dictionary(content_stemmed)\n",
    "dictionary.filter_extremes(no_below=15) # remove words that have appearances less than 15 times\n",
    "\n",
    "# Create bag-of-words\n",
    "bow_corpus = [dictionary.doc2bow(doc) for doc in content_stemmed]"
   ]
  },
  {
   "cell_type": "code",
   "execution_count": 131,
   "metadata": {},
   "outputs": [
    {
     "name": "stdout",
     "output_type": "stream",
     "text": [
      "Word 294 (\"left\") appears 1 time.\n",
      "Word 449 (\"absolut\") appears 1 time.\n",
      "Word 537 (\"irma\") appears 1 time.\n",
      "Word 580 (\"boat\") appears 1 time.\n",
      "Word 581 (\"car\") appears 1 time.\n",
      "Word 582 (\"larg\") appears 1 time.\n",
      "Word 583 (\"mess\") appears 1 time.\n",
      "Word 584 (\"road\") appears 1 time.\n"
     ]
    }
   ],
   "source": [
    "# Check shit is working\n",
    "test = bow_corpus[126]\n",
    "for i in range(len(test)):\n",
    "    print(\"Word {} (\\\"{}\\\") appears {} time.\".format(test[i][0],dictionary[test[i][0]], \n",
    "test[i][1]))"
   ]
  },
  {
   "cell_type": "code",
   "execution_count": 132,
   "metadata": {},
   "outputs": [],
   "source": [
    "# Create model on bag-of-words\n",
    "\n",
    "lda_model = gensim.models.LdaMulticore(bow_corpus, num_topics=10, id2word=dictionary, passes=2, workers=2)"
   ]
  },
  {
   "cell_type": "code",
   "execution_count": 133,
   "metadata": {},
   "outputs": [
    {
     "name": "stdout",
     "output_type": "stream",
     "text": [
      "Topic: 0 \n",
      "Words: 0.021*\"state\" + 0.015*\"hillari\" + 0.013*\"clinton\" + 0.012*\"investig\" + 0.010*\"head\" + 0.010*\"justic\" + 0.008*\"meet\" + 0.007*\"muslim\" + 0.007*\"obama\" + 0.007*\"speak\"\n",
      "Topic: 1 \n",
      "Words: 0.044*\"polit\" + 0.015*\"trump\" + 0.015*\"rt_america\" + 0.011*\"parti\" + 0.008*\"histori\" + 0.008*\"berni\" + 0.008*\"democrat\" + 0.008*\"blackhistorymonth\" + 0.007*\"celebr\" + 0.007*\"exercis\"\n",
      "Topic: 2 \n",
      "Words: 0.031*\"financ\" + 0.027*\"fit\" + 0.013*\"orlean\" + 0.009*\"peac\" + 0.009*\"break\" + 0.009*\"maryland\" + 0.008*\"power\" + 0.007*\"profile】\" + 0.007*\"【see\" + 0.007*\"rice\"\n",
      "Topic: 3 \n",
      "Words: 0.079*\"stock\" + 0.048*\"weight\" + 0.042*\"lose\" + 0.036*\"white\" + 0.012*\"hous\" + 0.009*\"loss\" + 0.008*\"market\" + 0.007*\"flint\" + 0.006*\"water\" + 0.006*\"inspir\"\n",
      "Topic: 4 \n",
      "Words: 0.016*\"citi\" + 0.014*\"love\" + 0.013*\"feel\" + 0.011*\"come\" + 0.011*\"good\" + 0.010*\"join\" + 0.008*\"like\" + 0.008*\"happi\" + 0.008*\"greec\" + 0.008*\"univers\"\n",
      "Topic: 5 \n",
      "Words: 0.063*\"black\" + 0.044*\"trump\" + 0.016*\"support\" + 0.015*\"presid\" + 0.015*\"racism\" + 0.014*\"racist\" + 0.013*\"retweet\" + 0.013*\"white\" + 0.013*\"peopl\" + 0.011*\"matter\"\n",
      "Topic: 6 \n",
      "Words: 0.027*\"diet\" + 0.024*\"news\" + 0.022*\"maga\" + 0.016*\"trump\" + 0.016*\"video\" + 0.015*\"media\" + 0.012*\"louisiana\" + 0.011*\"soundcloud\" + 0.010*\"free\" + 0.010*\"saint\"\n",
      "Topic: 7 \n",
      "Words: 0.037*\"like\" + 0.027*\"need\" + 0.017*\"great\" + 0.013*\"think\" + 0.012*\"play\" + 0.012*\"dont\" + 0.011*\"peopl\" + 0.010*\"blackskinisnotacrim\" + 0.009*\"want\" + 0.009*\"best\"\n",
      "Topic: 8 \n",
      "Words: 0.023*\"peopl\" + 0.021*\"time\" + 0.018*\"dont\" + 0.016*\"know\" + 0.013*\"that\" + 0.012*\"fuck\" + 0.011*\"thing\" + 0.011*\"life\" + 0.010*\"year\" + 0.009*\"black\"\n",
      "Topic: 9 \n",
      "Words: 0.051*\"polic\" + 0.033*\"black\" + 0.022*\"sport\" + 0.022*\"blacklivesmatt\" + 0.022*\"kill\" + 0.020*\"cop\" + 0.018*\"offic\" + 0.015*\"shoot\" + 0.013*\"shot\" + 0.013*\"policebrut\"\n"
     ]
    }
   ],
   "source": [
    "for idx, topic in lda_model.print_topics(-1):\n",
    "    print('Topic: {} \\nWords: {}'.format(idx, topic))"
   ]
  },
  {
   "cell_type": "code",
   "execution_count": null,
   "metadata": {},
   "outputs": [],
   "source": []
  }
 ],
 "metadata": {
  "kernelspec": {
   "display_name": "Python [conda env:ada]",
   "language": "python",
   "name": "conda-env-ada-py"
  },
  "language_info": {
   "codemirror_mode": {
    "name": "ipython",
    "version": 3
   },
   "file_extension": ".py",
   "mimetype": "text/x-python",
   "name": "python",
   "nbconvert_exporter": "python",
   "pygments_lexer": "ipython3",
   "version": "3.6.6"
  }
 },
 "nbformat": 4,
 "nbformat_minor": 2
}
