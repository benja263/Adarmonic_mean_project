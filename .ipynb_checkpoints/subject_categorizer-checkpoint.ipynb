{
 "cells": [
  {
   "cell_type": "code",
   "execution_count": 18,
   "metadata": {},
   "outputs": [
    {
     "name": "stdout",
     "output_type": "stream",
     "text": [
      "[nltk_data] Downloading package punkt to\n",
      "[nltk_data]     /Users/halimaschede/nltk_data...\n",
      "[nltk_data]   Unzipping tokenizers/punkt.zip.\n"
     ]
    }
   ],
   "source": [
    "# Imports\n",
    "import pandas as pd\n",
    "import gensim\n",
    "import numpy as np\n",
    "import nltk\n",
    "import re\n",
    "\n",
    "from gensim.utils import simple_preprocess\n",
    "from gensim.parsing.preprocessing import STOPWORDS\n",
    "from nltk.stem import WordNetLemmatizer, SnowballStemmer\n",
    "from nltk.stem.porter import *\n",
    "nltk.download('punkt')\n",
    "\n",
    "np.random.seed(2018) # set random seed\n"
   ]
  },
  {
   "cell_type": "code",
   "execution_count": 92,
   "metadata": {},
   "outputs": [],
   "source": [
    "# Load data\n",
    "datafolder = './data/'\n",
    "tweets1 = pd.read_csv(datafolder + 'IRAhandle_tweets_1.csv')\n",
    "\n",
    "# selecting content column for subject categorization\n",
    "content = tweets1.content\n",
    "\n",
    "# Remove external links to unknown websites and get rid of punctuation and lower case everything\n",
    "content = content.apply(lambda x: re.sub(r'http\\S+', '', x)).apply(lambda x: re.sub(r\"'|\\\"|`|:|\\?|~|,|\\.\", '', x))\\\n",
    "                .apply(lambda x: x.lower())\n",
    "\n",
    "content = content.values"
   ]
  },
  {
   "cell_type": "code",
   "execution_count": 95,
   "metadata": {},
   "outputs": [],
   "source": [
    "# Tokenization: Split text into words. Lowercase the words and remove punctuation\n",
    "\n",
    "stemmer = SnowballStemmer(\"english\") # initiate dictionary type\n",
    "# create words from sentences\n",
    "content_tokens = [nltk.word_tokenize(x) for x in content]\n",
    "# Stem words (truncate)\n",
    "content_stemmed = []\n",
    "for tweet in content_tokens:\n",
    "    stem = [stemmer.stem(x) for x in tweet if len(x) > 3] # only consider words more than 3 letters\n",
    "    content_stemmed.append(stem)"
   ]
  },
  {
   "cell_type": "code",
   "execution_count": 100,
   "metadata": {},
   "outputs": [],
   "source": [
    "# Create dictionary to know the frequency of words\n",
    "dictionary = gensim.corpora.Dictionary(content_stemmed)\n",
    "dictionary.filter_extremes(no_below=15) # remove words that have appearances less than 15 times\n",
    "\n",
    "# Create bag-of-words\n",
    "bow_corpus = [dictionary.doc2bow(doc) for doc in content_stemmed]"
   ]
  },
  {
   "cell_type": "code",
   "execution_count": 107,
   "metadata": {},
   "outputs": [
    {
     "name": "stdout",
     "output_type": "stream",
     "text": [
      "Word 192 (\"what\") appears 1 time.\n",
      "Word 352 (\"left\") appears 1 time.\n",
      "Word 466 (\"behind\") appears 1 time.\n",
      "Word 519 (\"absolut\") appears 1 time.\n",
      "Word 614 (\"irma\") appears 1 time.\n",
      "Word 658 (\"boat\") appears 1 time.\n",
      "Word 659 (\"car\") appears 1 time.\n",
      "Word 660 (\"larg\") appears 1 time.\n",
      "Word 661 (\"mess\") appears 1 time.\n",
      "Word 662 (\"road\") appears 1 time.\n"
     ]
    }
   ],
   "source": [
    "# Check shit is working\n",
    "test = bow_corpus[126]\n",
    "for i in range(len(test)):\n",
    "    print(\"Word {} (\\\"{}\\\") appears {} time.\".format(test[i][0],dictionary[test[i][0]], \n",
    "test[i][1]))"
   ]
  },
  {
   "cell_type": "code",
   "execution_count": 110,
   "metadata": {},
   "outputs": [],
   "source": [
    "# Create model on bag-of-words\n",
    "\n",
    "lda_model = gensim.models.LdaMulticore(bow_corpus, num_topics=10, id2word=dictionary, passes=2, workers=2)"
   ]
  },
  {
   "cell_type": "code",
   "execution_count": 111,
   "metadata": {},
   "outputs": [
    {
     "name": "stdout",
     "output_type": "stream",
     "text": [
      "Topic: 0 \n",
      "Words: 0.031*\"this\" + 0.029*\"that\" + 0.018*\"your\" + 0.017*\"have\" + 0.016*\"they\" + 0.016*\"peopl\" + 0.013*\"what\" + 0.012*\"like\" + 0.010*\"will\" + 0.010*\"when\"\n",
      "Topic: 1 \n",
      "Words: 0.026*\"workout\" + 0.020*\"maga\" + 0.015*\"trump\" + 0.015*\"million\" + 0.012*\"water\" + 0.010*\"with\" + 0.009*\"check\" + 0.009*\"over\" + 0.008*\"exercis\" + 0.008*\"flint\"\n",
      "Topic: 2 \n",
      "Words: 0.080*\"weight\" + 0.017*\"merkel\" + 0.010*\"north\" + 0.010*\"bank\" + 0.009*\"father\" + 0.008*\"rice\" + 0.007*\"minist\" + 0.007*\"threat\" + 0.006*\"sport\" + 0.006*\"korea\"\n",
      "Topic: 3 \n",
      "Words: 0.065*\"stock\" + 0.020*\"financ\" + 0.019*\"polit\" + 0.014*\"with\" + 0.010*\"more\" + 0.010*\"news\" + 0.009*\"trump\" + 0.009*\"profile】\" + 0.009*\"【see\" + 0.009*\"market\"\n",
      "Topic: 4 \n",
      "Words: 0.032*\"fit\" + 0.032*\"school\" + 0.013*\"high\" + 0.009*\"john\" + 0.008*\"blackhistori\" + 0.007*\"best\" + 0.007*\"meet\" + 0.007*\"star\" + 0.007*\"with\" + 0.006*\"honor\"\n",
      "Topic: 5 \n",
      "Words: 0.042*\"black\" + 0.036*\"polic\" + 0.021*\"white\" + 0.017*\"kill\" + 0.016*\"blacklivesmatt\" + 0.015*\"cop\" + 0.013*\"after\" + 0.012*\"offic\" + 0.010*\"sport\" + 0.010*\"policebrut\"\n",
      "Topic: 6 \n",
      "Words: 0.022*\"play\" + 0.016*\"berlin\" + 0.014*\"music\" + 0.014*\"2016\" + 0.013*\"nowplay\" + 0.011*\"film\" + 0.010*\"2017\" + 0.010*\"promot\" + 0.010*\"youtub\" + 0.009*\"deutschland\"\n",
      "Topic: 7 \n",
      "Words: 0.014*\"from\" + 0.014*\"with\" + 0.011*\"free\" + 0.009*\"here\" + 0.008*\"loss\" + 0.007*\"this\" + 0.007*\"start\" + 0.007*\"live\" + 0.006*\"play\" + 0.006*\"walk\"\n",
      "Topic: 8 \n",
      "Words: 0.042*\"trump\" + 0.013*\"just\" + 0.013*\"look\" + 0.012*\"about\" + 0.012*\"call\" + 0.011*\"black\" + 0.011*\"media\" + 0.010*\"hillari\" + 0.010*\"racist\" + 0.010*\"this\"\n",
      "Topic: 9 \n",
      "Words: 0.030*\"diet\" + 0.025*\"berlin\" + 0.011*\"nach\" + 0.010*\"nicht\" + 0.010*\"gegen\" + 0.009*\"sich\" + 0.009*\"wird\" + 0.007*\"polizei\" + 0.006*\"россии\" + 0.006*\"ein\"\n"
     ]
    }
   ],
   "source": [
    "for idx, topic in lda_model.print_topics(-1):\n",
    "    print('Topic: {} \\nWords: {}'.format(idx, topic))"
   ]
  },
  {
   "cell_type": "code",
   "execution_count": null,
   "metadata": {},
   "outputs": [],
   "source": []
  }
 ],
 "metadata": {
  "kernelspec": {
   "display_name": "Python [conda env:ada]",
   "language": "python",
   "name": "conda-env-ada-py"
  },
  "language_info": {
   "codemirror_mode": {
    "name": "ipython",
    "version": 3
   },
   "file_extension": ".py",
   "mimetype": "text/x-python",
   "name": "python",
   "nbconvert_exporter": "python",
   "pygments_lexer": "ipython3",
   "version": "3.6.6"
  }
 },
 "nbformat": 4,
 "nbformat_minor": 2
}
